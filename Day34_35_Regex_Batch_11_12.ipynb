{
 "cells": [
  {
   "cell_type": "code",
   "execution_count": 1,
   "id": "9fa7acfb",
   "metadata": {},
   "outputs": [],
   "source": [
    "# Regex Regular Expression"
   ]
  },
  {
   "cell_type": "code",
   "execution_count": 22,
   "id": "9f4dbb2a",
   "metadata": {},
   "outputs": [],
   "source": []
  },
  {
   "cell_type": "code",
   "execution_count": 23,
   "id": "c5a37db4",
   "metadata": {},
   "outputs": [
    {
     "name": "stdout",
     "output_type": "stream",
     "text": [
      "we have some phone numbers like 9999999999, 1898787654 include this also 9876543210,I think this should also include 8987876543\n"
     ]
    }
   ],
   "source": [
    "print(a)"
   ]
  },
  {
   "cell_type": "code",
   "execution_count": 29,
   "id": "eeaf84a2",
   "metadata": {},
   "outputs": [
    {
     "name": "stdout",
     "output_type": "stream",
     "text": [
      "['1234567899', '9898989898', '9999999999', '9898787654', '9876543210', '8987876543']\n"
     ]
    }
   ],
   "source": [
    "a = 'we have 1234567899 some 9898989898phone numbers like 9999999999, 9898787654 include this also 9876543210,I think this should also include 8987876543'\n",
    "\n",
    "phone_number = []\n",
    "\n",
    "for i in a:\n",
    "    if i.isdigit():\n",
    "        phone_number.append(i)\n",
    "# print(phone_number)\n",
    "\n",
    "a = 0\n",
    "b = 10\n",
    "\n",
    "final_phone = []\n",
    "while True:\n",
    "    try:\n",
    "        no = ''\n",
    "        for j in range(a,b):\n",
    "    #         print(phone_number[j])\n",
    "            no+=phone_number[j]\n",
    "        a = b\n",
    "        b+=10\n",
    "        final_phone.append(no)\n",
    "    except:\n",
    "        break\n",
    "\n",
    "print(final_phone)"
   ]
  },
  {
   "cell_type": "code",
   "execution_count": 36,
   "id": "4496ee8a",
   "metadata": {},
   "outputs": [
    {
     "name": "stdout",
     "output_type": "stream",
     "text": [
      "['1', '2', '3', '4', '5', '6', '7', '8', '9', '9', '9', '8', '9', '8', '9', '8', '9', '8', '9', '8', '9', '9', '9', '9', '9', '9', '9', '9', '9', '9', '9', '8', '9', '8', '7', '8', '7', '6', '5', '4', '9', '8', '7', '6', '5', '4', '3', '2', '1', '0', '8', '9', '8', '7', '8', '7', '6', '5', '4', '3']\n"
     ]
    }
   ],
   "source": [
    "print(phone_number)"
   ]
  },
  {
   "cell_type": "code",
   "execution_count": 30,
   "id": "0bdaad4c",
   "metadata": {},
   "outputs": [],
   "source": [
    "# Regex Regular Expression:- for pattern matching"
   ]
  },
  {
   "cell_type": "code",
   "execution_count": 31,
   "id": "1aa65aba",
   "metadata": {},
   "outputs": [],
   "source": [
    "# we use some meta char\n",
    "# special symbols\n",
    "# @#$%^&*()-+<>?}{}[]\\|"
   ]
  },
  {
   "cell_type": "code",
   "execution_count": 32,
   "id": "bb51520a",
   "metadata": {},
   "outputs": [],
   "source": [
    "import re"
   ]
  },
  {
   "cell_type": "code",
   "execution_count": 35,
   "id": "f525265f",
   "metadata": {},
   "outputs": [
    {
     "name": "stdout",
     "output_type": "stream",
     "text": [
      "['1234567899', '9898989898', '9999999999', '9898787654', '9876543210', '8987876543']\n"
     ]
    }
   ],
   "source": [
    "a = 'we have 1234567899 some 9898989898phone numbers like 9999999999, 9898787654 include this also 9876543210,I think this should also include 8987876543'\n",
    "\n",
    "pt = r'\\d{10}'\n",
    "\n",
    "data = re.findall(pt,a)\n",
    "print(data)"
   ]
  },
  {
   "cell_type": "code",
   "execution_count": 37,
   "id": "13cd05b2",
   "metadata": {},
   "outputs": [
    {
     "name": "stdout",
     "output_type": "stream",
     "text": [
      "['1', '2', '3', '4', '5', '6', '7', '8', '9', '9', '9', '8', '9', '8', '9', '8', '9', '8', '9', '8', '9', '9', '9', '9', '9', '9', '9', '9', '9', '9', '9', '8', '9', '8', '7', '8', '7', '6', '5', '4', '9', '8', '7', '6', '5', '4', '3', '2', '1', '0', '8', '9', '8', '7', '8', '7', '6', '5', '4', '3']\n"
     ]
    }
   ],
   "source": [
    "a = 'we have 1234567899 some 9898989898phone numbers like 9999999999, 9898787654 include this also 9876543210,I think this should also include 8987876543'\n",
    "\n",
    "\n",
    "pt = r'\\d'\n",
    "\n",
    "result = re.findall(pt,a)\n",
    "print(result)"
   ]
  },
  {
   "cell_type": "code",
   "execution_count": 38,
   "id": "91d343f6",
   "metadata": {},
   "outputs": [
    {
     "name": "stdout",
     "output_type": "stream",
     "text": [
      "['w', 'e', ' ', '#', ' ', '@', ' ', 'h', 'a', 'v', 'e', ' ', ' ', 's', 'o', 'm', 'e', ' ', 'p', 'h', 'o', 'n', 'e', ' ', 'n', 'u', 'm', 'b', 'e', 'r', 's', ' ', 'l', 'i', 'k', 'e', ' ', ',', ' ', ' ', 'i', 'n', 'c', 'l', 'u', 'd', 'e', ' ', 't', 'h', 'i', 's', ' ', 'a', 'l', 's', 'o', ' ', ',', 'I', ' ', 't', 'h', 'i', 'n', 'k', ' ', 't', 'h', 'i', 's', ' ', 's', 'h', 'o', 'u', 'l', 'd', ' ', 'a', 'l', 's', 'o', ' ', 'i', 'n', 'c', 'l', 'u', 'd', 'e', ' ']\n"
     ]
    }
   ],
   "source": [
    "a = 'we # @ have 1234567899 some 9898989898phone numbers like 9999999999, 9898787654 include this also 9876543210,I think this should also include 8987876543'\n",
    "\n",
    "\n",
    "pt = r'\\D'\n",
    "\n",
    "result = re.findall(pt,a)\n",
    "print(result)"
   ]
  },
  {
   "cell_type": "code",
   "execution_count": null,
   "id": "708ab37b",
   "metadata": {},
   "outputs": [],
   "source": []
  },
  {
   "cell_type": "code",
   "execution_count": null,
   "id": "4b4efc9a",
   "metadata": {},
   "outputs": [],
   "source": []
  },
  {
   "cell_type": "code",
   "execution_count": 39,
   "id": "56eda3a7",
   "metadata": {},
   "outputs": [
    {
     "name": "stdout",
     "output_type": "stream",
     "text": [
      "['w', 'e', 'h', 'a', 'v', 'e', '1', '2', '3', '4', '5', '6', '7', '8', '9', '9', 's', 'o', 'm', 'e', '9', '8', '9', '8', '9', '8', '9', '8', '9', '8', 'p', 'h', 'o', 'n', 'e', 'n', 'u', 'm', 'b', 'e', 'r', 's', 'l', 'i', 'k', 'e', '9', '9', '9', '9', '9', '9', '9', '9', '9', '9']\n"
     ]
    }
   ],
   "source": [
    "a = 'we # @ have 1234567899 some 9898989898phone numbers like 9999999999'\n",
    "\n",
    "\n",
    "pt = r'\\w'\n",
    "\n",
    "result = re.findall(pt,a)\n",
    "print(result)"
   ]
  },
  {
   "cell_type": "code",
   "execution_count": 42,
   "id": "62953ff5",
   "metadata": {},
   "outputs": [
    {
     "name": "stdout",
     "output_type": "stream",
     "text": [
      "w,e,h,a,v,e,1,2,3,4,5,6,7,8,9,9,s,o,m,e,9,8,9,8,9,8,9,8,9,8,p,h,o,n,e,n,u,m,b,e,r,s,l,i,k,e,9,9,9,9,9,9,9,9,9,9,"
     ]
    }
   ],
   "source": [
    "a = 'we # @ have 1234567899 some 9898989898phone numbers like 9999999999'\n",
    "\n",
    "for i in a:\n",
    "    if i.isalnum():\n",
    "        print(i,end=',')"
   ]
  },
  {
   "cell_type": "code",
   "execution_count": 43,
   "id": "f0275844",
   "metadata": {},
   "outputs": [
    {
     "name": "stdout",
     "output_type": "stream",
     "text": [
      "[' ', '#', ' ', '@', ' ', ' ', ' ', ' ', ' ', ' ', ' ']\n"
     ]
    }
   ],
   "source": [
    "a = 'we # @ have 1234567899 some 9898989898phone numbers like 9999999999'\n",
    "\n",
    "\n",
    "pt = r'\\W'\n",
    "\n",
    "result = re.findall(pt,a)\n",
    "print(result)"
   ]
  },
  {
   "cell_type": "code",
   "execution_count": 44,
   "id": "e7729746",
   "metadata": {},
   "outputs": [
    {
     "name": "stdout",
     "output_type": "stream",
     "text": [
      "[' ', ' ', ' ', ' ', ' ', ' ', ' ', ' ', ' ']\n"
     ]
    }
   ],
   "source": [
    "a = 'we # @ have 1234567899 some 9898989898phone numbers like 9999999999'\n",
    "\n",
    "\n",
    "pt = r'\\s'\n",
    "\n",
    "result = re.findall(pt,a)\n",
    "print(result)"
   ]
  },
  {
   "cell_type": "code",
   "execution_count": 45,
   "id": "f2a89806",
   "metadata": {},
   "outputs": [
    {
     "name": "stdout",
     "output_type": "stream",
     "text": [
      "['w', 'e', '#', '@', 'h', 'a', 'v', 'e', '1', '2', '3', '4', '5', '6', '7', '8', '9', '9', 's', 'o', 'm', 'e', '9', '8', '9', '8', '9', '8', '9', '8', '9', '8', 'p', 'h', 'o', 'n', 'e', 'n', 'u', 'm', 'b', 'e', 'r', 's', 'l', 'i', 'k', 'e', '9', '9', '9', '9', '9', '9', '9', '9', '9', '9']\n"
     ]
    }
   ],
   "source": [
    "a = 'we # @ have 1234567899 some 9898989898phone numbers like 9999999999'\n",
    "\n",
    "\n",
    "pt = r'\\S'\n",
    "\n",
    "result = re.findall(pt,a)\n",
    "print(result)"
   ]
  },
  {
   "cell_type": "code",
   "execution_count": null,
   "id": "d9c677f1",
   "metadata": {},
   "outputs": [],
   "source": []
  },
  {
   "cell_type": "code",
   "execution_count": null,
   "id": "e474f93d",
   "metadata": {},
   "outputs": [],
   "source": []
  },
  {
   "cell_type": "code",
   "execution_count": 55,
   "id": "95f8a1eb",
   "metadata": {},
   "outputs": [
    {
     "name": "stdout",
     "output_type": "stream",
     "text": [
      "['luck', 'cuck', 'muck', 'tuck', 'ruck']\n"
     ]
    }
   ],
   "source": [
    "word = 'we have luck cuck muck tuck ruck'\n",
    "\n",
    "pt = r'm?l?t?c?r?uck'\n",
    "\n",
    "result = re.findall(pt,word)\n",
    "print(result)"
   ]
  },
  {
   "cell_type": "code",
   "execution_count": 63,
   "id": "11476f6c",
   "metadata": {},
   "outputs": [
    {
     "name": "stdout",
     "output_type": "stream",
     "text": [
      "['p', 'tp', 'top', 'toop', 'tooooooooop', 'toooooop', 'koooooop']\n"
     ]
    }
   ],
   "source": [
    "word = 'Statement like p tp top toop tooooooooop toooooop koooooop'\n",
    "\n",
    "pt = r't?k?o*p'\n",
    "\n",
    "result = re.findall(pt,word)\n",
    "print(result)"
   ]
  },
  {
   "cell_type": "code",
   "execution_count": null,
   "id": "9fae49f6",
   "metadata": {},
   "outputs": [],
   "source": []
  },
  {
   "cell_type": "code",
   "execution_count": null,
   "id": "afc9ac22",
   "metadata": {},
   "outputs": [],
   "source": []
  },
  {
   "cell_type": "code",
   "execution_count": 66,
   "id": "06c7b2bf",
   "metadata": {},
   "outputs": [
    {
     "name": "stdout",
     "output_type": "stream",
     "text": [
      "['mat', 'maat', 'maaat', 'maaaaat', 'jaaaaat', 'raaaaat']\n"
     ]
    }
   ],
   "source": [
    "word = 'mat maat maaat maaaaat jaaaaat raaaaat'\n",
    "\n",
    "pt = r'm?j?r?a+t'\n",
    "\n",
    "result = re.findall(pt,word)\n",
    "print(result)"
   ]
  },
  {
   "cell_type": "code",
   "execution_count": 71,
   "id": "0d8c9033",
   "metadata": {},
   "outputs": [
    {
     "name": "stdout",
     "output_type": "stream",
     "text": [
      "['kavi', 'mavi', 'favi']\n"
     ]
    }
   ],
   "source": [
    "word = 'avi ravi kavi mavi havi favi'\n",
    "\n",
    "pt = r'kavi|mavi|favi'\n",
    "\n",
    "result = re.findall(pt,word)\n",
    "print(result)"
   ]
  },
  {
   "cell_type": "code",
   "execution_count": 83,
   "id": "e9e16bd3",
   "metadata": {},
   "outputs": [
    {
     "name": "stdout",
     "output_type": "stream",
     "text": [
      "['It', 'In']\n"
     ]
    }
   ],
   "source": [
    "word = 'This is Elon Itly India Musk live in Australia'\n",
    "\n",
    "pt = r'I.'\n",
    "\n",
    "result = re.findall(pt,word)\n",
    "print(result)"
   ]
  },
  {
   "cell_type": "code",
   "execution_count": 90,
   "id": "c65eda39",
   "metadata": {},
   "outputs": [
    {
     "name": "stdout",
     "output_type": "stream",
     "text": [
      "['91-9898787654', '9898787654']\n"
     ]
    }
   ],
   "source": [
    "word = 'phone number 91-9898787654 9898787654'\n",
    "\n",
    "pt = r'91-\\d{10}|\\d{10}'\n",
    "\n",
    "result = re.findall(pt,word)\n",
    "print(result)"
   ]
  },
  {
   "cell_type": "code",
   "execution_count": 95,
   "id": "ed38b6d7",
   "metadata": {},
   "outputs": [
    {
     "name": "stdout",
     "output_type": "stream",
     "text": [
      "['91', '98987', '87654', '98987', '87654', '15']\n"
     ]
    }
   ],
   "source": [
    "word = 'phone number 91-9898787654 9898787654 15'\n",
    "\n",
    "pt = r'\\d{2,5}'\n",
    "\n",
    "result = re.findall(pt,word)\n",
    "print(result)"
   ]
  },
  {
   "cell_type": "code",
   "execution_count": null,
   "id": "76c69123",
   "metadata": {},
   "outputs": [],
   "source": []
  },
  {
   "cell_type": "code",
   "execution_count": null,
   "id": "24341944",
   "metadata": {},
   "outputs": [],
   "source": []
  },
  {
   "cell_type": "code",
   "execution_count": 98,
   "id": "9caac752",
   "metadata": {},
   "outputs": [
    {
     "name": "stdout",
     "output_type": "stream",
     "text": [
      "['9898787654', '9898787654']\n"
     ]
    }
   ],
   "source": [
    "word = 'phone number 91-9898787654 9898787654 15'\n",
    "\n",
    "pt = r'\\d{3,}'\n",
    "\n",
    "result = re.findall(pt,word)\n",
    "print(result)"
   ]
  },
  {
   "cell_type": "code",
   "execution_count": 105,
   "id": "5980a070",
   "metadata": {},
   "outputs": [
    {
     "name": "stdout",
     "output_type": "stream",
     "text": [
      "['Itly ', 'India']\n"
     ]
    }
   ],
   "source": [
    "word = 'This is Elon Itly India Musk live in Australia'\n",
    "\n",
    "pt = r'I.{1,4}'\n",
    "\n",
    "result = re.findall(pt,word)\n",
    "print(result)"
   ]
  },
  {
   "cell_type": "code",
   "execution_count": 108,
   "id": "80750417",
   "metadata": {},
   "outputs": [
    {
     "name": "stdout",
     "output_type": "stream",
     "text": [
      "['is', 'is', 'Itly', 'India', 'Indiana', 'Info', 'Imbalance', 'Intro']\n"
     ]
    }
   ],
   "source": [
    "word = 'This is Elon Itly India Indiana Info Imbalance Intro'\n",
    "\n",
    "pt = r'I\\w{1,}|i\\w{1,}'\n",
    "\n",
    "result = re.findall(pt,word)\n",
    "print(result)"
   ]
  },
  {
   "cell_type": "code",
   "execution_count": null,
   "id": "0c07ad91",
   "metadata": {},
   "outputs": [],
   "source": []
  },
  {
   "cell_type": "code",
   "execution_count": null,
   "id": "c7eb2248",
   "metadata": {},
   "outputs": [],
   "source": []
  },
  {
   "cell_type": "code",
   "execution_count": 110,
   "id": "4b23656d",
   "metadata": {},
   "outputs": [
    {
     "name": "stdout",
     "output_type": "stream",
     "text": [
      "['ravi', 'kavi', 'mavi', 'havi', 'favi']\n"
     ]
    }
   ],
   "source": [
    "word = 'avi ravi kavi mavi havi favi'\n",
    "\n",
    "pt = r'[abcdefghijklmnopqrstuvwxyz]avi'\n",
    "\n",
    "result = re.findall(pt,word)\n",
    "print(result)"
   ]
  },
  {
   "cell_type": "code",
   "execution_count": null,
   "id": "110a6201",
   "metadata": {},
   "outputs": [],
   "source": []
  },
  {
   "cell_type": "code",
   "execution_count": null,
   "id": "a1ba672b",
   "metadata": {},
   "outputs": [],
   "source": []
  },
  {
   "cell_type": "code",
   "execution_count": 112,
   "id": "47be8b41",
   "metadata": {},
   "outputs": [
    {
     "name": "stdout",
     "output_type": "stream",
     "text": [
      "['kavi', 'mavi', 'favi']\n"
     ]
    }
   ],
   "source": [
    "word = 'avi ravi kavi mavi havi favi'\n",
    "\n",
    "pt = r'[kmf]avi'\n",
    "\n",
    "result = re.findall(pt,word)\n",
    "print(result)"
   ]
  },
  {
   "cell_type": "code",
   "execution_count": null,
   "id": "f39ade13",
   "metadata": {},
   "outputs": [],
   "source": []
  },
  {
   "cell_type": "code",
   "execution_count": null,
   "id": "046c8d37",
   "metadata": {},
   "outputs": [],
   "source": []
  },
  {
   "cell_type": "code",
   "execution_count": 114,
   "id": "70b792f9",
   "metadata": {},
   "outputs": [
    {
     "name": "stdout",
     "output_type": "stream",
     "text": [
      "['luck', 'cuck', 'muck', 'tuck', 'ruck']\n"
     ]
    }
   ],
   "source": [
    "word = 'we have luck cuck muck tuck ruck'\n",
    "\n",
    "pt = r'[a-z]uck'\n",
    "\n",
    "result = re.findall(pt,word)\n",
    "print(result)"
   ]
  },
  {
   "cell_type": "code",
   "execution_count": null,
   "id": "fc46fc85",
   "metadata": {},
   "outputs": [],
   "source": []
  },
  {
   "cell_type": "code",
   "execution_count": 116,
   "id": "e0133042",
   "metadata": {},
   "outputs": [
    {
     "name": "stdout",
     "output_type": "stream",
     "text": [
      "['Luck', 'cuck', 'Muck', 'tuck', 'ruck']\n"
     ]
    }
   ],
   "source": [
    "word = 'we have Luck cuck Muck tuck ruck'\n",
    "\n",
    "pt = r'[a-zA-Z]uck'\n",
    "\n",
    "result = re.findall(pt,word)\n",
    "print(result)"
   ]
  },
  {
   "cell_type": "code",
   "execution_count": null,
   "id": "b8ff4a12",
   "metadata": {},
   "outputs": [],
   "source": []
  },
  {
   "cell_type": "code",
   "execution_count": null,
   "id": "ae0f0fe9",
   "metadata": {},
   "outputs": [],
   "source": []
  },
  {
   "cell_type": "code",
   "execution_count": 118,
   "id": "0207623c",
   "metadata": {},
   "outputs": [
    {
     "name": "stdout",
     "output_type": "stream",
     "text": [
      "['Luck', 'cuck', 'Muck', 'tuck', 'ruck', '0uck', '1uck']\n"
     ]
    }
   ],
   "source": [
    "word = 'we have Luck cuck Muck tuck ruck 0uck 1uck'\n",
    "\n",
    "pt = r'[a-zA-Z0-9]uck'\n",
    "\n",
    "result = re.findall(pt,word)\n",
    "print(result)"
   ]
  },
  {
   "cell_type": "code",
   "execution_count": 122,
   "id": "36fa1757",
   "metadata": {},
   "outputs": [
    {
     "name": "stdout",
     "output_type": "stream",
     "text": [
      "['0uck', '1uck', '9uck']\n"
     ]
    }
   ],
   "source": [
    "word = 'we have LLuck cuck Muck tuck ruck 0uck 1uck 9uck'\n",
    "\n",
    "pt = r'[^a-zA-Z]uck'\n",
    "\n",
    "result = re.findall(pt,word)\n",
    "print(result)"
   ]
  },
  {
   "cell_type": "code",
   "execution_count": 127,
   "id": "756c0eb8",
   "metadata": {},
   "outputs": [
    {
     "name": "stdout",
     "output_type": "stream",
     "text": [
      "['LLllllluck', 'cuck', 'Muck', 'tuck', 'ruck', '0uck', '1uck', '9uck']\n"
     ]
    }
   ],
   "source": [
    "word = 'we have LLllllluck cuck Muck tuck ruck 0uck 1uck 9uck'\n",
    "\n",
    "pt = r'[a-zA-Z]?\\w{1,}uck'\n",
    "\n",
    "result = re.findall(pt,word)\n",
    "print(result)"
   ]
  },
  {
   "cell_type": "markdown",
   "id": "741329a1",
   "metadata": {},
   "source": [
    "https://regex101.com/"
   ]
  },
  {
   "cell_type": "markdown",
   "id": "4c907a03",
   "metadata": {},
   "source": [
    "# Day 35"
   ]
  },
  {
   "cell_type": "code",
   "execution_count": 1,
   "id": "5fa4af8c",
   "metadata": {},
   "outputs": [],
   "source": [
    "#\\b:- word boundary\n",
    "\n",
    "\n",
    "import re\n",
    "\n"
   ]
  },
  {
   "cell_type": "code",
   "execution_count": 7,
   "id": "7e2c2d8d",
   "metadata": {},
   "outputs": [
    {
     "name": "stdout",
     "output_type": "stream",
     "text": [
      "[]\n"
     ]
    }
   ],
   "source": [
    "data = 'we are in mrpythonage class!!'\n",
    "\n",
    "pt = r'\\bpython\\b'\n",
    "\n",
    "result = re.findall(pt,data)\n",
    "\n",
    "print(result)"
   ]
  },
  {
   "cell_type": "code",
   "execution_count": 8,
   "id": "a4b47be8",
   "metadata": {},
   "outputs": [
    {
     "name": "stdout",
     "output_type": "stream",
     "text": [
      "['python']\n"
     ]
    }
   ],
   "source": [
    "data = 'we are in python class!!'\n",
    "\n",
    "pt = r'\\bpython\\b'\n",
    "\n",
    "result = re.findall(pt,data)\n",
    "\n",
    "print(result)"
   ]
  },
  {
   "cell_type": "code",
   "execution_count": 12,
   "id": "fc241f9a",
   "metadata": {},
   "outputs": [
    {
     "name": "stdout",
     "output_type": "stream",
     "text": [
      "['python']\n"
     ]
    }
   ],
   "source": [
    "data = 'we are in mrpython class!!'\n",
    "\n",
    "pt = r'\\Bpython'\n",
    "\n",
    "result = re.findall(pt,data)\n",
    "\n",
    "print(result)"
   ]
  },
  {
   "cell_type": "code",
   "execution_count": null,
   "id": "c6ba5fd4",
   "metadata": {},
   "outputs": [],
   "source": []
  },
  {
   "cell_type": "code",
   "execution_count": 15,
   "id": "8a6aee49",
   "metadata": {},
   "outputs": [
    {
     "name": "stdout",
     "output_type": "stream",
     "text": [
      "['string']\n"
     ]
    }
   ],
   "source": [
    "data = 'end of string'\n",
    "\n",
    "pt = r'\\w+$'\n",
    "\n",
    "result = re.findall(pt,data)\n",
    "print(result)"
   ]
  },
  {
   "cell_type": "code",
   "execution_count": null,
   "id": "4fbd7d9d",
   "metadata": {},
   "outputs": [],
   "source": []
  },
  {
   "cell_type": "code",
   "execution_count": null,
   "id": "b426d1a6",
   "metadata": {},
   "outputs": [],
   "source": []
  },
  {
   "cell_type": "code",
   "execution_count": 17,
   "id": "87896dc6",
   "metadata": {},
   "outputs": [
    {
     "name": "stdout",
     "output_type": "stream",
     "text": [
      "['end']\n"
     ]
    }
   ],
   "source": [
    "data = 'end of string'\n",
    "\n",
    "pt = r'^\\w+'\n",
    "\n",
    "result = re.findall(pt,data)\n",
    "print(result)"
   ]
  },
  {
   "cell_type": "code",
   "execution_count": null,
   "id": "147ea2ad",
   "metadata": {},
   "outputs": [],
   "source": []
  },
  {
   "cell_type": "code",
   "execution_count": null,
   "id": "c8e0f4b5",
   "metadata": {},
   "outputs": [],
   "source": []
  },
  {
   "cell_type": "code",
   "execution_count": 39,
   "id": "d9d35c2f",
   "metadata": {},
   "outputs": [
    {
     "name": "stdout",
     "output_type": "stream",
     "text": [
      "['we are in techvidya', 'we are learning python', 'Python is awesome']\n"
     ]
    }
   ],
   "source": [
    "data = '''Note1: we are in techvidya\n",
    "Note2: we are learning python\n",
    "Note3: Python is awesome'''\n",
    "\n",
    "\n",
    "pt = r'Note\\d: (\\w.{1,})'\n",
    "\n",
    "result = re.findall(pt,data)\n",
    "print(result)"
   ]
  },
  {
   "cell_type": "code",
   "execution_count": null,
   "id": "9c0e3945",
   "metadata": {},
   "outputs": [],
   "source": [
    "# ['we are in techvidya','we are learning python','Python is awesome']"
   ]
  },
  {
   "cell_type": "code",
   "execution_count": null,
   "id": "08786c5e",
   "metadata": {},
   "outputs": [],
   "source": []
  },
  {
   "cell_type": "code",
   "execution_count": 44,
   "id": "9838c826",
   "metadata": {},
   "outputs": [
    {
     "name": "stdout",
     "output_type": "stream",
     "text": [
      "['vidya', 'vidyala', 'vidyarthi', 'vidyanchal', 'vidyan']\n"
     ]
    }
   ],
   "source": [
    "data = 'this is vidya vidyala vidyarthi vidyanchal vidyan'\n",
    "\n",
    "pt = r'vidy\\w+'\n",
    "\n",
    "result = re.findall(pt,data)\n",
    "print(result)"
   ]
  },
  {
   "cell_type": "code",
   "execution_count": 58,
   "id": "23e29a94",
   "metadata": {},
   "outputs": [
    {
     "name": "stdout",
     "output_type": "stream",
     "text": [
      "['$9098987876', '+91-9999888876']\n"
     ]
    }
   ],
   "source": [
    "data = 'we have phone numbers $9098987876 +91-9999888876'\n",
    "\n",
    "pt = r'\\+91-\\d{10}|\\$?\\d{10}'\n",
    "\n",
    "result = re.findall(pt,data)\n",
    "print(result)"
   ]
  },
  {
   "cell_type": "code",
   "execution_count": null,
   "id": "37c7eb7f",
   "metadata": {},
   "outputs": [],
   "source": []
  },
  {
   "attachments": {
    "1_PTl0u6xAz49zUZc2Kg7BVA.png": {
     "image/png": "[encoded data removed]"
    }
   },
   "cell_type": "markdown",
   "id": "b4ea6822",
   "metadata": {},
   "source": [
    "![1_PTl0u6xAz49zUZc2Kg7BVA.png](attachment:1_PTl0u6xAz49zUZc2Kg7BVA.png)"
   ]
  },
  {
   "cell_type": "code",
   "execution_count": 75,
   "id": "c816d33e",
   "metadata": {},
   "outputs": [
    {
     "name": "stdout",
     "output_type": "stream",
     "text": [
      "['mohan_khanna']\n",
      "['ola']\n",
      "['com']\n"
     ]
    }
   ],
   "source": [
    "email_id = 'aman@123gmail.com'\n",
    "email_id = 'ravi_12_12@yahoo.in'\n",
    "email_id = 'mohan_khanna@ola.com'\n",
    "# uid = []\n",
    "# company_name = []\n",
    "# domain = []\n",
    "\n",
    "pt1 = r'([a-zA-Z0-9_.+-]+)@'\n",
    "pt2 = r'([a-zA-Z0-9_.+-]+)\\.'\n",
    "pt3 = r'\\.([a-zA-Z0-9_.+-]+)'\n",
    "\n",
    "result1 = re.findall(pt1,email_id)\n",
    "result2 = re.findall(pt2,email_id)\n",
    "result3 = re.findall(pt3,email_id)\n",
    "\n",
    "print(result1)\n",
    "print(result2)\n",
    "print(result3)"
   ]
  },
  {
   "cell_type": "code",
   "execution_count": null,
   "id": "427488a6",
   "metadata": {},
   "outputs": [],
   "source": []
  },
  {
   "cell_type": "code",
   "execution_count": null,
   "id": "41b14db8",
   "metadata": {},
   "outputs": [],
   "source": []
  }
 ],
 "metadata": {
  "kernelspec": {
   "display_name": "Python 3 (ipykernel)",
   "language": "python",
   "name": "python3"
  },
  "language_info": {
   "codemirror_mode": {
    "name": "ipython",
    "version": 3
   },
   "file_extension": ".py",
   "mimetype": "text/x-python",
   "name": "python",
   "nbconvert_exporter": "python",
   "pygments_lexer": "ipython3",
   "version": "3.11.3"
  }
 },
 "nbformat": 4,
 "nbformat_minor": 5
}
