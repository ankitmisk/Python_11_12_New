{
 "cells": [
  {
   "cell_type": "code",
   "execution_count": 2,
   "id": "0738280d",
   "metadata": {},
   "outputs": [
    {
     "name": "stdout",
     "output_type": "stream",
     "text": [
      "You can't Vote!!\n"
     ]
    }
   ],
   "source": [
    "# conditional Programming\n",
    "\n",
    "age = 7\n",
    "\n",
    "if age>=18:\n",
    "    print('You can vote!!')\n",
    "else:\n",
    "    print('You can\\'t Vote!!')"
   ]
  },
  {
   "cell_type": "code",
   "execution_count": 3,
   "id": "62f1fc73",
   "metadata": {},
   "outputs": [],
   "source": [
    "# if elif else\n"
   ]
  },
  {
   "cell_type": "code",
   "execution_count": 5,
   "id": "90b452a7",
   "metadata": {},
   "outputs": [],
   "source": [
    "# if (condition/conditions):->bool:\n",
    "#         if code block\n",
    "#         This will execute\n",
    "# else no coditions:\n",
    "#     else code block\n",
    "#     This will only execute when if's fail"
   ]
  },
  {
   "cell_type": "code",
   "execution_count": 4,
   "id": "97c05eff",
   "metadata": {},
   "outputs": [
    {
     "data": {
      "text/plain": [
       "False"
      ]
     },
     "execution_count": 4,
     "metadata": {},
     "output_type": "execute_result"
    }
   ],
   "source": [
    "age>=18"
   ]
  },
  {
   "cell_type": "code",
   "execution_count": 7,
   "id": "157125db",
   "metadata": {},
   "outputs": [
    {
     "name": "stdout",
     "output_type": "stream",
     "text": [
      "Show your ID card: yes\n",
      "Welcome!!\n"
     ]
    }
   ],
   "source": [
    "security = input('Show your ID card: ')\n",
    "\n",
    "if security == 'yes':\n",
    "    print('Welcome!!')\n",
    "    \n",
    "else:\n",
    "    print('You are not allowed!!')"
   ]
  },
  {
   "cell_type": "code",
   "execution_count": 12,
   "id": "2065a8f1",
   "metadata": {},
   "outputs": [
    {
     "name": "stdout",
     "output_type": "stream",
     "text": [
      "Please signup!!\n",
      "Enter your name: karan\n",
      "Create your userid: karan@techvidya\n",
      "Create your password: karan@123\n",
      "You have successfully created your account!!\n",
      "Enter yes to login!!: yes\n",
      "Enter your user id: karan@techvidya\n",
      "Enter your password: Karan@123\n",
      "Incorrect userid or password!!\n"
     ]
    }
   ],
   "source": [
    "# website login\n",
    "\n",
    "print('Please signup!!')\n",
    "\n",
    "name = input('Enter your name: ')\n",
    "\n",
    "userid = input('Create your userid: ')\n",
    "\n",
    "password = input('Create your password: ')\n",
    "\n",
    "print('You have successfully created your account!!')\n",
    "\n",
    "ans = input('Enter yes to login!!: ')\n",
    "\n",
    "if ans == 'yes':\n",
    "    \n",
    "    uid = input('Enter your user id: ')\n",
    "    pwd = input('Enter your password: ')\n",
    "    \n",
    "    if (uid == userid) and (pwd == password):\n",
    "        \n",
    "        print('Welcome',name)\n",
    "        \n",
    "    else:\n",
    "        print('Incorrect userid or password!!')\n",
    "    \n",
    "    \n",
    "else:\n",
    "    print('Thanks for the signup!!')"
   ]
  },
  {
   "cell_type": "code",
   "execution_count": null,
   "id": "9b4b5a7f",
   "metadata": {},
   "outputs": [],
   "source": []
  },
  {
   "cell_type": "code",
   "execution_count": 13,
   "id": "6a7a7441",
   "metadata": {},
   "outputs": [],
   "source": [
    "# if elif else"
   ]
  },
  {
   "cell_type": "code",
   "execution_count": 14,
   "id": "e1a54fab",
   "metadata": {},
   "outputs": [],
   "source": [
    "# smallest amongst three numbers"
   ]
  },
  {
   "cell_type": "code",
   "execution_count": 18,
   "id": "5890d204",
   "metadata": {},
   "outputs": [
    {
     "name": "stdout",
     "output_type": "stream",
     "text": [
      "c is smallest\n"
     ]
    }
   ],
   "source": [
    "a = 2\n",
    "b = 1\n",
    "c = 0\n",
    "\n",
    "if (a<b) and (a<c):\n",
    "    print('a is smallest')\n",
    "\n",
    "elif (b<a) and (b<c):\n",
    "    print('b is smallest')\n",
    "\n",
    "else:\n",
    "    print('c is smallest')"
   ]
  },
  {
   "cell_type": "code",
   "execution_count": null,
   "id": "161341d2",
   "metadata": {},
   "outputs": [],
   "source": []
  },
  {
   "cell_type": "code",
   "execution_count": 24,
   "id": "9303b0ec",
   "metadata": {},
   "outputs": [
    {
     "name": "stdout",
     "output_type": "stream",
     "text": [
      "Enter maths marks: 89\n",
      "Enter english marks: 87\n",
      "Enter hindi marks: 99\n",
      "Enter science marks: 90\n",
      "Enter sst marks: 99\n",
      "You have scored A+ 92.8 %\n"
     ]
    }
   ],
   "source": [
    "# Grading system\n",
    "\n",
    "maths = float(input('Enter maths marks: '))\n",
    "english = float(input('Enter english marks: '))\n",
    "hindi = float(input('Enter hindi marks: '))\n",
    "science = float(input('Enter science marks: '))\n",
    "sst = float(input('Enter sst marks: '))\n",
    "\n",
    "\n",
    "marks_ob = maths+english+hindi+science+sst\n",
    "\n",
    "total_marks = 500\n",
    "\n",
    "percentage = round((marks_ob/total_marks)*100,2)\n",
    "\n",
    "\n",
    "if percentage>=90:\n",
    "    print('You have scored A+',percentage,'%')\n",
    "    \n",
    "elif 80<=percentage<90:\n",
    "    print('You have scored A',percentage,'%')\n",
    "    \n",
    "elif 70<=percentage<80:\n",
    "    print('You have scored B+',percentage,'%')\n",
    "    \n",
    "elif 60<=percentage<70:\n",
    "    print('You have scored B',percentage,'%')\n",
    "    \n",
    "elif 50<=percentage<60:\n",
    "    print('You have scored C',percentage,'%')\n",
    "       \n",
    "elif 40<=percentage<50:\n",
    "    print('You have scored D',percentage,'%')\n",
    "    \n",
    "    \n",
    "elif 33<=percentage<40:\n",
    "    print('You have scored E',percentage,'%')\n",
    "    \n",
    "else:\n",
    "    print('You are Fail',percentage,'%')\n"
   ]
  },
  {
   "cell_type": "code",
   "execution_count": null,
   "id": "544a4a94",
   "metadata": {},
   "outputs": [],
   "source": []
  },
  {
   "cell_type": "code",
   "execution_count": 25,
   "id": "532857a3",
   "metadata": {},
   "outputs": [],
   "source": [
    "# # Task Trip Planner \n",
    "\n",
    "# budget = \n",
    "# distance = "
   ]
  },
  {
   "cell_type": "code",
   "execution_count": 26,
   "id": "cec0ae0c",
   "metadata": {},
   "outputs": [],
   "source": [
    "# check palindrome"
   ]
  },
  {
   "cell_type": "code",
   "execution_count": 30,
   "id": "a29718fc",
   "metadata": {},
   "outputs": [
    {
     "name": "stdout",
     "output_type": "stream",
     "text": [
      "Enter your name: nitin\n",
      "It is a palindrome!!\n"
     ]
    }
   ],
   "source": [
    "name = input('Enter your name: ').lower()\n",
    "\n",
    "if name == name[::-1]:\n",
    "    print('It is a palindrome!!')\n",
    "else:\n",
    "    print('It is not a palindrome!!')"
   ]
  },
  {
   "cell_type": "markdown",
   "id": "7401d1cc",
   "metadata": {},
   "source": [
    "# Day 12"
   ]
  },
  {
   "cell_type": "code",
   "execution_count": 1,
   "id": "4187fab2",
   "metadata": {},
   "outputs": [],
   "source": [
    "# if else in one line\n",
    "# if else with pass"
   ]
  },
  {
   "cell_type": "code",
   "execution_count": 6,
   "id": "93cf45c3",
   "metadata": {},
   "outputs": [
    {
     "name": "stdout",
     "output_type": "stream",
     "text": [
      "Enter number: 12\n",
      "Even Number\n"
     ]
    }
   ],
   "source": [
    "a = int(input('Enter number: '))\n",
    "\n",
    "if a%2==0:\n",
    "    print('Even Number')\n",
    "else:\n",
    "    print('Odd Number')"
   ]
  },
  {
   "cell_type": "code",
   "execution_count": 9,
   "id": "48123c5c",
   "metadata": {},
   "outputs": [
    {
     "name": "stdout",
     "output_type": "stream",
     "text": [
      "Odd Number\n"
     ]
    }
   ],
   "source": [
    "# one liner code\n",
    "\n",
    "a = 31\n",
    "print('Even Number') if a%2==0 else print('Odd Number')"
   ]
  },
  {
   "cell_type": "code",
   "execution_count": 24,
   "id": "3243ebae",
   "metadata": {},
   "outputs": [
    {
     "name": "stdout",
     "output_type": "stream",
     "text": [
      "23452345676535 is divisible by 123\n"
     ]
    }
   ],
   "source": [
    "# check divisibility of a number with a given number\n",
    "\n",
    "\n",
    "a = 23452345676543-8\n",
    "b = 123\n",
    "\n",
    "\n",
    "\n",
    "if a%b == 0:\n",
    "    print(f'{a} is divisible by {b}')\n",
    "    \n",
    "else:\n",
    "    print(f'{a} is not divisible by {b}')\n",
    "\n"
   ]
  },
  {
   "cell_type": "code",
   "execution_count": null,
   "id": "bb9ffe39",
   "metadata": {},
   "outputs": [],
   "source": []
  },
  {
   "cell_type": "code",
   "execution_count": 25,
   "id": "cc1a9cbd",
   "metadata": {},
   "outputs": [],
   "source": [
    "import random"
   ]
  },
  {
   "cell_type": "code",
   "execution_count": 34,
   "id": "08fed168",
   "metadata": {},
   "outputs": [
    {
     "data": {
      "text/plain": [
       "47"
      ]
     },
     "execution_count": 34,
     "metadata": {},
     "output_type": "execute_result"
    }
   ],
   "source": [
    "random.randint(-89,89)"
   ]
  },
  {
   "cell_type": "code",
   "execution_count": 49,
   "id": "076d7f1d",
   "metadata": {},
   "outputs": [
    {
     "name": "stdout",
     "output_type": "stream",
     "text": [
      "Guess a number b/w (1 to 5): 3\n",
      "your choice: 3\n",
      "comp choice : 3\n",
      "You Won!!\n"
     ]
    }
   ],
   "source": [
    "user = int(input('Guess a number b/w (1 to 5): '))\n",
    "\n",
    "comp = random.randint(1,5)\n",
    "\n",
    "print(f'''your choice: {user}\n",
    "comp choice : {comp}''')\n",
    "\n",
    "if user == comp:\n",
    "    print('You Won!!')\n",
    "else:\n",
    "    print('You Lose!!')"
   ]
  },
  {
   "cell_type": "code",
   "execution_count": 50,
   "id": "5005c6ad",
   "metadata": {},
   "outputs": [],
   "source": [
    "# Rock paper scissors"
   ]
  },
  {
   "cell_type": "code",
   "execution_count": 64,
   "id": "f0b942fb",
   "metadata": {},
   "outputs": [
    {
     "name": "stdout",
     "output_type": "stream",
     "text": [
      "Enter your choice('Rock','Paper','Scissors'): scissors\n",
      "your choice: Scissors\n",
      "comp choice : Paper\n",
      "User wins comp Lose!!\n"
     ]
    }
   ],
   "source": [
    "comp_choice = random.choice(['Rock','Paper','Scissors'])\n",
    "user_choice = input(\"Enter your choice('Rock','Paper','Scissors'): \").capitalize()\n",
    "\n",
    "\n",
    "print(f'''your choice: {user_choice}\n",
    "comp choice : {comp_choice}''')\n",
    "\n",
    "\n",
    "if user_choice == comp_choice:\n",
    "    print('It\\'s a Tie!!')\n",
    "    \n",
    "elif user_choice == 'Rock':\n",
    "    if comp_choice == 'Paper':\n",
    "        print('Comp wins you Lose!!')\n",
    "    else:\n",
    "        print('User wins comp Lose!!')\n",
    "                \n",
    "    \n",
    "elif user_choice == 'Paper':\n",
    "    if comp_choice == 'Scissors':\n",
    "        print('Comp wins you Lose!!')\n",
    "    else:\n",
    "        print('User wins comp Lose!!')\n",
    "        \n",
    "        \n",
    "    \n",
    "elif user_choice == 'Scissors':\n",
    "    if comp_choice == 'Rock':\n",
    "        print('Comp wins you Lose!!')\n",
    "    else:\n",
    "        print('User wins comp Lose!!')\n",
    "        \n",
    "        \n",
    "else:\n",
    "    print('Invalid Choice!!')"
   ]
  },
  {
   "cell_type": "code",
   "execution_count": null,
   "id": "f799b5f6",
   "metadata": {},
   "outputs": [],
   "source": []
  },
  {
   "cell_type": "code",
   "execution_count": 71,
   "id": "36e07d74",
   "metadata": {},
   "outputs": [
    {
     "name": "stdout",
     "output_type": "stream",
     "text": [
      "Enter your name: ajay\n",
      "Create your user id: ajay@banka\n",
      "Create your password: ajay@123\n",
      "Want to login (yes/no): yes\n",
      "Enter your user id: ajay@banka\n",
      "Enter your pasword: ajay@1234455\n",
      "Incorrect userid or password!!\n",
      "Forget your Id pr password (yes/no): yes\n",
      "Enter your Mobile no: 8787676543\n",
      "OTP has been sent to your registered mobile number!!\n",
      "Your OTP is:  6402\n",
      "Enter your OTP here!!: 6402\n",
      "Enter your name: ajay\n",
      "Create your user id: ajay@aj\n",
      "Create your password: ajay@123\n",
      "Want to login (yes/no): yes\n",
      "Enter your user id: ajay@aj\n",
      "Enter your pasword: ajay@123\n",
      "Hey!! ajay. You have successfully logged in\n"
     ]
    }
   ],
   "source": [
    "name = input('Enter your name: ')\n",
    "\n",
    "user_id = input('Create your user id: ')\n",
    "\n",
    "password = input('Create your password: ')\n",
    "\n",
    "ans = input('Want to login (yes/no): ').lower()\n",
    "\n",
    "if ans == 'yes':\n",
    "    \n",
    "    uid = input('Enter your user id: ')\n",
    "    pwd = input('Enter your pasword: ')\n",
    "    \n",
    "    if (uid == user_id) and (password == pwd):\n",
    "        print(f'Hey!! {name}. You have successfully logged in')\n",
    "        \n",
    "    else:\n",
    "        print('Incorrect userid or password!!')\n",
    "        \n",
    "        forget_ans = input('Forget your Id pr password (yes/no): ').lower()\n",
    "        \n",
    "        if forget_ans == 'yes':\n",
    "            phone_no = input('Enter your Mobile no: ')\n",
    "            \n",
    "            print('OTP has been sent to your registered mobile number!!')\n",
    "            OTP = random.randint(1111,9999)\n",
    "            print('Your OTP is: ',OTP)\n",
    "            \n",
    "            otp_ans = int(input('Enter your OTP here!!: '))\n",
    "            \n",
    "            if otp_ans == OTP:\n",
    "                execfile('login.py')\n",
    "            else:\n",
    "                print('Incorrect OTP')\n",
    "        else:\n",
    "            print('Try Again!!')\n",
    "                \n",
    "else:\n",
    "    print('Thanks for the signup')\n",
    "\n"
   ]
  },
  {
   "cell_type": "code",
   "execution_count": 66,
   "id": "ba2ae062",
   "metadata": {},
   "outputs": [],
   "source": []
  },
  {
   "cell_type": "code",
   "execution_count": null,
   "id": "f026f13f",
   "metadata": {},
   "outputs": [],
   "source": []
  }
 ],
 "metadata": {
  "kernelspec": {
   "display_name": "Python 3 (ipykernel)",
   "language": "python",
   "name": "python3"
  },
  "language_info": {
   "codemirror_mode": {
    "name": "ipython",
    "version": 3
   },
   "file_extension": ".py",
   "mimetype": "text/x-python",
   "name": "python",
   "nbconvert_exporter": "python",
   "pygments_lexer": "ipython3",
   "version": "3.11.3"
  }
 },
 "nbformat": 4,
 "nbformat_minor": 5
}
