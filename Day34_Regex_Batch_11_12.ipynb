{
 "cells": [
  {
   "cell_type": "code",
   "execution_count": 1,
   "id": "e3548705",
   "metadata": {},
   "outputs": [],
   "source": [
    "# Regex Regular Expression"
   ]
  },
  {
   "cell_type": "code",
   "execution_count": 22,
   "id": "9253a134",
   "metadata": {},
   "outputs": [],
   "source": []
  },
  {
   "cell_type": "code",
   "execution_count": 23,
   "id": "83d86cb4",
   "metadata": {},
   "outputs": [
    {
     "name": "stdout",
     "output_type": "stream",
     "text": [
      "we have some phone numbers like 9999999999, 1898787654 include this also 9876543210,I think this should also include 8987876543\n"
     ]
    }
   ],
   "source": [
    "print(a)"
   ]
  },
  {
   "cell_type": "code",
   "execution_count": 29,
   "id": "8f2a8fe9",
   "metadata": {},
   "outputs": [
    {
     "name": "stdout",
     "output_type": "stream",
     "text": [
      "['1234567899', '9898989898', '9999999999', '9898787654', '9876543210', '8987876543']\n"
     ]
    }
   ],
   "source": [
    "a = 'we have 1234567899 some 9898989898phone numbers like 9999999999, 9898787654 include this also 9876543210,I think this should also include 8987876543'\n",
    "\n",
    "phone_number = []\n",
    "\n",
    "for i in a:\n",
    "    if i.isdigit():\n",
    "        phone_number.append(i)\n",
    "# print(phone_number)\n",
    "\n",
    "a = 0\n",
    "b = 10\n",
    "\n",
    "final_phone = []\n",
    "while True:\n",
    "    try:\n",
    "        no = ''\n",
    "        for j in range(a,b):\n",
    "    #         print(phone_number[j])\n",
    "            no+=phone_number[j]\n",
    "        a = b\n",
    "        b+=10\n",
    "        final_phone.append(no)\n",
    "    except:\n",
    "        break\n",
    "\n",
    "print(final_phone)"
   ]
  },
  {
   "cell_type": "code",
   "execution_count": 36,
   "id": "6823c725",
   "metadata": {},
   "outputs": [
    {
     "name": "stdout",
     "output_type": "stream",
     "text": [
      "['1', '2', '3', '4', '5', '6', '7', '8', '9', '9', '9', '8', '9', '8', '9', '8', '9', '8', '9', '8', '9', '9', '9', '9', '9', '9', '9', '9', '9', '9', '9', '8', '9', '8', '7', '8', '7', '6', '5', '4', '9', '8', '7', '6', '5', '4', '3', '2', '1', '0', '8', '9', '8', '7', '8', '7', '6', '5', '4', '3']\n"
     ]
    }
   ],
   "source": [
    "print(phone_number)"
   ]
  },
  {
   "cell_type": "code",
   "execution_count": 30,
   "id": "fdfe60b8",
   "metadata": {},
   "outputs": [],
   "source": [
    "# Regex Regular Expression:- for pattern matching"
   ]
  },
  {
   "cell_type": "code",
   "execution_count": 31,
   "id": "13394c98",
   "metadata": {},
   "outputs": [],
   "source": [
    "# we use some meta char\n",
    "# special symbols\n",
    "# @#$%^&*()-+<>?}{}[]\\|"
   ]
  },
  {
   "cell_type": "code",
   "execution_count": 32,
   "id": "03893f1a",
   "metadata": {},
   "outputs": [],
   "source": [
    "import re"
   ]
  },
  {
   "cell_type": "code",
   "execution_count": 35,
   "id": "64b4255b",
   "metadata": {},
   "outputs": [
    {
     "name": "stdout",
     "output_type": "stream",
     "text": [
      "['1234567899', '9898989898', '9999999999', '9898787654', '9876543210', '8987876543']\n"
     ]
    }
   ],
   "source": [
    "a = 'we have 1234567899 some 9898989898phone numbers like 9999999999, 9898787654 include this also 9876543210,I think this should also include 8987876543'\n",
    "\n",
    "pt = r'\\d{10}'\n",
    "\n",
    "data = re.findall(pt,a)\n",
    "print(data)"
   ]
  },
  {
   "cell_type": "code",
   "execution_count": 37,
   "id": "7415d86f",
   "metadata": {},
   "outputs": [
    {
     "name": "stdout",
     "output_type": "stream",
     "text": [
      "['1', '2', '3', '4', '5', '6', '7', '8', '9', '9', '9', '8', '9', '8', '9', '8', '9', '8', '9', '8', '9', '9', '9', '9', '9', '9', '9', '9', '9', '9', '9', '8', '9', '8', '7', '8', '7', '6', '5', '4', '9', '8', '7', '6', '5', '4', '3', '2', '1', '0', '8', '9', '8', '7', '8', '7', '6', '5', '4', '3']\n"
     ]
    }
   ],
   "source": [
    "a = 'we have 1234567899 some 9898989898phone numbers like 9999999999, 9898787654 include this also 9876543210,I think this should also include 8987876543'\n",
    "\n",
    "\n",
    "pt = r'\\d'\n",
    "\n",
    "result = re.findall(pt,a)\n",
    "print(result)"
   ]
  },
  {
   "cell_type": "code",
   "execution_count": 38,
   "id": "a3de6056",
   "metadata": {},
   "outputs": [
    {
     "name": "stdout",
     "output_type": "stream",
     "text": [
      "['w', 'e', ' ', '#', ' ', '@', ' ', 'h', 'a', 'v', 'e', ' ', ' ', 's', 'o', 'm', 'e', ' ', 'p', 'h', 'o', 'n', 'e', ' ', 'n', 'u', 'm', 'b', 'e', 'r', 's', ' ', 'l', 'i', 'k', 'e', ' ', ',', ' ', ' ', 'i', 'n', 'c', 'l', 'u', 'd', 'e', ' ', 't', 'h', 'i', 's', ' ', 'a', 'l', 's', 'o', ' ', ',', 'I', ' ', 't', 'h', 'i', 'n', 'k', ' ', 't', 'h', 'i', 's', ' ', 's', 'h', 'o', 'u', 'l', 'd', ' ', 'a', 'l', 's', 'o', ' ', 'i', 'n', 'c', 'l', 'u', 'd', 'e', ' ']\n"
     ]
    }
   ],
   "source": [
    "a = 'we # @ have 1234567899 some 9898989898phone numbers like 9999999999, 9898787654 include this also 9876543210,I think this should also include 8987876543'\n",
    "\n",
    "\n",
    "pt = r'\\D'\n",
    "\n",
    "result = re.findall(pt,a)\n",
    "print(result)"
   ]
  },
  {
   "cell_type": "code",
   "execution_count": null,
   "id": "c3b11605",
   "metadata": {},
   "outputs": [],
   "source": []
  },
  {
   "cell_type": "code",
   "execution_count": null,
   "id": "f59ec1a8",
   "metadata": {},
   "outputs": [],
   "source": []
  },
  {
   "cell_type": "code",
   "execution_count": 39,
   "id": "769e5efc",
   "metadata": {},
   "outputs": [
    {
     "name": "stdout",
     "output_type": "stream",
     "text": [
      "['w', 'e', 'h', 'a', 'v', 'e', '1', '2', '3', '4', '5', '6', '7', '8', '9', '9', 's', 'o', 'm', 'e', '9', '8', '9', '8', '9', '8', '9', '8', '9', '8', 'p', 'h', 'o', 'n', 'e', 'n', 'u', 'm', 'b', 'e', 'r', 's', 'l', 'i', 'k', 'e', '9', '9', '9', '9', '9', '9', '9', '9', '9', '9']\n"
     ]
    }
   ],
   "source": [
    "a = 'we # @ have 1234567899 some 9898989898phone numbers like 9999999999'\n",
    "\n",
    "\n",
    "pt = r'\\w'\n",
    "\n",
    "result = re.findall(pt,a)\n",
    "print(result)"
   ]
  },
  {
   "cell_type": "code",
   "execution_count": 42,
   "id": "54967969",
   "metadata": {},
   "outputs": [
    {
     "name": "stdout",
     "output_type": "stream",
     "text": [
      "w,e,h,a,v,e,1,2,3,4,5,6,7,8,9,9,s,o,m,e,9,8,9,8,9,8,9,8,9,8,p,h,o,n,e,n,u,m,b,e,r,s,l,i,k,e,9,9,9,9,9,9,9,9,9,9,"
     ]
    }
   ],
   "source": [
    "a = 'we # @ have 1234567899 some 9898989898phone numbers like 9999999999'\n",
    "\n",
    "for i in a:\n",
    "    if i.isalnum():\n",
    "        print(i,end=',')"
   ]
  },
  {
   "cell_type": "code",
   "execution_count": 43,
   "id": "c6fab124",
   "metadata": {},
   "outputs": [
    {
     "name": "stdout",
     "output_type": "stream",
     "text": [
      "[' ', '#', ' ', '@', ' ', ' ', ' ', ' ', ' ', ' ', ' ']\n"
     ]
    }
   ],
   "source": [
    "a = 'we # @ have 1234567899 some 9898989898phone numbers like 9999999999'\n",
    "\n",
    "\n",
    "pt = r'\\W'\n",
    "\n",
    "result = re.findall(pt,a)\n",
    "print(result)"
   ]
  },
  {
   "cell_type": "code",
   "execution_count": 44,
   "id": "d4ede8b5",
   "metadata": {},
   "outputs": [
    {
     "name": "stdout",
     "output_type": "stream",
     "text": [
      "[' ', ' ', ' ', ' ', ' ', ' ', ' ', ' ', ' ']\n"
     ]
    }
   ],
   "source": [
    "a = 'we # @ have 1234567899 some 9898989898phone numbers like 9999999999'\n",
    "\n",
    "\n",
    "pt = r'\\s'\n",
    "\n",
    "result = re.findall(pt,a)\n",
    "print(result)"
   ]
  },
  {
   "cell_type": "code",
   "execution_count": 45,
   "id": "9655510e",
   "metadata": {},
   "outputs": [
    {
     "name": "stdout",
     "output_type": "stream",
     "text": [
      "['w', 'e', '#', '@', 'h', 'a', 'v', 'e', '1', '2', '3', '4', '5', '6', '7', '8', '9', '9', 's', 'o', 'm', 'e', '9', '8', '9', '8', '9', '8', '9', '8', '9', '8', 'p', 'h', 'o', 'n', 'e', 'n', 'u', 'm', 'b', 'e', 'r', 's', 'l', 'i', 'k', 'e', '9', '9', '9', '9', '9', '9', '9', '9', '9', '9']\n"
     ]
    }
   ],
   "source": [
    "a = 'we # @ have 1234567899 some 9898989898phone numbers like 9999999999'\n",
    "\n",
    "\n",
    "pt = r'\\S'\n",
    "\n",
    "result = re.findall(pt,a)\n",
    "print(result)"
   ]
  },
  {
   "cell_type": "code",
   "execution_count": null,
   "id": "c741b0cb",
   "metadata": {},
   "outputs": [],
   "source": []
  },
  {
   "cell_type": "code",
   "execution_count": null,
   "id": "0df48b56",
   "metadata": {},
   "outputs": [],
   "source": []
  },
  {
   "cell_type": "code",
   "execution_count": 55,
   "id": "1196be1a",
   "metadata": {},
   "outputs": [
    {
     "name": "stdout",
     "output_type": "stream",
     "text": [
      "['luck', 'cuck', 'muck', 'tuck', 'ruck']\n"
     ]
    }
   ],
   "source": [
    "word = 'we have luck cuck muck tuck ruck'\n",
    "\n",
    "pt = r'm?l?t?c?r?uck'\n",
    "\n",
    "result = re.findall(pt,word)\n",
    "print(result)"
   ]
  },
  {
   "cell_type": "code",
   "execution_count": 63,
   "id": "e3900b6c",
   "metadata": {},
   "outputs": [
    {
     "name": "stdout",
     "output_type": "stream",
     "text": [
      "['p', 'tp', 'top', 'toop', 'tooooooooop', 'toooooop', 'koooooop']\n"
     ]
    }
   ],
   "source": [
    "word = 'Statement like p tp top toop tooooooooop toooooop koooooop'\n",
    "\n",
    "pt = r't?k?o*p'\n",
    "\n",
    "result = re.findall(pt,word)\n",
    "print(result)"
   ]
  },
  {
   "cell_type": "code",
   "execution_count": null,
   "id": "3c3ca9b1",
   "metadata": {},
   "outputs": [],
   "source": []
  },
  {
   "cell_type": "code",
   "execution_count": null,
   "id": "7b16de44",
   "metadata": {},
   "outputs": [],
   "source": []
  },
  {
   "cell_type": "code",
   "execution_count": 66,
   "id": "e32b5e16",
   "metadata": {},
   "outputs": [
    {
     "name": "stdout",
     "output_type": "stream",
     "text": [
      "['mat', 'maat', 'maaat', 'maaaaat', 'jaaaaat', 'raaaaat']\n"
     ]
    }
   ],
   "source": [
    "word = 'mat maat maaat maaaaat jaaaaat raaaaat'\n",
    "\n",
    "pt = r'm?j?r?a+t'\n",
    "\n",
    "result = re.findall(pt,word)\n",
    "print(result)"
   ]
  },
  {
   "cell_type": "code",
   "execution_count": 71,
   "id": "2c6c4bf9",
   "metadata": {},
   "outputs": [
    {
     "name": "stdout",
     "output_type": "stream",
     "text": [
      "['kavi', 'mavi', 'favi']\n"
     ]
    }
   ],
   "source": [
    "word = 'avi ravi kavi mavi havi favi'\n",
    "\n",
    "pt = r'kavi|mavi|favi'\n",
    "\n",
    "result = re.findall(pt,word)\n",
    "print(result)"
   ]
  },
  {
   "cell_type": "code",
   "execution_count": 83,
   "id": "8fad2c09",
   "metadata": {},
   "outputs": [
    {
     "name": "stdout",
     "output_type": "stream",
     "text": [
      "['It', 'In']\n"
     ]
    }
   ],
   "source": [
    "word = 'This is Elon Itly India Musk live in Australia'\n",
    "\n",
    "pt = r'I.'\n",
    "\n",
    "result = re.findall(pt,word)\n",
    "print(result)"
   ]
  },
  {
   "cell_type": "code",
   "execution_count": 90,
   "id": "95824cb8",
   "metadata": {},
   "outputs": [
    {
     "name": "stdout",
     "output_type": "stream",
     "text": [
      "['91-9898787654', '9898787654']\n"
     ]
    }
   ],
   "source": [
    "word = 'phone number 91-9898787654 9898787654'\n",
    "\n",
    "pt = r'91-\\d{10}|\\d{10}'\n",
    "\n",
    "result = re.findall(pt,word)\n",
    "print(result)"
   ]
  },
  {
   "cell_type": "code",
   "execution_count": 95,
   "id": "355ba029",
   "metadata": {},
   "outputs": [
    {
     "name": "stdout",
     "output_type": "stream",
     "text": [
      "['91', '98987', '87654', '98987', '87654', '15']\n"
     ]
    }
   ],
   "source": [
    "word = 'phone number 91-9898787654 9898787654 15'\n",
    "\n",
    "pt = r'\\d{2,5}'\n",
    "\n",
    "result = re.findall(pt,word)\n",
    "print(result)"
   ]
  },
  {
   "cell_type": "code",
   "execution_count": null,
   "id": "b67d4e2a",
   "metadata": {},
   "outputs": [],
   "source": []
  },
  {
   "cell_type": "code",
   "execution_count": null,
   "id": "6e6457ea",
   "metadata": {},
   "outputs": [],
   "source": []
  },
  {
   "cell_type": "code",
   "execution_count": 98,
   "id": "fae31d84",
   "metadata": {},
   "outputs": [
    {
     "name": "stdout",
     "output_type": "stream",
     "text": [
      "['9898787654', '9898787654']\n"
     ]
    }
   ],
   "source": [
    "word = 'phone number 91-9898787654 9898787654 15'\n",
    "\n",
    "pt = r'\\d{3,}'\n",
    "\n",
    "result = re.findall(pt,word)\n",
    "print(result)"
   ]
  },
  {
   "cell_type": "code",
   "execution_count": 105,
   "id": "d2161b9f",
   "metadata": {},
   "outputs": [
    {
     "name": "stdout",
     "output_type": "stream",
     "text": [
      "['Itly ', 'India']\n"
     ]
    }
   ],
   "source": [
    "word = 'This is Elon Itly India Musk live in Australia'\n",
    "\n",
    "pt = r'I.{1,4}'\n",
    "\n",
    "result = re.findall(pt,word)\n",
    "print(result)"
   ]
  },
  {
   "cell_type": "code",
   "execution_count": 108,
   "id": "900edc89",
   "metadata": {},
   "outputs": [
    {
     "name": "stdout",
     "output_type": "stream",
     "text": [
      "['is', 'is', 'Itly', 'India', 'Indiana', 'Info', 'Imbalance', 'Intro']\n"
     ]
    }
   ],
   "source": [
    "word = 'This is Elon Itly India Indiana Info Imbalance Intro'\n",
    "\n",
    "pt = r'I\\w{1,}|i\\w{1,}'\n",
    "\n",
    "result = re.findall(pt,word)\n",
    "print(result)"
   ]
  },
  {
   "cell_type": "code",
   "execution_count": null,
   "id": "df33a26f",
   "metadata": {},
   "outputs": [],
   "source": []
  },
  {
   "cell_type": "code",
   "execution_count": null,
   "id": "e8251749",
   "metadata": {},
   "outputs": [],
   "source": []
  },
  {
   "cell_type": "code",
   "execution_count": 110,
   "id": "dad67ffa",
   "metadata": {},
   "outputs": [
    {
     "name": "stdout",
     "output_type": "stream",
     "text": [
      "['ravi', 'kavi', 'mavi', 'havi', 'favi']\n"
     ]
    }
   ],
   "source": [
    "word = 'avi ravi kavi mavi havi favi'\n",
    "\n",
    "pt = r'[abcdefghijklmnopqrstuvwxyz]avi'\n",
    "\n",
    "result = re.findall(pt,word)\n",
    "print(result)"
   ]
  },
  {
   "cell_type": "code",
   "execution_count": null,
   "id": "98bf73a0",
   "metadata": {},
   "outputs": [],
   "source": []
  },
  {
   "cell_type": "code",
   "execution_count": null,
   "id": "34d4141d",
   "metadata": {},
   "outputs": [],
   "source": []
  },
  {
   "cell_type": "code",
   "execution_count": 112,
   "id": "0848f822",
   "metadata": {},
   "outputs": [
    {
     "name": "stdout",
     "output_type": "stream",
     "text": [
      "['kavi', 'mavi', 'favi']\n"
     ]
    }
   ],
   "source": [
    "word = 'avi ravi kavi mavi havi favi'\n",
    "\n",
    "pt = r'[kmf]avi'\n",
    "\n",
    "result = re.findall(pt,word)\n",
    "print(result)"
   ]
  },
  {
   "cell_type": "code",
   "execution_count": null,
   "id": "811eedde",
   "metadata": {},
   "outputs": [],
   "source": []
  },
  {
   "cell_type": "code",
   "execution_count": null,
   "id": "79dc79a9",
   "metadata": {},
   "outputs": [],
   "source": []
  },
  {
   "cell_type": "code",
   "execution_count": 114,
   "id": "5197b1ec",
   "metadata": {},
   "outputs": [
    {
     "name": "stdout",
     "output_type": "stream",
     "text": [
      "['luck', 'cuck', 'muck', 'tuck', 'ruck']\n"
     ]
    }
   ],
   "source": [
    "word = 'we have luck cuck muck tuck ruck'\n",
    "\n",
    "pt = r'[a-z]uck'\n",
    "\n",
    "result = re.findall(pt,word)\n",
    "print(result)"
   ]
  },
  {
   "cell_type": "code",
   "execution_count": null,
   "id": "a3db3747",
   "metadata": {},
   "outputs": [],
   "source": []
  },
  {
   "cell_type": "code",
   "execution_count": 116,
   "id": "45bfa4db",
   "metadata": {},
   "outputs": [
    {
     "name": "stdout",
     "output_type": "stream",
     "text": [
      "['Luck', 'cuck', 'Muck', 'tuck', 'ruck']\n"
     ]
    }
   ],
   "source": [
    "word = 'we have Luck cuck Muck tuck ruck'\n",
    "\n",
    "pt = r'[a-zA-Z]uck'\n",
    "\n",
    "result = re.findall(pt,word)\n",
    "print(result)"
   ]
  },
  {
   "cell_type": "code",
   "execution_count": null,
   "id": "3b223972",
   "metadata": {},
   "outputs": [],
   "source": []
  },
  {
   "cell_type": "code",
   "execution_count": null,
   "id": "fcccbc7d",
   "metadata": {},
   "outputs": [],
   "source": []
  },
  {
   "cell_type": "code",
   "execution_count": 118,
   "id": "b7e98e58",
   "metadata": {},
   "outputs": [
    {
     "name": "stdout",
     "output_type": "stream",
     "text": [
      "['Luck', 'cuck', 'Muck', 'tuck', 'ruck', '0uck', '1uck']\n"
     ]
    }
   ],
   "source": [
    "word = 'we have Luck cuck Muck tuck ruck 0uck 1uck'\n",
    "\n",
    "pt = r'[a-zA-Z0-9]uck'\n",
    "\n",
    "result = re.findall(pt,word)\n",
    "print(result)"
   ]
  },
  {
   "cell_type": "code",
   "execution_count": 122,
   "id": "341b8bbc",
   "metadata": {},
   "outputs": [
    {
     "name": "stdout",
     "output_type": "stream",
     "text": [
      "['0uck', '1uck', '9uck']\n"
     ]
    }
   ],
   "source": [
    "word = 'we have LLuck cuck Muck tuck ruck 0uck 1uck 9uck'\n",
    "\n",
    "pt = r'[^a-zA-Z]uck'\n",
    "\n",
    "result = re.findall(pt,word)\n",
    "print(result)"
   ]
  },
  {
   "cell_type": "code",
   "execution_count": 127,
   "id": "916af8bf",
   "metadata": {},
   "outputs": [
    {
     "name": "stdout",
     "output_type": "stream",
     "text": [
      "['LLllllluck', 'cuck', 'Muck', 'tuck', 'ruck', '0uck', '1uck', '9uck']\n"
     ]
    }
   ],
   "source": [
    "word = 'we have LLllllluck cuck Muck tuck ruck 0uck 1uck 9uck'\n",
    "\n",
    "pt = r'[a-zA-Z]?\\w{1,}uck'\n",
    "\n",
    "result = re.findall(pt,word)\n",
    "print(result)"
   ]
  },
  {
   "cell_type": "markdown",
   "id": "2337356a",
   "metadata": {},
   "source": [
    "https://regex101.com/"
   ]
  },
  {
   "cell_type": "code",
   "execution_count": null,
   "id": "6b0696e9",
   "metadata": {},
   "outputs": [],
   "source": []
  }
 ],
 "metadata": {
  "kernelspec": {
   "display_name": "Python 3 (ipykernel)",
   "language": "python",
   "name": "python3"
  },
  "language_info": {
   "codemirror_mode": {
    "name": "ipython",
    "version": 3
   },
   "file_extension": ".py",
   "mimetype": "text/x-python",
   "name": "python",
   "nbconvert_exporter": "python",
   "pygments_lexer": "ipython3",
   "version": "3.11.3"
  }
 },
 "nbformat": 4,
 "nbformat_minor": 5
}
