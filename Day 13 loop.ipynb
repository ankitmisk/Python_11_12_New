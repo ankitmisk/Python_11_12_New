{
 "cells": [
  {
   "cell_type": "code",
   "execution_count": 1,
   "id": "6c82b2b9",
   "metadata": {},
   "outputs": [],
   "source": [
    "# flow control\n",
    "\n",
    "# loop:-\n",
    "#     for loop\n",
    "#     while loop\n",
    "    \n",
    "#     Infinite loop"
   ]
  },
  {
   "cell_type": "code",
   "execution_count": 3,
   "id": "6d311033",
   "metadata": {},
   "outputs": [
    {
     "name": "stdout",
     "output_type": "stream",
     "text": [
      "[1, 2, 3, 4, 5, 6, 7, 8, 9, 10, 11, 12, 13, 14, 15, 16, 17, 18, 19, 20, 21, 22, 23, 24, 25, 26, 27, 28, 29, 30, 31, 32, 33, 34, 35, 36, 37, 38, 39, 40, 41, 42, 43, 44, 45, 46, 47, 48, 49, 50, 51, 52, 53, 54, 55, 56, 57, 58, 59, 60, 61, 62, 63, 64, 65, 66, 67, 68, 69, 70, 71, 72, 73, 74, 75, 76, 77, 78, 79, 80, 81, 82, 83, 84, 85, 86, 87, 88, 89, 90, 91, 92, 93, 94, 95, 96, 97, 98, 99, 100]\n"
     ]
    }
   ],
   "source": [
    "a = [1,2,3,4,5,6,7,8,9,10]\n",
    "\n",
    "print(list(range(1,101)))"
   ]
  },
  {
   "cell_type": "code",
   "execution_count": 5,
   "id": "ca71d463",
   "metadata": {},
   "outputs": [
    {
     "name": "stdout",
     "output_type": "stream",
     "text": [
      "I love python\n",
      "I love python\n",
      "I love python\n",
      "I love python\n",
      "I love python\n",
      "I love python\n",
      "I love python\n",
      "I love python\n",
      "I love python\n",
      "I love python\n"
     ]
    }
   ],
   "source": [
    "import time\n",
    "for i in range(1,11):\n",
    "    print('I love python')\n",
    "    time.sleep(1)"
   ]
  },
  {
   "cell_type": "code",
   "execution_count": 8,
   "id": "74b10fa0",
   "metadata": {},
   "outputs": [
    {
     "name": "stdout",
     "output_type": "stream",
     "text": [
      "3\n",
      "6\n",
      "9\n",
      "12\n",
      "15\n",
      "18\n",
      "21\n",
      "24\n",
      "27\n",
      "30\n"
     ]
    }
   ],
   "source": [
    "for i in range(1,11):\n",
    "    print(3*i)"
   ]
  },
  {
   "cell_type": "code",
   "execution_count": 10,
   "id": "ff77b1f3",
   "metadata": {},
   "outputs": [],
   "source": [
    "# for temp_variable in 'str,list,set,dict,tuple,frozenset,range()':\n",
    "#     for code block\n",
    "#     complete code"
   ]
  },
  {
   "cell_type": "code",
   "execution_count": 12,
   "id": "02ddf218",
   "metadata": {},
   "outputs": [
    {
     "name": "stdout",
     "output_type": "stream",
     "text": [
      "23\n",
      "325\n",
      "3231\n",
      "43\n",
      "576\n",
      "54534\n",
      "324546\n"
     ]
    }
   ],
   "source": [
    "for i in [23,325,3231,43,576,54534,324546]:\n",
    "    print(i)\n",
    "    time.sleep(1)"
   ]
  },
  {
   "cell_type": "code",
   "execution_count": 13,
   "id": "494ffc4c",
   "metadata": {},
   "outputs": [],
   "source": [
    "# iteration i"
   ]
  },
  {
   "cell_type": "code",
   "execution_count": 15,
   "id": "ad2c8771",
   "metadata": {},
   "outputs": [
    {
     "name": "stdout",
     "output_type": "stream",
     "text": [
      "11\n",
      "12\n",
      "13\n",
      "14\n",
      "66\n",
      "17\n",
      "66\n"
     ]
    }
   ],
   "source": [
    "for gaurav in (1,2,3,4,56,7,56):\n",
    "    print(gaurav+10)"
   ]
  },
  {
   "cell_type": "code",
   "execution_count": 22,
   "id": "6e7735e0",
   "metadata": {},
   "outputs": [
    {
     "name": "stdout",
     "output_type": "stream",
     "text": [
      "PYTHON IS AWESOME"
     ]
    }
   ],
   "source": [
    "# procedure element pick\n",
    "# itearbles:-'str,list,set,dict,tuple,frozenset,range()'\n",
    "a = 'python is awesome'\n",
    "\n",
    "for char in a:\n",
    "    print(char.upper(),end='')\n",
    "    time.sleep(0.05)"
   ]
  },
  {
   "cell_type": "code",
   "execution_count": 23,
   "id": "15ecd89f",
   "metadata": {},
   "outputs": [
    {
     "name": "stdout",
     "output_type": "stream",
     "text": [
      "PYTHON IS AWESOME"
     ]
    }
   ],
   "source": [
    "# procedure element pick\n",
    "# itearbles:-'str,list,set,dict,tuple,frozenset,range()'\n",
    "a = 'python is awesome'\n",
    "\n",
    "for bottle in a:\n",
    "    print(bottle.upper(),end='')\n",
    "    time.sleep(0.05)"
   ]
  },
  {
   "cell_type": "code",
   "execution_count": 30,
   "id": "28816f8b",
   "metadata": {},
   "outputs": [
    {
     "name": "stdout",
     "output_type": "stream",
     "text": [
      "* \n",
      "* * \n",
      "* * * \n",
      "* * * * \n",
      "* * * * * \n",
      "* * * * * * \n"
     ]
    }
   ],
   "source": [
    "modi = [1,2,3,4,5,6]\n",
    "\n",
    "for rahul in modi:\n",
    "    print(rahul*'* ')"
   ]
  },
  {
   "cell_type": "code",
   "execution_count": 28,
   "id": "c71fbdaa",
   "metadata": {},
   "outputs": [
    {
     "data": {
      "text/plain": [
       "'* * * * '"
      ]
     },
     "execution_count": 28,
     "metadata": {},
     "output_type": "execute_result"
    }
   ],
   "source": [
    "'* '*4"
   ]
  },
  {
   "cell_type": "code",
   "execution_count": 31,
   "id": "9d2f2405",
   "metadata": {},
   "outputs": [
    {
     "name": "stdout",
     "output_type": "stream",
     "text": [
      "1\n",
      "2345\n",
      "32\n",
      "14\n"
     ]
    }
   ],
   "source": [
    "# iterate each data type\n",
    "\n",
    "a = [1,2345,32,14]\n",
    "\n",
    "for i in a:\n",
    "    print(i)"
   ]
  },
  {
   "cell_type": "code",
   "execution_count": 32,
   "id": "fba7cb10",
   "metadata": {},
   "outputs": [
    {
     "name": "stdout",
     "output_type": "stream",
     "text": [
      "1\n",
      "2345\n",
      "32\n",
      "14\n"
     ]
    }
   ],
   "source": [
    "\n",
    "a = (1,2345,32,14)\n",
    "\n",
    "for i in a:\n",
    "    print(i)"
   ]
  },
  {
   "cell_type": "code",
   "execution_count": 33,
   "id": "8fc69995",
   "metadata": {},
   "outputs": [
    {
     "name": "stdout",
     "output_type": "stream",
     "text": [
      "32\n",
      "1\n",
      "14\n",
      "2345\n"
     ]
    }
   ],
   "source": [
    "\n",
    "a = {1,2345,32,14}\n",
    "\n",
    "for i in a:\n",
    "    print(i)"
   ]
  },
  {
   "cell_type": "code",
   "execution_count": 34,
   "id": "96cd9211",
   "metadata": {},
   "outputs": [
    {
     "name": "stdout",
     "output_type": "stream",
     "text": [
      "w\n",
      "o\n",
      "r\n",
      "l\n",
      "d\n"
     ]
    }
   ],
   "source": [
    "\n",
    "a = 'world'\n",
    "\n",
    "for i in a:\n",
    "    print(i)"
   ]
  },
  {
   "cell_type": "code",
   "execution_count": 36,
   "id": "886cbd30",
   "metadata": {},
   "outputs": [
    {
     "name": "stdout",
     "output_type": "stream",
     "text": [
      "We\n",
      "are\n",
      "in\n",
      "techvidya\n"
     ]
    }
   ],
   "source": [
    "\n",
    "a = 'We are in techvidya'.split(' ')\n",
    "\n",
    "for i in a:\n",
    "    print(i)"
   ]
  },
  {
   "cell_type": "code",
   "execution_count": 35,
   "id": "b2b05257",
   "metadata": {},
   "outputs": [
    {
     "data": {
      "text/plain": [
       "['We', 'are', 'in', 'techvidya']"
      ]
     },
     "execution_count": 35,
     "metadata": {},
     "output_type": "execute_result"
    }
   ],
   "source": [
    "'We are in techvidya'.split(' ')"
   ]
  },
  {
   "cell_type": "code",
   "execution_count": 37,
   "id": "938fc4fa",
   "metadata": {},
   "outputs": [
    {
     "name": "stdout",
     "output_type": "stream",
     "text": [
      "4312\n",
      "43\n",
      "12\n",
      "5768\n"
     ]
    }
   ],
   "source": [
    "a = frozenset((12,43,4312,43,5768))\n",
    "\n",
    "for k in a:\n",
    "    print(k)"
   ]
  },
  {
   "cell_type": "code",
   "execution_count": 38,
   "id": "bee87b4d",
   "metadata": {},
   "outputs": [
    {
     "name": "stdout",
     "output_type": "stream",
     "text": [
      "Name\n",
      "Age\n",
      "Class\n"
     ]
    }
   ],
   "source": [
    "a = {'Name':'Mohan','Age':23,'Class':5}\n",
    "\n",
    "for i in a:\n",
    "    print(i)"
   ]
  },
  {
   "cell_type": "code",
   "execution_count": 40,
   "id": "c373e855",
   "metadata": {},
   "outputs": [
    {
     "name": "stdout",
     "output_type": "stream",
     "text": [
      "1\n",
      "2\n",
      "3\n"
     ]
    }
   ],
   "source": [
    "a = {1:'One',2:'Two',3:'Three'}\n",
    "\n",
    "for key in a:\n",
    "    print(key)"
   ]
  },
  {
   "cell_type": "code",
   "execution_count": 41,
   "id": "b66cbec6",
   "metadata": {},
   "outputs": [
    {
     "name": "stdout",
     "output_type": "stream",
     "text": [
      "Name\n",
      "Age\n",
      "Class\n"
     ]
    }
   ],
   "source": [
    "a = {'Name':'Mohan','Age':23,'Class':5}\n",
    "\n",
    "for i in a:\n",
    "    print(i)"
   ]
  },
  {
   "cell_type": "code",
   "execution_count": 44,
   "id": "def5d2a6",
   "metadata": {},
   "outputs": [
    {
     "name": "stdout",
     "output_type": "stream",
     "text": [
      "Mohan\n",
      "23\n",
      "5\n"
     ]
    }
   ],
   "source": [
    "a = {'Name':'Mohan','Age':23,'Class':5}\n",
    "\n",
    "for i in a:\n",
    "    print(a[i])"
   ]
  },
  {
   "cell_type": "code",
   "execution_count": 50,
   "id": "b3662917",
   "metadata": {},
   "outputs": [
    {
     "name": "stdout",
     "output_type": "stream",
     "text": [
      "****NAME****---:---Mohan\n",
      "****AGE*****---:---23\n",
      "***CLASS****---:---5\n"
     ]
    }
   ],
   "source": [
    "a = {'Name':'Mohan','Age':23,'Class':5}\n",
    "\n",
    "for i in a:\n",
    "    print(f'{i.upper().center(12,\"*\")}---:---{a[i]}')"
   ]
  },
  {
   "cell_type": "code",
   "execution_count": 51,
   "id": "78ad6b13",
   "metadata": {},
   "outputs": [
    {
     "ename": "TypeError",
     "evalue": "'int' object is not iterable",
     "output_type": "error",
     "traceback": [
      "\u001b[1;31m---------------------------------------------------------------------------\u001b[0m",
      "\u001b[1;31mTypeError\u001b[0m                                 Traceback (most recent call last)",
      "Cell \u001b[1;32mIn[51], line 5\u001b[0m\n\u001b[0;32m      1\u001b[0m \u001b[38;5;66;03m# not applicable\u001b[39;00m\n\u001b[0;32m      3\u001b[0m a  \u001b[38;5;241m=\u001b[39m \u001b[38;5;241m23456\u001b[39m\n\u001b[1;32m----> 5\u001b[0m \u001b[38;5;28;01mfor\u001b[39;00m i \u001b[38;5;129;01min\u001b[39;00m a:\n\u001b[0;32m      6\u001b[0m     \u001b[38;5;28mprint\u001b[39m(i)\n",
      "\u001b[1;31mTypeError\u001b[0m: 'int' object is not iterable"
     ]
    }
   ],
   "source": [
    "# not applicable\n",
    "\n",
    "a  = 23456\n",
    "\n",
    "for i in a:\n",
    "    print(i)"
   ]
  },
  {
   "cell_type": "code",
   "execution_count": 52,
   "id": "41842dcf",
   "metadata": {},
   "outputs": [
    {
     "ename": "TypeError",
     "evalue": "'float' object is not iterable",
     "output_type": "error",
     "traceback": [
      "\u001b[1;31m---------------------------------------------------------------------------\u001b[0m",
      "\u001b[1;31mTypeError\u001b[0m                                 Traceback (most recent call last)",
      "Cell \u001b[1;32mIn[52], line 3\u001b[0m\n\u001b[0;32m      1\u001b[0m a  \u001b[38;5;241m=\u001b[39m \u001b[38;5;241m23456.876\u001b[39m\n\u001b[1;32m----> 3\u001b[0m \u001b[38;5;28;01mfor\u001b[39;00m i \u001b[38;5;129;01min\u001b[39;00m a:\n\u001b[0;32m      4\u001b[0m     \u001b[38;5;28mprint\u001b[39m(i)\n",
      "\u001b[1;31mTypeError\u001b[0m: 'float' object is not iterable"
     ]
    }
   ],
   "source": [
    "a  = 23456.876\n",
    "\n",
    "for i in a:\n",
    "    print(i)"
   ]
  },
  {
   "cell_type": "code",
   "execution_count": 53,
   "id": "8c585144",
   "metadata": {},
   "outputs": [
    {
     "ename": "TypeError",
     "evalue": "'complex' object is not iterable",
     "output_type": "error",
     "traceback": [
      "\u001b[1;31m---------------------------------------------------------------------------\u001b[0m",
      "\u001b[1;31mTypeError\u001b[0m                                 Traceback (most recent call last)",
      "Cell \u001b[1;32mIn[53], line 3\u001b[0m\n\u001b[0;32m      1\u001b[0m a  \u001b[38;5;241m=\u001b[39m \u001b[38;5;241m23456\u001b[39m\u001b[38;5;241m-\u001b[39m\u001b[38;5;241m8\u001b[39mj\n\u001b[1;32m----> 3\u001b[0m \u001b[38;5;28;01mfor\u001b[39;00m i \u001b[38;5;129;01min\u001b[39;00m a:\n\u001b[0;32m      4\u001b[0m     \u001b[38;5;28mprint\u001b[39m(i)\n",
      "\u001b[1;31mTypeError\u001b[0m: 'complex' object is not iterable"
     ]
    }
   ],
   "source": [
    "a  = 23456-8j\n",
    "\n",
    "for i in a:\n",
    "    print(i)"
   ]
  },
  {
   "cell_type": "code",
   "execution_count": 54,
   "id": "cc44de67",
   "metadata": {},
   "outputs": [
    {
     "ename": "TypeError",
     "evalue": "'NoneType' object is not iterable",
     "output_type": "error",
     "traceback": [
      "\u001b[1;31m---------------------------------------------------------------------------\u001b[0m",
      "\u001b[1;31mTypeError\u001b[0m                                 Traceback (most recent call last)",
      "Cell \u001b[1;32mIn[54], line 3\u001b[0m\n\u001b[0;32m      1\u001b[0m a  \u001b[38;5;241m=\u001b[39m \u001b[38;5;28;01mNone\u001b[39;00m\n\u001b[1;32m----> 3\u001b[0m \u001b[38;5;28;01mfor\u001b[39;00m i \u001b[38;5;129;01min\u001b[39;00m a:\n\u001b[0;32m      4\u001b[0m     \u001b[38;5;28mprint\u001b[39m(i)\n",
      "\u001b[1;31mTypeError\u001b[0m: 'NoneType' object is not iterable"
     ]
    }
   ],
   "source": [
    "a  = None\n",
    "\n",
    "for i in a:\n",
    "    print(i)"
   ]
  },
  {
   "cell_type": "code",
   "execution_count": 55,
   "id": "8f7b0b95",
   "metadata": {},
   "outputs": [
    {
     "ename": "TypeError",
     "evalue": "'bool' object is not iterable",
     "output_type": "error",
     "traceback": [
      "\u001b[1;31m---------------------------------------------------------------------------\u001b[0m",
      "\u001b[1;31mTypeError\u001b[0m                                 Traceback (most recent call last)",
      "Cell \u001b[1;32mIn[55], line 3\u001b[0m\n\u001b[0;32m      1\u001b[0m a  \u001b[38;5;241m=\u001b[39m \u001b[38;5;28;01mTrue\u001b[39;00m\n\u001b[1;32m----> 3\u001b[0m \u001b[38;5;28;01mfor\u001b[39;00m i \u001b[38;5;129;01min\u001b[39;00m a:\n\u001b[0;32m      4\u001b[0m     \u001b[38;5;28mprint\u001b[39m(i)\n",
      "\u001b[1;31mTypeError\u001b[0m: 'bool' object is not iterable"
     ]
    }
   ],
   "source": [
    "a  = True\n",
    "\n",
    "for i in a:\n",
    "    print(i)"
   ]
  },
  {
   "cell_type": "code",
   "execution_count": 57,
   "id": "3cb9fbc6",
   "metadata": {},
   "outputs": [
    {
     "name": "stdout",
     "output_type": "stream",
     "text": [
      "None\n",
      "None\n",
      "None\n",
      "None\n",
      "None\n",
      "None\n",
      "None\n",
      "None\n",
      "None\n",
      "None\n"
     ]
    }
   ],
   "source": [
    "a  = [None]*10\n",
    "\n",
    "for i in a:\n",
    "    print(i)"
   ]
  },
  {
   "cell_type": "code",
   "execution_count": 56,
   "id": "efeac9dd",
   "metadata": {},
   "outputs": [
    {
     "data": {
      "text/plain": [
       "[None, None, None, None, None, None, None, None, None, None]"
      ]
     },
     "execution_count": 56,
     "metadata": {},
     "output_type": "execute_result"
    }
   ],
   "source": [
    "[None]*10"
   ]
  },
  {
   "cell_type": "code",
   "execution_count": 58,
   "id": "d436dd43",
   "metadata": {},
   "outputs": [
    {
     "name": "stdout",
     "output_type": "stream",
     "text": [
      "True\n",
      "True\n",
      "True\n",
      "True\n",
      "True\n",
      "True\n",
      "True\n",
      "True\n",
      "True\n",
      "True\n"
     ]
    }
   ],
   "source": [
    "a  = [True]*10\n",
    "\n",
    "for i in a:\n",
    "    print(i)"
   ]
  },
  {
   "cell_type": "code",
   "execution_count": 62,
   "id": "44814632",
   "metadata": {},
   "outputs": [
    {
     "name": "stdout",
     "output_type": "stream",
     "text": [
      "A\n",
      "B\n",
      "C\n",
      "D\n",
      "E\n",
      "F\n",
      "G\n",
      "H\n",
      "I\n",
      "J\n",
      "K\n",
      "L\n"
     ]
    }
   ],
   "source": [
    "a = list('ABCDEFGHIJKL')\n",
    "\n",
    "for a in a:\n",
    "    print(a)"
   ]
  },
  {
   "cell_type": "code",
   "execution_count": 63,
   "id": "b639ae48",
   "metadata": {},
   "outputs": [
    {
     "data": {
      "text/plain": [
       "['A', 'B', 'C', 'D', 'E', 'F', 'G', 'H', 'I', 'J', 'K', 'L']"
      ]
     },
     "execution_count": 63,
     "metadata": {},
     "output_type": "execute_result"
    }
   ],
   "source": [
    "list('ABCDEFGHIJKL')"
   ]
  },
  {
   "cell_type": "code",
   "execution_count": 65,
   "id": "bfe249bb",
   "metadata": {},
   "outputs": [
    {
     "name": "stdout",
     "output_type": "stream",
     "text": [
      "A\n",
      "B\n",
      "C\n",
      "D\n",
      "E\n",
      "F\n",
      "G\n",
      "H\n",
      "I\n",
      "J\n",
      "K\n",
      "L\n"
     ]
    }
   ],
   "source": [
    "a = list('ABCDEFGHIJKL')\n",
    "\n",
    "for a  in a:\n",
    "    print(a)"
   ]
  },
  {
   "cell_type": "code",
   "execution_count": 69,
   "id": "58894f0c",
   "metadata": {},
   "outputs": [
    {
     "name": "stdout",
     "output_type": "stream",
     "text": [
      "A A A A A A A A A A A A \n",
      "B B B B B B B B B B B B \n",
      "C C C C C C C C C C C C \n",
      "D D D D D D D D D D D D \n",
      "E E E E E E E E E E E E \n",
      "F F F F F F F F F F F F \n",
      "G G G G G G G G G G G G \n",
      "H H H H H H H H H H H H \n",
      "I I I I I I I I I I I I \n",
      "J J J J J J J J J J J J \n",
      "K K K K K K K K K K K K \n",
      "L L L L L L L L L L L L \n"
     ]
    }
   ],
   "source": [
    "a = list('ABCDEFGHIJKL')\n",
    "\n",
    "for i  in a:\n",
    "    print((i+' ')*len(a))"
   ]
  },
  {
   "cell_type": "code",
   "execution_count": 73,
   "id": "14f09177",
   "metadata": {},
   "outputs": [
    {
     "name": "stdout",
     "output_type": "stream",
     "text": [
      "A..A..A..A..A..A..A..A..A..A..A..A..\n",
      "B..B..B..B..B..B..B..B..B..B..B..B..\n",
      "C..C..C..C..C..C..C..C..C..C..C..C..\n",
      "D..D..D..D..D..D..D..D..D..D..D..D..\n",
      "E..E..E..E..E..E..E..E..E..E..E..E..\n",
      "F..F..F..F..F..F..F..F..F..F..F..F..\n",
      "G..G..G..G..G..G..G..G..G..G..G..G..\n",
      "H..H..H..H..H..H..H..H..H..H..H..H..\n",
      "I..I..I..I..I..I..I..I..I..I..I..I..\n",
      "J..J..J..J..J..J..J..J..J..J..J..J..\n",
      "K..K..K..K..K..K..K..K..K..K..K..K..\n",
      "L..L..L..L..L..L..L..L..L..L..L..L..\n"
     ]
    }
   ],
   "source": [
    "a = list('ABCDEFGHIJKL')\n",
    "\n",
    "for i  in a:\n",
    "    print((i+'..')*len(a))"
   ]
  },
  {
   "cell_type": "code",
   "execution_count": null,
   "id": "933e834b",
   "metadata": {},
   "outputs": [],
   "source": []
  }
 ],
 "metadata": {
  "kernelspec": {
   "display_name": "Python 3 (ipykernel)",
   "language": "python",
   "name": "python3"
  },
  "language_info": {
   "codemirror_mode": {
    "name": "ipython",
    "version": 3
   },
   "file_extension": ".py",
   "mimetype": "text/x-python",
   "name": "python",
   "nbconvert_exporter": "python",
   "pygments_lexer": "ipython3",
   "version": "3.11.3"
  }
 },
 "nbformat": 4,
 "nbformat_minor": 5
}
