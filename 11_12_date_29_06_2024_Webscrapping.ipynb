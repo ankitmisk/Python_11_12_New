{
 "cells": [
  {
   "cell_type": "markdown",
   "id": "78d596b6",
   "metadata": {},
   "source": [
    "India and South Africa are set to face off in the T20 World Cup 2024, on Saturday. The Delhi Police have added to the excitement by sharing a humorous tweet, Mom says \"eat greens\" are you listening, Team India. Since being shared, the post has gone viral accumulated more than 3,000 views with users responding with laughter and support for the team."
   ]
  },
  {
   "cell_type": "markdown",
   "id": "bf4751bd",
   "metadata": {},
   "source": [
    "<center><h1>Python Class</h1></center>"
   ]
  },
  {
   "cell_type": "markdown",
   "id": "08576f30",
   "metadata": {},
   "source": [
    "<h1 style=\"color: red;\">Your red text here</h1>"
   ]
  },
  {
   "cell_type": "code",
   "execution_count": 1,
   "id": "da4e0871",
   "metadata": {},
   "outputs": [
    {
     "name": "stdout",
     "output_type": "stream",
     "text": [
      "https://en.wikipedia.org/wiki/COVID-19_pandemic_by_country_and_territory\n"
     ]
    }
   ],
   "source": [
    "import requests\n",
    "\n",
    "url = '''https://en.wikipedia.org/wiki/COVID-19_pandemic_by_country_and_territory'''\n",
    "\n",
    "print(url)"
   ]
  },
  {
   "cell_type": "code",
   "execution_count": 2,
   "id": "866c4893",
   "metadata": {},
   "outputs": [
    {
     "data": {
      "text/plain": [
       "<Response [200]>"
      ]
     },
     "execution_count": 2,
     "metadata": {},
     "output_type": "execute_result"
    }
   ],
   "source": [
    "result = requests.get(url)\n",
    "result"
   ]
  },
  {
   "cell_type": "code",
   "execution_count": 3,
   "id": "350e6fdc",
   "metadata": {},
   "outputs": [
    {
     "name": "stdout",
     "output_type": "stream",
     "text": [
      "done\n"
     ]
    }
   ],
   "source": [
    "html_data = result.content\n",
    "print('done')"
   ]
  },
  {
   "cell_type": "code",
   "execution_count": 4,
   "id": "5d2d20ca",
   "metadata": {},
   "outputs": [
    {
     "data": {
      "text/plain": [
       "bytes"
      ]
     },
     "execution_count": 4,
     "metadata": {},
     "output_type": "execute_result"
    }
   ],
   "source": [
    "type(html_data)"
   ]
  },
  {
   "cell_type": "code",
   "execution_count": 5,
   "id": "2f03a69b",
   "metadata": {},
   "outputs": [],
   "source": [
    "# pip install beautifulsoup4"
   ]
  },
  {
   "cell_type": "code",
   "execution_count": 6,
   "id": "42c610e6",
   "metadata": {},
   "outputs": [],
   "source": [
    "from bs4 import BeautifulSoup"
   ]
  },
  {
   "cell_type": "code",
   "execution_count": 7,
   "id": "332123f6",
   "metadata": {},
   "outputs": [
    {
     "name": "stdout",
     "output_type": "stream",
     "text": [
      "done\n"
     ]
    }
   ],
   "source": [
    "soup = BeautifulSoup(html_data,'html.parser')\n",
    "print('done')"
   ]
  },
  {
   "cell_type": "code",
   "execution_count": 8,
   "id": "58416f42",
   "metadata": {},
   "outputs": [
    {
     "data": {
      "text/plain": [
       "bs4.BeautifulSoup"
      ]
     },
     "execution_count": 8,
     "metadata": {},
     "output_type": "execute_result"
    }
   ],
   "source": [
    "type(soup)"
   ]
  },
  {
   "cell_type": "code",
   "execution_count": 9,
   "id": "b29feb98",
   "metadata": {},
   "outputs": [
    {
     "name": "stdout",
     "output_type": "stream",
     "text": [
      "239\n",
      "4\n"
     ]
    }
   ],
   "source": [
    "all_rows = []\n",
    "column_name = []\n",
    "for index,value in enumerate(soup.find_all('tr')):\n",
    "    if 45<=index<=284:\n",
    "        data = value.text.strip().split('\\n')\n",
    "        \n",
    "        while '' in data:\n",
    "            data.remove('')\n",
    "#         print(index,data)\n",
    "\n",
    "        if index == 45:\n",
    "            column_name.extend(data)\n",
    "        else:\n",
    "            all_rows.append(data)\n",
    "    \n",
    "    \n",
    "print(len(all_rows))\n",
    "print(len(column_name))"
   ]
  },
  {
   "cell_type": "code",
   "execution_count": 10,
   "id": "ceda7fea",
   "metadata": {},
   "outputs": [
    {
     "name": "stderr",
     "output_type": "stream",
     "text": [
      "C:\\Users\\Lenovo\\anaconda3\\Lib\\site-packages\\pandas\\core\\arrays\\masked.py:60: UserWarning: Pandas requires version '1.3.6' or newer of 'bottleneck' (version '1.3.5' currently installed).\n",
      "  from pandas.core import (\n"
     ]
    }
   ],
   "source": [
    "import pandas as pd"
   ]
  },
  {
   "cell_type": "code",
   "execution_count": 11,
   "id": "189d2bc3",
   "metadata": {},
   "outputs": [],
   "source": [
    "srcapped_data = pd.DataFrame(all_rows,columns=column_name)"
   ]
  },
  {
   "cell_type": "code",
   "execution_count": 12,
   "id": "12e1611b",
   "metadata": {},
   "outputs": [],
   "source": [
    "from datetime import datetime"
   ]
  },
  {
   "cell_type": "code",
   "execution_count": 13,
   "id": "a2753904",
   "metadata": {},
   "outputs": [],
   "source": [
    "current_dt = datetime.now()"
   ]
  },
  {
   "cell_type": "code",
   "execution_count": 14,
   "id": "cceb7707",
   "metadata": {},
   "outputs": [],
   "source": [
    "srcapped_data['Scrapped_Date_time'] = current_dt"
   ]
  },
  {
   "cell_type": "code",
   "execution_count": 15,
   "id": "bc6b716b",
   "metadata": {},
   "outputs": [
    {
     "data": {
      "text/html": [
       "<div>\n",
       "<style scoped>\n",
       "    .dataframe tbody tr th:only-of-type {\n",
       "        vertical-align: middle;\n",
       "    }\n",
       "\n",
       "    .dataframe tbody tr th {\n",
       "        vertical-align: top;\n",
       "    }\n",
       "\n",
       "    .dataframe thead th {\n",
       "        text-align: right;\n",
       "    }\n",
       "</style>\n",
       "<table border=\"1\" class=\"dataframe\">\n",
       "  <thead>\n",
       "    <tr style=\"text-align: right;\">\n",
       "      <th></th>\n",
       "      <th>Country</th>\n",
       "      <th>Deaths / million</th>\n",
       "      <th>Deaths</th>\n",
       "      <th>Cases</th>\n",
       "      <th>Scrapped_Date_time</th>\n",
       "    </tr>\n",
       "  </thead>\n",
       "  <tbody>\n",
       "    <tr>\n",
       "      <th>0</th>\n",
       "      <td>World[a]</td>\n",
       "      <td>884</td>\n",
       "      <td>7,051,600</td>\n",
       "      <td>775,643,495</td>\n",
       "      <td>2024-06-29 16:17:25.441660</td>\n",
       "    </tr>\n",
       "    <tr>\n",
       "      <th>1</th>\n",
       "      <td>Peru</td>\n",
       "      <td>6,485</td>\n",
       "      <td>220,831</td>\n",
       "      <td>4,524,748</td>\n",
       "      <td>2024-06-29 16:17:25.441660</td>\n",
       "    </tr>\n",
       "    <tr>\n",
       "      <th>2</th>\n",
       "      <td>Bulgaria</td>\n",
       "      <td>5,706</td>\n",
       "      <td>38,700</td>\n",
       "      <td>1,329,405</td>\n",
       "      <td>2024-06-29 16:17:25.441660</td>\n",
       "    </tr>\n",
       "    <tr>\n",
       "      <th>3</th>\n",
       "      <td>Bosnia and Herzegovina</td>\n",
       "      <td>5,068</td>\n",
       "      <td>16,388</td>\n",
       "      <td>403,644</td>\n",
       "      <td>2024-06-29 16:17:25.441660</td>\n",
       "    </tr>\n",
       "    <tr>\n",
       "      <th>4</th>\n",
       "      <td>Hungary</td>\n",
       "      <td>4,921</td>\n",
       "      <td>49,051</td>\n",
       "      <td>2,230,453</td>\n",
       "      <td>2024-06-29 16:17:25.441660</td>\n",
       "    </tr>\n",
       "    <tr>\n",
       "      <th>...</th>\n",
       "      <td>...</td>\n",
       "      <td>...</td>\n",
       "      <td>...</td>\n",
       "      <td>...</td>\n",
       "      <td>...</td>\n",
       "    </tr>\n",
       "    <tr>\n",
       "      <th>234</th>\n",
       "      <td>Niue</td>\n",
       "      <td>—</td>\n",
       "      <td>—</td>\n",
       "      <td>1,074</td>\n",
       "      <td>2024-06-29 16:17:25.441660</td>\n",
       "    </tr>\n",
       "    <tr>\n",
       "      <th>235</th>\n",
       "      <td>Turkmenistan</td>\n",
       "      <td>—</td>\n",
       "      <td>0</td>\n",
       "      <td>0</td>\n",
       "      <td>2024-06-29 16:17:25.441660</td>\n",
       "    </tr>\n",
       "    <tr>\n",
       "      <th>236</th>\n",
       "      <td>Vatican City</td>\n",
       "      <td>—</td>\n",
       "      <td>0</td>\n",
       "      <td>26</td>\n",
       "      <td>2024-06-29 16:17:25.441660</td>\n",
       "    </tr>\n",
       "    <tr>\n",
       "      <th>237</th>\n",
       "      <td>Tokelau</td>\n",
       "      <td>—</td>\n",
       "      <td>0</td>\n",
       "      <td>80</td>\n",
       "      <td>2024-06-29 16:17:25.441660</td>\n",
       "    </tr>\n",
       "    <tr>\n",
       "      <th>238</th>\n",
       "      <td>Saint Helena, Ascension and Tristan da Cunha</td>\n",
       "      <td>—</td>\n",
       "      <td>—</td>\n",
       "      <td>2,166</td>\n",
       "      <td>2024-06-29 16:17:25.441660</td>\n",
       "    </tr>\n",
       "  </tbody>\n",
       "</table>\n",
       "<p>239 rows × 5 columns</p>\n",
       "</div>"
      ],
      "text/plain": [
       "                                          Country Deaths / million     Deaths  \\\n",
       "0                                        World[a]              884  7,051,600   \n",
       "1                                            Peru            6,485    220,831   \n",
       "2                                        Bulgaria            5,706     38,700   \n",
       "3                          Bosnia and Herzegovina            5,068     16,388   \n",
       "4                                         Hungary            4,921     49,051   \n",
       "..                                            ...              ...        ...   \n",
       "234                                          Niue                —          —   \n",
       "235                                  Turkmenistan                —          0   \n",
       "236                                  Vatican City                —          0   \n",
       "237                                       Tokelau                —          0   \n",
       "238  Saint Helena, Ascension and Tristan da Cunha                —          —   \n",
       "\n",
       "           Cases         Scrapped_Date_time  \n",
       "0    775,643,495 2024-06-29 16:17:25.441660  \n",
       "1      4,524,748 2024-06-29 16:17:25.441660  \n",
       "2      1,329,405 2024-06-29 16:17:25.441660  \n",
       "3        403,644 2024-06-29 16:17:25.441660  \n",
       "4      2,230,453 2024-06-29 16:17:25.441660  \n",
       "..           ...                        ...  \n",
       "234        1,074 2024-06-29 16:17:25.441660  \n",
       "235            0 2024-06-29 16:17:25.441660  \n",
       "236           26 2024-06-29 16:17:25.441660  \n",
       "237           80 2024-06-29 16:17:25.441660  \n",
       "238        2,166 2024-06-29 16:17:25.441660  \n",
       "\n",
       "[239 rows x 5 columns]"
      ]
     },
     "execution_count": 15,
     "metadata": {},
     "output_type": "execute_result"
    }
   ],
   "source": [
    "srcapped_data"
   ]
  },
  {
   "cell_type": "code",
   "execution_count": null,
   "id": "93a0bfa9",
   "metadata": {},
   "outputs": [],
   "source": []
  },
  {
   "cell_type": "code",
   "execution_count": 16,
   "id": "1a9f4056",
   "metadata": {},
   "outputs": [],
   "source": [
    "def scrapped_website(url,save_path,file_name = None):\n",
    "    \n",
    "    try:\n",
    "        import requests\n",
    "        from bs4 import BeautifulSoup\n",
    "        import pandas as pd\n",
    "        from datetime import datetime    \n",
    "\n",
    "    #     ================================================================\n",
    "\n",
    "        result = requests.get(url)\n",
    "        html_data = result.content\n",
    "\n",
    "        soup = BeautifulSoup(html_data,'html.parser')\n",
    "\n",
    "        all_rows = []\n",
    "        column_name = []\n",
    "        for index,value in enumerate(soup.find_all('tr')):\n",
    "            if 45<=index<=284:\n",
    "                data = value.text.strip().split('\\n')\n",
    "\n",
    "                while '' in data:\n",
    "                    data.remove('')\n",
    "        #         print(index,data)\n",
    "\n",
    "                if index == 45:\n",
    "                    column_name.extend(data)\n",
    "                else:\n",
    "                    all_rows.append(data)\n",
    "\n",
    "    #     ========================================================================\n",
    "        current_dt = datetime.now()\n",
    "        srcapped_data = pd.DataFrame(all_rows,columns=column_name) \n",
    "        srcapped_data['Scrapped_Date_time'] = current_dt\n",
    "\n",
    "        srcapped_data.to_csv(save_path+f'\\\\{file_name}.csv',index=False)\n",
    "\n",
    "        return srcapped_data\n",
    "    \n",
    "    except Exception as err:\n",
    "        print(err)"
   ]
  },
  {
   "cell_type": "code",
   "execution_count": null,
   "id": "90edf870",
   "metadata": {},
   "outputs": [],
   "source": []
  },
  {
   "cell_type": "code",
   "execution_count": null,
   "id": "4077fe46",
   "metadata": {},
   "outputs": [],
   "source": []
  },
  {
   "cell_type": "code",
   "execution_count": null,
   "id": "d442daa5",
   "metadata": {},
   "outputs": [],
   "source": []
  },
  {
   "cell_type": "code",
   "execution_count": 29,
   "id": "ae525bb2",
   "metadata": {},
   "outputs": [
    {
     "data": {
      "text/html": [
       "<div>\n",
       "<style scoped>\n",
       "    .dataframe tbody tr th:only-of-type {\n",
       "        vertical-align: middle;\n",
       "    }\n",
       "\n",
       "    .dataframe tbody tr th {\n",
       "        vertical-align: top;\n",
       "    }\n",
       "\n",
       "    .dataframe thead th {\n",
       "        text-align: right;\n",
       "    }\n",
       "</style>\n",
       "<table border=\"1\" class=\"dataframe\">\n",
       "  <thead>\n",
       "    <tr style=\"text-align: right;\">\n",
       "      <th></th>\n",
       "      <th>Country</th>\n",
       "      <th>Deaths / million</th>\n",
       "      <th>Deaths</th>\n",
       "      <th>Cases</th>\n",
       "      <th>Scrapped_Date_time</th>\n",
       "    </tr>\n",
       "  </thead>\n",
       "  <tbody>\n",
       "    <tr>\n",
       "      <th>0</th>\n",
       "      <td>World[a]</td>\n",
       "      <td>884</td>\n",
       "      <td>7,051,600</td>\n",
       "      <td>775,643,495</td>\n",
       "      <td>2024-06-29 16:32:15.843233</td>\n",
       "    </tr>\n",
       "    <tr>\n",
       "      <th>1</th>\n",
       "      <td>Peru</td>\n",
       "      <td>6,485</td>\n",
       "      <td>220,831</td>\n",
       "      <td>4,524,748</td>\n",
       "      <td>2024-06-29 16:32:15.843233</td>\n",
       "    </tr>\n",
       "    <tr>\n",
       "      <th>2</th>\n",
       "      <td>Bulgaria</td>\n",
       "      <td>5,706</td>\n",
       "      <td>38,700</td>\n",
       "      <td>1,329,405</td>\n",
       "      <td>2024-06-29 16:32:15.843233</td>\n",
       "    </tr>\n",
       "    <tr>\n",
       "      <th>3</th>\n",
       "      <td>Bosnia and Herzegovina</td>\n",
       "      <td>5,068</td>\n",
       "      <td>16,388</td>\n",
       "      <td>403,644</td>\n",
       "      <td>2024-06-29 16:32:15.843233</td>\n",
       "    </tr>\n",
       "    <tr>\n",
       "      <th>4</th>\n",
       "      <td>Hungary</td>\n",
       "      <td>4,921</td>\n",
       "      <td>49,051</td>\n",
       "      <td>2,230,453</td>\n",
       "      <td>2024-06-29 16:32:15.843233</td>\n",
       "    </tr>\n",
       "    <tr>\n",
       "      <th>...</th>\n",
       "      <td>...</td>\n",
       "      <td>...</td>\n",
       "      <td>...</td>\n",
       "      <td>...</td>\n",
       "      <td>...</td>\n",
       "    </tr>\n",
       "    <tr>\n",
       "      <th>234</th>\n",
       "      <td>Niue</td>\n",
       "      <td>—</td>\n",
       "      <td>—</td>\n",
       "      <td>1,074</td>\n",
       "      <td>2024-06-29 16:32:15.843233</td>\n",
       "    </tr>\n",
       "    <tr>\n",
       "      <th>235</th>\n",
       "      <td>Turkmenistan</td>\n",
       "      <td>—</td>\n",
       "      <td>0</td>\n",
       "      <td>0</td>\n",
       "      <td>2024-06-29 16:32:15.843233</td>\n",
       "    </tr>\n",
       "    <tr>\n",
       "      <th>236</th>\n",
       "      <td>Vatican City</td>\n",
       "      <td>—</td>\n",
       "      <td>0</td>\n",
       "      <td>26</td>\n",
       "      <td>2024-06-29 16:32:15.843233</td>\n",
       "    </tr>\n",
       "    <tr>\n",
       "      <th>237</th>\n",
       "      <td>Tokelau</td>\n",
       "      <td>—</td>\n",
       "      <td>0</td>\n",
       "      <td>80</td>\n",
       "      <td>2024-06-29 16:32:15.843233</td>\n",
       "    </tr>\n",
       "    <tr>\n",
       "      <th>238</th>\n",
       "      <td>Saint Helena, Ascension and Tristan da Cunha</td>\n",
       "      <td>—</td>\n",
       "      <td>—</td>\n",
       "      <td>2,166</td>\n",
       "      <td>2024-06-29 16:32:15.843233</td>\n",
       "    </tr>\n",
       "  </tbody>\n",
       "</table>\n",
       "<p>239 rows × 5 columns</p>\n",
       "</div>"
      ],
      "text/plain": [
       "                                          Country Deaths / million     Deaths  \\\n",
       "0                                        World[a]              884  7,051,600   \n",
       "1                                            Peru            6,485    220,831   \n",
       "2                                        Bulgaria            5,706     38,700   \n",
       "3                          Bosnia and Herzegovina            5,068     16,388   \n",
       "4                                         Hungary            4,921     49,051   \n",
       "..                                            ...              ...        ...   \n",
       "234                                          Niue                —          —   \n",
       "235                                  Turkmenistan                —          0   \n",
       "236                                  Vatican City                —          0   \n",
       "237                                       Tokelau                —          0   \n",
       "238  Saint Helena, Ascension and Tristan da Cunha                —          —   \n",
       "\n",
       "           Cases         Scrapped_Date_time  \n",
       "0    775,643,495 2024-06-29 16:32:15.843233  \n",
       "1      4,524,748 2024-06-29 16:32:15.843233  \n",
       "2      1,329,405 2024-06-29 16:32:15.843233  \n",
       "3        403,644 2024-06-29 16:32:15.843233  \n",
       "4      2,230,453 2024-06-29 16:32:15.843233  \n",
       "..           ...                        ...  \n",
       "234        1,074 2024-06-29 16:32:15.843233  \n",
       "235            0 2024-06-29 16:32:15.843233  \n",
       "236           26 2024-06-29 16:32:15.843233  \n",
       "237           80 2024-06-29 16:32:15.843233  \n",
       "238        2,166 2024-06-29 16:32:15.843233  \n",
       "\n",
       "[239 rows x 5 columns]"
      ]
     },
     "execution_count": 29,
     "metadata": {},
     "output_type": "execute_result"
    }
   ],
   "source": [
    "url = '''https://en.wikipedia.org/wiki/COVID-19_pandemic_by_country_and_territory'''\n",
    "\n",
    "path = \"C:\\\\Users\\\\Lenovo\\\\Desktop\\\\instagram_pics\"\n",
    "\n",
    "file_name = os.listdir(path)[0].replace('.csv','')\n",
    "\n",
    "total_file = len(os.listdir(path))\n",
    "\n",
    "new_file_name = file_name+str(total_file+1)\n",
    "\n",
    "scrapped_website(url, path, new_file_name)"
   ]
  },
  {
   "cell_type": "code",
   "execution_count": 19,
   "id": "17f2bc52",
   "metadata": {},
   "outputs": [],
   "source": []
  },
  {
   "cell_type": "code",
   "execution_count": 22,
   "id": "ea8c250c",
   "metadata": {},
   "outputs": [],
   "source": [
    "import os"
   ]
  },
  {
   "cell_type": "code",
   "execution_count": 24,
   "id": "9528d8fd",
   "metadata": {},
   "outputs": [
    {
     "data": {
      "text/plain": [
       "'covid_wiki'"
      ]
     },
     "execution_count": 24,
     "metadata": {},
     "output_type": "execute_result"
    }
   ],
   "source": []
  },
  {
   "cell_type": "code",
   "execution_count": 26,
   "id": "1a371f3f",
   "metadata": {},
   "outputs": [
    {
     "data": {
      "text/plain": [
       "['covid_wiki.csv']"
      ]
     },
     "execution_count": 26,
     "metadata": {},
     "output_type": "execute_result"
    }
   ],
   "source": [
    "os.listdir(path)"
   ]
  },
  {
   "cell_type": "code",
   "execution_count": null,
   "id": "f947e984",
   "metadata": {},
   "outputs": [],
   "source": []
  }
 ],
 "metadata": {
  "kernelspec": {
   "display_name": "Python 3 (ipykernel)",
   "language": "python",
   "name": "python3"
  },
  "language_info": {
   "codemirror_mode": {
    "name": "ipython",
    "version": 3
   },
   "file_extension": ".py",
   "mimetype": "text/x-python",
   "name": "python",
   "nbconvert_exporter": "python",
   "pygments_lexer": "ipython3",
   "version": "3.11.3"
  }
 },
 "nbformat": 4,
 "nbformat_minor": 5
}
