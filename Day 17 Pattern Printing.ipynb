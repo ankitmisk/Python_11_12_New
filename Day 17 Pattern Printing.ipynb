{
 "cells": [
  {
   "cell_type": "code",
   "execution_count": 5,
   "id": "8a2c6344",
   "metadata": {},
   "outputs": [
    {
     "name": "stdout",
     "output_type": "stream",
     "text": [
      "ravi\n",
      "karan\n"
     ]
    }
   ],
   "source": [
    "for i in ['Mohan','ravi','karan']:\n",
    "    for j in ['ravi','karan']:\n",
    "        if i==j:\n",
    "            print(i)\n",
    "        else:\n",
    "#             print('nothing common')\n",
    "            pass\n"
   ]
  },
  {
   "cell_type": "code",
   "execution_count": 8,
   "id": "33a419e2",
   "metadata": {},
   "outputs": [
    {
     "name": "stdout",
     "output_type": "stream",
     "text": [
      "Hello\n"
     ]
    }
   ],
   "source": [
    "import time\n",
    "time.sleep(2)\n",
    "print('Hello')"
   ]
  },
  {
   "cell_type": "code",
   "execution_count": 9,
   "id": "71b11b21",
   "metadata": {},
   "outputs": [],
   "source": [
    "# pip install pygame"
   ]
  },
  {
   "cell_type": "code",
   "execution_count": 11,
   "id": "0d4b368d",
   "metadata": {},
   "outputs": [],
   "source": [
    "# pip install pygame"
   ]
  },
  {
   "cell_type": "code",
   "execution_count": 12,
   "id": "3ad939ed",
   "metadata": {},
   "outputs": [],
   "source": [
    "# df.to_csv(C:\\Users\\Lenovo\\Desktop\\drls.pbix)"
   ]
  },
  {
   "cell_type": "code",
   "execution_count": 13,
   "id": "51556c7b",
   "metadata": {},
   "outputs": [],
   "source": [
    "# *\n",
    "# * *\n",
    "# * * *"
   ]
  },
  {
   "cell_type": "code",
   "execution_count": 27,
   "id": "8037f859",
   "metadata": {},
   "outputs": [
    {
     "name": "stdout",
     "output_type": "stream",
     "text": [
      "* \n",
      "* * \n",
      "* * * \n",
      "* * * * \n"
     ]
    }
   ],
   "source": [
    "length = 4\n",
    "char = '*'\n",
    "for i in range(1,length+1):\n",
    "    print(i*f'{char} ')"
   ]
  },
  {
   "cell_type": "code",
   "execution_count": 28,
   "id": "db93bc90",
   "metadata": {},
   "outputs": [],
   "source": [
    "# 1\n",
    "# 1 2\n",
    "# 1 2 3\n",
    "# 1 2 3 4\n",
    "# 1 2 3 4 5"
   ]
  },
  {
   "cell_type": "code",
   "execution_count": 30,
   "id": "bd9b893d",
   "metadata": {},
   "outputs": [
    {
     "name": "stdout",
     "output_type": "stream",
     "text": [
      "1\n",
      "2\n",
      "3\n",
      "4\n",
      "5\n"
     ]
    }
   ],
   "source": [
    "for i in range(1,6):\n",
    "    print(i)"
   ]
  },
  {
   "cell_type": "code",
   "execution_count": 42,
   "id": "104858c2",
   "metadata": {},
   "outputs": [
    {
     "name": "stdout",
     "output_type": "stream",
     "text": [
      "1\n",
      "1 2\n",
      "1 2 3\n",
      "1 2 3 4\n",
      "1 2 3 4 5\n"
     ]
    }
   ],
   "source": [
    "print(' '.join(['1']))\n",
    "print(' '.join(['1','2']))\n",
    "print(' '.join(['1','2','3']))\n",
    "print(' '.join(['1','2','3','4']))\n",
    "print(' '.join(['1','2','3','4','5']))"
   ]
  },
  {
   "cell_type": "code",
   "execution_count": 50,
   "id": "36bacade",
   "metadata": {},
   "outputs": [
    {
     "data": {
      "text/plain": [
       "[]"
      ]
     },
     "execution_count": 50,
     "metadata": {},
     "output_type": "execute_result"
    }
   ],
   "source": [
    "[i for i in range(1,1)]"
   ]
  },
  {
   "cell_type": "code",
   "execution_count": 76,
   "id": "6574a6e4",
   "metadata": {},
   "outputs": [
    {
     "name": "stdout",
     "output_type": "stream",
     "text": [
      "1\n",
      "1 2\n",
      "1 2 3\n",
      "1 2 3 4\n",
      "1 2 3 4 5\n",
      "1 2 3 4 5 6\n",
      "1 2 3 4 5 6 7\n",
      "1 2 3 4 5 6 7 8\n",
      "1 2 3 4 5 6 7 8 9\n",
      "1 2 3 4 5 6 7 8 9 10\n",
      "1 2 3 4 5 6 7 8 9 10 11\n",
      "1 2 3 4 5 6 7 8 9 10 11 12\n"
     ]
    }
   ],
   "source": [
    "user = 12\n",
    "for i in range(1,user+1):\n",
    "    print(' '.join([str(j) for j in range(1,i+1)]))"
   ]
  },
  {
   "cell_type": "code",
   "execution_count": 57,
   "id": "016beaff",
   "metadata": {
    "scrolled": true
   },
   "outputs": [
    {
     "data": {
      "text/plain": [
       "'A M A N'"
      ]
     },
     "execution_count": 57,
     "metadata": {},
     "output_type": "execute_result"
    }
   ],
   "source": [
    "' '.join('AMAN')"
   ]
  },
  {
   "cell_type": "code",
   "execution_count": 60,
   "id": "92b94414",
   "metadata": {},
   "outputs": [
    {
     "data": {
      "text/plain": [
       "'1@2@3'"
      ]
     },
     "execution_count": 60,
     "metadata": {},
     "output_type": "execute_result"
    }
   ],
   "source": [
    "'@'.join(['1','2','3'])\n",
    "\n",
    "# '1@2@3@4'"
   ]
  },
  {
   "cell_type": "code",
   "execution_count": null,
   "id": "9eb1d038",
   "metadata": {},
   "outputs": [],
   "source": [
    "'A M A N'"
   ]
  },
  {
   "cell_type": "code",
   "execution_count": 71,
   "id": "7417cb2c",
   "metadata": {},
   "outputs": [
    {
     "name": "stdout",
     "output_type": "stream",
     "text": [
      "[1]\n",
      "[1, 2]\n",
      "[1, 2, 3]\n",
      "[1, 2, 3, 4]\n",
      "[1, 2, 3, 4, 5]\n"
     ]
    }
   ],
   "source": [
    "user = 5\n",
    "data = [j for j in range(1,user+1)]\n",
    "for i in range(0,user):\n",
    "    print(data[0:i+1])"
   ]
  },
  {
   "cell_type": "code",
   "execution_count": null,
   "id": "bac68cf4",
   "metadata": {},
   "outputs": [],
   "source": []
  },
  {
   "cell_type": "code",
   "execution_count": null,
   "id": "ec22f7ce",
   "metadata": {},
   "outputs": [],
   "source": [
    "# 4\n",
    "# 4 4\n",
    "# 4 4 4\n",
    "# 4 4 4 4\n"
   ]
  },
  {
   "cell_type": "code",
   "execution_count": 85,
   "id": "dfa55de5",
   "metadata": {},
   "outputs": [
    {
     "name": "stdout",
     "output_type": "stream",
     "text": [
      "3 \n",
      "3 3 \n",
      "3 3 3 \n"
     ]
    }
   ],
   "source": [
    "user = 3\n",
    "for i in range(1,user+1):\n",
    "    print(i*f'{str(user)} ')"
   ]
  },
  {
   "cell_type": "code",
   "execution_count": null,
   "id": "051f8a2b",
   "metadata": {},
   "outputs": [],
   "source": [
    "5 55 555 5555 55555..."
   ]
  },
  {
   "cell_type": "code",
   "execution_count": 94,
   "id": "44dfd26c",
   "metadata": {},
   "outputs": [
    {
     "name": "stdout",
     "output_type": "stream",
     "text": [
      "5 55 555 5555 55555 \b...\n"
     ]
    }
   ],
   "source": [
    "user = 5\n",
    "for i in range(1,user+1):\n",
    "    print(i*str(user),end = ' ')\n",
    "print('\\b...')"
   ]
  },
  {
   "cell_type": "code",
   "execution_count": 95,
   "id": "477456ac",
   "metadata": {},
   "outputs": [],
   "source": [
    "import string"
   ]
  },
  {
   "cell_type": "code",
   "execution_count": 104,
   "id": "cde5d37c",
   "metadata": {},
   "outputs": [
    {
     "data": {
      "text/plain": [
       "'ABCDEFGHIJKLMNOPQRSTUVWXYZ'"
      ]
     },
     "execution_count": 104,
     "metadata": {},
     "output_type": "execute_result"
    }
   ],
   "source": [
    "data = string.ascii_uppercase\n",
    "data"
   ]
  },
  {
   "cell_type": "code",
   "execution_count": 124,
   "id": "ea5a6d42",
   "metadata": {},
   "outputs": [
    {
     "name": "stdout",
     "output_type": "stream",
     "text": [
      "A\n",
      "A B\n",
      "A B C\n",
      "A B C D\n",
      "A B C D E\n"
     ]
    }
   ],
   "source": [
    "# A\n",
    "# A B\n",
    "# A B C\n",
    "# A B C D\n",
    "# A B C D E\n",
    "\n",
    "user = 5\n",
    "if user<=26:\n",
    "    for i in range(user):\n",
    "        print(' '.join(data[0:i+1]))\n",
    "else:\n",
    "    print('Value must be in range(0,26)')"
   ]
  },
  {
   "cell_type": "code",
   "execution_count": 125,
   "id": "c3af5956",
   "metadata": {},
   "outputs": [],
   "source": [
    "# square box\n",
    "user  = 5\n",
    "\n",
    "# 5 5 5 5 5\n",
    "# 5 5 5 5 5\n",
    "# 5 5 5 5 5\n",
    "# 5 5 5 5 5\n",
    "# 5 5 5 5 5"
   ]
  },
  {
   "cell_type": "code",
   "execution_count": 140,
   "id": "59f2f75f",
   "metadata": {},
   "outputs": [
    {
     "name": "stdout",
     "output_type": "stream",
     "text": [
      "3 3 3\n",
      "3 3 3\n",
      "3 3 3\n"
     ]
    }
   ],
   "source": [
    "user  = 3\n",
    "for i in range(user):\n",
    "    print(' '.join(user*str(user)))"
   ]
  },
  {
   "cell_type": "code",
   "execution_count": 141,
   "id": "9e5cae46",
   "metadata": {},
   "outputs": [],
   "source": [
    "######\n",
    "######\n",
    "######\n",
    "###\n",
    "###\n",
    "###"
   ]
  },
  {
   "cell_type": "code",
   "execution_count": 153,
   "id": "7e1a9cb0",
   "metadata": {},
   "outputs": [
    {
     "name": "stdout",
     "output_type": "stream",
     "text": [
      "#####\n",
      "#####\n",
      "##\n",
      "##\n",
      "##\n"
     ]
    }
   ],
   "source": [
    "user = 5\n",
    "for i in range(user):\n",
    "    if i<user//2:\n",
    "        print('#'*user)\n",
    "    else:\n",
    "        print('#'*(user//2))"
   ]
  },
  {
   "cell_type": "code",
   "execution_count": 154,
   "id": "4e7cea68",
   "metadata": {},
   "outputs": [
    {
     "name": "stdout",
     "output_type": "stream",
     "text": [
      "* \n",
      "* * \n",
      "* * * \n",
      "* * * * \n"
     ]
    }
   ],
   "source": [
    "length = 4\n",
    "char = '*'\n",
    "for i in range(1,length+1):\n",
    "    print(i*f'{char} ')"
   ]
  },
  {
   "cell_type": "code",
   "execution_count": 155,
   "id": "504b70ac",
   "metadata": {},
   "outputs": [],
   "source": [
    "# * * * *\n",
    "# * * *\n",
    "# * *\n",
    "# *"
   ]
  },
  {
   "cell_type": "code",
   "execution_count": 157,
   "id": "4de942ee",
   "metadata": {},
   "outputs": [
    {
     "name": "stdout",
     "output_type": "stream",
     "text": [
      "* * * * \n",
      "* * * \n",
      "* * \n",
      "* \n"
     ]
    }
   ],
   "source": [
    "length = 4\n",
    "char = '*'\n",
    "for i in range(length,0,-1):\n",
    "    print(i*f'{char} ')"
   ]
  },
  {
   "cell_type": "code",
   "execution_count": 161,
   "id": "db6af0c6",
   "metadata": {},
   "outputs": [
    {
     "name": "stdout",
     "output_type": "stream",
     "text": [
      "* \n",
      "* * \n",
      "* * * \n",
      "* * * * \n",
      "* * * \n",
      "* * \n",
      "* \n"
     ]
    }
   ],
   "source": [
    "length = 4\n",
    "char = '*'\n",
    "for i in range(1,length+1):\n",
    "    print(i*f'{char} ')\n",
    "    \n",
    "for i in range(length-1,0,-1):\n",
    "    print(i*f'{char} ')"
   ]
  },
  {
   "cell_type": "code",
   "execution_count": 162,
   "id": "491f692e",
   "metadata": {},
   "outputs": [
    {
     "name": "stdout",
     "output_type": "stream",
     "text": [
      "* * * * \n",
      "* * * \n",
      "* * \n",
      "* \n"
     ]
    }
   ],
   "source": []
  },
  {
   "cell_type": "code",
   "execution_count": 163,
   "id": "5b9f5f78",
   "metadata": {},
   "outputs": [
    {
     "name": "stdout",
     "output_type": "stream",
     "text": [
      "* \n",
      "* * \n",
      "* * * \n",
      "* * * * \n"
     ]
    }
   ],
   "source": [
    "length = 4\n",
    "char = '*'\n",
    "for i in range(1,length+1):\n",
    "    print(i*f'{char} ')"
   ]
  },
  {
   "cell_type": "code",
   "execution_count": 164,
   "id": "933feb03",
   "metadata": {},
   "outputs": [],
   "source": [
    "#       *\n",
    "#     * * \n",
    "#   * * *\n",
    "# * * * *    "
   ]
  },
  {
   "cell_type": "markdown",
   "id": "5f4c0d68",
   "metadata": {},
   "source": [
    "# HW"
   ]
  },
  {
   "cell_type": "code",
   "execution_count": 166,
   "id": "9c59d983",
   "metadata": {},
   "outputs": [],
   "source": [
    "#      *\n",
    "#     * *\n",
    "#    * * *\n",
    "#   * * * *"
   ]
  },
  {
   "cell_type": "code",
   "execution_count": 167,
   "id": "f0f73419",
   "metadata": {},
   "outputs": [],
   "source": [
    "#   * * * *\n",
    "#    * * *\n",
    "#     * *\n",
    "#      *"
   ]
  },
  {
   "cell_type": "code",
   "execution_count": 168,
   "id": "46fd9b7b",
   "metadata": {},
   "outputs": [],
   "source": [
    "#      *\n",
    "#     * *\n",
    "#    * * *\n",
    "#   * * * *\n",
    "#    * * *\n",
    "#     * *\n",
    "#      *"
   ]
  },
  {
   "cell_type": "code",
   "execution_count": null,
   "id": "3989f8ae",
   "metadata": {},
   "outputs": [],
   "source": []
  }
 ],
 "metadata": {
  "kernelspec": {
   "display_name": "Python 3 (ipykernel)",
   "language": "python",
   "name": "python3"
  },
  "language_info": {
   "codemirror_mode": {
    "name": "ipython",
    "version": 3
   },
   "file_extension": ".py",
   "mimetype": "text/x-python",
   "name": "python",
   "nbconvert_exporter": "python",
   "pygments_lexer": "ipython3",
   "version": "3.11.3"
  }
 },
 "nbformat": 4,
 "nbformat_minor": 5
}
