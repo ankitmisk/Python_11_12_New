{
 "cells": [
  {
   "cell_type": "code",
   "execution_count": 1,
   "id": "2c281fb8",
   "metadata": {},
   "outputs": [],
   "source": [
    "import cowsay"
   ]
  },
  {
   "cell_type": "code",
   "execution_count": 2,
   "id": "9e2783dc",
   "metadata": {},
   "outputs": [
    {
     "name": "stdout",
     "output_type": "stream",
     "text": [
      "  _____\n",
      "| Hello |\n",
      "  =====\n",
      "     \\\n",
      "      \\\n",
      "        ^__^\n",
      "        (oo)\\_______\n",
      "        (__)\\       )\\/\\\n",
      "            ||----w |\n",
      "            ||     ||\n"
     ]
    }
   ],
   "source": [
    "cowsay.cow('Hello')"
   ]
  },
  {
   "cell_type": "code",
   "execution_count": 3,
   "id": "7fea224c",
   "metadata": {},
   "outputs": [],
   "source": [
    "import sandeep"
   ]
  },
  {
   "cell_type": "code",
   "execution_count": 4,
   "id": "274da88a",
   "metadata": {},
   "outputs": [
    {
     "data": {
      "text/plain": [
       "4"
      ]
     },
     "execution_count": 4,
     "metadata": {},
     "output_type": "execute_result"
    }
   ],
   "source": [
    "sandeep.maxx([1,2,3,4])"
   ]
  },
  {
   "cell_type": "code",
   "execution_count": 5,
   "id": "7fe7745a",
   "metadata": {},
   "outputs": [],
   "source": [
    "import sandeep as s"
   ]
  },
  {
   "cell_type": "code",
   "execution_count": 6,
   "id": "c0bfa670",
   "metadata": {},
   "outputs": [
    {
     "data": {
      "text/plain": [
       "3628800"
      ]
     },
     "execution_count": 6,
     "metadata": {},
     "output_type": "execute_result"
    }
   ],
   "source": [
    "s.factorial(10)"
   ]
  },
  {
   "cell_type": "code",
   "execution_count": 7,
   "id": "b3b46904",
   "metadata": {},
   "outputs": [
    {
     "data": {
      "text/plain": [
       "120"
      ]
     },
     "execution_count": 7,
     "metadata": {},
     "output_type": "execute_result"
    }
   ],
   "source": [
    "s.factorial(5)"
   ]
  },
  {
   "cell_type": "code",
   "execution_count": 8,
   "id": "d1555e63",
   "metadata": {},
   "outputs": [],
   "source": [
    "import math as m"
   ]
  },
  {
   "cell_type": "code",
   "execution_count": 9,
   "id": "515d2666",
   "metadata": {},
   "outputs": [
    {
     "data": {
      "text/plain": [
       "120"
      ]
     },
     "execution_count": 9,
     "metadata": {},
     "output_type": "execute_result"
    }
   ],
   "source": [
    "m.factorial(5)"
   ]
  },
  {
   "cell_type": "code",
   "execution_count": 10,
   "id": "90f2cb64",
   "metadata": {},
   "outputs": [],
   "source": [
    "# pip install cosway"
   ]
  },
  {
   "cell_type": "code",
   "execution_count": 11,
   "id": "77aed67f",
   "metadata": {},
   "outputs": [],
   "source": [
    "import sandeep as san"
   ]
  },
  {
   "cell_type": "code",
   "execution_count": 12,
   "id": "a8e6aa16",
   "metadata": {},
   "outputs": [
    {
     "name": "stdout",
     "output_type": "stream",
     "text": [
      "Hello Mr Aditya Kumar, how are you, nice to meet you!!\n",
      "You are 23 years old\n",
      "Your Address is Noida\n",
      "Your current company is Ola\n",
      "Your inhand salary is 56789\n"
     ]
    }
   ],
   "source": [
    "san.greet_with_intro(\"Aditya Kumar\",23,\"Noida\",56789,'Ola')"
   ]
  },
  {
   "cell_type": "code",
   "execution_count": 13,
   "id": "ff996a5f",
   "metadata": {},
   "outputs": [],
   "source": [
    "# from app\n",
    "\n",
    "\n",
    "from sandeep import factorial"
   ]
  },
  {
   "cell_type": "code",
   "execution_count": 14,
   "id": "ccfad686",
   "metadata": {},
   "outputs": [
    {
     "data": {
      "text/plain": [
       "120"
      ]
     },
     "execution_count": 14,
     "metadata": {},
     "output_type": "execute_result"
    }
   ],
   "source": [
    "factorial(5)"
   ]
  },
  {
   "cell_type": "code",
   "execution_count": 15,
   "id": "4aa17ff0",
   "metadata": {},
   "outputs": [],
   "source": [
    "from sandeep import maxx"
   ]
  },
  {
   "cell_type": "code",
   "execution_count": 16,
   "id": "06c5ea37",
   "metadata": {},
   "outputs": [
    {
     "data": {
      "text/plain": [
       "64321"
      ]
     },
     "execution_count": 16,
     "metadata": {},
     "output_type": "execute_result"
    }
   ],
   "source": [
    "maxx([1234,2134,3,13,435,64321,454,678])"
   ]
  },
  {
   "cell_type": "code",
   "execution_count": 17,
   "id": "6a1909f9",
   "metadata": {},
   "outputs": [],
   "source": [
    "from sandeep import factorial,get_fibonacci,check_armstrong,check_anagrams"
   ]
  },
  {
   "cell_type": "code",
   "execution_count": 18,
   "id": "491a3d1e",
   "metadata": {},
   "outputs": [
    {
     "data": {
      "text/plain": [
       "120"
      ]
     },
     "execution_count": 18,
     "metadata": {},
     "output_type": "execute_result"
    }
   ],
   "source": [
    "factorial(5)"
   ]
  },
  {
   "cell_type": "code",
   "execution_count": 19,
   "id": "001bcdf7",
   "metadata": {},
   "outputs": [
    {
     "data": {
      "text/plain": [
       "[0, 1, 1, 2, 3, 5, 8, 13, 21, 34]"
      ]
     },
     "execution_count": 19,
     "metadata": {},
     "output_type": "execute_result"
    }
   ],
   "source": [
    "get_fibonacci(10)"
   ]
  },
  {
   "cell_type": "code",
   "execution_count": 21,
   "id": "9725ff2c",
   "metadata": {},
   "outputs": [
    {
     "name": "stdout",
     "output_type": "stream",
     "text": [
      "Yes both words are Anagrams\n"
     ]
    }
   ],
   "source": [
    "check_anagrams('pup','pup')"
   ]
  },
  {
   "cell_type": "code",
   "execution_count": 23,
   "id": "0f65e091",
   "metadata": {},
   "outputs": [
    {
     "data": {
      "text/plain": [
       "True"
      ]
     },
     "execution_count": 23,
     "metadata": {},
     "output_type": "execute_result"
    }
   ],
   "source": [
    "check_armstrong(153)"
   ]
  },
  {
   "cell_type": "code",
   "execution_count": 24,
   "id": "dd32a716",
   "metadata": {},
   "outputs": [
    {
     "ename": "ImportError",
     "evalue": "cannot import name 'avg' from 'sandeep' (C:\\Users\\Lenovo\\NewBatch_11_12_Python\\sandeep.py)",
     "output_type": "error",
     "traceback": [
      "\u001b[1;31m---------------------------------------------------------------------------\u001b[0m",
      "\u001b[1;31mImportError\u001b[0m                               Traceback (most recent call last)",
      "Cell \u001b[1;32mIn[24], line 1\u001b[0m\n\u001b[1;32m----> 1\u001b[0m \u001b[38;5;28;01mfrom\u001b[39;00m \u001b[38;5;21;01msandeep\u001b[39;00m \u001b[38;5;28;01mimport\u001b[39;00m avg\n",
      "\u001b[1;31mImportError\u001b[0m: cannot import name 'avg' from 'sandeep' (C:\\Users\\Lenovo\\NewBatch_11_12_Python\\sandeep.py)"
     ]
    }
   ],
   "source": [
    "from sandeep import avg"
   ]
  },
  {
   "cell_type": "code",
   "execution_count": 25,
   "id": "87986168",
   "metadata": {},
   "outputs": [
    {
     "ename": "ModuleNotFoundError",
     "evalue": "No module named 'sandeeep'",
     "output_type": "error",
     "traceback": [
      "\u001b[1;31m---------------------------------------------------------------------------\u001b[0m",
      "\u001b[1;31mModuleNotFoundError\u001b[0m                       Traceback (most recent call last)",
      "Cell \u001b[1;32mIn[25], line 1\u001b[0m\n\u001b[1;32m----> 1\u001b[0m \u001b[38;5;28;01mimport\u001b[39;00m \u001b[38;5;21;01msandeeep\u001b[39;00m\n",
      "\u001b[1;31mModuleNotFoundError\u001b[0m: No module named 'sandeeep'"
     ]
    }
   ],
   "source": [
    "import sandeeep"
   ]
  },
  {
   "cell_type": "code",
   "execution_count": 26,
   "id": "195a9f05",
   "metadata": {},
   "outputs": [],
   "source": [
    "from functools import reduce"
   ]
  },
  {
   "cell_type": "code",
   "execution_count": 27,
   "id": "5d38d26e",
   "metadata": {},
   "outputs": [],
   "source": [
    "# Modules:- libraries"
   ]
  },
  {
   "cell_type": "code",
   "execution_count": 33,
   "id": "1151df55",
   "metadata": {},
   "outputs": [],
   "source": [
    "from sandeep import *"
   ]
  },
  {
   "cell_type": "code",
   "execution_count": 29,
   "id": "baa10582",
   "metadata": {},
   "outputs": [
    {
     "data": {
      "text/plain": [
       "[0, 1, 1, 2, 3, 5, 8, 13, 21, 34, 55, 89]"
      ]
     },
     "execution_count": 29,
     "metadata": {},
     "output_type": "execute_result"
    }
   ],
   "source": [
    "get_fibonacci(12)"
   ]
  },
  {
   "cell_type": "code",
   "execution_count": 30,
   "id": "756bf4af",
   "metadata": {},
   "outputs": [
    {
     "data": {
      "text/plain": [
       "1"
      ]
     },
     "execution_count": 30,
     "metadata": {},
     "output_type": "execute_result"
    }
   ],
   "source": [
    "minn([1,24,5457])"
   ]
  },
  {
   "cell_type": "code",
   "execution_count": 32,
   "id": "c9a96e42",
   "metadata": {},
   "outputs": [
    {
     "name": "stdout",
     "output_type": "stream",
     "text": [
      "Hello Mr Ajay, how are you, nice to meet you!!\n",
      "You are None years old\n",
      "Your Address is None\n",
      "Your current company is None\n",
      "Your inhand salary is None\n"
     ]
    }
   ],
   "source": [
    "check_intro(name='Ajay')"
   ]
  },
  {
   "cell_type": "code",
   "execution_count": 34,
   "id": "a1150438",
   "metadata": {},
   "outputs": [],
   "source": [
    "# import sandep\n",
    "# import sandeep as s\n",
    "# from sandeep import check_anagrams\n",
    "# from sandeep import check_armstrong,check_anagrams\n",
    "# from sandeep import *"
   ]
  },
  {
   "cell_type": "code",
   "execution_count": 35,
   "id": "b54a3b35",
   "metadata": {},
   "outputs": [],
   "source": [
    "# import math\n",
    "# import math as m\n",
    "# from math import factorial\n",
    "# from math import ceil,floor\n",
    "# from math import *"
   ]
  },
  {
   "cell_type": "code",
   "execution_count": 36,
   "id": "56386fa3",
   "metadata": {},
   "outputs": [],
   "source": [
    "# important modules\n",
    "\n",
    "\n",
    "\n"
   ]
  },
  {
   "cell_type": "code",
   "execution_count": 37,
   "id": "f82ba750",
   "metadata": {},
   "outputs": [
    {
     "name": "stdout",
     "output_type": "stream",
     "text": [
      "['_STRUCT_TM_ITEMS', '__doc__', '__loader__', '__name__', '__package__', '__spec__', 'altzone', 'asctime', 'ctime', 'daylight', 'get_clock_info', 'gmtime', 'localtime', 'mktime', 'monotonic', 'monotonic_ns', 'perf_counter', 'perf_counter_ns', 'process_time', 'process_time_ns', 'sleep', 'strftime', 'strptime', 'struct_time', 'thread_time', 'thread_time_ns', 'time', 'time_ns', 'timezone', 'tzname']\n"
     ]
    }
   ],
   "source": [
    "# time module\n",
    "\n",
    "import time\n",
    "\n",
    "print(dir(time))"
   ]
  },
  {
   "cell_type": "code",
   "execution_count": 38,
   "id": "3878f4dc",
   "metadata": {},
   "outputs": [
    {
     "name": "stdout",
     "output_type": "stream",
     "text": [
      "['__builtins__', '__cached__', '__doc__', '__file__', '__loader__', '__name__', '__package__', '__spec__', 'check_anagrams', 'check_armstrong', 'check_intro', 'factorial', 'get_fibonacci', 'greet', 'greet_with_intro', 'maxx', 'minn', 'multiply', 'summ', 'ye_count_karke_dega']\n"
     ]
    }
   ],
   "source": [
    "print(dir(sandeep))"
   ]
  },
  {
   "cell_type": "code",
   "execution_count": 39,
   "id": "cce3fea0",
   "metadata": {},
   "outputs": [],
   "source": [
    "sa = ['check_anagrams', 'check_armstrong', 'check_intro', 'factorial', 'get_fibonacci', 'greet', 'greet_with_intro', 'maxx', 'minn', 'multiply', 'summ', 'ye_count_karke_dega']"
   ]
  },
  {
   "cell_type": "code",
   "execution_count": 40,
   "id": "0de84597",
   "metadata": {},
   "outputs": [
    {
     "name": "stdout",
     "output_type": "stream",
     "text": [
      "12\n"
     ]
    }
   ],
   "source": [
    "print(len(sa))"
   ]
  },
  {
   "cell_type": "code",
   "execution_count": 41,
   "id": "10be3069",
   "metadata": {},
   "outputs": [
    {
     "name": "stdout",
     "output_type": "stream",
     "text": [
      "['_STRUCT_TM_ITEMS', '__doc__', '__loader__', '__name__', '__package__', '__spec__', 'altzone', 'asctime', 'ctime', 'daylight', 'get_clock_info', 'gmtime', 'localtime', 'mktime', 'monotonic', 'monotonic_ns', 'perf_counter', 'perf_counter_ns', 'process_time', 'process_time_ns', 'sleep', 'strftime', 'strptime', 'struct_time', 'thread_time', 'thread_time_ns', 'time', 'time_ns', 'timezone', 'tzname']\n"
     ]
    }
   ],
   "source": [
    "print(dir(time))"
   ]
  },
  {
   "cell_type": "code",
   "execution_count": 42,
   "id": "46a1aa29",
   "metadata": {},
   "outputs": [
    {
     "name": "stdout",
     "output_type": "stream",
     "text": [
      "hello\n",
      "hello\n"
     ]
    },
    {
     "ename": "KeyboardInterrupt",
     "evalue": "",
     "output_type": "error",
     "traceback": [
      "\u001b[1;31m---------------------------------------------------------------------------\u001b[0m",
      "\u001b[1;31mKeyboardInterrupt\u001b[0m                         Traceback (most recent call last)",
      "Cell \u001b[1;32mIn[42], line 5\u001b[0m\n\u001b[0;32m      1\u001b[0m \u001b[38;5;66;03m# Python modules:- more than 5.5 lakh\u001b[39;00m\n\u001b[0;32m      4\u001b[0m \u001b[38;5;28;01mwhile\u001b[39;00m \u001b[38;5;28;01mTrue\u001b[39;00m:\n\u001b[1;32m----> 5\u001b[0m     time\u001b[38;5;241m.\u001b[39msleep(\u001b[38;5;241m1\u001b[39m)\n\u001b[0;32m      6\u001b[0m     \u001b[38;5;28mprint\u001b[39m(\u001b[38;5;124m'\u001b[39m\u001b[38;5;124mhello\u001b[39m\u001b[38;5;124m'\u001b[39m)\n",
      "\u001b[1;31mKeyboardInterrupt\u001b[0m: "
     ]
    }
   ],
   "source": [
    "# Python modules:- more than 5.5 lakh\n",
    "\n",
    "\n",
    "while True:\n",
    "    time.sleep(1)\n",
    "    print('hello')"
   ]
  },
  {
   "cell_type": "code",
   "execution_count": 44,
   "id": "6f6f70fe",
   "metadata": {},
   "outputs": [
    {
     "name": "stdout",
     "output_type": "stream",
     "text": [
      "Mon May  6 12:27:09 2024\n"
     ]
    }
   ],
   "source": [
    "print(time.asctime())"
   ]
  },
  {
   "cell_type": "code",
   "execution_count": 45,
   "id": "0e791136",
   "metadata": {},
   "outputs": [],
   "source": [
    "import math"
   ]
  },
  {
   "cell_type": "code",
   "execution_count": 46,
   "id": "3549d5ed",
   "metadata": {},
   "outputs": [
    {
     "name": "stdout",
     "output_type": "stream",
     "text": [
      "['__doc__', '__loader__', '__name__', '__package__', '__spec__', 'acos', 'acosh', 'asin', 'asinh', 'atan', 'atan2', 'atanh', 'cbrt', 'ceil', 'comb', 'copysign', 'cos', 'cosh', 'degrees', 'dist', 'e', 'erf', 'erfc', 'exp', 'exp2', 'expm1', 'fabs', 'factorial', 'floor', 'fmod', 'frexp', 'fsum', 'gamma', 'gcd', 'hypot', 'inf', 'isclose', 'isfinite', 'isinf', 'isnan', 'isqrt', 'lcm', 'ldexp', 'lgamma', 'log', 'log10', 'log1p', 'log2', 'modf', 'nan', 'nextafter', 'perm', 'pi', 'pow', 'prod', 'radians', 'remainder', 'sin', 'sinh', 'sqrt', 'tan', 'tanh', 'tau', 'trunc', 'ulp']\n"
     ]
    }
   ],
   "source": [
    "print(dir(math))"
   ]
  },
  {
   "cell_type": "code",
   "execution_count": 47,
   "id": "8b860184",
   "metadata": {},
   "outputs": [
    {
     "data": {
      "text/plain": [
       "34"
      ]
     },
     "execution_count": 47,
     "metadata": {},
     "output_type": "execute_result"
    }
   ],
   "source": [
    "math.floor(34.987654)"
   ]
  },
  {
   "cell_type": "code",
   "execution_count": 48,
   "id": "0a9c50d5",
   "metadata": {},
   "outputs": [
    {
     "data": {
      "text/plain": [
       "35"
      ]
     },
     "execution_count": 48,
     "metadata": {},
     "output_type": "execute_result"
    }
   ],
   "source": [
    "math.ceil(34.0000001)"
   ]
  },
  {
   "cell_type": "code",
   "execution_count": 49,
   "id": "652a5822",
   "metadata": {},
   "outputs": [
    {
     "data": {
      "text/plain": [
       "3.605551275463989"
      ]
     },
     "execution_count": 49,
     "metadata": {},
     "output_type": "execute_result"
    }
   ],
   "source": [
    "math.dist((-3,0),(0,2))"
   ]
  },
  {
   "cell_type": "code",
   "execution_count": 50,
   "id": "f599c924",
   "metadata": {},
   "outputs": [
    {
     "data": {
      "text/plain": [
       "1.0"
      ]
     },
     "execution_count": 50,
     "metadata": {},
     "output_type": "execute_result"
    }
   ],
   "source": [
    "math.dist((3,0),(4,0))"
   ]
  },
  {
   "cell_type": "code",
   "execution_count": 52,
   "id": "46a13032",
   "metadata": {},
   "outputs": [
    {
     "data": {
      "text/plain": [
       "1531.5606419596973"
      ]
     },
     "execution_count": 52,
     "metadata": {},
     "output_type": "execute_result"
    }
   ],
   "source": [
    "math.sqrt(2345678)"
   ]
  },
  {
   "cell_type": "code",
   "execution_count": 53,
   "id": "98991ab9",
   "metadata": {},
   "outputs": [
    {
     "data": {
      "text/plain": [
       "5.0"
      ]
     },
     "execution_count": 53,
     "metadata": {},
     "output_type": "execute_result"
    }
   ],
   "source": [
    "25**0.5"
   ]
  },
  {
   "cell_type": "code",
   "execution_count": 54,
   "id": "877a869e",
   "metadata": {},
   "outputs": [],
   "source": [
    "sqrt = lambda x: x**0.5"
   ]
  },
  {
   "cell_type": "code",
   "execution_count": 55,
   "id": "c654e96c",
   "metadata": {},
   "outputs": [
    {
     "data": {
      "text/plain": [
       "1531.5606419596973"
      ]
     },
     "execution_count": 55,
     "metadata": {},
     "output_type": "execute_result"
    }
   ],
   "source": [
    "sqrt(2345678)"
   ]
  },
  {
   "cell_type": "code",
   "execution_count": 56,
   "id": "b53e1dd7",
   "metadata": {},
   "outputs": [],
   "source": [
    "import calendar"
   ]
  },
  {
   "cell_type": "code",
   "execution_count": 70,
   "id": "342aad7a",
   "metadata": {},
   "outputs": [
    {
     "name": "stdout",
     "output_type": "stream",
     "text": [
      "                     2024\n",
      "\n",
      "      January                   February\n",
      "Mo Tu We Th Fr Sa Su      Mo Tu We Th Fr Sa Su\n",
      " 1  2  3  4  5  6  7                1  2  3  4\n",
      " 8  9 10 11 12 13 14       5  6  7  8  9 10 11\n",
      "15 16 17 18 19 20 21      12 13 14 15 16 17 18\n",
      "22 23 24 25 26 27 28      19 20 21 22 23 24 25\n",
      "29 30 31                  26 27 28 29\n",
      "\n",
      "       March                     April\n",
      "Mo Tu We Th Fr Sa Su      Mo Tu We Th Fr Sa Su\n",
      "             1  2  3       1  2  3  4  5  6  7\n",
      " 4  5  6  7  8  9 10       8  9 10 11 12 13 14\n",
      "11 12 13 14 15 16 17      15 16 17 18 19 20 21\n",
      "18 19 20 21 22 23 24      22 23 24 25 26 27 28\n",
      "25 26 27 28 29 30 31      29 30\n",
      "\n",
      "        May                       June\n",
      "Mo Tu We Th Fr Sa Su      Mo Tu We Th Fr Sa Su\n",
      "       1  2  3  4  5                      1  2\n",
      " 6  7  8  9 10 11 12       3  4  5  6  7  8  9\n",
      "13 14 15 16 17 18 19      10 11 12 13 14 15 16\n",
      "20 21 22 23 24 25 26      17 18 19 20 21 22 23\n",
      "27 28 29 30 31            24 25 26 27 28 29 30\n",
      "\n",
      "        July                     August\n",
      "Mo Tu We Th Fr Sa Su      Mo Tu We Th Fr Sa Su\n",
      " 1  2  3  4  5  6  7                1  2  3  4\n",
      " 8  9 10 11 12 13 14       5  6  7  8  9 10 11\n",
      "15 16 17 18 19 20 21      12 13 14 15 16 17 18\n",
      "22 23 24 25 26 27 28      19 20 21 22 23 24 25\n",
      "29 30 31                  26 27 28 29 30 31\n",
      "\n",
      "     September                  October\n",
      "Mo Tu We Th Fr Sa Su      Mo Tu We Th Fr Sa Su\n",
      "                   1          1  2  3  4  5  6\n",
      " 2  3  4  5  6  7  8       7  8  9 10 11 12 13\n",
      " 9 10 11 12 13 14 15      14 15 16 17 18 19 20\n",
      "16 17 18 19 20 21 22      21 22 23 24 25 26 27\n",
      "23 24 25 26 27 28 29      28 29 30 31\n",
      "30\n",
      "\n",
      "      November                  December\n",
      "Mo Tu We Th Fr Sa Su      Mo Tu We Th Fr Sa Su\n",
      "             1  2  3                         1\n",
      " 4  5  6  7  8  9 10       2  3  4  5  6  7  8\n",
      "11 12 13 14 15 16 17       9 10 11 12 13 14 15\n",
      "18 19 20 21 22 23 24      16 17 18 19 20 21 22\n",
      "25 26 27 28 29 30         23 24 25 26 27 28 29\n",
      "                          30 31\n",
      "\n"
     ]
    }
   ],
   "source": [
    "print(calendar.calendar(2024,m=2))"
   ]
  },
  {
   "cell_type": "code",
   "execution_count": 72,
   "id": "18e2d13e",
   "metadata": {},
   "outputs": [
    {
     "data": {
      "text/plain": [
       "True"
      ]
     },
     "execution_count": 72,
     "metadata": {},
     "output_type": "execute_result"
    }
   ],
   "source": [
    "calendar.isleap(2020)"
   ]
  },
  {
   "cell_type": "code",
   "execution_count": 73,
   "id": "7413f9dc",
   "metadata": {},
   "outputs": [],
   "source": [
    "# #DA\n",
    "# pandas\n",
    "# matplotlib\n",
    "# seaborn\n",
    "# numpy\n",
    "# plotly\n",
    "\n",
    "\n",
    "# #\n",
    "# pygame\n",
    "# gtts\n",
    "# qrcode\n",
    "# turtle\n",
    "# requests\n",
    "# csv\n",
    "# json\n",
    "# pickle\n",
    "\n",
    "\n",
    "# mysql sqlserver sqlite\n",
    "\n",
    "# webscrapping:- urlib,selenium,requests,bs4\n",
    "\n",
    "# webbrowser\n",
    "# instaloader\n",
    "\n",
    "\n",
    "# ML:\n",
    "# sk learn\n",
    "# AI;DL\n",
    "# Pytorch,scipy\n",
    "# keras, Tensorflow\n",
    "# opencv, huggingface\n",
    "\n",
    "# Website:\n",
    "#     Django, flask,fastapi\n",
    "\n"
   ]
  },
  {
   "cell_type": "code",
   "execution_count": 76,
   "id": "e85a7432",
   "metadata": {},
   "outputs": [],
   "source": [
    "# pip install qrcode"
   ]
  },
  {
   "cell_type": "code",
   "execution_count": 77,
   "id": "46892164",
   "metadata": {},
   "outputs": [],
   "source": [
    "import qrcode"
   ]
  },
  {
   "cell_type": "code",
   "execution_count": 79,
   "id": "c4d99a2d",
   "metadata": {},
   "outputs": [
    {
     "name": "stdout",
     "output_type": "stream",
     "text": [
      "done\n"
     ]
    }
   ],
   "source": [
    "img = qrcode.make('❤️We are in Techvidya👍\\nWe are learning Python!!')\n",
    "img.save('intro.png')\n",
    "print('done')"
   ]
  },
  {
   "cell_type": "code",
   "execution_count": 80,
   "id": "f3dac067",
   "metadata": {},
   "outputs": [
    {
     "name": "stdout",
     "output_type": "stream",
     "text": [
      "done\n"
     ]
    }
   ],
   "source": [
    "link = '''https://forms.gle/g1juPqY89AEUDACt8'''\n",
    "\n",
    "feedback = qrcode.make(link)\n",
    "feedback.save('feedback.png')\n",
    "print('done')"
   ]
  },
  {
   "cell_type": "code",
   "execution_count": 81,
   "id": "0f09211f",
   "metadata": {},
   "outputs": [],
   "source": []
  },
  {
   "cell_type": "code",
   "execution_count": 82,
   "id": "34010ab5",
   "metadata": {},
   "outputs": [],
   "source": [
    "# pip install gTTS"
   ]
  },
  {
   "cell_type": "code",
   "execution_count": 86,
   "id": "a9d9b4f4",
   "metadata": {},
   "outputs": [],
   "source": [
    "import pygame\n",
    "import gtts\n",
    "pygame.init()\n",
    "\n",
    "def speek(amount):\n",
    "    audio = gtts.gTTS(f'Paytm par {amount} rs prapt hue')\n",
    "    audio.save('payment.mp3')\n",
    "    \n",
    "    music = pygame.mixer.Sound('payment.mp3')\n",
    "    music.play()"
   ]
  },
  {
   "cell_type": "code",
   "execution_count": 92,
   "id": "372b1df4",
   "metadata": {},
   "outputs": [],
   "source": [
    "speek(1000)"
   ]
  },
  {
   "cell_type": "code",
   "execution_count": null,
   "id": "819bae09",
   "metadata": {},
   "outputs": [],
   "source": []
  },
  {
   "cell_type": "code",
   "execution_count": 93,
   "id": "9480c679",
   "metadata": {},
   "outputs": [],
   "source": []
  },
  {
   "cell_type": "code",
   "execution_count": 95,
   "id": "65af74ef",
   "metadata": {},
   "outputs": [],
   "source": [
    "import random\n",
    "import pyautogui as py\n",
    "import time\n",
    "data = ['Python','Java','C','Noida','Delhi']\n",
    "\n",
    "time.sleep(5)\n",
    "c = 1\n",
    "while c<=20:\n",
    "    py.write(random.choice(data))\n",
    "    py.press('Enter')\n",
    "    c+=1"
   ]
  },
  {
   "cell_type": "code",
   "execution_count": 96,
   "id": "68814be4",
   "metadata": {},
   "outputs": [],
   "source": [
    "# Java\n",
    "# C\n",
    "# Python\n"
   ]
  },
  {
   "cell_type": "code",
   "execution_count": null,
   "id": "3e0704ee",
   "metadata": {},
   "outputs": [],
   "source": []
  }
 ],
 "metadata": {
  "kernelspec": {
   "display_name": "Python 3 (ipykernel)",
   "language": "python",
   "name": "python3"
  },
  "language_info": {
   "codemirror_mode": {
    "name": "ipython",
    "version": 3
   },
   "file_extension": ".py",
   "mimetype": "text/x-python",
   "name": "python",
   "nbconvert_exporter": "python",
   "pygments_lexer": "ipython3",
   "version": "3.11.3"
  }
 },
 "nbformat": 4,
 "nbformat_minor": 5
}
