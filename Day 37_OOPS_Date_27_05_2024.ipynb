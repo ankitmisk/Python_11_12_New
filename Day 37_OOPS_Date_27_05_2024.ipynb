{
 "cells": [
  {
   "cell_type": "code",
   "execution_count": 1,
   "id": "e5a8f3d7",
   "metadata": {},
   "outputs": [],
   "source": [
    "# OOPS:"
   ]
  },
  {
   "cell_type": "code",
   "execution_count": 2,
   "id": "ac78a25e",
   "metadata": {},
   "outputs": [],
   "source": [
    "# OOPS practical Use"
   ]
  },
  {
   "cell_type": "code",
   "execution_count": 22,
   "id": "babd10c7",
   "metadata": {},
   "outputs": [],
   "source": [
    "class ATM:\n",
    "    \n",
    "    def __init__(self,bankname):\n",
    "        self.balance = 2000\n",
    "        self.pin = '0000'\n",
    "        print(f'Welcome to {bankname} Bank!!')\n",
    "        \n",
    "        pin_input = input('Enter your PIN: ')\n",
    "        \n",
    "        \n",
    "        if pin_input == self.pin:\n",
    "        \n",
    "            user_choice = input('''Select below given option\n",
    "            1>> Withdrawl\n",
    "            2>> Check Balance\n",
    "            3>> Deposit\n",
    "            4>> Pin Change\n",
    "            5>> Fast Cash\n",
    "            : ''')\n",
    "\n",
    "            if user_choice == '1':\n",
    "                self.withdrawl()\n",
    "\n",
    "            elif user_choice == '2':\n",
    "                self.check_balance()\n",
    "\n",
    "            elif user_choice == '3':\n",
    "                self.deposit()\n",
    "\n",
    "            elif user_choice == '4':\n",
    "                self.pin_change()\n",
    "\n",
    "            elif user_choice == '5':\n",
    "                self.fast_cash()\n",
    "\n",
    "            else:\n",
    "                print('Invalid Choice!!!')\n",
    "        else:\n",
    "            print('Incorrect PIN!! ')\n",
    "            exit()\n",
    "        \n",
    "        \n",
    "        \n",
    "    \n",
    "    # This is a withdrawl func\n",
    "    def withdrawl(self,user_amount = None):\n",
    "        '''****DOCString****'''\n",
    "        if user_amount != None:\n",
    "            amount = user_amount\n",
    "#             print('amount',user_amount)\n",
    "        \n",
    "        else:\n",
    "            try:\n",
    "                amount = int(input('Enter amount want to withdraw!!: '))   \n",
    "            except:\n",
    "                print('Invalid amount,enter amount in integer!!')\n",
    "                \n",
    "        if 0<amount<=self.balance:\n",
    "            if amount<=25000:\n",
    "                if amount%100 == 0:\n",
    "                    print(f'Amount Rs {amount} withdrawl successfully!!')\n",
    "                    self.balance -= amount\n",
    "\n",
    "                else:\n",
    "                    print('Amount must be in multiple of Rs 100!!')\n",
    "\n",
    "            else:\n",
    "                print('Daily Limit Exceed!!')\n",
    "        else:\n",
    "            print('Insufficient Balance!!')\n",
    "        \n",
    "        \n",
    "    \n",
    "    \n",
    "    # This is a check balance func\n",
    "    def check_balance(self):\n",
    "        '''****DOCString****'''\n",
    "        \n",
    "        print(f'Your current balance is Rs {self.balance}')\n",
    "    \n",
    "    \n",
    "    # This is a deposit func\n",
    "    def deposit(self):\n",
    "        '''****DOCString****'''\n",
    "        try:\n",
    "            amount = int(input('Enter amount want to Deposit!!: '))\n",
    "\n",
    "            if 0<amount<=25000:\n",
    "                if amount%100 == 0:\n",
    "                    print(f'Amount Rs {amount} Deposit successfully!!')\n",
    "                    self.balance += amount\n",
    "                    print(f'Your updated balance: Rs {self.balance}')\n",
    "                else:\n",
    "                    print('Amount must be in multiple of Rs 100!!')\n",
    "            else:\n",
    "                print('Invalid amount')\n",
    "                \n",
    "        except:\n",
    "            print('Invalid amount,enter amount in integer!!')\n",
    "\n",
    "    \n",
    "    \n",
    "    # This is a pin change func\n",
    "    def pin_change(self):\n",
    "        \n",
    "        '''****DOCString****'''\n",
    "        \n",
    "        phone_no = input('Enter your Registered mobile number: ')\n",
    "        # Validate phone number with regex must startswith (6789) and length should be 10\n",
    "        import random\n",
    "        import time\n",
    "        otp = random.randint(1000,9999)\n",
    "        print('OTP has been sent to your mobile number!!')\n",
    "        \n",
    "        print('Wait!!',end='')\n",
    "        for i in range(5):\n",
    "            print('.',end='')\n",
    "            time.sleep(1)\n",
    "        \n",
    "        print('\\nOTP: ',otp)\n",
    "        \n",
    "        otp_input = int(input('Enter otp here!!'))\n",
    "        \n",
    "        if otp_input == otp:\n",
    "            pin1 = input('Create your new pin: ')\n",
    "            pin2 = input('Enter again: ')\n",
    "            \n",
    "            if len(pin1)==len(pin2) == 4:\n",
    "                if pin1 == pin2:\n",
    "                    print('PIN changed successfully!!')\n",
    "                    self.pin = pin1\n",
    "                else:\n",
    "                    print('PIN mismatch!!')\n",
    "            else:\n",
    "                print('Enter 4 digit PIN!!')\n",
    "        else:\n",
    "            print('Incorrect OTP!!')\n",
    "            \n",
    "    \n",
    "    \n",
    "    # This is a fast cash func\n",
    "    def fast_cash(self):\n",
    "        '''****DOCString****'''\n",
    "        \n",
    "        fast_cash_choice = input('''Select below option\n",
    "        1>> Rs 200\n",
    "        2>> Rs 500\n",
    "        3>> Rs 1000\n",
    "        4>> Rs 2000\n",
    "        : ''')\n",
    "        print(fast_cash_choice)\n",
    "        if fast_cash_choice == '1':\n",
    "            self.withdrawl(200)\n",
    "            \n",
    "        elif fast_cash_choice == '2':\n",
    "            self.withdrawl(500)\n",
    "            \n",
    "        elif fast_cash_choice == '3':\n",
    "            self.withdrawl(1000)\n",
    "            \n",
    "        elif fast_cash_choice == '4':\n",
    "            self.withdrawl(2000)\n",
    "        \n",
    "        else:\n",
    "            print('Invalid choice!!')\n",
    "        \n",
    "    "
   ]
  },
  {
   "cell_type": "code",
   "execution_count": null,
   "id": "19533bdb",
   "metadata": {},
   "outputs": [],
   "source": []
  },
  {
   "cell_type": "code",
   "execution_count": 23,
   "id": "a3a02027",
   "metadata": {},
   "outputs": [
    {
     "name": "stdout",
     "output_type": "stream",
     "text": [
      "Welcome to ICIC Bank!!\n",
      "Enter your PIN: 0000\n",
      "Select below given option\n",
      "            1>> Withdrawl\n",
      "            2>> Check Balance\n",
      "            3>> Deposit\n",
      "            4>> Pin Change\n",
      "            5>> Fast Cash\n",
      "            : 1\n",
      "Enter amount want to withdraw!!: 200\n",
      "Amount Rs 200 withdrawl successfully!!\n"
     ]
    }
   ],
   "source": [
    "ICIC = ATM('ICIC')"
   ]
  },
  {
   "cell_type": "code",
   "execution_count": 3,
   "id": "d4baa809",
   "metadata": {},
   "outputs": [
    {
     "name": "stdout",
     "output_type": "stream",
     "text": [
      "Your current balance is Rs 500\n"
     ]
    }
   ],
   "source": [
    "ICIC.check_balance()"
   ]
  },
  {
   "cell_type": "code",
   "execution_count": 6,
   "id": "30c741bb",
   "metadata": {},
   "outputs": [
    {
     "name": "stdout",
     "output_type": "stream",
     "text": [
      "Enter amount want to Deposit!!: 2500\n",
      "Amount Rs 2500 Deposit successfully!!\n",
      "Your updated balance: Rs 3000\n"
     ]
    }
   ],
   "source": [
    "ICIC.deposit()"
   ]
  },
  {
   "cell_type": "code",
   "execution_count": 9,
   "id": "e7b5a5da",
   "metadata": {},
   "outputs": [
    {
     "name": "stdout",
     "output_type": "stream",
     "text": [
      "Enter your Registered mobile number: 9898987654\n",
      "OTP has been sent to your mobile number!!\n",
      "Wait!!.....\n",
      "OTP:  5441\n",
      "Enter otp here!!5441\n",
      "Create your new pin: 9898\n",
      "Enter again: 9898\n",
      "PIN changed successfully!!\n"
     ]
    }
   ],
   "source": [
    "ICIC.pin_change()"
   ]
  },
  {
   "cell_type": "code",
   "execution_count": 10,
   "id": "8d4891f8",
   "metadata": {},
   "outputs": [
    {
     "data": {
      "text/plain": [
       "'9898'"
      ]
     },
     "execution_count": 10,
     "metadata": {},
     "output_type": "execute_result"
    }
   ],
   "source": [
    "ICIC.pin"
   ]
  },
  {
   "cell_type": "code",
   "execution_count": 24,
   "id": "97a71110",
   "metadata": {},
   "outputs": [
    {
     "name": "stdout",
     "output_type": "stream",
     "text": [
      "Select below option\n",
      "        1>> Rs 200\n",
      "        2>> Rs 500\n",
      "        3>> Rs 1000\n",
      "        4>> Rs 2000\n",
      "        : 4\n",
      "4\n",
      "Insufficient Balance!!\n"
     ]
    }
   ],
   "source": [
    "ICIC.fast_cash()"
   ]
  },
  {
   "cell_type": "code",
   "execution_count": 25,
   "id": "770088fd",
   "metadata": {},
   "outputs": [
    {
     "name": "stdout",
     "output_type": "stream",
     "text": [
      "Enter amount want to Deposit!!: 7000\n",
      "Amount Rs 7000 Deposit successfully!!\n",
      "Your updated balance: Rs 8800\n"
     ]
    }
   ],
   "source": [
    "ICIC.deposit()"
   ]
  },
  {
   "cell_type": "code",
   "execution_count": 26,
   "id": "4229bdab",
   "metadata": {},
   "outputs": [
    {
     "name": "stdout",
     "output_type": "stream",
     "text": [
      "Select below option\n",
      "        1>> Rs 200\n",
      "        2>> Rs 500\n",
      "        3>> Rs 1000\n",
      "        4>> Rs 2000\n",
      "        : 4\n",
      "4\n",
      "Amount Rs 2000 withdrawl successfully!!\n"
     ]
    }
   ],
   "source": [
    "ICIC.fast_cash()"
   ]
  },
  {
   "cell_type": "code",
   "execution_count": 27,
   "id": "a7d5781d",
   "metadata": {},
   "outputs": [
    {
     "name": "stdout",
     "output_type": "stream",
     "text": [
      "Amount Rs 5000 withdrawl successfully!!\n"
     ]
    }
   ],
   "source": [
    "ICIC.withdrawl(5000)"
   ]
  },
  {
   "cell_type": "code",
   "execution_count": 28,
   "id": "1a976c73",
   "metadata": {},
   "outputs": [
    {
     "name": "stdout",
     "output_type": "stream",
     "text": [
      "Your current balance is Rs 1800\n"
     ]
    }
   ],
   "source": [
    "ICIC.check_balance()"
   ]
  },
  {
   "cell_type": "code",
   "execution_count": null,
   "id": "7a251898",
   "metadata": {},
   "outputs": [],
   "source": []
  },
  {
   "cell_type": "code",
   "execution_count": null,
   "id": "5a99b12f",
   "metadata": {},
   "outputs": [],
   "source": []
  },
  {
   "cell_type": "code",
   "execution_count": null,
   "id": "d1c08af3",
   "metadata": {},
   "outputs": [],
   "source": []
  },
  {
   "cell_type": "code",
   "execution_count": 29,
   "id": "a64ae8f7",
   "metadata": {},
   "outputs": [
    {
     "name": "stdout",
     "output_type": "stream",
     "text": [
      "Welcome to HDFC Bank!!\n",
      "Enter your PIN: 0000\n",
      "Select below given option\n",
      "            1>> Withdrawl\n",
      "            2>> Check Balance\n",
      "            3>> Deposit\n",
      "            4>> Pin Change\n",
      "            5>> Fast Cash\n",
      "            : 1\n",
      "Enter amount want to withdraw!!: 1500\n",
      "Amount Rs 1500 withdrawl successfully!!\n"
     ]
    }
   ],
   "source": [
    "HDFC = ATM('HDFC')"
   ]
  },
  {
   "cell_type": "code",
   "execution_count": 30,
   "id": "00a4bfc6",
   "metadata": {},
   "outputs": [
    {
     "name": "stdout",
     "output_type": "stream",
     "text": [
      "Enter your Registered mobile number: 9898989876\n",
      "OTP has been sent to your mobile number!!\n",
      "Wait!!.....\n",
      "OTP:  4677\n",
      "Enter otp here!!4677\n",
      "Create your new pin: 9876\n",
      "Enter again: 9876\n",
      "PIN changed successfully!!\n"
     ]
    }
   ],
   "source": [
    "ICIC.pin_change()"
   ]
  },
  {
   "cell_type": "code",
   "execution_count": 31,
   "id": "8812f1aa",
   "metadata": {},
   "outputs": [
    {
     "data": {
      "text/plain": [
       "'9876'"
      ]
     },
     "execution_count": 31,
     "metadata": {},
     "output_type": "execute_result"
    }
   ],
   "source": [
    "ICIC.pin"
   ]
  },
  {
   "cell_type": "code",
   "execution_count": 32,
   "id": "8327ee48",
   "metadata": {},
   "outputs": [
    {
     "data": {
      "text/plain": [
       "'0000'"
      ]
     },
     "execution_count": 32,
     "metadata": {},
     "output_type": "execute_result"
    }
   ],
   "source": [
    "HDFC.pin"
   ]
  },
  {
   "cell_type": "code",
   "execution_count": 33,
   "id": "3559829b",
   "metadata": {},
   "outputs": [
    {
     "name": "stdout",
     "output_type": "stream",
     "text": [
      "Enter your Registered mobile number: 8765456789\n",
      "OTP has been sent to your mobile number!!\n",
      "Wait!!.....\n",
      "OTP:  9492\n",
      "Enter otp here!!9492\n",
      "Create your new pin: 1234\n",
      "Enter again: 1234\n",
      "PIN changed successfully!!\n"
     ]
    }
   ],
   "source": [
    "HDFC.pin_change()"
   ]
  },
  {
   "cell_type": "code",
   "execution_count": 34,
   "id": "1088848c",
   "metadata": {},
   "outputs": [
    {
     "data": {
      "text/plain": [
       "'1234'"
      ]
     },
     "execution_count": 34,
     "metadata": {},
     "output_type": "execute_result"
    }
   ],
   "source": [
    "HDFC.pin"
   ]
  },
  {
   "cell_type": "code",
   "execution_count": 35,
   "id": "2b5ec597",
   "metadata": {},
   "outputs": [
    {
     "data": {
      "text/plain": [
       "'9876'"
      ]
     },
     "execution_count": 35,
     "metadata": {},
     "output_type": "execute_result"
    }
   ],
   "source": [
    "ICIC.pin"
   ]
  },
  {
   "cell_type": "code",
   "execution_count": null,
   "id": "965cb48e",
   "metadata": {},
   "outputs": [],
   "source": []
  }
 ],
 "metadata": {
  "kernelspec": {
   "display_name": "Python 3 (ipykernel)",
   "language": "python",
   "name": "python3"
  },
  "language_info": {
   "codemirror_mode": {
    "name": "ipython",
    "version": 3
   },
   "file_extension": ".py",
   "mimetype": "text/x-python",
   "name": "python",
   "nbconvert_exporter": "python",
   "pygments_lexer": "ipython3",
   "version": "3.11.3"
  }
 },
 "nbformat": 4,
 "nbformat_minor": 5
}
