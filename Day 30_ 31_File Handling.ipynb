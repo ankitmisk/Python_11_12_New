{
 "cells": [
  {
   "cell_type": "code",
   "execution_count": 1,
   "id": "1cf20992",
   "metadata": {},
   "outputs": [],
   "source": [
    "# Python:- \n",
    "# File:- read,write,copy,delete,remove,edit/write"
   ]
  },
  {
   "cell_type": "code",
   "execution_count": 4,
   "id": "976b865a",
   "metadata": {},
   "outputs": [],
   "source": [
    "# # file:-\n",
    "# 1>> Text File:\n",
    "# #     That files whice can be opened in notepad an we can read and understand the content\n",
    "# txt,py,java,c,c++,html,csv,json,xml\n",
    "\n",
    "# 2>> Binary File:\n",
    "# That files whice can not be opened in notepad an we can not be read and understand the content:\n",
    "# it require an additional software to open it\n",
    "# jpg,mp3,mp4,exe,xlsx,png,etc,ppt,word,docx,pbix(powerbi)"
   ]
  },
  {
   "cell_type": "code",
   "execution_count": 29,
   "id": "64fa5f99",
   "metadata": {},
   "outputs": [],
   "source": [
    "# read:- \n",
    "# mode:r,w,a,x\n",
    "\n",
    "file = open(r\"C:\\Users\\Lenovo\\Desktop\\python_gaurav.py\",'r')\n",
    "\n",
    "data = file.read()\n",
    "\n"
   ]
  },
  {
   "cell_type": "code",
   "execution_count": 27,
   "id": "ec6ba793",
   "metadata": {},
   "outputs": [
    {
     "name": "stdout",
     "output_type": "stream",
     "text": [
      "print('We are in Noida')\n",
      "for i in range(1,11):\n",
      "\tprint('Python is Awesome')\n",
      "\n",
      "\n",
      "File has been closed!!\n"
     ]
    }
   ],
   "source": [
    "print(data)\n",
    "\n",
    "file.close()\n",
    "\n",
    "print('File has been closed!!')"
   ]
  },
  {
   "cell_type": "code",
   "execution_count": 30,
   "id": "a25d9540",
   "metadata": {},
   "outputs": [
    {
     "data": {
      "text/plain": [
       "''"
      ]
     },
     "execution_count": 30,
     "metadata": {},
     "output_type": "execute_result"
    }
   ],
   "source": [
    "file.read()"
   ]
  },
  {
   "cell_type": "code",
   "execution_count": 38,
   "id": "08c9dd4f",
   "metadata": {},
   "outputs": [
    {
     "name": "stdout",
     "output_type": "stream",
     "text": [
      "print('We are in Noida')\n",
      "for i in range(1,11):\n",
      "\tprint('Python is Awesome')\n",
      "\n",
      "\n"
     ]
    }
   ],
   "source": [
    "# read:- \n",
    "# mode:r,w,a,x\n",
    "\n",
    "file = open(r\"C:\\Users\\Lenovo\\Desktop\\python_gaurav.py\",'r')\n",
    "\n",
    "data = file.read()\n",
    "\n",
    "file.close()\n",
    "\n",
    "print(data)\n"
   ]
  },
  {
   "cell_type": "code",
   "execution_count": 40,
   "id": "04b7eb35",
   "metadata": {},
   "outputs": [
    {
     "name": "stdout",
     "output_type": "stream",
     "text": [
      "print('We are in Noida')\n",
      "\n"
     ]
    }
   ],
   "source": [
    "# read:- \n",
    "# mode:r,w,a,x\n",
    "\n",
    "file = open(r\"C:\\Users\\Lenovo\\Desktop\\python_gaurav.py\",'r')\n",
    "\n",
    "data = file.read(25)\n",
    "\n",
    "file.close()\n",
    "\n",
    "print(data)\n"
   ]
  },
  {
   "cell_type": "code",
   "execution_count": 48,
   "id": "a38b4da1",
   "metadata": {},
   "outputs": [
    {
     "name": "stdout",
     "output_type": "stream",
     "text": [
      "print('We are in Noida')\n",
      "\n"
     ]
    }
   ],
   "source": [
    "# read:- \n",
    "# mode:r,w,a,x\n",
    "\n",
    "file = open(r\"C:\\Users\\Lenovo\\Desktop\\python_gaurav.py\",'r')\n",
    "\n",
    "data = file.readline()\n",
    "\n",
    "# file.close()\n",
    "\n",
    "print(data)\n"
   ]
  },
  {
   "cell_type": "code",
   "execution_count": 51,
   "id": "b403ffb9",
   "metadata": {},
   "outputs": [
    {
     "name": "stdout",
     "output_type": "stream",
     "text": [
      "\n",
      "\n"
     ]
    }
   ],
   "source": [
    "print(file.readline())"
   ]
  },
  {
   "cell_type": "code",
   "execution_count": 60,
   "id": "474f777a",
   "metadata": {},
   "outputs": [
    {
     "name": "stdout",
     "output_type": "stream",
     "text": [
      "[\"print('We are in Noida')\\n\", 'for i in range(1,11):\\n', \"\\tprint('Python is Awesome')\\n\", '\\n']\n"
     ]
    }
   ],
   "source": [
    "# read:- \n",
    "# mode:r,w,a,x\n",
    "\n",
    "file = open(r\"C:\\Users\\Lenovo\\Desktop\\python_gaurav.py\",'r')\n",
    "\n",
    "data = file.readlines()\n",
    "\n",
    "file.close()\n",
    "\n",
    "print(data)\n"
   ]
  },
  {
   "cell_type": "code",
   "execution_count": 61,
   "id": "5e7d94a7",
   "metadata": {},
   "outputs": [
    {
     "name": "stdout",
     "output_type": "stream",
     "text": [
      "\tprint('Python is Awesome')\n",
      "\n"
     ]
    }
   ],
   "source": [
    "print(data[-2])"
   ]
  },
  {
   "cell_type": "code",
   "execution_count": 64,
   "id": "6ab88be2",
   "metadata": {},
   "outputs": [
    {
     "name": "stdout",
     "output_type": "stream",
     "text": [
      "2 \tprint('Python is Awesome')\n",
      "\n"
     ]
    }
   ],
   "source": [
    "for i,j in enumerate(data):\n",
    "    if i == 2:\n",
    "        print(i,j)"
   ]
  },
  {
   "cell_type": "code",
   "execution_count": 66,
   "id": "d98ab6a1",
   "metadata": {},
   "outputs": [
    {
     "name": "stdout",
     "output_type": "stream",
     "text": [
      "\tprint('Python is Awesome')\n",
      "\n"
     ]
    }
   ],
   "source": [
    "print(data[2])"
   ]
  },
  {
   "cell_type": "code",
   "execution_count": 67,
   "id": "51ccd1db",
   "metadata": {},
   "outputs": [],
   "source": [
    "# read()\n",
    "# readline()\n",
    "# readlines()"
   ]
  },
  {
   "cell_type": "code",
   "execution_count": 68,
   "id": "89f48962",
   "metadata": {},
   "outputs": [
    {
     "name": "stdout",
     "output_type": "stream",
     "text": [
      "Closed\n"
     ]
    }
   ],
   "source": [
    "file.close()\n",
    "print('Closed')"
   ]
  },
  {
   "cell_type": "code",
   "execution_count": 69,
   "id": "a8c05328",
   "metadata": {},
   "outputs": [
    {
     "name": "stdout",
     "output_type": "stream",
     "text": [
      "Id,Name,Address,Course,Fees\n",
      "1,Aman,Noida,Python,23456\n",
      "2,Karan,Delhi,Java,23432\n",
      "3,Ravi,kanpur,DS,45678\n",
      "4,Suman,Delhi,DA,34567\n",
      "5,Ajay,Noida,Python,23456\n",
      "\n"
     ]
    }
   ],
   "source": [
    "f = open(r\"C:\\Users\\Lenovo\\Desktop\\student_details.csv\")\n",
    "data = f.read()\n",
    "f.close()\n",
    "print(data)"
   ]
  },
  {
   "cell_type": "code",
   "execution_count": 70,
   "id": "7bded6ab",
   "metadata": {},
   "outputs": [
    {
     "name": "stdout",
     "output_type": "stream",
     "text": [
      "['emp_id,emp_name,salary,address,dept,Desination\\n', '1,\"Mohan Sharma\",67890.9,Noida,IT,Manager\\n', '2,\"karan Sharma\",78890.9,Delhi,Hr,Manager\\n', '3,\"Nitin Verma\",98990.9,Goa,Sales,Head\\n', '4,\"Ravi Malhotra\",98987,Faridabad,Marketing,Head\\n', '5,\"Saurabh Sharma\",67809.9,Noida,Admin,Incharge\\n']\n"
     ]
    }
   ],
   "source": [
    "emp = open(r\"C:\\Users\\Lenovo\\Desktop\\Emp_details_Export.csv\")\n",
    "data = emp.readlines()\n",
    "emp.close()\n",
    "\n",
    "print(data)"
   ]
  },
  {
   "cell_type": "code",
   "execution_count": 72,
   "id": "dbb358c5",
   "metadata": {},
   "outputs": [
    {
     "name": "stdout",
     "output_type": "stream",
     "text": [
      "emp_id,emp_name,salary,address,dept,Desination\n",
      "1,\"Mohan Sharma\",67890.9,Noida,IT,Manager\n",
      "2,\"karan Sharma\",78890.9,Delhi,Hr,Manager\n",
      "3,\"Nitin Verma\",98990.9,Goa,Sales,Head\n",
      "4,\"Ravi Malhotra\",98987,Faridabad,Marketing,Head\n",
      "5,\"Saurabh Sharma\",67809.9,Noida,Admin,Incharge\n"
     ]
    }
   ],
   "source": [
    "for i in data:\n",
    "    print(i,end='')"
   ]
  },
  {
   "cell_type": "code",
   "execution_count": 73,
   "id": "e629e2a8",
   "metadata": {},
   "outputs": [],
   "source": [
    "file = open('sandeep.py')\n",
    "data = file.read()\n",
    "file.close()\n",
    "\n"
   ]
  },
  {
   "cell_type": "code",
   "execution_count": 74,
   "id": "7191b586",
   "metadata": {},
   "outputs": [
    {
     "name": "stdout",
     "output_type": "stream",
     "text": [
      "def greet():\n",
      "    name = input('Enter your name: ')\n",
      "    print(f'Hello {name}, How are you??')    \n",
      "    \n",
      "    \n",
      "def multiply():\n",
      "    a = int(input('Enter number one: '))\n",
      "    b = int(input('Enter number two: '))\n",
      "    c = int(input('Enter number three: '))\n",
      "    d = int(input('Enter number four: '))\n",
      "    \n",
      "    print(a*b*c*d)\n",
      "    \n",
      "    \n",
      "def greet_with_intro(name,age,address,salary,company_name):\n",
      "    '''This function is created by Gaurav, and it takes\n",
      "    name,age,address,salary and company name as an arguments\n",
      "    ex: greet_with_intro(\"Aditya Kumar\",23,\"Noida\",56789,'Ola')\n",
      "    Thanks\n",
      "    '''\n",
      "    print(f'Hello Mr {name}, how are you, nice to meet you!!')\n",
      "    print(f'You are {age} years old')\n",
      "    print(f'Your Address is {address}')\n",
      "    print(f'Your current company is {company_name}')\n",
      "    print(f'Your inhand salary is {salary}')\n",
      "    \n",
      "    \n",
      "def check_intro(name = None,\n",
      "                 age = None,\n",
      "                 address = None,\n",
      "                 salary = None,\n",
      "                 company_name = None):\n",
      "    \n",
      "    '''This function is created by Gaurav, and it takes\n",
      "    name,age,address,salary and company name as an arguments\n",
      "    ex: greet_with_intro(\"Aditya Kumar\",23,\"Noida\",56789,'Ola')\n",
      "    Thanks\n",
      "    '''\n",
      "    \n",
      "    if name == age == address == salary == company_name == None:\n",
      "        print('Pass atleast some arguments')\n",
      "        \n",
      "    else:\n",
      "        print(f'Hello Mr {name}, how are you, nice to meet you!!')\n",
      "        print(f'You are {age} years old')\n",
      "        print(f'Your Address is {address}')\n",
      "        print(f'Your current company is {company_name}')\n",
      "        print(f'Your inhand salary is {salary}')\n",
      "        \n",
      "        \n",
      "def summ(data:'list[int/float/complex],tuple[int/float/complex]') ->int:\n",
      "    \n",
      "    '''It will take list/tuple as an argument\n",
      "    and return it's total value'''\n",
      "    \n",
      "    if type(data) in [list,tuple]:\n",
      "        total = 0\n",
      "        \n",
      "        for i in data:\n",
      "            if type(i)  in [int,float,complex]:\n",
      "                total+=i\n",
      "            else:\n",
      "                print('Incorrect Datatype inside your data!!')\n",
      "                total = None\n",
      "                break\n",
      "        \n",
      "        return total\n",
      "    \n",
      "    else:\n",
      "        print('Pass list or tuple as an argument')\n",
      "        \n",
      "        \n",
      "def minn(data):\n",
      "    my_min = data[0]\n",
      "    \n",
      "    for i in data:\n",
      "        if i<my_min:\n",
      "            my_min = i\n",
      "            \n",
      "    return my_min\n",
      "\n",
      "\n",
      "def maxx(data):\n",
      "    my_max = data[0]\n",
      "    \n",
      "    for element in data:\n",
      "        if element>my_max:\n",
      "            my_max = element\n",
      "    return my_max \n",
      "\n",
      "\n",
      "def factorial(data:int):\n",
      "    \n",
      "    result = 1\n",
      "    \n",
      "    for i in range(1,data+1):\n",
      "        result*= i\n",
      "    \n",
      "    return result\n",
      "\n",
      "\n",
      "def check_anagrams(word1,word2):\n",
      "    word1,word2 = word1.lower(),word2.lower()\n",
      "        \n",
      "    dict1 = {}\n",
      "    for i in word1:\n",
      "        dict1[i] = word1.count(i)\n",
      "        \n",
      "    dict2 = {}\n",
      "    for j in word2:\n",
      "        dict2[j] = word2.count(j)\n",
      "#     print(dict1,dict2)\n",
      "    if dict1 == dict2:\n",
      "        print('Yes both words are Anagrams')\n",
      "        \n",
      "    else:\n",
      "        print('Yes both words are not Anagrams')\n",
      "    \n",
      "    \n",
      "    \n",
      "def get_fibonacci(number:int)-> list:\n",
      "    fibbo = [0,1]\n",
      "    \n",
      "    for i in range(number-2):\n",
      "        fibbo.append(fibbo[-1]+fibbo[-2])\n",
      "    return fibbo\n",
      "\n",
      "\n",
      "def ye_count_karke_dega(kisme,kya):\n",
      "    if type(kisme) == int:\n",
      "        kisme = str(kisme)\n",
      "        kya = str(kya)\n",
      "        \n",
      "    ginno = 0\n",
      "    for i in kisme:\n",
      "        if i == kya:\n",
      "            ginno+=1\n",
      "    return ginno\n",
      "\n",
      "\n",
      "def check_armstrong(number):\n",
      "    p = len(str(number))\n",
      "    \n",
      "    result = 0\n",
      "    \n",
      "    for i in str(number):\n",
      "        result+=int(i)**p\n",
      "        \n",
      "    return result == number\n"
     ]
    }
   ],
   "source": [
    "print(data)"
   ]
  },
  {
   "cell_type": "code",
   "execution_count": 76,
   "id": "54969e2c",
   "metadata": {},
   "outputs": [
    {
     "name": "stdout",
     "output_type": "stream",
     "text": [
      "Help on module sandeep:\n",
      "\n",
      "NAME\n",
      "    sandeep\n",
      "\n",
      "FUNCTIONS\n",
      "    check_anagrams(word1, word2)\n",
      "    \n",
      "    check_armstrong(number)\n",
      "    \n",
      "    check_intro(name=None, age=None, address=None, salary=None, company_name=None)\n",
      "        This function is created by Gaurav, and it takes\n",
      "        name,age,address,salary and company name as an arguments\n",
      "        ex: greet_with_intro(\"Aditya Kumar\",23,\"Noida\",56789,'Ola')\n",
      "        Thanks\n",
      "    \n",
      "    factorial(data: int)\n",
      "    \n",
      "    get_fibonacci(number: int) -> list\n",
      "    \n",
      "    greet()\n",
      "    \n",
      "    greet_with_intro(name, age, address, salary, company_name)\n",
      "        This function is created by Gaurav, and it takes\n",
      "        name,age,address,salary and company name as an arguments\n",
      "        ex: greet_with_intro(\"Aditya Kumar\",23,\"Noida\",56789,'Ola')\n",
      "        Thanks\n",
      "    \n",
      "    maxx(data)\n",
      "    \n",
      "    minn(data)\n",
      "    \n",
      "    multiply()\n",
      "    \n",
      "    summ(data: 'list[int/float/complex],tuple[int/float/complex]') -> int\n",
      "        It will take list/tuple as an argument\n",
      "        and return it's total value\n",
      "    \n",
      "    ye_count_karke_dega(kisme, kya)\n",
      "\n",
      "FILE\n",
      "    c:\\users\\lenovo\\newbatch_11_12_python\\sandeep.py\n",
      "\n",
      "\n"
     ]
    }
   ],
   "source": [
    "help('sandeep')"
   ]
  },
  {
   "cell_type": "markdown",
   "id": "995f106e",
   "metadata": {},
   "source": [
    "# day 31"
   ]
  },
  {
   "cell_type": "code",
   "execution_count": 77,
   "id": "05681004",
   "metadata": {},
   "outputs": [
    {
     "name": "stdout",
     "output_type": "stream",
     "text": [
      "Done\n"
     ]
    }
   ],
   "source": [
    "# write:- how to write a txt file\n",
    "\n",
    "code = '''print(\"Hello World\")\n",
    "x = 12\n",
    "y = 13\n",
    "print(x+y)'''\n",
    "\n",
    "\n",
    "file = open('ezra.py','w')\n",
    "\n",
    "file.write(code)\n",
    "\n",
    "file.close()\n",
    "\n",
    "print('Done')"
   ]
  },
  {
   "cell_type": "code",
   "execution_count": 78,
   "id": "76fdbfc1",
   "metadata": {},
   "outputs": [
    {
     "name": "stdout",
     "output_type": "stream",
     "text": [
      "Hello World\n",
      "25\n"
     ]
    }
   ],
   "source": [
    "execfile('ezra.py')"
   ]
  },
  {
   "cell_type": "code",
   "execution_count": 79,
   "id": "f69f3a1c",
   "metadata": {},
   "outputs": [
    {
     "name": "stdout",
     "output_type": "stream",
     "text": [
      "Hello World\n",
      "25\n"
     ]
    }
   ],
   "source": [
    "exec(code)"
   ]
  },
  {
   "cell_type": "code",
   "execution_count": 86,
   "id": "73e9336e",
   "metadata": {},
   "outputs": [],
   "source": [
    "code = '''for i in range(1,11):\n",
    "            print(2*i)'''"
   ]
  },
  {
   "cell_type": "code",
   "execution_count": 89,
   "id": "503e06db",
   "metadata": {},
   "outputs": [
    {
     "name": "stdout",
     "output_type": "stream",
     "text": [
      "done\n"
     ]
    }
   ],
   "source": [
    "file = open('Hello.txt','w')\n",
    "\n",
    "file.write('Hello!!')\n",
    "\n",
    "file.close()\n",
    "\n",
    "print('done')"
   ]
  },
  {
   "cell_type": "code",
   "execution_count": 91,
   "id": "d3207f16",
   "metadata": {},
   "outputs": [
    {
     "name": "stdout",
     "output_type": "stream",
     "text": [
      "done\n"
     ]
    }
   ],
   "source": [
    "file = open('table.txt','w')\n",
    "\n",
    "for i in range(1,11):\n",
    "    file.write((f'{3} x {i} = {3*i}\\n'))\n",
    "file.close()\n",
    "print('done')"
   ]
  },
  {
   "cell_type": "code",
   "execution_count": 93,
   "id": "e8048479",
   "metadata": {},
   "outputs": [
    {
     "name": "stdout",
     "output_type": "stream",
     "text": [
      "2024-05-13 12:50:32.795484\n"
     ]
    }
   ],
   "source": [
    "from datetime import datetime\n",
    "\n",
    "date = datetime.now()\n",
    "print(date)"
   ]
  },
  {
   "cell_type": "code",
   "execution_count": 95,
   "id": "40071ffd",
   "metadata": {},
   "outputs": [
    {
     "name": "stdout",
     "output_type": "stream",
     "text": [
      "done\n"
     ]
    }
   ],
   "source": [
    "data = [str(date),'\\nPython is awesome\\n','we are in noida\\n','This file has been created with the help of python file handling']\n",
    "\n",
    "\n",
    "f = open(r\"C:\\Users\\Lenovo\\Desktop\\watch.txt\",'w')\n",
    "\n",
    "f.writelines(data)\n",
    "\n",
    "f.close()\n",
    "print('done')"
   ]
  },
  {
   "cell_type": "code",
   "execution_count": null,
   "id": "9539d98b",
   "metadata": {},
   "outputs": [],
   "source": []
  },
  {
   "cell_type": "code",
   "execution_count": null,
   "id": "454aa5d4",
   "metadata": {},
   "outputs": [],
   "source": []
  },
  {
   "cell_type": "code",
   "execution_count": 102,
   "id": "6c676529",
   "metadata": {},
   "outputs": [
    {
     "name": "stdout",
     "output_type": "stream",
     "text": [
      "Enter patient name: \n",
      "Enter age: \n",
      "Enter Address: \n",
      "Patient insured or not(yes/no): \n",
      "Enter Phone number: \n",
      "Enter Past diagnosis: \n",
      "Done\n"
     ]
    }
   ],
   "source": [
    "# Patient details enter save as txt\n",
    "\n",
    "import random\n",
    "\n",
    "pid = random.randint(1111111,9999999)\n",
    "name = input('Enter patient name: ')\n",
    "age = input('Enter age: ')\n",
    "address = input('Enter Address: ')\n",
    "insurance = input('Patient insured or not(yes/no): ')\n",
    "phone = input('Enter Phone number: ')\n",
    "medical_history = input('Enter Past diagnosis: ')\n",
    "\n",
    "data = [str(date).center(95,' '),name,age,address,insurance,phone,medical_history]\n",
    "\n",
    "all_col = ['Date','Name','Age','Address','Insurance','Phone','Medical_history']\n",
    "\n",
    "f = open(f\"C:\\\\Users\\\\Lenovo\\\\Desktop\\\\{name}_{pid}.txt\",'w')\n",
    "\n",
    "f.write('Paatil Hospital!!'.center(90,'*')+'\\n')\n",
    "\n",
    "for i,j in zip(all_col,data):\n",
    "    f.write(i+'\\t\\t\\t'+j+'\\n')\n",
    "f.close()\n",
    "print('Done')"
   ]
  },
  {
   "cell_type": "code",
   "execution_count": 103,
   "id": "1510e1b1",
   "metadata": {},
   "outputs": [],
   "source": [
    "import os"
   ]
  },
  {
   "cell_type": "code",
   "execution_count": 109,
   "id": "13d98829",
   "metadata": {},
   "outputs": [],
   "source": [
    "# os.open(r\"C:\\Users\\Lenovo\\Desktop\\Gaurav Verma_6845993.txt\",mode='print')"
   ]
  },
  {
   "cell_type": "code",
   "execution_count": 1,
   "id": "c8f01a19",
   "metadata": {},
   "outputs": [],
   "source": [
    "# python File Handle\n",
    "\n",
    "# read, write"
   ]
  },
  {
   "cell_type": "code",
   "execution_count": 2,
   "id": "8c376a85",
   "metadata": {},
   "outputs": [
    {
     "name": "stdout",
     "output_type": "stream",
     "text": [
      "Done\n"
     ]
    }
   ],
   "source": [
    "a = open('sandeep.txt','w')\n",
    "\n",
    "a.write('This is a python file handling class!!')\n",
    "\n",
    "a.close()\n",
    "\n",
    "print('Done')"
   ]
  },
  {
   "cell_type": "code",
   "execution_count": 3,
   "id": "2c0e630d",
   "metadata": {},
   "outputs": [
    {
     "name": "stdout",
     "output_type": "stream",
     "text": [
      "Done\n"
     ]
    }
   ],
   "source": [
    "a = open('sandeep.txt','w')\n",
    "\n",
    "a.write('This is going to be inplace of original line!!')\n",
    "\n",
    "a.close()\n",
    "\n",
    "print('Done')"
   ]
  },
  {
   "cell_type": "code",
   "execution_count": 8,
   "id": "ff6457f5",
   "metadata": {},
   "outputs": [
    {
     "name": "stdout",
     "output_type": "stream",
     "text": [
      "Done\n"
     ]
    }
   ],
   "source": [
    "# mode :- append (a)\n",
    "\n",
    "a = open('sandeep.txt','a')\n",
    "\n",
    "a.write('\\nThis is line number 10')\n",
    "\n",
    "a.close()\n",
    "\n",
    "print('Done')"
   ]
  },
  {
   "cell_type": "code",
   "execution_count": null,
   "id": "5b45be5d",
   "metadata": {},
   "outputs": [],
   "source": []
  },
  {
   "cell_type": "code",
   "execution_count": 9,
   "id": "cf6bc972",
   "metadata": {},
   "outputs": [
    {
     "ename": "FileExistsError",
     "evalue": "[Errno 17] File exists: 'sandeep.txt'",
     "output_type": "error",
     "traceback": [
      "\u001b[1;31m---------------------------------------------------------------------------\u001b[0m",
      "\u001b[1;31mFileExistsError\u001b[0m                           Traceback (most recent call last)",
      "Cell \u001b[1;32mIn[9], line 3\u001b[0m\n\u001b[0;32m      1\u001b[0m \u001b[38;5;66;03m# mode:- x\u001b[39;00m\n\u001b[1;32m----> 3\u001b[0m f \u001b[38;5;241m=\u001b[39m \u001b[38;5;28mopen\u001b[39m(\u001b[38;5;124m'\u001b[39m\u001b[38;5;124msandeep.txt\u001b[39m\u001b[38;5;124m'\u001b[39m,\u001b[38;5;124m'\u001b[39m\u001b[38;5;124mx\u001b[39m\u001b[38;5;124m'\u001b[39m)\n\u001b[0;32m      5\u001b[0m f\u001b[38;5;241m.\u001b[39mwrite(\u001b[38;5;124m'\u001b[39m\u001b[38;5;124mThis is line number1\u001b[39m\u001b[38;5;124m'\u001b[39m)\n\u001b[0;32m      7\u001b[0m f\u001b[38;5;241m.\u001b[39mclose()\n",
      "File \u001b[1;32m~\\anaconda3\\Lib\\site-packages\\IPython\\core\\interactiveshell.py:310\u001b[0m, in \u001b[0;36m_modified_open\u001b[1;34m(file, *args, **kwargs)\u001b[0m\n\u001b[0;32m    303\u001b[0m \u001b[38;5;28;01mif\u001b[39;00m file \u001b[38;5;129;01min\u001b[39;00m {\u001b[38;5;241m0\u001b[39m, \u001b[38;5;241m1\u001b[39m, \u001b[38;5;241m2\u001b[39m}:\n\u001b[0;32m    304\u001b[0m     \u001b[38;5;28;01mraise\u001b[39;00m \u001b[38;5;167;01mValueError\u001b[39;00m(\n\u001b[0;32m    305\u001b[0m         \u001b[38;5;124mf\u001b[39m\u001b[38;5;124m\"\u001b[39m\u001b[38;5;124mIPython won\u001b[39m\u001b[38;5;124m'\u001b[39m\u001b[38;5;124mt let you open fd=\u001b[39m\u001b[38;5;132;01m{\u001b[39;00mfile\u001b[38;5;132;01m}\u001b[39;00m\u001b[38;5;124m by default \u001b[39m\u001b[38;5;124m\"\u001b[39m\n\u001b[0;32m    306\u001b[0m         \u001b[38;5;124m\"\u001b[39m\u001b[38;5;124mas it is likely to crash IPython. If you know what you are doing, \u001b[39m\u001b[38;5;124m\"\u001b[39m\n\u001b[0;32m    307\u001b[0m         \u001b[38;5;124m\"\u001b[39m\u001b[38;5;124myou can use builtins\u001b[39m\u001b[38;5;124m'\u001b[39m\u001b[38;5;124m open.\u001b[39m\u001b[38;5;124m\"\u001b[39m\n\u001b[0;32m    308\u001b[0m     )\n\u001b[1;32m--> 310\u001b[0m \u001b[38;5;28;01mreturn\u001b[39;00m io_open(file, \u001b[38;5;241m*\u001b[39margs, \u001b[38;5;241m*\u001b[39m\u001b[38;5;241m*\u001b[39mkwargs)\n",
      "\u001b[1;31mFileExistsError\u001b[0m: [Errno 17] File exists: 'sandeep.txt'"
     ]
    }
   ],
   "source": [
    "# mode:- x\n",
    "\n",
    "f = open('sandeep.txt','x')\n",
    "\n",
    "f.write('This is line number1')\n",
    "\n",
    "f.close()\n",
    "print('done')"
   ]
  },
  {
   "cell_type": "code",
   "execution_count": 10,
   "id": "7959fad3",
   "metadata": {},
   "outputs": [
    {
     "name": "stdout",
     "output_type": "stream",
     "text": [
      "done\n"
     ]
    }
   ],
   "source": [
    "# mode:- x\n",
    "\n",
    "f = open('sandeeep.txt','x')\n",
    "\n",
    "f.write('This is line number1')\n",
    "\n",
    "f.close()\n",
    "print('done')"
   ]
  },
  {
   "cell_type": "code",
   "execution_count": 11,
   "id": "1f37b5c2",
   "metadata": {},
   "outputs": [],
   "source": [
    "# r,w,a,x"
   ]
  },
  {
   "cell_type": "code",
   "execution_count": 12,
   "id": "0b02c770",
   "metadata": {},
   "outputs": [
    {
     "ename": "UnsupportedOperation",
     "evalue": "not writable",
     "output_type": "error",
     "traceback": [
      "\u001b[1;31m---------------------------------------------------------------------------\u001b[0m",
      "\u001b[1;31mUnsupportedOperation\u001b[0m                      Traceback (most recent call last)",
      "Cell \u001b[1;32mIn[12], line 3\u001b[0m\n\u001b[0;32m      1\u001b[0m f \u001b[38;5;241m=\u001b[39m \u001b[38;5;28mopen\u001b[39m(\u001b[38;5;124m'\u001b[39m\u001b[38;5;124msandeep.txt\u001b[39m\u001b[38;5;124m'\u001b[39m)\n\u001b[1;32m----> 3\u001b[0m f\u001b[38;5;241m.\u001b[39mwrite(\u001b[38;5;124m'\u001b[39m\u001b[38;5;124mWrite this line!!\u001b[39m\u001b[38;5;124m'\u001b[39m)\n\u001b[0;32m      5\u001b[0m f\u001b[38;5;241m.\u001b[39mclose()\n\u001b[0;32m      6\u001b[0m \u001b[38;5;28mprint\u001b[39m(\u001b[38;5;124m'\u001b[39m\u001b[38;5;124mDone\u001b[39m\u001b[38;5;124m'\u001b[39m)\n",
      "\u001b[1;31mUnsupportedOperation\u001b[0m: not writable"
     ]
    }
   ],
   "source": [
    "f = open('sandeep.txt')\n",
    "\n",
    "f.write('Write this line!!')\n",
    "\n",
    "f.close()\n",
    "print('Done')"
   ]
  },
  {
   "cell_type": "code",
   "execution_count": 13,
   "id": "9ef967da",
   "metadata": {},
   "outputs": [
    {
     "ename": "UnsupportedOperation",
     "evalue": "not readable",
     "output_type": "error",
     "traceback": [
      "\u001b[1;31m---------------------------------------------------------------------------\u001b[0m",
      "\u001b[1;31mUnsupportedOperation\u001b[0m                      Traceback (most recent call last)",
      "Cell \u001b[1;32mIn[13], line 3\u001b[0m\n\u001b[0;32m      1\u001b[0m f \u001b[38;5;241m=\u001b[39m \u001b[38;5;28mopen\u001b[39m(\u001b[38;5;124m'\u001b[39m\u001b[38;5;124msandeep.txt\u001b[39m\u001b[38;5;124m'\u001b[39m,\u001b[38;5;124m'\u001b[39m\u001b[38;5;124mw\u001b[39m\u001b[38;5;124m'\u001b[39m)\n\u001b[1;32m----> 3\u001b[0m f\u001b[38;5;241m.\u001b[39mread()\n\u001b[0;32m      5\u001b[0m f\u001b[38;5;241m.\u001b[39mclose()\n\u001b[0;32m      6\u001b[0m \u001b[38;5;28mprint\u001b[39m(\u001b[38;5;124m'\u001b[39m\u001b[38;5;124mDone\u001b[39m\u001b[38;5;124m'\u001b[39m)\n",
      "\u001b[1;31mUnsupportedOperation\u001b[0m: not readable"
     ]
    }
   ],
   "source": [
    "f = open('sandeep.txt','w')\n",
    "\n",
    "f.read()\n",
    "\n",
    "f.close()\n",
    "print('Done')"
   ]
  },
  {
   "cell_type": "code",
   "execution_count": 17,
   "id": "0cb4001f",
   "metadata": {},
   "outputs": [
    {
     "name": "stdout",
     "output_type": "stream",
     "text": [
      "Done\n"
     ]
    }
   ],
   "source": [
    "# mode: +\n",
    "\n",
    "\n",
    "f = open('sandeep.txt','r+')\n",
    "\n",
    "f.write('Write this line!!')\n",
    "\n",
    "f.seek(5)\n",
    "data = f.read()\n",
    "\n",
    "f.close()\n",
    "print('Done')"
   ]
  },
  {
   "cell_type": "code",
   "execution_count": 18,
   "id": "faa51fa5",
   "metadata": {},
   "outputs": [
    {
     "name": "stdout",
     "output_type": "stream",
     "text": [
      " this line!!\n"
     ]
    }
   ],
   "source": [
    "print(data)"
   ]
  },
  {
   "cell_type": "code",
   "execution_count": null,
   "id": "bff706a8",
   "metadata": {},
   "outputs": [],
   "source": []
  },
  {
   "cell_type": "code",
   "execution_count": 19,
   "id": "c6689e90",
   "metadata": {},
   "outputs": [
    {
     "name": "stdout",
     "output_type": "stream",
     "text": [
      "Done\n"
     ]
    }
   ],
   "source": [
    "# mode: +\n",
    "\n",
    "\n",
    "f = open('sandeep.txt','w+')\n",
    "\n",
    "f.write('Write this line!!')\n",
    "\n",
    "f.seek(5)\n",
    "data = f.read()\n",
    "\n",
    "f.close()\n",
    "print('Done')"
   ]
  },
  {
   "cell_type": "code",
   "execution_count": 20,
   "id": "422bbcdb",
   "metadata": {},
   "outputs": [
    {
     "name": "stdout",
     "output_type": "stream",
     "text": [
      " this line!!\n"
     ]
    }
   ],
   "source": [
    "print(data)"
   ]
  },
  {
   "cell_type": "code",
   "execution_count": 24,
   "id": "2b8ce594",
   "metadata": {},
   "outputs": [],
   "source": [
    "# mode: = 'a+'\n",
    "\n",
    "f = open('sandeep.txt','a+')\n",
    "\n",
    "f.write('\\nAdd this line number 4!!')\n",
    "\n",
    "f.seek(0)\n",
    "\n",
    "data = f.read()\n",
    "\n",
    "f.close()"
   ]
  },
  {
   "cell_type": "code",
   "execution_count": 25,
   "id": "e0d1ae6a",
   "metadata": {},
   "outputs": [
    {
     "name": "stdout",
     "output_type": "stream",
     "text": [
      "Write this line!!\n",
      "Add this line number 2!!\n",
      "Add this line number 3!!\n",
      "Add this line number 4!!\n",
      "Add this line number 4!!\n"
     ]
    }
   ],
   "source": [
    "print(data)"
   ]
  },
  {
   "cell_type": "code",
   "execution_count": 26,
   "id": "f0b79a96",
   "metadata": {},
   "outputs": [
    {
     "name": "stdout",
     "output_type": "stream",
     "text": [
      "Done\n"
     ]
    }
   ],
   "source": [
    "# mode: 'x+'\n",
    "\n",
    "\n",
    "f = open('newfile.txt','x+')\n",
    "\n",
    "f.write('We are in Noida!!\\n')\n",
    "f.write('We are learning Python File handling!!')\n",
    "\n",
    "f.seek(0)\n",
    "data = f.read()\n",
    "\n",
    "f.close()\n",
    "\n",
    "print('Done')"
   ]
  },
  {
   "cell_type": "code",
   "execution_count": 27,
   "id": "d9f58a48",
   "metadata": {},
   "outputs": [
    {
     "name": "stdout",
     "output_type": "stream",
     "text": [
      "We are in Noida!!\n",
      "We are learning Python File handling!!\n"
     ]
    }
   ],
   "source": [
    "print(data)"
   ]
  },
  {
   "cell_type": "code",
   "execution_count": 28,
   "id": "985c617b",
   "metadata": {},
   "outputs": [],
   "source": [
    "# mode:-\n",
    "# r,w,a,x,r+,w+,a+,x+"
   ]
  },
  {
   "cell_type": "code",
   "execution_count": 29,
   "id": "49682e05",
   "metadata": {},
   "outputs": [],
   "source": [
    "# task 1 how to create a copy of a file"
   ]
  },
  {
   "cell_type": "code",
   "execution_count": 30,
   "id": "d0ae4d71",
   "metadata": {},
   "outputs": [
    {
     "name": "stdout",
     "output_type": "stream",
     "text": [
      "Done\n"
     ]
    }
   ],
   "source": [
    "f = open(r\"C:\\Users\\Lenovo\\Desktop\\Gaurav Verma_6845993.txt\")\n",
    "data = f.read()\n",
    "\n",
    "f.close()\n",
    "\n",
    "\n",
    "\n",
    "nf = open(r\"C:\\Users\\Lenovo\\Desktop\\Gaurav Verma_6845993_copy.txt\",'w')\n",
    "\n",
    "nf.write(data)\n",
    "\n",
    "nf.close()\n",
    "\n",
    "print('Done')"
   ]
  },
  {
   "cell_type": "code",
   "execution_count": 31,
   "id": "47b8f0d7",
   "metadata": {},
   "outputs": [],
   "source": [
    "nf = open(r\"C:\\Users\\Lenovo\\Desktop\\Gaurav Verma_6845993_copy.txt\",'w')\n",
    "\n",
    "nf.write('')\n",
    "\n",
    "nf.close()"
   ]
  },
  {
   "cell_type": "code",
   "execution_count": 32,
   "id": "7554f43d",
   "metadata": {},
   "outputs": [],
   "source": [
    "# remove delete file from system"
   ]
  },
  {
   "cell_type": "code",
   "execution_count": 33,
   "id": "588b0a07",
   "metadata": {},
   "outputs": [],
   "source": [
    "import os"
   ]
  },
  {
   "cell_type": "code",
   "execution_count": 34,
   "id": "83abb8ce",
   "metadata": {},
   "outputs": [
    {
     "name": "stdout",
     "output_type": "stream",
     "text": [
      "File Removed successfully!!!\n"
     ]
    }
   ],
   "source": [
    "os.remove(r\"C:\\Users\\Lenovo\\Desktop\\_6415755.txt\")\n",
    "print('File Removed successfully!!!')"
   ]
  },
  {
   "cell_type": "code",
   "execution_count": 39,
   "id": "5855c568",
   "metadata": {},
   "outputs": [],
   "source": [
    "all_files = os.listdir(r\"C:\\Users\\Lenovo\\Desktop\\gaurav_all_Files\")"
   ]
  },
  {
   "cell_type": "code",
   "execution_count": 41,
   "id": "672976cd",
   "metadata": {},
   "outputs": [
    {
     "name": "stdout",
     "output_type": "stream",
     "text": [
      "Done\n"
     ]
    }
   ],
   "source": [
    "for i in all_files:\n",
    "    os.remove(f\"C:\\\\Users\\\\Lenovo\\\\Desktop\\\\gaurav_all_Files\\\\{i}\")\n",
    "    \n",
    "print('Done')"
   ]
  },
  {
   "cell_type": "code",
   "execution_count": 42,
   "id": "7452b547",
   "metadata": {},
   "outputs": [],
   "source": [
    "os.removedirs(r\"C:\\Users\\Lenovo\\Desktop\\gaurav_all_Files\")"
   ]
  },
  {
   "cell_type": "code",
   "execution_count": 43,
   "id": "0650590e",
   "metadata": {},
   "outputs": [],
   "source": [
    "# context manager"
   ]
  },
  {
   "cell_type": "code",
   "execution_count": 44,
   "id": "6b36a6a4",
   "metadata": {},
   "outputs": [],
   "source": [
    "# f = open()\n",
    "# f.close()"
   ]
  },
  {
   "cell_type": "code",
   "execution_count": 46,
   "id": "62db602e",
   "metadata": {},
   "outputs": [
    {
     "name": "stdout",
     "output_type": "stream",
     "text": [
      "Done\n"
     ]
    }
   ],
   "source": [
    "with open('sandeep.txt','a+') as f:\n",
    "    f.write('\\nAppend This Line')\n",
    "    f.write('\\nWrite this!!')\n",
    "    \n",
    "print('Done')"
   ]
  },
  {
   "cell_type": "code",
   "execution_count": 47,
   "id": "4ed993b7",
   "metadata": {},
   "outputs": [
    {
     "name": "stdout",
     "output_type": "stream",
     "text": [
      "Done\n"
     ]
    }
   ],
   "source": [
    "with open(r\"C:\\Users\\Lenovo\\Desktop\\Ajay Verma_3298023.txt\") as f:  \n",
    "    \n",
    "    with open(r\"C:\\Users\\Lenovo\\Desktop\\Ajay Verma_3298023_copy.txt\",'w') as nf:\n",
    "        nf.write(f.read())\n",
    "        \n",
    "    print('Done')"
   ]
  },
  {
   "cell_type": "code",
   "execution_count": null,
   "id": "f2e117e9",
   "metadata": {},
   "outputs": [],
   "source": []
  },
  {
   "cell_type": "code",
   "execution_count": null,
   "id": "75792e84",
   "metadata": {},
   "outputs": [],
   "source": []
  },
  {
   "cell_type": "code",
   "execution_count": null,
   "id": "6113f463",
   "metadata": {},
   "outputs": [],
   "source": []
  },
  {
   "cell_type": "markdown",
   "id": "07210c03",
   "metadata": {},
   "source": [
    "# Binary File"
   ]
  },
  {
   "cell_type": "code",
   "execution_count": 48,
   "id": "8f550778",
   "metadata": {},
   "outputs": [],
   "source": [
    "# copy create\n",
    "# data write\n",
    "# read"
   ]
  },
  {
   "cell_type": "code",
   "execution_count": 50,
   "id": "6f19382c",
   "metadata": {},
   "outputs": [
    {
     "name": "stdout",
     "output_type": "stream",
     "text": [
      "Done\n"
     ]
    }
   ],
   "source": [
    "f = open(r\"C:\\Users\\Lenovo\\Desktop\\bar_copy.jpeg\",'rb')\n",
    "data = f.read()\n",
    "f.close()\n",
    "print('Done')"
   ]
  },
  {
   "cell_type": "code",
   "execution_count": 52,
   "id": "d894c374",
   "metadata": {},
   "outputs": [
    {
     "data": {
      "text/plain": [
       "bytes"
      ]
     },
     "execution_count": 52,
     "metadata": {},
     "output_type": "execute_result"
    }
   ],
   "source": [
    "type(data)"
   ]
  },
  {
   "cell_type": "code",
   "execution_count": 53,
   "id": "01cb4713",
   "metadata": {},
   "outputs": [],
   "source": [
    "# bytes"
   ]
  },
  {
   "cell_type": "code",
   "execution_count": 56,
   "id": "bc94cdea",
   "metadata": {},
   "outputs": [
    {
     "name": "stdout",
     "output_type": "stream",
     "text": [
      "Done\n"
     ]
    }
   ],
   "source": [
    "nf = open(r\"C:\\Users\\Lenovo\\Desktop\\bar_copy_copy123.jpeg\",'wb')\n",
    "\n",
    "nf.write(data)\n",
    "\n",
    "nf.close()\n",
    "print('Done')"
   ]
  },
  {
   "cell_type": "code",
   "execution_count": null,
   "id": "eb9d224b",
   "metadata": {},
   "outputs": [],
   "source": []
  },
  {
   "cell_type": "code",
   "execution_count": null,
   "id": "e961fa47",
   "metadata": {},
   "outputs": [],
   "source": []
  },
  {
   "cell_type": "code",
   "execution_count": 57,
   "id": "c2731ad8",
   "metadata": {},
   "outputs": [
    {
     "name": "stdout",
     "output_type": "stream",
     "text": [
      "Done\n"
     ]
    }
   ],
   "source": [
    "with open(r\"C:\\Users\\Lenovo\\Desktop\\web_image.jpg\",'rb') as f1:\n",
    "    with open(r\"C:\\Users\\Lenovo\\Desktop\\web_image_copy.jpg\",'wb') as f2:\n",
    "        f2.write(f1.read())\n",
    "        \n",
    "print('Done')"
   ]
  },
  {
   "cell_type": "code",
   "execution_count": null,
   "id": "a2a011f3",
   "metadata": {},
   "outputs": [],
   "source": [
    "\"C:\\Users\\Lenovo\\Desktop\\web_image_copy.jpg\"\n",
    "\n",
    "f\"C:\\Users\\Lenovo\\Desktop\\web_image_{fname}.jpg\""
   ]
  },
  {
   "cell_type": "code",
   "execution_count": 63,
   "id": "a8d69f29",
   "metadata": {},
   "outputs": [],
   "source": [
    "temp_path = r\"C:\\Users\\Lenovo\\Desktop\\web_image_copy.jpg\".split('.')\n",
    "temp_path.insert(1,\"_Myfile.\")"
   ]
  },
  {
   "cell_type": "code",
   "execution_count": 64,
   "id": "46799c8b",
   "metadata": {},
   "outputs": [
    {
     "data": {
      "text/plain": [
       "'C:\\\\Users\\\\Lenovo\\\\Desktop\\\\web_image_copy_Myfile.jpg'"
      ]
     },
     "execution_count": 64,
     "metadata": {},
     "output_type": "execute_result"
    }
   ],
   "source": [
    "''.join(temp_path)"
   ]
  },
  {
   "cell_type": "code",
   "execution_count": 65,
   "id": "5536bd60",
   "metadata": {},
   "outputs": [],
   "source": [
    "def give_copy(path,fname):\n",
    "    with open(path,'rb') as f:\n",
    "        \n",
    "        temp_path = path.split('.')\n",
    "        temp_path.insert(1,f\"_{fname}.\")\n",
    "        copy_path = ''.join(temp_path)\n",
    "        \n",
    "        with open(copy_path,'wb') as nf:\n",
    "            nf.write(f.read())\n",
    "    return 'Success'"
   ]
  },
  {
   "cell_type": "code",
   "execution_count": 69,
   "id": "29c9b9d1",
   "metadata": {},
   "outputs": [
    {
     "data": {
      "text/plain": [
       "'Success'"
      ]
     },
     "execution_count": 69,
     "metadata": {},
     "output_type": "execute_result"
    }
   ],
   "source": [
    "path = r\"C:\\Users\\Lenovo\\Desktop\\Test_copy.pbix\"\n",
    "name = 'my_bi_file'\n",
    "give_copy(path,name)"
   ]
  },
  {
   "cell_type": "code",
   "execution_count": null,
   "id": "40dfff37",
   "metadata": {},
   "outputs": [],
   "source": []
  },
  {
   "cell_type": "code",
   "execution_count": 72,
   "id": "5f4c3e83",
   "metadata": {},
   "outputs": [
    {
     "data": {
      "text/plain": [
       "'.lnk'"
      ]
     },
     "execution_count": 72,
     "metadata": {},
     "output_type": "execute_result"
    }
   ],
   "source": [
    "r\"C:\\Users\\Public\\Desktop\\PyCharm Community Edition 2023.2.lnk\"[56:]"
   ]
  },
  {
   "cell_type": "code",
   "execution_count": 74,
   "id": "8ad725ec",
   "metadata": {},
   "outputs": [],
   "source": [
    "temp_path = r\"C:\\Users\\Public\\Desktop\\PyCharm Community Edition 2023.2.lnk\"\n",
    "\n",
    "ex = temp_path[temp_path.rfind('.'):]"
   ]
  },
  {
   "cell_type": "code",
   "execution_count": 75,
   "id": "2d2ab601",
   "metadata": {},
   "outputs": [
    {
     "data": {
      "text/plain": [
       "'C:\\\\Users\\\\Public\\\\Desktop\\\\PyCharm Community Edition 2023.2my_bi_file.lnk'"
      ]
     },
     "execution_count": 75,
     "metadata": {},
     "output_type": "execute_result"
    }
   ],
   "source": [
    "name\n",
    "temp_path.replace(ex,f'{name}'+ex)"
   ]
  },
  {
   "cell_type": "code",
   "execution_count": 78,
   "id": "138693a0",
   "metadata": {},
   "outputs": [],
   "source": [
    "def give_copy(path,fname):\n",
    "    with open(path,'rb') as f:\n",
    "        \n",
    "        temp_path = path\n",
    "\n",
    "        ex = temp_path[temp_path.rfind('.'):]\n",
    "        \n",
    "        temp_path.replace(ex,f'{fname}'+ex)\n",
    "        \n",
    "        with open(temp_path,'wb') as nf:\n",
    "            nf.write(f.read())\n",
    "    return 'Success'"
   ]
  },
  {
   "cell_type": "code",
   "execution_count": 79,
   "id": "2e48379c",
   "metadata": {},
   "outputs": [
    {
     "ename": "PermissionError",
     "evalue": "[Errno 13] Permission denied: 'C:\\\\Users\\\\Public\\\\Desktop\\\\PyCharm Community Edition 2023.2.lnk'",
     "output_type": "error",
     "traceback": [
      "\u001b[1;31m---------------------------------------------------------------------------\u001b[0m",
      "\u001b[1;31mPermissionError\u001b[0m                           Traceback (most recent call last)",
      "Cell \u001b[1;32mIn[79], line 2\u001b[0m\n\u001b[0;32m      1\u001b[0m path \u001b[38;5;241m=\u001b[39m \u001b[38;5;124mr\u001b[39m\u001b[38;5;124m\"\u001b[39m\u001b[38;5;124mC:\u001b[39m\u001b[38;5;124m\\\u001b[39m\u001b[38;5;124mUsers\u001b[39m\u001b[38;5;124m\\\u001b[39m\u001b[38;5;124mPublic\u001b[39m\u001b[38;5;124m\\\u001b[39m\u001b[38;5;124mDesktop\u001b[39m\u001b[38;5;124m\\\u001b[39m\u001b[38;5;124mPyCharm Community Edition 2023.2.lnk\u001b[39m\u001b[38;5;124m\"\u001b[39m\n\u001b[1;32m----> 2\u001b[0m give_copy(path,\u001b[38;5;124m'\u001b[39m\u001b[38;5;124mjoker\u001b[39m\u001b[38;5;124m'\u001b[39m)\n",
      "Cell \u001b[1;32mIn[78], line 10\u001b[0m, in \u001b[0;36mgive_copy\u001b[1;34m(path, fname)\u001b[0m\n\u001b[0;32m      6\u001b[0m     ex \u001b[38;5;241m=\u001b[39m temp_path[temp_path\u001b[38;5;241m.\u001b[39mrfind(\u001b[38;5;124m'\u001b[39m\u001b[38;5;124m.\u001b[39m\u001b[38;5;124m'\u001b[39m):]\n\u001b[0;32m      8\u001b[0m     temp_path\u001b[38;5;241m.\u001b[39mreplace(ex,\u001b[38;5;124mf\u001b[39m\u001b[38;5;124m'\u001b[39m\u001b[38;5;132;01m{\u001b[39;00mfname\u001b[38;5;132;01m}\u001b[39;00m\u001b[38;5;124m'\u001b[39m\u001b[38;5;241m+\u001b[39mex)\n\u001b[1;32m---> 10\u001b[0m     \u001b[38;5;28;01mwith\u001b[39;00m \u001b[38;5;28mopen\u001b[39m(temp_path,\u001b[38;5;124m'\u001b[39m\u001b[38;5;124mwb\u001b[39m\u001b[38;5;124m'\u001b[39m) \u001b[38;5;28;01mas\u001b[39;00m nf:\n\u001b[0;32m     11\u001b[0m         nf\u001b[38;5;241m.\u001b[39mwrite(f\u001b[38;5;241m.\u001b[39mread())\n\u001b[0;32m     12\u001b[0m \u001b[38;5;28;01mreturn\u001b[39;00m \u001b[38;5;124m'\u001b[39m\u001b[38;5;124mSuccess\u001b[39m\u001b[38;5;124m'\u001b[39m\n",
      "File \u001b[1;32m~\\anaconda3\\Lib\\site-packages\\IPython\\core\\interactiveshell.py:310\u001b[0m, in \u001b[0;36m_modified_open\u001b[1;34m(file, *args, **kwargs)\u001b[0m\n\u001b[0;32m    303\u001b[0m \u001b[38;5;28;01mif\u001b[39;00m file \u001b[38;5;129;01min\u001b[39;00m {\u001b[38;5;241m0\u001b[39m, \u001b[38;5;241m1\u001b[39m, \u001b[38;5;241m2\u001b[39m}:\n\u001b[0;32m    304\u001b[0m     \u001b[38;5;28;01mraise\u001b[39;00m \u001b[38;5;167;01mValueError\u001b[39;00m(\n\u001b[0;32m    305\u001b[0m         \u001b[38;5;124mf\u001b[39m\u001b[38;5;124m\"\u001b[39m\u001b[38;5;124mIPython won\u001b[39m\u001b[38;5;124m'\u001b[39m\u001b[38;5;124mt let you open fd=\u001b[39m\u001b[38;5;132;01m{\u001b[39;00mfile\u001b[38;5;132;01m}\u001b[39;00m\u001b[38;5;124m by default \u001b[39m\u001b[38;5;124m\"\u001b[39m\n\u001b[0;32m    306\u001b[0m         \u001b[38;5;124m\"\u001b[39m\u001b[38;5;124mas it is likely to crash IPython. If you know what you are doing, \u001b[39m\u001b[38;5;124m\"\u001b[39m\n\u001b[0;32m    307\u001b[0m         \u001b[38;5;124m\"\u001b[39m\u001b[38;5;124myou can use builtins\u001b[39m\u001b[38;5;124m'\u001b[39m\u001b[38;5;124m open.\u001b[39m\u001b[38;5;124m\"\u001b[39m\n\u001b[0;32m    308\u001b[0m     )\n\u001b[1;32m--> 310\u001b[0m \u001b[38;5;28;01mreturn\u001b[39;00m io_open(file, \u001b[38;5;241m*\u001b[39margs, \u001b[38;5;241m*\u001b[39m\u001b[38;5;241m*\u001b[39mkwargs)\n",
      "\u001b[1;31mPermissionError\u001b[0m: [Errno 13] Permission denied: 'C:\\\\Users\\\\Public\\\\Desktop\\\\PyCharm Community Edition 2023.2.lnk'"
     ]
    }
   ],
   "source": [
    "path = r\"C:\\Users\\Public\\Desktop\\PyCharm Community Edition 2023.2.lnk\"\n",
    "give_copy(path,'joker')"
   ]
  },
  {
   "cell_type": "code",
   "execution_count": null,
   "id": "02ffedba",
   "metadata": {},
   "outputs": [],
   "source": []
  }
 ],
 "metadata": {
  "kernelspec": {
   "display_name": "Python 3 (ipykernel)",
   "language": "python",
   "name": "python3"
  },
  "language_info": {
   "codemirror_mode": {
    "name": "ipython",
    "version": 3
   },
   "file_extension": ".py",
   "mimetype": "text/x-python",
   "name": "python",
   "nbconvert_exporter": "python",
   "pygments_lexer": "ipython3",
   "version": "3.11.3"
  }
 },
 "nbformat": 4,
 "nbformat_minor": 5
}
