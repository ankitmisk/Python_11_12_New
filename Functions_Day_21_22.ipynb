{
 "cells": [
  {
   "cell_type": "code",
   "execution_count": 1,
   "id": "17b1622b",
   "metadata": {},
   "outputs": [],
   "source": [
    "# basic: conditional programming\n",
    "# intermediate:- Functional programming\n",
    "# Advance:- OOPS Programming"
   ]
  },
  {
   "cell_type": "markdown",
   "id": "4f21677b",
   "metadata": {},
   "source": [
    "# Functions"
   ]
  },
  {
   "cell_type": "code",
   "execution_count": 3,
   "id": "b0668e01",
   "metadata": {},
   "outputs": [
    {
     "name": "stdout",
     "output_type": "stream",
     "text": [
      "Enter your name: karan\n",
      "Hello karan, How are you??\n"
     ]
    }
   ],
   "source": [
    "name = input('Enter your name: ')\n",
    "\n",
    "print(f'Hello {name}, How are you??')"
   ]
  },
  {
   "cell_type": "code",
   "execution_count": null,
   "id": "6b3499fa",
   "metadata": {},
   "outputs": [],
   "source": []
  },
  {
   "cell_type": "code",
   "execution_count": 6,
   "id": "67adf187",
   "metadata": {},
   "outputs": [],
   "source": [
    "def greet():\n",
    "    name = input('Enter your name: ')\n",
    "    print(f'Hello {name}, How are you??')    "
   ]
  },
  {
   "cell_type": "code",
   "execution_count": 7,
   "id": "48166a3f",
   "metadata": {},
   "outputs": [
    {
     "name": "stdout",
     "output_type": "stream",
     "text": [
      "Enter your name: karan\n",
      "Hello karan, How are you??\n"
     ]
    }
   ],
   "source": [
    "name = input('Enter your name: ')\n",
    "\n",
    "print(f'Hello {name}, How are you??')"
   ]
  },
  {
   "cell_type": "code",
   "execution_count": 9,
   "id": "4b53382f",
   "metadata": {},
   "outputs": [
    {
     "name": "stdout",
     "output_type": "stream",
     "text": [
      "Enter your name: ajay\n",
      "Hello ajay, How are you??\n"
     ]
    }
   ],
   "source": [
    "greet()"
   ]
  },
  {
   "cell_type": "code",
   "execution_count": 10,
   "id": "98c52b2b",
   "metadata": {},
   "outputs": [
    {
     "name": "stdout",
     "output_type": "stream",
     "text": [
      "Enter your name: mohan\n",
      "Hello mohan, How are you??\n"
     ]
    }
   ],
   "source": [
    "greet()"
   ]
  },
  {
   "cell_type": "code",
   "execution_count": null,
   "id": "f782fa0c",
   "metadata": {},
   "outputs": [],
   "source": []
  },
  {
   "cell_type": "code",
   "execution_count": null,
   "id": "d9f85466",
   "metadata": {},
   "outputs": [],
   "source": []
  },
  {
   "cell_type": "code",
   "execution_count": null,
   "id": "ca30f1b0",
   "metadata": {},
   "outputs": [],
   "source": []
  },
  {
   "cell_type": "code",
   "execution_count": null,
   "id": "72cb3915",
   "metadata": {},
   "outputs": [],
   "source": []
  },
  {
   "cell_type": "code",
   "execution_count": null,
   "id": "7526d4d8",
   "metadata": {},
   "outputs": [],
   "source": []
  },
  {
   "cell_type": "code",
   "execution_count": null,
   "id": "187a5387",
   "metadata": {},
   "outputs": [],
   "source": []
  },
  {
   "cell_type": "code",
   "execution_count": null,
   "id": "565a4202",
   "metadata": {},
   "outputs": [],
   "source": []
  },
  {
   "cell_type": "code",
   "execution_count": null,
   "id": "c4e793a1",
   "metadata": {},
   "outputs": [],
   "source": []
  },
  {
   "cell_type": "code",
   "execution_count": null,
   "id": "69baa507",
   "metadata": {},
   "outputs": [],
   "source": []
  },
  {
   "cell_type": "code",
   "execution_count": null,
   "id": "85c22720",
   "metadata": {},
   "outputs": [],
   "source": []
  },
  {
   "cell_type": "code",
   "execution_count": null,
   "id": "1c1c8c71",
   "metadata": {},
   "outputs": [],
   "source": []
  },
  {
   "cell_type": "code",
   "execution_count": null,
   "id": "32719b79",
   "metadata": {},
   "outputs": [],
   "source": []
  },
  {
   "cell_type": "code",
   "execution_count": null,
   "id": "71102e71",
   "metadata": {},
   "outputs": [],
   "source": []
  },
  {
   "cell_type": "code",
   "execution_count": null,
   "id": "1faaa9f3",
   "metadata": {},
   "outputs": [],
   "source": []
  },
  {
   "cell_type": "code",
   "execution_count": 11,
   "id": "cd3b40cc",
   "metadata": {},
   "outputs": [
    {
     "name": "stdout",
     "output_type": "stream",
     "text": [
      "Enter your name: naman\n",
      "Hello naman, How are you??\n"
     ]
    }
   ],
   "source": [
    "greet()"
   ]
  },
  {
   "cell_type": "code",
   "execution_count": 12,
   "id": "a540ca77",
   "metadata": {},
   "outputs": [],
   "source": [
    "#Topic to be cover"
   ]
  },
  {
   "cell_type": "code",
   "execution_count": 44,
   "id": "822ec78f",
   "metadata": {},
   "outputs": [],
   "source": [
    "# user defined func\n",
    "# inbuilt func\n",
    "# how to take input inside func\n",
    "# func with parameter\n",
    "# func without parameter\n",
    "# func with arguments\n",
    "# func without arguments\n",
    "# Func with positional agruments\n",
    "# func with default parameter\n",
    "# parameter with datatypes deceleration\n",
    "# func with *args\n",
    "# func with **kwargs\n",
    "# func with docstring\n",
    "# return vs print\n",
    "# nested func\n",
    "# scope in python\n",
    "# some important functions created by user\n",
    "# func with list comphrension\n",
    "# lambda func\n",
    "# recursive func"
   ]
  },
  {
   "cell_type": "code",
   "execution_count": 14,
   "id": "ca96117a",
   "metadata": {},
   "outputs": [],
   "source": [
    "# user defined func\n",
    "# inbuilt func"
   ]
  },
  {
   "cell_type": "code",
   "execution_count": 15,
   "id": "4518f0a2",
   "metadata": {},
   "outputs": [],
   "source": [
    "# inbuilt func:- python provide"
   ]
  },
  {
   "cell_type": "code",
   "execution_count": 16,
   "id": "8a6b4602",
   "metadata": {},
   "outputs": [],
   "source": [
    "# sum()\n",
    "# min()\n",
    "# max()\n",
    "# len()\n",
    "# sorted()\n",
    "# eval()\n",
    "# reversed()\n",
    "# etc"
   ]
  },
  {
   "cell_type": "code",
   "execution_count": 17,
   "id": "9b68d7d3",
   "metadata": {},
   "outputs": [],
   "source": [
    "# user defined functions:- created bu user"
   ]
  },
  {
   "cell_type": "code",
   "execution_count": 18,
   "id": "33c2bcd6",
   "metadata": {},
   "outputs": [
    {
     "name": "stdout",
     "output_type": "stream",
     "text": [
      "Enter your name: mr kumar\n",
      "Hello mr kumar, How are you??\n"
     ]
    }
   ],
   "source": [
    "greet()"
   ]
  },
  {
   "cell_type": "code",
   "execution_count": 19,
   "id": "ace67c32",
   "metadata": {},
   "outputs": [],
   "source": [
    "# how to take input inside func"
   ]
  },
  {
   "cell_type": "code",
   "execution_count": 21,
   "id": "63472cb9",
   "metadata": {},
   "outputs": [],
   "source": [
    "def add():\n",
    "    a = int(input('Enter number one: '))\n",
    "    b = int(input('Enter number two: '))\n",
    "    \n",
    "    print('Add is: ',a+b)"
   ]
  },
  {
   "cell_type": "code",
   "execution_count": 22,
   "id": "e4ecf1f9",
   "metadata": {},
   "outputs": [
    {
     "name": "stdout",
     "output_type": "stream",
     "text": [
      "Enter number one: 23456\n",
      "Enter number two: 10\n",
      "Add is:  23466\n"
     ]
    }
   ],
   "source": [
    "add()"
   ]
  },
  {
   "cell_type": "code",
   "execution_count": 23,
   "id": "d484b1b4",
   "metadata": {},
   "outputs": [],
   "source": [
    "def multiply():\n",
    "    a = int(input('Enter number one: '))\n",
    "    b = int(input('Enter number two: '))\n",
    "    c = int(input('Enter number three: '))\n",
    "    d = int(input('Enter number four: '))\n",
    "    \n",
    "    print(a*b*c*d)"
   ]
  },
  {
   "cell_type": "code",
   "execution_count": 24,
   "id": "29540547",
   "metadata": {},
   "outputs": [
    {
     "name": "stdout",
     "output_type": "stream",
     "text": [
      "Enter number one: 1\n",
      "Enter number two: 2\n",
      "Enter number three: 3\n",
      "Enter number four: 6\n",
      "36\n"
     ]
    }
   ],
   "source": [
    "multiply()"
   ]
  },
  {
   "cell_type": "code",
   "execution_count": 27,
   "id": "b92f554e",
   "metadata": {},
   "outputs": [],
   "source": [
    "def say_hello():\n",
    "    name = input('Enter your name: ')\n",
    "    \n",
    "    print(f'Hello Mr {name}, nice to meet you!!')\n",
    "    "
   ]
  },
  {
   "cell_type": "code",
   "execution_count": 28,
   "id": "56828bbb",
   "metadata": {},
   "outputs": [
    {
     "name": "stdout",
     "output_type": "stream",
     "text": [
      "Enter your name: karan\n",
      "Hello Mr karan, nice to meet you!!\n"
     ]
    }
   ],
   "source": [
    "say_hello()"
   ]
  },
  {
   "cell_type": "code",
   "execution_count": 29,
   "id": "779e1814",
   "metadata": {},
   "outputs": [],
   "source": [
    "# func with parameter\n",
    "# func without parameter\n",
    "# func with arguments\n",
    "# func without arguments"
   ]
  },
  {
   "cell_type": "code",
   "execution_count": 30,
   "id": "20134faa",
   "metadata": {},
   "outputs": [],
   "source": [
    "def say_hello_to(name):\n",
    "    print(f'Hello Mr {name}, how are you, nice to meet you!!')"
   ]
  },
  {
   "cell_type": "code",
   "execution_count": 35,
   "id": "8e948e39",
   "metadata": {},
   "outputs": [
    {
     "name": "stdout",
     "output_type": "stream",
     "text": [
      "Hello Mr lucky, how are you, nice to meet you!!\n"
     ]
    }
   ],
   "source": [
    "say_hello_to('lucky')"
   ]
  },
  {
   "cell_type": "code",
   "execution_count": 36,
   "id": "6e6299b9",
   "metadata": {},
   "outputs": [
    {
     "name": "stdout",
     "output_type": "stream",
     "text": [
      "Hello Mr Ravi, how are you, nice to meet you!!\n"
     ]
    }
   ],
   "source": [
    "say_hello_to('Ravi')"
   ]
  },
  {
   "cell_type": "code",
   "execution_count": 40,
   "id": "fabe10aa",
   "metadata": {},
   "outputs": [],
   "source": [
    "def greet_with_intro(name,age,address,salary,company_name):\n",
    "    '''This function is created by Gaurav, and it takes\n",
    "    name,age,address,salary and company name as an arguments\n",
    "    ex: greet_with_intro(\"Aditya Kumar\",23,\"Noida\",56789,'Ola')\n",
    "    Thanks\n",
    "    '''\n",
    "    print(f'Hello Mr {name}, how are you, nice to meet you!!')\n",
    "    print(f'You are {age} years old')\n",
    "    print(f'Your Address is {address}')\n",
    "    print(f'Your current company is {company_name}')\n",
    "    print(f'Your inhand salary is {salary}')"
   ]
  },
  {
   "cell_type": "code",
   "execution_count": 45,
   "id": "d8d14845",
   "metadata": {},
   "outputs": [
    {
     "name": "stdout",
     "output_type": "stream",
     "text": [
      "Hello Mr karan, how are you, nice to meet you!!\n",
      "You are 12 years old\n",
      "Your Address is Delhi\n",
      "Your current company is Uber\n",
      "Your inhand salary is 98987\n"
     ]
    }
   ],
   "source": [
    "greet_with_intro('karan',12,'Delhi',98987,'Uber')"
   ]
  },
  {
   "cell_type": "code",
   "execution_count": 46,
   "id": "85472d33",
   "metadata": {},
   "outputs": [
    {
     "name": "stdout",
     "output_type": "stream",
     "text": [
      "Hello Mr 12, how are you, nice to meet you!!\n",
      "You are 989876 years old\n",
      "Your Address is Uber\n",
      "Your current company is Noida\n",
      "Your inhand salary is Ajay\n"
     ]
    }
   ],
   "source": [
    "# Func with positional agruments\n",
    "\n",
    "greet_with_intro(12,989876,'Uber','Ajay','Noida')"
   ]
  },
  {
   "cell_type": "code",
   "execution_count": 47,
   "id": "654d0106",
   "metadata": {},
   "outputs": [
    {
     "name": "stdout",
     "output_type": "stream",
     "text": [
      "Hello Mr Ajay, how are you, nice to meet you!!\n",
      "You are 12 years old\n",
      "Your Address is Noida\n",
      "Your current company is Uber\n",
      "Your inhand salary is 989876\n"
     ]
    }
   ],
   "source": [
    "# Func with positional agruments\n",
    "\n",
    "greet_with_intro(age=12,salary=989876,company_name='Uber',name='Ajay',address='Noida')"
   ]
  },
  {
   "cell_type": "code",
   "execution_count": 48,
   "id": "35f1c82c",
   "metadata": {},
   "outputs": [],
   "source": [
    "# func with default parameter"
   ]
  },
  {
   "cell_type": "code",
   "execution_count": 49,
   "id": "1cab4700",
   "metadata": {},
   "outputs": [
    {
     "ename": "TypeError",
     "evalue": "greet_with_intro() missing 1 required positional argument: 'address'",
     "output_type": "error",
     "traceback": [
      "\u001b[1;31m---------------------------------------------------------------------------\u001b[0m",
      "\u001b[1;31mTypeError\u001b[0m                                 Traceback (most recent call last)",
      "Cell \u001b[1;32mIn[49], line 1\u001b[0m\n\u001b[1;32m----> 1\u001b[0m greet_with_intro(age\u001b[38;5;241m=\u001b[39m\u001b[38;5;241m12\u001b[39m,salary\u001b[38;5;241m=\u001b[39m\u001b[38;5;241m989876\u001b[39m,company_name\u001b[38;5;241m=\u001b[39m\u001b[38;5;124m'\u001b[39m\u001b[38;5;124mUber\u001b[39m\u001b[38;5;124m'\u001b[39m,name\u001b[38;5;241m=\u001b[39m\u001b[38;5;124m'\u001b[39m\u001b[38;5;124mAjay\u001b[39m\u001b[38;5;124m'\u001b[39m)\n",
      "\u001b[1;31mTypeError\u001b[0m: greet_with_intro() missing 1 required positional argument: 'address'"
     ]
    }
   ],
   "source": [
    "greet_with_intro(age=12,salary=989876,company_name='Uber',name='Ajay')"
   ]
  },
  {
   "cell_type": "code",
   "execution_count": 57,
   "id": "ea5d84d7",
   "metadata": {},
   "outputs": [],
   "source": [
    "def default_greet_with_intro(name = 'Techvidya' ,\n",
    "                             age = 0,\n",
    "                             address = None,\n",
    "                             salary = None,\n",
    "                             company_name = None):\n",
    "    \n",
    "    '''This function is created by Gaurav, and it takes\n",
    "    name,age,address,salary and company name as an arguments\n",
    "    ex: greet_with_intro(\"Aditya Kumar\",23,\"Noida\",56789,'Ola')\n",
    "    Thanks\n",
    "    '''\n",
    "    print(f'Hello Mr {name}, how are you, nice to meet you!!')\n",
    "    print(f'You are {age} years old')\n",
    "    print(f'Your Address is {address}')\n",
    "    print(f'Your current company is {company_name}')\n",
    "    print(f'Your inhand salary is {salary}')"
   ]
  },
  {
   "cell_type": "code",
   "execution_count": 61,
   "id": "a624f3b9",
   "metadata": {},
   "outputs": [
    {
     "name": "stdout",
     "output_type": "stream",
     "text": [
      "Hello Mr Karan, how are you, nice to meet you!!\n",
      "You are 45 years old\n",
      "Your Address is Kanpur\n",
      "Your current company is None\n",
      "Your inhand salary is 98642\n"
     ]
    }
   ],
   "source": [
    "default_greet_with_intro(age = 45,name='Karan',address='Kanpur',salary=98642)"
   ]
  },
  {
   "cell_type": "code",
   "execution_count": 62,
   "id": "9d62f5da",
   "metadata": {},
   "outputs": [],
   "source": [
    "def check_intro(name = None,\n",
    "                 age = None,\n",
    "                 address = None,\n",
    "                 salary = None,\n",
    "                 company_name = None):\n",
    "    \n",
    "    '''This function is created by Gaurav, and it takes\n",
    "    name,age,address,salary and company name as an arguments\n",
    "    ex: greet_with_intro(\"Aditya Kumar\",23,\"Noida\",56789,'Ola')\n",
    "    Thanks\n",
    "    '''\n",
    "    \n",
    "    if name == age == address == salary == company_name == None:\n",
    "        print('Pass atleast some arguments')\n",
    "        \n",
    "    else:\n",
    "        print(f'Hello Mr {name}, how are you, nice to meet you!!')\n",
    "        print(f'You are {age} years old')\n",
    "        print(f'Your Address is {address}')\n",
    "        print(f'Your current company is {company_name}')\n",
    "        print(f'Your inhand salary is {salary}')"
   ]
  },
  {
   "cell_type": "code",
   "execution_count": 64,
   "id": "7aea3d88",
   "metadata": {},
   "outputs": [
    {
     "name": "stdout",
     "output_type": "stream",
     "text": [
      "Hello Mr krana, how are you, nice to meet you!!\n",
      "You are None years old\n",
      "Your Address is None\n",
      "Your current company is None\n",
      "Your inhand salary is None\n"
     ]
    }
   ],
   "source": [
    "check_intro(name = 'krana')"
   ]
  },
  {
   "cell_type": "code",
   "execution_count": 65,
   "id": "025ee3c0",
   "metadata": {},
   "outputs": [
    {
     "name": "stdout",
     "output_type": "stream",
     "text": [
      "Hello Mr 1234, how are you, nice to meet you!!\n",
      "You are None years old\n",
      "Your Address is None\n",
      "Your current company is None\n",
      "Your inhand salary is None\n"
     ]
    }
   ],
   "source": [
    "check_intro(name=1234)"
   ]
  },
  {
   "cell_type": "code",
   "execution_count": 66,
   "id": "d0204fbd",
   "metadata": {},
   "outputs": [],
   "source": [
    "# parameter with datatypes deceleration"
   ]
  },
  {
   "cell_type": "code",
   "execution_count": 68,
   "id": "d9f9b3b6",
   "metadata": {},
   "outputs": [],
   "source": [
    "def check_intro(name:str = None,\n",
    "                age:int|float = None,\n",
    "                address:str = None,\n",
    "                salary:int|float = None,\n",
    "                company_name:str = None):\n",
    "    \n",
    "    '''This function is created by Gaurav, and it takes\n",
    "    name,age,address,salary and company name as an arguments\n",
    "    ex: greet_with_intro(\"Aditya Kumar\",23,\"Noida\",56789,'Ola')\n",
    "    Thanks\n",
    "    '''\n",
    "    \n",
    "    if name == age == address == salary == company_name == None:\n",
    "        print('Pass atleast some arguments')\n",
    "        \n",
    "    else:\n",
    "        print(f'Hello Mr {name}, how are you, nice to meet you!!')\n",
    "        print(f'You are {age} years old')\n",
    "        print(f'Your Address is {address}')\n",
    "        print(f'Your current company is {company_name}')\n",
    "        print(f'Your inhand salary is {salary}')"
   ]
  },
  {
   "cell_type": "code",
   "execution_count": 71,
   "id": "2fae81c8",
   "metadata": {},
   "outputs": [
    {
     "name": "stdout",
     "output_type": "stream",
     "text": [
      "Hello Mr Joker, how are you, nice to meet you!!\n",
      "You are 12 years old\n",
      "Your Address is Noida\n",
      "Your current company is ola\n",
      "Your inhand salary is 87654\n"
     ]
    }
   ],
   "source": [
    "check_intro('Joker',12,'Noida',87654,'ola')"
   ]
  },
  {
   "cell_type": "code",
   "execution_count": 76,
   "id": "4fb7b0c0",
   "metadata": {},
   "outputs": [],
   "source": [
    "def check_intro(name:'str' = None,\n",
    "                age:'int|float' = None,\n",
    "                address:'str' = None,\n",
    "                salary:'int|float' = None,\n",
    "                company_name:'str' = None) -> 'Message':\n",
    "    \n",
    "    '''This function is created by Gaurav, and it takes\n",
    "    name,age,address,salary and company name as an arguments\n",
    "    ex: greet_with_intro(\"Aditya Kumar\",23,\"Noida\",56789,'Ola')\n",
    "    Thanks\n",
    "    '''\n",
    "    \n",
    "    if name == age == address == salary == company_name == None:\n",
    "        print('Pass atleast some arguments')\n",
    "        \n",
    "    else:\n",
    "        print(f'Hello Mr {name}, how are you, nice to meet you!!')\n",
    "        print(f'You are {age} years old')\n",
    "        print(f'Your Address is {address}')\n",
    "        print(f'Your current company is {company_name}')\n",
    "        print(f'Your inhand salary is {salary}')"
   ]
  },
  {
   "cell_type": "code",
   "execution_count": 77,
   "id": "496dd0ce",
   "metadata": {},
   "outputs": [
    {
     "name": "stdout",
     "output_type": "stream",
     "text": [
      "Hello Mr Ajay, how are you, nice to meet you!!\n",
      "You are None years old\n",
      "Your Address is None\n",
      "Your current company is None\n",
      "Your inhand salary is None\n"
     ]
    }
   ],
   "source": [
    "check_intro('Ajay')"
   ]
  },
  {
   "cell_type": "code",
   "execution_count": 80,
   "id": "0490df65",
   "metadata": {},
   "outputs": [],
   "source": [
    "def check_intro(name:'str' = None,\n",
    "                age:'int|float' = None,\n",
    "                address:'str' = None,\n",
    "                salary:'int|float' = None,\n",
    "                company_name:'str' = None) -> None:\n",
    "    \n",
    "    '''This function is created by Gaurav, and it takes\n",
    "    name,age,address,salary and company name as an arguments\n",
    "    ex: greet_with_intro(\"Aditya Kumar\",23,\"Noida\",56789,'Ola')\n",
    "    Thanks\n",
    "    '''\n",
    "    \n",
    "    if name == age == address == salary == company_name == None:\n",
    "        print('Pass atleast some arguments')\n",
    "        \n",
    "    else:\n",
    "        print(f'Hello Mr {name}, how are you, nice to meet you!!')\n",
    "        print(f'You are {age} years old')\n",
    "        print(f'Your Address is {address}')\n",
    "        print(f'Your current company is {company_name}')\n",
    "        print(f'Your inhand salary is {salary}')"
   ]
  },
  {
   "cell_type": "code",
   "execution_count": 81,
   "id": "fbc7ffad",
   "metadata": {},
   "outputs": [
    {
     "name": "stdout",
     "output_type": "stream",
     "text": [
      "Pass atleast some arguments\n"
     ]
    }
   ],
   "source": [
    "check_intro()"
   ]
  },
  {
   "cell_type": "code",
   "execution_count": null,
   "id": "56a482e2",
   "metadata": {},
   "outputs": [],
   "source": []
  },
  {
   "cell_type": "markdown",
   "id": "81c44ed2",
   "metadata": {},
   "source": [
    "# Day 22"
   ]
  },
  {
   "cell_type": "code",
   "execution_count": 1,
   "id": "c0f2c2f4",
   "metadata": {},
   "outputs": [],
   "source": [
    "#  func with *args\n",
    "# func with **kwargs\n",
    "# return vs print\n",
    "# nested func\n",
    "# scope in python\n",
    "# some important functions created by user\n",
    "# func with list comphrension\n",
    "# lambda func\n",
    "# recursive func"
   ]
  },
  {
   "cell_type": "code",
   "execution_count": 2,
   "id": "73dd8c0a",
   "metadata": {},
   "outputs": [],
   "source": [
    "# return vs print\n"
   ]
  },
  {
   "cell_type": "code",
   "execution_count": 3,
   "id": "6eaf6554",
   "metadata": {},
   "outputs": [],
   "source": [
    "def add(a):\n",
    "    a+=10\n",
    "    print(f'Your updated number is {a}')"
   ]
  },
  {
   "cell_type": "code",
   "execution_count": 5,
   "id": "8709b35f",
   "metadata": {},
   "outputs": [
    {
     "name": "stdout",
     "output_type": "stream",
     "text": [
      "Your updated number is 22\n"
     ]
    },
    {
     "ename": "TypeError",
     "evalue": "unsupported operand type(s) for +: 'NoneType' and 'int'",
     "output_type": "error",
     "traceback": [
      "\u001b[1;31m---------------------------------------------------------------------------\u001b[0m",
      "\u001b[1;31mTypeError\u001b[0m                                 Traceback (most recent call last)",
      "Cell \u001b[1;32mIn[5], line 1\u001b[0m\n\u001b[1;32m----> 1\u001b[0m add(\u001b[38;5;241m12\u001b[39m)\u001b[38;5;241m+\u001b[39m\u001b[38;5;241m10\u001b[39m\n",
      "\u001b[1;31mTypeError\u001b[0m: unsupported operand type(s) for +: 'NoneType' and 'int'"
     ]
    }
   ],
   "source": [
    "add(12)+10"
   ]
  },
  {
   "cell_type": "code",
   "execution_count": 9,
   "id": "c84ed86d",
   "metadata": {},
   "outputs": [
    {
     "name": "stdout",
     "output_type": "stream",
     "text": [
      "Your updated number is 20\n"
     ]
    }
   ],
   "source": [
    "add(10)"
   ]
  },
  {
   "cell_type": "code",
   "execution_count": 6,
   "id": "1987a447",
   "metadata": {},
   "outputs": [],
   "source": [
    "# return \n",
    "\n",
    "def add_with_r(a,b):\n",
    "    c = a+b\n",
    "    return c"
   ]
  },
  {
   "cell_type": "code",
   "execution_count": 10,
   "id": "cce379e3",
   "metadata": {},
   "outputs": [
    {
     "data": {
      "text/plain": [
       "int"
      ]
     },
     "execution_count": 10,
     "metadata": {},
     "output_type": "execute_result"
    }
   ],
   "source": [
    "type(add_with_r(10,23))"
   ]
  },
  {
   "cell_type": "code",
   "execution_count": 11,
   "id": "836d7dbe",
   "metadata": {},
   "outputs": [
    {
     "data": {
      "text/plain": [
       "133"
      ]
     },
     "execution_count": 11,
     "metadata": {},
     "output_type": "execute_result"
    }
   ],
   "source": [
    "add_with_r(10,23)+100"
   ]
  },
  {
   "cell_type": "code",
   "execution_count": 14,
   "id": "36e4d3c1",
   "metadata": {},
   "outputs": [
    {
     "data": {
      "text/plain": [
       "1320"
      ]
     },
     "execution_count": 14,
     "metadata": {},
     "output_type": "execute_result"
    }
   ],
   "source": [
    "add_with_r(10,10)+add_with_r(100,200)+1000"
   ]
  },
  {
   "cell_type": "code",
   "execution_count": 16,
   "id": "ccda777e",
   "metadata": {},
   "outputs": [],
   "source": [
    "def convert_upper(data:'list,tuple'):\n",
    "    result = [i.upper() for i in data]\n",
    "    \n",
    "    print(result)"
   ]
  },
  {
   "cell_type": "code",
   "execution_count": 19,
   "id": "75742da4",
   "metadata": {},
   "outputs": [
    {
     "name": "stdout",
     "output_type": "stream",
     "text": [
      "['OLA', 'UBER', 'AJAY']\n"
     ]
    },
    {
     "ename": "AttributeError",
     "evalue": "'NoneType' object has no attribute 'append'",
     "output_type": "error",
     "traceback": [
      "\u001b[1;31m---------------------------------------------------------------------------\u001b[0m",
      "\u001b[1;31mAttributeError\u001b[0m                            Traceback (most recent call last)",
      "Cell \u001b[1;32mIn[19], line 1\u001b[0m\n\u001b[1;32m----> 1\u001b[0m convert_upper([\u001b[38;5;124m'\u001b[39m\u001b[38;5;124mola\u001b[39m\u001b[38;5;124m'\u001b[39m,\u001b[38;5;124m'\u001b[39m\u001b[38;5;124muber\u001b[39m\u001b[38;5;124m'\u001b[39m,\u001b[38;5;124m'\u001b[39m\u001b[38;5;124majay\u001b[39m\u001b[38;5;124m'\u001b[39m])\u001b[38;5;241m.\u001b[39mappend(\u001b[38;5;124m'\u001b[39m\u001b[38;5;124mAkshay\u001b[39m\u001b[38;5;124m'\u001b[39m)\n",
      "\u001b[1;31mAttributeError\u001b[0m: 'NoneType' object has no attribute 'append'"
     ]
    }
   ],
   "source": [
    "convert_upper(['ola','uber','ajay']).append('Akshay')"
   ]
  },
  {
   "cell_type": "code",
   "execution_count": 20,
   "id": "d02d0e1f",
   "metadata": {},
   "outputs": [],
   "source": [
    "def convert_upper_with_r(data:'list,tuple'):\n",
    "    result = [i.upper() for i in data]\n",
    "    \n",
    "    return result"
   ]
  },
  {
   "cell_type": "code",
   "execution_count": 22,
   "id": "44dad5ca",
   "metadata": {},
   "outputs": [],
   "source": [
    "ans = convert_upper_with_r(['ola','uber','ajay'])"
   ]
  },
  {
   "cell_type": "code",
   "execution_count": 24,
   "id": "917b51ab",
   "metadata": {},
   "outputs": [],
   "source": [
    "ans.append('Komal')"
   ]
  },
  {
   "cell_type": "code",
   "execution_count": 25,
   "id": "efe7bb4c",
   "metadata": {},
   "outputs": [
    {
     "data": {
      "text/plain": [
       "['OLA', 'UBER', 'AJAY', 'Komal']"
      ]
     },
     "execution_count": 25,
     "metadata": {},
     "output_type": "execute_result"
    }
   ],
   "source": [
    "ans"
   ]
  },
  {
   "cell_type": "code",
   "execution_count": 27,
   "id": "05bd5d53",
   "metadata": {},
   "outputs": [
    {
     "data": {
      "text/plain": [
       "['OLA', 'UBER', 'AJAY', 'Ajay', 'Rohan']"
      ]
     },
     "execution_count": 27,
     "metadata": {},
     "output_type": "execute_result"
    }
   ],
   "source": [
    " convert_upper_with_r(['ola','uber','ajay'])+['Ajay','Rohan']"
   ]
  },
  {
   "cell_type": "code",
   "execution_count": 28,
   "id": "248d8458",
   "metadata": {},
   "outputs": [],
   "source": [
    "def convert_upper_with_r(data:'list,tuple'):\n",
    "    result = [i.upper() for i in data]\n",
    "    \n",
    "    print('Func has been executed successfully!!')\n",
    "    \n",
    "    return result"
   ]
  },
  {
   "cell_type": "code",
   "execution_count": 30,
   "id": "91718fe3",
   "metadata": {},
   "outputs": [
    {
     "name": "stdout",
     "output_type": "stream",
     "text": [
      "Func has been executed successfully!!\n"
     ]
    },
    {
     "data": {
      "text/plain": [
       "['OLA', 'AJAY', 'Komal']"
      ]
     },
     "execution_count": 30,
     "metadata": {},
     "output_type": "execute_result"
    }
   ],
   "source": [
    "convert_upper_with_r(['ola','Ajay'])+['Komal']"
   ]
  },
  {
   "cell_type": "code",
   "execution_count": 36,
   "id": "f4b032c7",
   "metadata": {},
   "outputs": [],
   "source": [
    "def convert_upper_with_r(data:'list,tuple'):\n",
    "    result = [i.upper() for i in data]\n",
    "    \n",
    "    print('Func has been executed successfully!!')\n",
    "    return result\n",
    "\n",
    "    '''This is a doc'''\n",
    "    "
   ]
  },
  {
   "cell_type": "code",
   "execution_count": 37,
   "id": "1c2920c3",
   "metadata": {},
   "outputs": [
    {
     "name": "stdout",
     "output_type": "stream",
     "text": [
      "Func has been executed successfully!!\n"
     ]
    },
    {
     "data": {
      "text/plain": [
       "['OLA', 'KOMAL']"
      ]
     },
     "execution_count": 37,
     "metadata": {},
     "output_type": "execute_result"
    }
   ],
   "source": [
    "convert_upper_with_r(['ola','komal'])"
   ]
  },
  {
   "cell_type": "code",
   "execution_count": 40,
   "id": "a1285dd6",
   "metadata": {},
   "outputs": [],
   "source": [
    "def maths(a,b):\n",
    "    add = a+b\n",
    "    sub = a-b\n",
    "    mul = a*b\n",
    "    div = a/b\n",
    "    \n",
    "    return add,sub,mul,div"
   ]
  },
  {
   "cell_type": "code",
   "execution_count": 47,
   "id": "15db1bf0",
   "metadata": {},
   "outputs": [
    {
     "name": "stdout",
     "output_type": "stream",
     "text": [
      "Add result:  30\n",
      "Sub result:  -10\n",
      "Mul result:  200\n",
      "Div result:  0.5\n"
     ]
    }
   ],
   "source": [
    "print('Add result: ',maths(10,20)[0])\n",
    "print('Sub result: ',maths(10,20)[1])\n",
    "print('Mul result: ',maths(10,20)[2])\n",
    "print('Div result: ',maths(10,20)[3])"
   ]
  },
  {
   "cell_type": "code",
   "execution_count": 53,
   "id": "8e3a0e7d",
   "metadata": {},
   "outputs": [],
   "source": [
    "def abc():\n",
    "    a = 12\n",
    "    b = 23\n",
    "    \n",
    "    return a\n",
    "    return b"
   ]
  },
  {
   "cell_type": "code",
   "execution_count": 54,
   "id": "62992a40",
   "metadata": {},
   "outputs": [
    {
     "data": {
      "text/plain": [
       "12"
      ]
     },
     "execution_count": 54,
     "metadata": {},
     "output_type": "execute_result"
    }
   ],
   "source": [
    "abc()"
   ]
  },
  {
   "cell_type": "code",
   "execution_count": 52,
   "id": "f9315e86",
   "metadata": {},
   "outputs": [
    {
     "data": {
      "text/plain": [
       "23"
      ]
     },
     "execution_count": 52,
     "metadata": {},
     "output_type": "execute_result"
    }
   ],
   "source": [
    "a = 12\n",
    "a = 23\n",
    "a"
   ]
  },
  {
   "cell_type": "code",
   "execution_count": 55,
   "id": "44a34a0e",
   "metadata": {},
   "outputs": [],
   "source": [
    "#  func with *args\n",
    "# func with **kwargs"
   ]
  },
  {
   "cell_type": "code",
   "execution_count": 56,
   "id": "438d2a6c",
   "metadata": {},
   "outputs": [],
   "source": [
    "def add(x,y):\n",
    "    return x+y"
   ]
  },
  {
   "cell_type": "code",
   "execution_count": 58,
   "id": "5311c066",
   "metadata": {},
   "outputs": [
    {
     "ename": "TypeError",
     "evalue": "add() takes 2 positional arguments but 3 were given",
     "output_type": "error",
     "traceback": [
      "\u001b[1;31m---------------------------------------------------------------------------\u001b[0m",
      "\u001b[1;31mTypeError\u001b[0m                                 Traceback (most recent call last)",
      "Cell \u001b[1;32mIn[58], line 1\u001b[0m\n\u001b[1;32m----> 1\u001b[0m add(\u001b[38;5;241m12\u001b[39m,\u001b[38;5;241m90\u001b[39m,\u001b[38;5;241m100\u001b[39m)\n",
      "\u001b[1;31mTypeError\u001b[0m: add() takes 2 positional arguments but 3 were given"
     ]
    }
   ],
   "source": [
    "add(12,90,100)"
   ]
  },
  {
   "cell_type": "code",
   "execution_count": 59,
   "id": "a6f03318",
   "metadata": {},
   "outputs": [],
   "source": [
    "def add(x,y,z):\n",
    "    return x+y+z"
   ]
  },
  {
   "cell_type": "code",
   "execution_count": 62,
   "id": "91cbf26f",
   "metadata": {},
   "outputs": [
    {
     "ename": "TypeError",
     "evalue": "add() missing 1 required positional argument: 'z'",
     "output_type": "error",
     "traceback": [
      "\u001b[1;31m---------------------------------------------------------------------------\u001b[0m",
      "\u001b[1;31mTypeError\u001b[0m                                 Traceback (most recent call last)",
      "Cell \u001b[1;32mIn[62], line 1\u001b[0m\n\u001b[1;32m----> 1\u001b[0m add(\u001b[38;5;241m1\u001b[39m,\u001b[38;5;241m2\u001b[39m)\n",
      "\u001b[1;31mTypeError\u001b[0m: add() missing 1 required positional argument: 'z'"
     ]
    }
   ],
   "source": [
    "add(1,2)"
   ]
  },
  {
   "cell_type": "code",
   "execution_count": 63,
   "id": "f8eeff2c",
   "metadata": {},
   "outputs": [],
   "source": [
    "# *args"
   ]
  },
  {
   "cell_type": "code",
   "execution_count": 64,
   "id": "c55c220f",
   "metadata": {},
   "outputs": [],
   "source": [
    "def add(*args):\n",
    "    print(args)"
   ]
  },
  {
   "cell_type": "code",
   "execution_count": 65,
   "id": "481da1d5",
   "metadata": {},
   "outputs": [
    {
     "name": "stdout",
     "output_type": "stream",
     "text": [
      "(1, 2, 3, 45)\n"
     ]
    }
   ],
   "source": [
    "add(1,2,3,45)"
   ]
  },
  {
   "cell_type": "code",
   "execution_count": 66,
   "id": "2d0a244d",
   "metadata": {},
   "outputs": [],
   "source": [
    "def add(*args):\n",
    "    return sum(args)"
   ]
  },
  {
   "cell_type": "code",
   "execution_count": 67,
   "id": "449b7f5b",
   "metadata": {},
   "outputs": [
    {
     "data": {
      "text/plain": [
       "142"
      ]
     },
     "execution_count": 67,
     "metadata": {},
     "output_type": "execute_result"
    }
   ],
   "source": [
    "add(1,24,34,75,8)"
   ]
  },
  {
   "cell_type": "code",
   "execution_count": 68,
   "id": "28720ef5",
   "metadata": {},
   "outputs": [],
   "source": [
    "def add(*args):\n",
    "    total = 0\n",
    "    for i in  args:\n",
    "        total+=i\n",
    "    return total"
   ]
  },
  {
   "cell_type": "code",
   "execution_count": 69,
   "id": "32bbb01f",
   "metadata": {},
   "outputs": [
    {
     "data": {
      "text/plain": [
       "74691"
      ]
     },
     "execution_count": 69,
     "metadata": {},
     "output_type": "execute_result"
    }
   ],
   "source": [
    "add(1,23,42,4354,65,46,4324,34,65756,46)"
   ]
  },
  {
   "cell_type": "code",
   "execution_count": 74,
   "id": "a8f0ee17",
   "metadata": {},
   "outputs": [],
   "source": [
    "def give_hashtag(*names:'tuple[str]'):\n",
    "    return ['#'+i.capitalize() for i in names]"
   ]
  },
  {
   "cell_type": "code",
   "execution_count": 76,
   "id": "3f2afaab",
   "metadata": {},
   "outputs": [
    {
     "data": {
      "text/plain": [
       "['#Ajay', '#Ravi', '#Mohan', '#Karan', '#Rahul', '@Ajay']"
      ]
     },
     "execution_count": 76,
     "metadata": {},
     "output_type": "execute_result"
    }
   ],
   "source": [
    "give_hashtag('ajay','ravi','mohan','karan','rahul')+['@Ajay']"
   ]
  },
  {
   "cell_type": "code",
   "execution_count": 77,
   "id": "48bdb6ab",
   "metadata": {},
   "outputs": [],
   "source": [
    "# func with **kwargs"
   ]
  },
  {
   "cell_type": "code",
   "execution_count": 78,
   "id": "d6b700ac",
   "metadata": {},
   "outputs": [],
   "source": [
    "def give_me_intro(name,age,salary):\n",
    "    print(f'Your name is {name}')\n",
    "    print(f'Your age is {age}')    \n",
    "    print(f'Your salary is {salary}')    "
   ]
  },
  {
   "cell_type": "code",
   "execution_count": 79,
   "id": "7d812db2",
   "metadata": {},
   "outputs": [
    {
     "name": "stdout",
     "output_type": "stream",
     "text": [
      "Your name is joker\n",
      "Your age is 23\n",
      "Your salary is 876543\n"
     ]
    }
   ],
   "source": [
    "give_me_intro('joker',23,876543)"
   ]
  },
  {
   "cell_type": "code",
   "execution_count": 82,
   "id": "a7a1162a",
   "metadata": {},
   "outputs": [
    {
     "name": "stdout",
     "output_type": "stream",
     "text": [
      "Your name is joker\n",
      "Your age is 23\n",
      "Your salary is 876543\n"
     ]
    }
   ],
   "source": [
    "give_me_intro(name='joker',age=23,salary=876543)"
   ]
  },
  {
   "cell_type": "code",
   "execution_count": 83,
   "id": "8b716114",
   "metadata": {},
   "outputs": [
    {
     "ename": "TypeError",
     "evalue": "give_me_intro() got an unexpected keyword argument 'address'",
     "output_type": "error",
     "traceback": [
      "\u001b[1;31m---------------------------------------------------------------------------\u001b[0m",
      "\u001b[1;31mTypeError\u001b[0m                                 Traceback (most recent call last)",
      "Cell \u001b[1;32mIn[83], line 1\u001b[0m\n\u001b[1;32m----> 1\u001b[0m give_me_intro(name\u001b[38;5;241m=\u001b[39m\u001b[38;5;124m'\u001b[39m\u001b[38;5;124mjoker\u001b[39m\u001b[38;5;124m'\u001b[39m,age\u001b[38;5;241m=\u001b[39m\u001b[38;5;241m23\u001b[39m,salary\u001b[38;5;241m=\u001b[39m\u001b[38;5;241m876543\u001b[39m,address \u001b[38;5;241m=\u001b[39m \u001b[38;5;124m\"\u001b[39m\u001b[38;5;124mNoida\u001b[39m\u001b[38;5;124m\"\u001b[39m)\n",
      "\u001b[1;31mTypeError\u001b[0m: give_me_intro() got an unexpected keyword argument 'address'"
     ]
    }
   ],
   "source": [
    "give_me_intro(name='joker',age=23,salary=876543,address = \"Noida\")"
   ]
  },
  {
   "cell_type": "code",
   "execution_count": 84,
   "id": "73202eb1",
   "metadata": {},
   "outputs": [],
   "source": [
    "def my_intro(**kwargs):\n",
    "    print(kwargs)"
   ]
  },
  {
   "cell_type": "code",
   "execution_count": 85,
   "id": "b1c895ff",
   "metadata": {},
   "outputs": [
    {
     "name": "stdout",
     "output_type": "stream",
     "text": [
      "{'name': 'Komal', 'age': 21, 'salary': 23456}\n"
     ]
    }
   ],
   "source": [
    "my_intro(name='Komal',age=21,salary=23456)"
   ]
  },
  {
   "cell_type": "code",
   "execution_count": 100,
   "id": "e03573ff",
   "metadata": {},
   "outputs": [],
   "source": [
    "def my_intro(**kwargs):\n",
    "    \n",
    "    for i in kwargs:\n",
    "        print(f'Your {i} is {kwargs[i]}')\n",
    "#     return kwargs"
   ]
  },
  {
   "cell_type": "code",
   "execution_count": 101,
   "id": "a10e34d6",
   "metadata": {},
   "outputs": [
    {
     "name": "stdout",
     "output_type": "stream",
     "text": [
      "Your name is Ravi\n",
      "Your salary is 87654\n",
      "Your Age is 23\n",
      "Your Address is Delhi\n",
      "Your phone_number is 9898787654\n"
     ]
    }
   ],
   "source": [
    "my_intro(name='Ravi',salary=87654,Age=23,Address='Delhi',phone_number = 9898787654)"
   ]
  },
  {
   "cell_type": "code",
   "execution_count": 105,
   "id": "c2b6befb",
   "metadata": {},
   "outputs": [],
   "source": [
    "def my_intro(course,**kwargs):\n",
    "    print(f'Your course is {course}')\n",
    "    for i in kwargs:\n",
    "        print(f'Your {i} is {kwargs[i]}')\n",
    "#     return kwargs"
   ]
  },
  {
   "cell_type": "code",
   "execution_count": 109,
   "id": "0f69a8aa",
   "metadata": {},
   "outputs": [
    {
     "name": "stdout",
     "output_type": "stream",
     "text": [
      "Your course is Python\n",
      "Your salary is 23876\n"
     ]
    }
   ],
   "source": [
    "my_intro('Python',salary = 23876)"
   ]
  },
  {
   "cell_type": "code",
   "execution_count": 110,
   "id": "4f69f271",
   "metadata": {},
   "outputs": [],
   "source": [
    "# nested func\n",
    "# scope in python"
   ]
  },
  {
   "cell_type": "code",
   "execution_count": 111,
   "id": "c56cb54f",
   "metadata": {},
   "outputs": [],
   "source": [
    "# nested function"
   ]
  },
  {
   "cell_type": "code",
   "execution_count": 119,
   "id": "62e068d8",
   "metadata": {},
   "outputs": [],
   "source": [
    "def main_func():\n",
    "    print('This is a main function!!')\n",
    "    \n",
    "    def temp_func():\n",
    "        print('This is just a temp func!!')\n",
    "    \n",
    "    def inner_func():\n",
    "        print('This is inner func')\n",
    "    \n",
    "    temp_func()\n",
    "    inner_func()\n",
    "    \n",
    "    "
   ]
  },
  {
   "cell_type": "code",
   "execution_count": 120,
   "id": "614ac346",
   "metadata": {},
   "outputs": [
    {
     "name": "stdout",
     "output_type": "stream",
     "text": [
      "This is a main function!!\n",
      "This is just a temp func!!\n",
      "This is inner func\n"
     ]
    }
   ],
   "source": [
    "main_func()"
   ]
  },
  {
   "cell_type": "code",
   "execution_count": 123,
   "id": "674e8f86",
   "metadata": {},
   "outputs": [],
   "source": [
    "def main_func():\n",
    "    print('This is a main function!!')\n",
    "    \n",
    "    \n",
    "    \n",
    "    def temp_func():\n",
    "        print('This is just a temp func!!')\n",
    "    \n",
    "    def inner_func():\n",
    "        print('This is inner func')\n",
    "    \n",
    "    inner_func()\n",
    "    temp_func()\n",
    "    \n",
    "    "
   ]
  },
  {
   "cell_type": "code",
   "execution_count": 124,
   "id": "a660ab48",
   "metadata": {},
   "outputs": [
    {
     "name": "stdout",
     "output_type": "stream",
     "text": [
      "This is a main function!!\n",
      "This is inner func\n",
      "This is just a temp func!!\n"
     ]
    }
   ],
   "source": [
    "main_func()"
   ]
  },
  {
   "cell_type": "code",
   "execution_count": 134,
   "id": "fc40220a",
   "metadata": {},
   "outputs": [],
   "source": [
    "def main_func():\n",
    "    print('This is a main function!!')\n",
    "    \n",
    "    \n",
    "    \n",
    "    def temp_func():\n",
    "        print('This is just a temp func!!')\n",
    "    \n",
    "        def nested_func():\n",
    "            print('This is inner func')\n",
    "        \n",
    "        \n",
    "        nested_func()\n",
    "        \n",
    "    temp_func()\n",
    "    \n",
    "   \n",
    "    \n",
    "    "
   ]
  },
  {
   "cell_type": "code",
   "execution_count": 135,
   "id": "71c0f487",
   "metadata": {},
   "outputs": [
    {
     "name": "stdout",
     "output_type": "stream",
     "text": [
      "This is a main function!!\n",
      "This is just a temp func!!\n",
      "This is inner func\n"
     ]
    }
   ],
   "source": [
    "main_func()"
   ]
  },
  {
   "cell_type": "code",
   "execution_count": 141,
   "id": "8322c543",
   "metadata": {},
   "outputs": [],
   "source": [
    "def a():\n",
    "    print('I am a')\n",
    "    \n",
    "    def b():\n",
    "        print('I am b')\n",
    "        \n",
    "        def c():\n",
    "            print('I am c')\n",
    "        \n",
    "        def d():\n",
    "            print('I am d')\n",
    "            \n",
    "        d()\n",
    "        c()\n",
    "    b()\n",
    "    "
   ]
  },
  {
   "cell_type": "code",
   "execution_count": 142,
   "id": "d188b2e5",
   "metadata": {},
   "outputs": [
    {
     "name": "stdout",
     "output_type": "stream",
     "text": [
      "I am a\n",
      "I am b\n",
      "I am d\n",
      "I am c\n"
     ]
    }
   ],
   "source": [
    "a()"
   ]
  },
  {
   "cell_type": "code",
   "execution_count": 144,
   "id": "e2639e05",
   "metadata": {},
   "outputs": [
    {
     "ename": "NameError",
     "evalue": "name 'd' is not defined",
     "output_type": "error",
     "traceback": [
      "\u001b[1;31m---------------------------------------------------------------------------\u001b[0m",
      "\u001b[1;31mNameError\u001b[0m                                 Traceback (most recent call last)",
      "Cell \u001b[1;32mIn[144], line 1\u001b[0m\n\u001b[1;32m----> 1\u001b[0m d()\n",
      "\u001b[1;31mNameError\u001b[0m: name 'd' is not defined"
     ]
    }
   ],
   "source": [
    "d()"
   ]
  },
  {
   "cell_type": "code",
   "execution_count": 145,
   "id": "0de56387",
   "metadata": {},
   "outputs": [],
   "source": [
    "# scope in python\n",
    "# variable accessibility"
   ]
  },
  {
   "cell_type": "code",
   "execution_count": 154,
   "id": "9727f423",
   "metadata": {},
   "outputs": [],
   "source": [
    "def something():\n",
    "    # all are local variables\n",
    "    my_name = 'Karan verma'  # local variable\n",
    "    \n",
    "    print('Hello Buddy!!',my_name.upper())"
   ]
  },
  {
   "cell_type": "code",
   "execution_count": 155,
   "id": "fb6a1936",
   "metadata": {},
   "outputs": [
    {
     "name": "stdout",
     "output_type": "stream",
     "text": [
      "Hello Buddy!! KARAN VERMA\n"
     ]
    }
   ],
   "source": [
    "something()"
   ]
  },
  {
   "cell_type": "code",
   "execution_count": 156,
   "id": "eb134822",
   "metadata": {},
   "outputs": [
    {
     "ename": "NameError",
     "evalue": "name 'my_name' is not defined",
     "output_type": "error",
     "traceback": [
      "\u001b[1;31m---------------------------------------------------------------------------\u001b[0m",
      "\u001b[1;31mNameError\u001b[0m                                 Traceback (most recent call last)",
      "Cell \u001b[1;32mIn[156], line 1\u001b[0m\n\u001b[1;32m----> 1\u001b[0m \u001b[38;5;28mprint\u001b[39m(my_name)\n",
      "\u001b[1;31mNameError\u001b[0m: name 'my_name' is not defined"
     ]
    }
   ],
   "source": [
    "print(my_name)"
   ]
  },
  {
   "cell_type": "code",
   "execution_count": 157,
   "id": "1d115e0f",
   "metadata": {},
   "outputs": [],
   "source": [
    "def something():\n",
    "    # global statement\n",
    "    global my_name\n",
    "    my_name = 'Karan verma'  #global variable\n",
    "    \n",
    "    print('Hello Buddy!!',my_name.upper())"
   ]
  },
  {
   "cell_type": "code",
   "execution_count": 158,
   "id": "85754670",
   "metadata": {},
   "outputs": [
    {
     "name": "stdout",
     "output_type": "stream",
     "text": [
      "Hello Buddy!! KARAN VERMA\n"
     ]
    }
   ],
   "source": [
    "something()"
   ]
  },
  {
   "cell_type": "code",
   "execution_count": 159,
   "id": "a58f5aa0",
   "metadata": {},
   "outputs": [
    {
     "name": "stdout",
     "output_type": "stream",
     "text": [
      "Karan verma\n"
     ]
    }
   ],
   "source": [
    "print(my_name)"
   ]
  },
  {
   "cell_type": "code",
   "execution_count": 160,
   "id": "17df73cf",
   "metadata": {},
   "outputs": [],
   "source": [
    "name = 'Komal Verma'\n",
    "# bydefault global variable \n",
    "\n",
    "def print_this():\n",
    "\n",
    "    print(f'Hello {name}, how are you??')"
   ]
  },
  {
   "cell_type": "code",
   "execution_count": 162,
   "id": "a7dcb779",
   "metadata": {},
   "outputs": [
    {
     "name": "stdout",
     "output_type": "stream",
     "text": [
      "Hello Abhay verma, how are you??\n"
     ]
    }
   ],
   "source": [
    "name = 'Abhay verma'\n",
    "print_this()"
   ]
  },
  {
   "cell_type": "code",
   "execution_count": 164,
   "id": "0eee931c",
   "metadata": {},
   "outputs": [],
   "source": [
    "salary = 9876543\n",
    "\n",
    "def change_salary():\n",
    "    global salary\n",
    "    salary = 10\n",
    "    \n",
    "    print(f'Your salary is {salary}')"
   ]
  },
  {
   "cell_type": "code",
   "execution_count": 166,
   "id": "c1142a8b",
   "metadata": {},
   "outputs": [
    {
     "name": "stdout",
     "output_type": "stream",
     "text": [
      "Your salary is 10\n"
     ]
    }
   ],
   "source": [
    "salary = 123456\n",
    "change_salary()"
   ]
  },
  {
   "cell_type": "code",
   "execution_count": 168,
   "id": "8b04a544",
   "metadata": {},
   "outputs": [
    {
     "name": "stdout",
     "output_type": "stream",
     "text": [
      "23456\n",
      "Your salary is 10\n"
     ]
    }
   ],
   "source": [
    "salary = 23456\n",
    "print(salary)\n",
    "\n",
    "change_salary()"
   ]
  },
  {
   "cell_type": "code",
   "execution_count": 169,
   "id": "a4c3a4b5",
   "metadata": {},
   "outputs": [
    {
     "name": "stdout",
     "output_type": "stream",
     "text": [
      "10\n"
     ]
    }
   ],
   "source": [
    "print(salary)"
   ]
  },
  {
   "cell_type": "code",
   "execution_count": null,
   "id": "8fb1355a",
   "metadata": {},
   "outputs": [],
   "source": []
  }
 ],
 "metadata": {
  "kernelspec": {
   "display_name": "Python 3 (ipykernel)",
   "language": "python",
   "name": "python3"
  },
  "language_info": {
   "codemirror_mode": {
    "name": "ipython",
    "version": 3
   },
   "file_extension": ".py",
   "mimetype": "text/x-python",
   "name": "python",
   "nbconvert_exporter": "python",
   "pygments_lexer": "ipython3",
   "version": "3.11.3"
  }
 },
 "nbformat": 4,
 "nbformat_minor": 5
}
