{
 "cells": [
  {
   "cell_type": "code",
   "execution_count": 1,
   "id": "c5c2cc21",
   "metadata": {},
   "outputs": [
    {
     "name": "stdout",
     "output_type": "stream",
     "text": [
      "79\n"
     ]
    }
   ],
   "source": [
    "a = 34\n",
    "b = 45\n",
    "\n",
    "\n",
    "print(a+b)"
   ]
  },
  {
   "cell_type": "code",
   "execution_count": 2,
   "id": "472f8f9f",
   "metadata": {},
   "outputs": [],
   "source": [
    "# Arithmetic op"
   ]
  },
  {
   "cell_type": "code",
   "execution_count": 3,
   "id": "8de43cb5",
   "metadata": {},
   "outputs": [],
   "source": [
    "# +,-,*,/,%,//,**"
   ]
  },
  {
   "cell_type": "code",
   "execution_count": 4,
   "id": "ad48e4b0",
   "metadata": {},
   "outputs": [
    {
     "name": "stdout",
     "output_type": "stream",
     "text": [
      "-11\n"
     ]
    }
   ],
   "source": [
    "a = 34\n",
    "b = 45\n",
    "\n",
    "\n",
    "print(a-b)"
   ]
  },
  {
   "cell_type": "code",
   "execution_count": 7,
   "id": "f6ae97f2",
   "metadata": {},
   "outputs": [
    {
     "name": "stdout",
     "output_type": "stream",
     "text": [
      "11.333333333333334\n"
     ]
    }
   ],
   "source": [
    "# float division(normal)\n",
    "a = 34\n",
    "print(a/3)"
   ]
  },
  {
   "cell_type": "code",
   "execution_count": 8,
   "id": "f5e2896f",
   "metadata": {},
   "outputs": [
    {
     "name": "stdout",
     "output_type": "stream",
     "text": [
      "11\n"
     ]
    }
   ],
   "source": [
    "# floor division(int division)\n",
    "\n",
    "a = 34\n",
    "print(a//3)"
   ]
  },
  {
   "cell_type": "code",
   "execution_count": 10,
   "id": "b39c3ebf",
   "metadata": {},
   "outputs": [
    {
     "name": "stdout",
     "output_type": "stream",
     "text": [
      "11\n"
     ]
    }
   ],
   "source": [
    "a = 34\n",
    "print(a//3)"
   ]
  },
  {
   "cell_type": "code",
   "execution_count": 12,
   "id": "40b79b7e",
   "metadata": {},
   "outputs": [
    {
     "name": "stdout",
     "output_type": "stream",
     "text": [
      "3\n"
     ]
    }
   ],
   "source": [
    "# modulus %\n",
    "\n",
    "a = 23\n",
    "\n",
    "s = 5\n",
    "\n",
    "print(a%s)"
   ]
  },
  {
   "cell_type": "code",
   "execution_count": 13,
   "id": "8ecff0c5",
   "metadata": {},
   "outputs": [
    {
     "name": "stdout",
     "output_type": "stream",
     "text": [
      "2025\n"
     ]
    }
   ],
   "source": [
    "a = 45\n",
    "print(a**2)"
   ]
  },
  {
   "cell_type": "code",
   "execution_count": 14,
   "id": "d10f4da8",
   "metadata": {},
   "outputs": [
    {
     "name": "stdout",
     "output_type": "stream",
     "text": [
      "8\n"
     ]
    }
   ],
   "source": [
    "print(2**3)"
   ]
  },
  {
   "cell_type": "code",
   "execution_count": 15,
   "id": "31b1777a",
   "metadata": {},
   "outputs": [
    {
     "name": "stdout",
     "output_type": "stream",
     "text": [
      "3456780\n"
     ]
    }
   ],
   "source": [
    "a = 345678\n",
    "print(a*10)"
   ]
  },
  {
   "cell_type": "code",
   "execution_count": 17,
   "id": "8ce902b4",
   "metadata": {},
   "outputs": [],
   "source": [
    "# print(2***4)"
   ]
  },
  {
   "cell_type": "code",
   "execution_count": 18,
   "id": "40fea743",
   "metadata": {},
   "outputs": [],
   "source": [
    "# comparison op/Relational op"
   ]
  },
  {
   "cell_type": "code",
   "execution_count": 21,
   "id": "535793c4",
   "metadata": {},
   "outputs": [
    {
     "name": "stdout",
     "output_type": "stream",
     "text": [
      "False\n"
     ]
    }
   ],
   "source": [
    "a = 345\n",
    "\n",
    "b = 3456\n",
    "\n",
    "print(a>b)"
   ]
  },
  {
   "cell_type": "code",
   "execution_count": 22,
   "id": "0aa045de",
   "metadata": {},
   "outputs": [],
   "source": [
    "# <\n",
    "# >\n",
    "# <=\n",
    "# >=\n",
    "# !=\n",
    "# ==\n",
    "\n"
   ]
  },
  {
   "cell_type": "code",
   "execution_count": 23,
   "id": "523181fb",
   "metadata": {},
   "outputs": [
    {
     "data": {
      "text/plain": [
       "False"
      ]
     },
     "execution_count": 23,
     "metadata": {},
     "output_type": "execute_result"
    }
   ],
   "source": [
    "a = 34\n",
    "b = 45\n",
    "\n",
    "a == b"
   ]
  },
  {
   "cell_type": "code",
   "execution_count": 24,
   "id": "225886cb",
   "metadata": {},
   "outputs": [
    {
     "data": {
      "text/plain": [
       "True"
      ]
     },
     "execution_count": 24,
     "metadata": {},
     "output_type": "execute_result"
    }
   ],
   "source": [
    "a!=b"
   ]
  },
  {
   "cell_type": "code",
   "execution_count": 27,
   "id": "2199981f",
   "metadata": {},
   "outputs": [
    {
     "data": {
      "text/plain": [
       "True"
      ]
     },
     "execution_count": 27,
     "metadata": {},
     "output_type": "execute_result"
    }
   ],
   "source": [
    "s = 56\n",
    "b = 56\n",
    "\n",
    "s<=b"
   ]
  },
  {
   "cell_type": "code",
   "execution_count": 28,
   "id": "7d435cff",
   "metadata": {},
   "outputs": [],
   "source": [
    "# Membership op\n",
    "in, not in"
   ]
  },
  {
   "cell_type": "code",
   "execution_count": 30,
   "id": "f5ed9486",
   "metadata": {},
   "outputs": [
    {
     "name": "stdout",
     "output_type": "stream",
     "text": [
      "False\n"
     ]
    }
   ],
   "source": [
    "a = [1,23,431,332,465,6532,3235,6]\n",
    "\n",
    "print(60 in a)"
   ]
  },
  {
   "cell_type": "code",
   "execution_count": 31,
   "id": "9c4c0ad5",
   "metadata": {},
   "outputs": [
    {
     "name": "stdout",
     "output_type": "stream",
     "text": [
      "True\n"
     ]
    }
   ],
   "source": [
    "print(60 not in a)"
   ]
  },
  {
   "cell_type": "code",
   "execution_count": 37,
   "id": "805502f8",
   "metadata": {},
   "outputs": [
    {
     "name": "stdout",
     "output_type": "stream",
     "text": [
      "['mohan', 'karan', 3, 1, 2, 45, True, (1, 2, 3, 45)]\n"
     ]
    }
   ],
   "source": [
    "a = ['mohan','karan',3,1,2,45,True,(1,2,3,45)]\n",
    "\n",
    "print(a)"
   ]
  },
  {
   "cell_type": "code",
   "execution_count": 35,
   "id": "ebbfba2c",
   "metadata": {},
   "outputs": [
    {
     "name": "stdout",
     "output_type": "stream",
     "text": [
      "False\n"
     ]
    }
   ],
   "source": [
    "print('Karan' in a)"
   ]
  },
  {
   "cell_type": "code",
   "execution_count": 38,
   "id": "2af81997",
   "metadata": {},
   "outputs": [
    {
     "data": {
      "text/plain": [
       "True"
      ]
     },
     "execution_count": 38,
     "metadata": {},
     "output_type": "execute_result"
    }
   ],
   "source": [
    "3 in a"
   ]
  },
  {
   "cell_type": "code",
   "execution_count": 44,
   "id": "1b47f2a6",
   "metadata": {},
   "outputs": [],
   "source": [
    "# Identity op\n",
    "# is, is not"
   ]
  },
  {
   "cell_type": "code",
   "execution_count": 46,
   "id": "04a3f1c9",
   "metadata": {},
   "outputs": [
    {
     "data": {
      "text/plain": [
       "140713997277000"
      ]
     },
     "execution_count": 46,
     "metadata": {},
     "output_type": "execute_result"
    }
   ],
   "source": [
    "a = 34\n",
    "id(a)"
   ]
  },
  {
   "cell_type": "code",
   "execution_count": 47,
   "id": "e06e1780",
   "metadata": {},
   "outputs": [],
   "source": [
    "b = 23"
   ]
  },
  {
   "cell_type": "code",
   "execution_count": 48,
   "id": "a5ad2f5d",
   "metadata": {},
   "outputs": [
    {
     "data": {
      "text/plain": [
       "140713997276648"
      ]
     },
     "execution_count": 48,
     "metadata": {},
     "output_type": "execute_result"
    }
   ],
   "source": [
    "id(b)"
   ]
  },
  {
   "cell_type": "code",
   "execution_count": 49,
   "id": "6dbf1bdb",
   "metadata": {},
   "outputs": [
    {
     "name": "stdout",
     "output_type": "stream",
     "text": [
      "False\n"
     ]
    }
   ],
   "source": [
    "print(a is b)"
   ]
  },
  {
   "cell_type": "code",
   "execution_count": 53,
   "id": "126b0226",
   "metadata": {},
   "outputs": [],
   "source": [
    "a = [1,2,3]\n",
    "b = [1,2,3]"
   ]
  },
  {
   "cell_type": "code",
   "execution_count": 54,
   "id": "daa5c4c7",
   "metadata": {},
   "outputs": [
    {
     "name": "stdout",
     "output_type": "stream",
     "text": [
      "True\n",
      "False\n"
     ]
    }
   ],
   "source": [
    "print(a == b)\n",
    "print(a is b)"
   ]
  },
  {
   "cell_type": "code",
   "execution_count": 52,
   "id": "8a1d323a",
   "metadata": {},
   "outputs": [
    {
     "name": "stdout",
     "output_type": "stream",
     "text": [
      "False\n"
     ]
    }
   ],
   "source": [
    "print(a is b)"
   ]
  },
  {
   "cell_type": "code",
   "execution_count": 55,
   "id": "061fe01a",
   "metadata": {},
   "outputs": [],
   "source": [
    "a = [1,2,3]\n",
    "b = [1,2,3]\n",
    "\n",
    "a = b"
   ]
  },
  {
   "cell_type": "code",
   "execution_count": 56,
   "id": "f4af8fe5",
   "metadata": {},
   "outputs": [
    {
     "name": "stdout",
     "output_type": "stream",
     "text": [
      "True\n"
     ]
    }
   ],
   "source": [
    "print(a is b)"
   ]
  },
  {
   "cell_type": "code",
   "execution_count": 57,
   "id": "27ed3e2b",
   "metadata": {},
   "outputs": [
    {
     "data": {
      "text/plain": [
       "2109156712448"
      ]
     },
     "execution_count": 57,
     "metadata": {},
     "output_type": "execute_result"
    }
   ],
   "source": [
    "id(a)"
   ]
  },
  {
   "cell_type": "code",
   "execution_count": 58,
   "id": "ebaa70a4",
   "metadata": {},
   "outputs": [
    {
     "data": {
      "text/plain": [
       "2109156712448"
      ]
     },
     "execution_count": 58,
     "metadata": {},
     "output_type": "execute_result"
    }
   ],
   "source": [
    "id(b)"
   ]
  },
  {
   "cell_type": "code",
   "execution_count": 59,
   "id": "7607bf45",
   "metadata": {},
   "outputs": [],
   "source": [
    "a = 23\n",
    "a = 56"
   ]
  },
  {
   "cell_type": "code",
   "execution_count": 60,
   "id": "0dfb66a6",
   "metadata": {},
   "outputs": [
    {
     "name": "stdout",
     "output_type": "stream",
     "text": [
      "56\n"
     ]
    }
   ],
   "source": [
    "print(a)"
   ]
  },
  {
   "cell_type": "code",
   "execution_count": 62,
   "id": "4d1dd9b4",
   "metadata": {},
   "outputs": [
    {
     "data": {
      "text/plain": [
       "False"
      ]
     },
     "execution_count": 62,
     "metadata": {},
     "output_type": "execute_result"
    }
   ],
   "source": [
    "a = [1,2]\n",
    "b = [1,2]\n",
    "\n",
    "a!=b"
   ]
  },
  {
   "cell_type": "code",
   "execution_count": 63,
   "id": "5413c581",
   "metadata": {},
   "outputs": [
    {
     "name": "stdout",
     "output_type": "stream",
     "text": [
      "False\n"
     ]
    }
   ],
   "source": [
    "print(a is b)"
   ]
  },
  {
   "cell_type": "code",
   "execution_count": 64,
   "id": "ca3d2660",
   "metadata": {},
   "outputs": [],
   "source": [
    "a = True\n",
    "\n",
    "b = True"
   ]
  },
  {
   "cell_type": "code",
   "execution_count": 65,
   "id": "6a90e743",
   "metadata": {},
   "outputs": [
    {
     "data": {
      "text/plain": [
       "140713995807264"
      ]
     },
     "execution_count": 65,
     "metadata": {},
     "output_type": "execute_result"
    }
   ],
   "source": [
    "id(a)"
   ]
  },
  {
   "cell_type": "code",
   "execution_count": 66,
   "id": "e39cfb87",
   "metadata": {},
   "outputs": [
    {
     "data": {
      "text/plain": [
       "140713995807264"
      ]
     },
     "execution_count": 66,
     "metadata": {},
     "output_type": "execute_result"
    }
   ],
   "source": [
    "id(b)"
   ]
  },
  {
   "cell_type": "code",
   "execution_count": 67,
   "id": "0391fb74",
   "metadata": {},
   "outputs": [
    {
     "name": "stdout",
     "output_type": "stream",
     "text": [
      "True\n"
     ]
    }
   ],
   "source": [
    "print(a is b)"
   ]
  },
  {
   "cell_type": "code",
   "execution_count": 68,
   "id": "0adb4833",
   "metadata": {},
   "outputs": [
    {
     "name": "stdout",
     "output_type": "stream",
     "text": [
      "False\n"
     ]
    }
   ],
   "source": [
    "print(a is not b)"
   ]
  },
  {
   "cell_type": "code",
   "execution_count": 69,
   "id": "4962a020",
   "metadata": {},
   "outputs": [],
   "source": [
    "# Logical op"
   ]
  },
  {
   "cell_type": "code",
   "execution_count": 70,
   "id": "abfe84f0",
   "metadata": {},
   "outputs": [],
   "source": [
    "# and, or, not"
   ]
  },
  {
   "cell_type": "code",
   "execution_count": 71,
   "id": "4bf8f191",
   "metadata": {},
   "outputs": [],
   "source": [
    "# land\n",
    "# ecosystem\n",
    "# purpose\n",
    "# transport\n",
    "# government policy\n",
    "# budget\n",
    "# etc"
   ]
  },
  {
   "cell_type": "code",
   "execution_count": 72,
   "id": "0171207e",
   "metadata": {},
   "outputs": [
    {
     "data": {
      "text/plain": [
       "False"
      ]
     },
     "execution_count": 72,
     "metadata": {},
     "output_type": "execute_result"
    }
   ],
   "source": [
    "a = 34\n",
    "b = 12\n",
    "c = 45\n",
    "d = 34\n",
    "\n",
    "\n",
    "a<b  and b==c and c>d  and d==a  and b>a\n",
    "\n",
    "# f         f        t       t         f"
   ]
  },
  {
   "cell_type": "code",
   "execution_count": 75,
   "id": "5d881eb8",
   "metadata": {},
   "outputs": [
    {
     "data": {
      "text/plain": [
       "True"
      ]
     },
     "execution_count": 75,
     "metadata": {},
     "output_type": "execute_result"
    }
   ],
   "source": [
    "a = 34\n",
    "b = 12\n",
    "c = 45\n",
    "d = 34\n",
    "\n",
    "\n",
    "a>b  and b!=c and c>d  and d==a  and b<a\n",
    "\n",
    "# t        t        t       t         t"
   ]
  },
  {
   "cell_type": "code",
   "execution_count": 76,
   "id": "d4acff93",
   "metadata": {},
   "outputs": [],
   "source": [
    "# or,"
   ]
  },
  {
   "cell_type": "code",
   "execution_count": 77,
   "id": "d234739f",
   "metadata": {},
   "outputs": [
    {
     "data": {
      "text/plain": [
       "True"
      ]
     },
     "execution_count": 77,
     "metadata": {},
     "output_type": "execute_result"
    }
   ],
   "source": [
    "a = 34\n",
    "b = 12\n",
    "c = 45\n",
    "d = 34\n",
    "\n",
    "\n",
    "a>b  or b!=c or c>d  or d==a  or b<a\n",
    "\n",
    "# t        t        t       t         t"
   ]
  },
  {
   "cell_type": "code",
   "execution_count": 78,
   "id": "7f487272",
   "metadata": {},
   "outputs": [
    {
     "data": {
      "text/plain": [
       "True"
      ]
     },
     "execution_count": 78,
     "metadata": {},
     "output_type": "execute_result"
    }
   ],
   "source": [
    "a = 34\n",
    "b = 12\n",
    "c = 45\n",
    "d = 34\n",
    "\n",
    "\n",
    "a<b  or b==c or c<d  or d!=a  or b<a\n",
    "\n",
    "# f        f        f       f         t"
   ]
  },
  {
   "cell_type": "code",
   "execution_count": 79,
   "id": "0edfd70b",
   "metadata": {},
   "outputs": [
    {
     "data": {
      "text/plain": [
       "False"
      ]
     },
     "execution_count": 79,
     "metadata": {},
     "output_type": "execute_result"
    }
   ],
   "source": [
    "a = 34\n",
    "b = 12\n",
    "c = 45\n",
    "d = 34\n",
    "\n",
    "\n",
    "a<b  or b==c or c<d  or d!=a  or b>a\n",
    "\n",
    "# f        f        f       f         f"
   ]
  },
  {
   "cell_type": "code",
   "execution_count": 80,
   "id": "429c9e92",
   "metadata": {},
   "outputs": [],
   "source": [
    "# not"
   ]
  },
  {
   "cell_type": "code",
   "execution_count": 82,
   "id": "4e31b656",
   "metadata": {},
   "outputs": [
    {
     "name": "stdout",
     "output_type": "stream",
     "text": [
      "True\n"
     ]
    }
   ],
   "source": [
    "a = 23\n",
    "b = 12\n",
    "\n",
    "print(not(a<b))"
   ]
  },
  {
   "cell_type": "code",
   "execution_count": 83,
   "id": "7eef4399",
   "metadata": {},
   "outputs": [
    {
     "data": {
      "text/plain": [
       "True"
      ]
     },
     "execution_count": 83,
     "metadata": {},
     "output_type": "execute_result"
    }
   ],
   "source": [
    "a = 'mohan'\n",
    "s = 'karan'\n",
    "\n",
    "s<a"
   ]
  },
  {
   "cell_type": "code",
   "execution_count": 84,
   "id": "d9152ecb",
   "metadata": {},
   "outputs": [
    {
     "data": {
      "text/plain": [
       "107"
      ]
     },
     "execution_count": 84,
     "metadata": {},
     "output_type": "execute_result"
    }
   ],
   "source": [
    "ord('k')"
   ]
  },
  {
   "cell_type": "code",
   "execution_count": 85,
   "id": "920bbec7",
   "metadata": {},
   "outputs": [
    {
     "data": {
      "text/plain": [
       "109"
      ]
     },
     "execution_count": 85,
     "metadata": {},
     "output_type": "execute_result"
    }
   ],
   "source": [
    "ord('m')"
   ]
  },
  {
   "cell_type": "code",
   "execution_count": 87,
   "id": "270a082d",
   "metadata": {},
   "outputs": [
    {
     "data": {
      "text/plain": [
       "107"
      ]
     },
     "execution_count": 87,
     "metadata": {},
     "output_type": "execute_result"
    }
   ],
   "source": [
    "ord('k')"
   ]
  },
  {
   "cell_type": "code",
   "execution_count": 88,
   "id": "b98a8d41",
   "metadata": {},
   "outputs": [
    {
     "data": {
      "text/plain": [
       "49"
      ]
     },
     "execution_count": 88,
     "metadata": {},
     "output_type": "execute_result"
    }
   ],
   "source": [
    "ord('1')"
   ]
  },
  {
   "cell_type": "code",
   "execution_count": 89,
   "id": "9edbaac9",
   "metadata": {},
   "outputs": [
    {
     "data": {
      "text/plain": [
       "192"
      ]
     },
     "execution_count": 89,
     "metadata": {},
     "output_type": "execute_result"
    }
   ],
   "source": [
    "ord('À')"
   ]
  },
  {
   "cell_type": "code",
   "execution_count": 90,
   "id": "23ebd8db",
   "metadata": {},
   "outputs": [
    {
     "data": {
      "text/plain": [
       "'À'"
      ]
     },
     "execution_count": 90,
     "metadata": {},
     "output_type": "execute_result"
    }
   ],
   "source": [
    "chr(192)"
   ]
  },
  {
   "cell_type": "code",
   "execution_count": 104,
   "id": "5f3bd1f0",
   "metadata": {},
   "outputs": [
    {
     "data": {
      "text/plain": [
       "'È'"
      ]
     },
     "execution_count": 104,
     "metadata": {},
     "output_type": "execute_result"
    }
   ],
   "source": [
    "chr(200)"
   ]
  },
  {
   "cell_type": "code",
   "execution_count": 105,
   "id": "98de1378",
   "metadata": {},
   "outputs": [
    {
     "data": {
      "text/plain": [
       "128540"
      ]
     },
     "execution_count": 105,
     "metadata": {},
     "output_type": "execute_result"
    }
   ],
   "source": [
    "ord('😜')"
   ]
  },
  {
   "cell_type": "code",
   "execution_count": 113,
   "id": "c1a1a4a4",
   "metadata": {},
   "outputs": [
    {
     "data": {
      "text/plain": [
       "'🔅'"
      ]
     },
     "execution_count": 113,
     "metadata": {},
     "output_type": "execute_result"
    }
   ],
   "source": [
    "chr(128261)"
   ]
  },
  {
   "cell_type": "code",
   "execution_count": 120,
   "id": "73153218",
   "metadata": {},
   "outputs": [
    {
     "data": {
      "text/plain": [
       "'Æ'"
      ]
     },
     "execution_count": 120,
     "metadata": {},
     "output_type": "execute_result"
    }
   ],
   "source": [
    "chr(198)"
   ]
  },
  {
   "cell_type": "code",
   "execution_count": 121,
   "id": "fb59e78e",
   "metadata": {},
   "outputs": [
    {
     "data": {
      "text/plain": [
       "198"
      ]
     },
     "execution_count": 121,
     "metadata": {},
     "output_type": "execute_result"
    }
   ],
   "source": [
    "ord('Æ')"
   ]
  },
  {
   "cell_type": "code",
   "execution_count": 122,
   "id": "4eec457c",
   "metadata": {},
   "outputs": [],
   "source": [
    "# art\n",
    "# comp\n",
    "# memb\n",
    "# logi\n",
    "# iden\n"
   ]
  },
  {
   "cell_type": "code",
   "execution_count": 123,
   "id": "0559bc4b",
   "metadata": {},
   "outputs": [],
   "source": [
    "# assignment op"
   ]
  },
  {
   "cell_type": "code",
   "execution_count": 124,
   "id": "dd84f7d3",
   "metadata": {},
   "outputs": [
    {
     "name": "stdout",
     "output_type": "stream",
     "text": [
      "33\n"
     ]
    }
   ],
   "source": [
    "a = 23\n",
    "\n",
    "a = a+ 10\n",
    "\n",
    "print(a)"
   ]
  },
  {
   "cell_type": "code",
   "execution_count": 125,
   "id": "1c15a546",
   "metadata": {},
   "outputs": [
    {
     "name": "stdout",
     "output_type": "stream",
     "text": [
      "-10\n"
     ]
    }
   ],
   "source": [
    "b = 10\n",
    "b = b - 20\n",
    "\n",
    "print(b)"
   ]
  },
  {
   "cell_type": "code",
   "execution_count": 126,
   "id": "dbee88a0",
   "metadata": {},
   "outputs": [],
   "source": [
    "# assignments op"
   ]
  },
  {
   "cell_type": "code",
   "execution_count": 127,
   "id": "f2f8d12e",
   "metadata": {},
   "outputs": [
    {
     "name": "stdout",
     "output_type": "stream",
     "text": [
      "33\n"
     ]
    }
   ],
   "source": [
    "a = 23\n",
    "\n",
    "a = a+ 10\n",
    "\n",
    "print(a)"
   ]
  },
  {
   "cell_type": "code",
   "execution_count": 132,
   "id": "ae41f8a1",
   "metadata": {},
   "outputs": [
    {
     "name": "stdout",
     "output_type": "stream",
     "text": [
      "100\n"
     ]
    }
   ],
   "source": [
    "a = 23\n",
    "\n",
    "a+= 10\n",
    "a+=20\n",
    "a-=20\n",
    "a*=10\n",
    "a//=33\n",
    "a**=2\n",
    "print(a)"
   ]
  },
  {
   "cell_type": "code",
   "execution_count": 133,
   "id": "218c2b6f",
   "metadata": {},
   "outputs": [
    {
     "ename": "TypeError",
     "evalue": "can only concatenate str (not \"int\") to str",
     "output_type": "error",
     "traceback": [
      "\u001b[1;31m---------------------------------------------------------------------------\u001b[0m",
      "\u001b[1;31mTypeError\u001b[0m                                 Traceback (most recent call last)",
      "Cell \u001b[1;32mIn[133], line 3\u001b[0m\n\u001b[0;32m      1\u001b[0m a \u001b[38;5;241m=\u001b[39m \u001b[38;5;241m23\u001b[39m\n\u001b[1;32m----> 3\u001b[0m a \u001b[38;5;241m=\u001b[39m \u001b[38;5;124m'\u001b[39m\u001b[38;5;124ma\u001b[39m\u001b[38;5;124m'\u001b[39m\u001b[38;5;241m+\u001b[39m \u001b[38;5;241m10\u001b[39m\n\u001b[0;32m      5\u001b[0m \u001b[38;5;28mprint\u001b[39m(a)\n",
      "\u001b[1;31mTypeError\u001b[0m: can only concatenate str (not \"int\") to str"
     ]
    }
   ],
   "source": [
    "a = 23\n",
    "\n",
    "a = 'a'+ 10\n",
    "\n",
    "print(a)"
   ]
  },
  {
   "cell_type": "code",
   "execution_count": 135,
   "id": "75976ed9",
   "metadata": {},
   "outputs": [],
   "source": [
    "# Bitwise op"
   ]
  },
  {
   "cell_type": "code",
   "execution_count": 136,
   "id": "d3754d75",
   "metadata": {},
   "outputs": [],
   "source": [
    "# bit level()\n",
    "# 1010100100100100101"
   ]
  },
  {
   "cell_type": "code",
   "execution_count": 139,
   "id": "80f0bf9f",
   "metadata": {},
   "outputs": [],
   "source": [
    "a = 23 \n",
    "b = 25"
   ]
  },
  {
   "cell_type": "code",
   "execution_count": 140,
   "id": "846fec21",
   "metadata": {
    "scrolled": true
   },
   "outputs": [
    {
     "data": {
      "text/plain": [
       "'0b11001'"
      ]
     },
     "execution_count": 140,
     "metadata": {},
     "output_type": "execute_result"
    }
   ],
   "source": [
    "bin(b)"
   ]
  },
  {
   "cell_type": "code",
   "execution_count": 141,
   "id": "77af066a",
   "metadata": {},
   "outputs": [],
   "source": [
    "# and, or, not\n",
    "# &, |,~"
   ]
  },
  {
   "cell_type": "code",
   "execution_count": 142,
   "id": "687cd344",
   "metadata": {},
   "outputs": [],
   "source": [
    "# 10111\n",
    "# 11001\n",
    "# 10001 "
   ]
  },
  {
   "cell_type": "code",
   "execution_count": 143,
   "id": "4b8903c5",
   "metadata": {},
   "outputs": [
    {
     "data": {
      "text/plain": [
       "17"
      ]
     },
     "execution_count": 143,
     "metadata": {},
     "output_type": "execute_result"
    }
   ],
   "source": [
    "int('10001',2)"
   ]
  },
  {
   "cell_type": "code",
   "execution_count": 144,
   "id": "1dfb2948",
   "metadata": {},
   "outputs": [
    {
     "name": "stdout",
     "output_type": "stream",
     "text": [
      "17\n"
     ]
    }
   ],
   "source": [
    "a = 23 \n",
    "b = 25\n",
    "\n",
    "print(a & b)"
   ]
  },
  {
   "cell_type": "code",
   "execution_count": 145,
   "id": "2dd93b3b",
   "metadata": {},
   "outputs": [
    {
     "data": {
      "text/plain": [
       "'0b1100100'"
      ]
     },
     "execution_count": 145,
     "metadata": {},
     "output_type": "execute_result"
    }
   ],
   "source": [
    "bin(100)"
   ]
  },
  {
   "cell_type": "code",
   "execution_count": null,
   "id": "182a4832",
   "metadata": {},
   "outputs": [],
   "source": [
    "# 10111\n",
    "# 11001\n",
    "# 11111\n"
   ]
  },
  {
   "cell_type": "code",
   "execution_count": 146,
   "id": "7773afa4",
   "metadata": {},
   "outputs": [
    {
     "data": {
      "text/plain": [
       "31"
      ]
     },
     "execution_count": 146,
     "metadata": {},
     "output_type": "execute_result"
    }
   ],
   "source": [
    "int('11111',2)"
   ]
  },
  {
   "cell_type": "code",
   "execution_count": 147,
   "id": "71c72715",
   "metadata": {},
   "outputs": [
    {
     "name": "stdout",
     "output_type": "stream",
     "text": [
      "31\n"
     ]
    }
   ],
   "source": [
    "a = 23 \n",
    "b = 25\n",
    "\n",
    "print(a | b)"
   ]
  },
  {
   "cell_type": "code",
   "execution_count": 150,
   "id": "e52f56d3",
   "metadata": {},
   "outputs": [
    {
     "data": {
      "text/plain": [
       "-123457"
      ]
     },
     "execution_count": 150,
     "metadata": {},
     "output_type": "execute_result"
    }
   ],
   "source": [
    "a = 123456\n",
    "~a"
   ]
  },
  {
   "cell_type": "code",
   "execution_count": null,
   "id": "b5cc147f",
   "metadata": {},
   "outputs": [],
   "source": []
  }
 ],
 "metadata": {
  "kernelspec": {
   "display_name": "Python 3 (ipykernel)",
   "language": "python",
   "name": "python3"
  },
  "language_info": {
   "codemirror_mode": {
    "name": "ipython",
    "version": 3
   },
   "file_extension": ".py",
   "mimetype": "text/x-python",
   "name": "python",
   "nbconvert_exporter": "python",
   "pygments_lexer": "ipython3",
   "version": "3.11.3"
  }
 },
 "nbformat": 4,
 "nbformat_minor": 5
}
