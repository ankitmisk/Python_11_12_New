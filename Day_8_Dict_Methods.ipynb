{
 "cells": [
  {
   "cell_type": "code",
   "execution_count": 1,
   "id": "c02212f1",
   "metadata": {},
   "outputs": [
    {
     "data": {
      "text/plain": [
       "5"
      ]
     },
     "execution_count": 1,
     "metadata": {},
     "output_type": "execute_result"
    }
   ],
   "source": [
    "a = [1,1,1,2,2,2,2,2,3,3,3,33,4,4,4,4,4,5,5,56]\n",
    "\n",
    "a.count(2)"
   ]
  },
  {
   "cell_type": "code",
   "execution_count": 6,
   "id": "22f22e3f",
   "metadata": {},
   "outputs": [
    {
     "data": {
      "text/plain": [
       "34"
      ]
     },
     "execution_count": 6,
     "metadata": {},
     "output_type": "execute_result"
    }
   ],
   "source": [
    "s = [1,24,324,[4,234,35,[124,2345,34]]]\n",
    "s[3][3][2]"
   ]
  },
  {
   "cell_type": "markdown",
   "id": "afe47ddb",
   "metadata": {},
   "source": [
    "#  Dictionary Methods"
   ]
  },
  {
   "cell_type": "code",
   "execution_count": 7,
   "id": "25b0c2cc",
   "metadata": {},
   "outputs": [
    {
     "name": "stdout",
     "output_type": "stream",
     "text": [
      "['__class__', '__class_getitem__', '__contains__', '__delattr__', '__delitem__', '__dir__', '__doc__', '__eq__', '__format__', '__ge__', '__getattribute__', '__getitem__', '__getstate__', '__gt__', '__hash__', '__init__', '__init_subclass__', '__ior__', '__iter__', '__le__', '__len__', '__lt__', '__ne__', '__new__', '__or__', '__reduce__', '__reduce_ex__', '__repr__', '__reversed__', '__ror__', '__setattr__', '__setitem__', '__sizeof__', '__str__', '__subclasshook__', 'clear', 'copy', 'fromkeys', 'get', 'items', 'keys', 'pop', 'popitem', 'setdefault', 'update', 'values']\n"
     ]
    }
   ],
   "source": [
    "print(dir(dict))"
   ]
  },
  {
   "cell_type": "code",
   "execution_count": 9,
   "id": "7e5e29d3",
   "metadata": {},
   "outputs": [],
   "source": [
    "m = ['clear', 'copy', 'fromkeys', 'get', 'items', 'keys', 'pop', 'popitem', 'setdefault', 'update', 'values']"
   ]
  },
  {
   "cell_type": "code",
   "execution_count": 10,
   "id": "24d44cbe",
   "metadata": {},
   "outputs": [
    {
     "data": {
      "text/plain": [
       "11"
      ]
     },
     "execution_count": 10,
     "metadata": {},
     "output_type": "execute_result"
    }
   ],
   "source": [
    "len(m)"
   ]
  },
  {
   "cell_type": "code",
   "execution_count": 11,
   "id": "9095b72f",
   "metadata": {},
   "outputs": [
    {
     "data": {
      "text/plain": [
       "{'name': 'karan', 'address': 'delhi'}"
      ]
     },
     "execution_count": 11,
     "metadata": {},
     "output_type": "execute_result"
    }
   ],
   "source": [
    "a = {'name':'karan','address':'delhi'}\n",
    "\n",
    "a"
   ]
  },
  {
   "cell_type": "code",
   "execution_count": 12,
   "id": "70820b55",
   "metadata": {},
   "outputs": [],
   "source": [
    "a.clear()"
   ]
  },
  {
   "cell_type": "code",
   "execution_count": 13,
   "id": "3dbbf596",
   "metadata": {},
   "outputs": [
    {
     "name": "stdout",
     "output_type": "stream",
     "text": [
      "{}\n"
     ]
    }
   ],
   "source": [
    "print(a)"
   ]
  },
  {
   "cell_type": "code",
   "execution_count": 15,
   "id": "15d5d50c",
   "metadata": {},
   "outputs": [],
   "source": [
    "# 'copy'\n",
    "\n",
    "# deep copy\n",
    "a = {'Bank1':345,'Bank2':76}\n",
    "\n",
    "\n",
    "b = a"
   ]
  },
  {
   "cell_type": "code",
   "execution_count": 16,
   "id": "4179497c",
   "metadata": {},
   "outputs": [
    {
     "data": {
      "text/plain": [
       "{'Bank1': 345, 'Bank2': 76}"
      ]
     },
     "execution_count": 16,
     "metadata": {},
     "output_type": "execute_result"
    }
   ],
   "source": [
    "a"
   ]
  },
  {
   "cell_type": "code",
   "execution_count": 17,
   "id": "63ba4945",
   "metadata": {},
   "outputs": [
    {
     "data": {
      "text/plain": [
       "{'Bank1': 345, 'Bank2': 76}"
      ]
     },
     "execution_count": 17,
     "metadata": {},
     "output_type": "execute_result"
    }
   ],
   "source": [
    "b"
   ]
  },
  {
   "cell_type": "code",
   "execution_count": 18,
   "id": "723ec5fc",
   "metadata": {},
   "outputs": [],
   "source": [
    "b['Bank3'] = 7654"
   ]
  },
  {
   "cell_type": "code",
   "execution_count": 19,
   "id": "0e610d09",
   "metadata": {},
   "outputs": [
    {
     "data": {
      "text/plain": [
       "{'Bank1': 345, 'Bank2': 76, 'Bank3': 7654}"
      ]
     },
     "execution_count": 19,
     "metadata": {},
     "output_type": "execute_result"
    }
   ],
   "source": [
    "b"
   ]
  },
  {
   "cell_type": "code",
   "execution_count": 20,
   "id": "2b590d3e",
   "metadata": {},
   "outputs": [
    {
     "data": {
      "text/plain": [
       "{'Bank1': 345, 'Bank2': 76, 'Bank3': 7654}"
      ]
     },
     "execution_count": 20,
     "metadata": {},
     "output_type": "execute_result"
    }
   ],
   "source": [
    "a"
   ]
  },
  {
   "cell_type": "code",
   "execution_count": 21,
   "id": "45b103b5",
   "metadata": {},
   "outputs": [],
   "source": [
    "# copy method(shallow copy)"
   ]
  },
  {
   "cell_type": "code",
   "execution_count": 22,
   "id": "af92b001",
   "metadata": {},
   "outputs": [],
   "source": [
    "a = {'Locker1':2345,'Locker2':8765}\n",
    "\n",
    "c = a.copy()"
   ]
  },
  {
   "cell_type": "code",
   "execution_count": 23,
   "id": "27bd9453",
   "metadata": {},
   "outputs": [
    {
     "data": {
      "text/plain": [
       "{'Locker1': 2345, 'Locker2': 8765}"
      ]
     },
     "execution_count": 23,
     "metadata": {},
     "output_type": "execute_result"
    }
   ],
   "source": [
    "c"
   ]
  },
  {
   "cell_type": "code",
   "execution_count": 24,
   "id": "95149081",
   "metadata": {},
   "outputs": [
    {
     "data": {
      "text/plain": [
       "{'Locker1': 2345, 'Locker2': 8765}"
      ]
     },
     "execution_count": 24,
     "metadata": {},
     "output_type": "execute_result"
    }
   ],
   "source": [
    "a"
   ]
  },
  {
   "cell_type": "code",
   "execution_count": 25,
   "id": "6e82781e",
   "metadata": {},
   "outputs": [],
   "source": [
    "a['Locker3'] = 765"
   ]
  },
  {
   "cell_type": "code",
   "execution_count": 26,
   "id": "d69ec6d2",
   "metadata": {},
   "outputs": [
    {
     "data": {
      "text/plain": [
       "{'Locker1': 2345, 'Locker2': 8765, 'Locker3': 765}"
      ]
     },
     "execution_count": 26,
     "metadata": {},
     "output_type": "execute_result"
    }
   ],
   "source": [
    "a"
   ]
  },
  {
   "cell_type": "code",
   "execution_count": 27,
   "id": "0fc93572",
   "metadata": {},
   "outputs": [
    {
     "data": {
      "text/plain": [
       "{'Locker1': 2345, 'Locker2': 8765}"
      ]
     },
     "execution_count": 27,
     "metadata": {},
     "output_type": "execute_result"
    }
   ],
   "source": [
    "c"
   ]
  },
  {
   "cell_type": "code",
   "execution_count": 28,
   "id": "8616e9d7",
   "metadata": {},
   "outputs": [],
   "source": [
    "# 'fromkeys', 'get', 'items',"
   ]
  },
  {
   "cell_type": "code",
   "execution_count": 31,
   "id": "4484ff21",
   "metadata": {},
   "outputs": [
    {
     "data": {
      "text/plain": [
       "{'Name': None, 'Age': None, 'School': None}"
      ]
     },
     "execution_count": 31,
     "metadata": {},
     "output_type": "execute_result"
    }
   ],
   "source": [
    "s = {'Name':'Ajay','Age':34,'Address':'Noida'}\n",
    "\n",
    "s.fromkeys(('Name','Age','School'))"
   ]
  },
  {
   "cell_type": "code",
   "execution_count": 34,
   "id": "94c173c9",
   "metadata": {},
   "outputs": [],
   "source": [
    "d = {}\n",
    "\n",
    "d = d.fromkeys(('Add','Name','Phone','Bank1'))"
   ]
  },
  {
   "cell_type": "code",
   "execution_count": 35,
   "id": "e03b97ce",
   "metadata": {},
   "outputs": [
    {
     "data": {
      "text/plain": [
       "{'Add': None, 'Name': None, 'Phone': None, 'Bank1': None}"
      ]
     },
     "execution_count": 35,
     "metadata": {},
     "output_type": "execute_result"
    }
   ],
   "source": [
    "d"
   ]
  },
  {
   "cell_type": "code",
   "execution_count": 36,
   "id": "9002ae82",
   "metadata": {},
   "outputs": [
    {
     "data": {
      "text/plain": [
       "{'Name': 'Ajay', 'Age': 34, 'Address': 'Noida'}"
      ]
     },
     "execution_count": 36,
     "metadata": {},
     "output_type": "execute_result"
    }
   ],
   "source": [
    "s = {'Name':'Ajay','Age':34,'Address':'Noida'}\n",
    "\n",
    "s"
   ]
  },
  {
   "cell_type": "code",
   "execution_count": 38,
   "id": "428142e3",
   "metadata": {},
   "outputs": [],
   "source": [
    "f = {}\n",
    "\n",
    "f = f.fromkeys(s)"
   ]
  },
  {
   "cell_type": "code",
   "execution_count": 39,
   "id": "0eb1cce1",
   "metadata": {},
   "outputs": [
    {
     "data": {
      "text/plain": [
       "{'Name': None, 'Age': None, 'Address': None}"
      ]
     },
     "execution_count": 39,
     "metadata": {},
     "output_type": "execute_result"
    }
   ],
   "source": [
    "f"
   ]
  },
  {
   "cell_type": "code",
   "execution_count": 40,
   "id": "0501f246",
   "metadata": {},
   "outputs": [
    {
     "data": {
      "text/plain": [
       "{'Name': 'Ajay', 'Age': 34, 'Address': 'Noida'}"
      ]
     },
     "execution_count": 40,
     "metadata": {},
     "output_type": "execute_result"
    }
   ],
   "source": [
    "# get\n",
    "\n",
    "s"
   ]
  },
  {
   "cell_type": "code",
   "execution_count": 41,
   "id": "16b25c0f",
   "metadata": {},
   "outputs": [
    {
     "data": {
      "text/plain": [
       "34"
      ]
     },
     "execution_count": 41,
     "metadata": {},
     "output_type": "execute_result"
    }
   ],
   "source": [
    "s.get('Age')"
   ]
  },
  {
   "cell_type": "code",
   "execution_count": 43,
   "id": "411d132d",
   "metadata": {},
   "outputs": [],
   "source": [
    "s.get('Bank')"
   ]
  },
  {
   "cell_type": "code",
   "execution_count": 45,
   "id": "947dc65b",
   "metadata": {},
   "outputs": [
    {
     "data": {
      "text/plain": [
       "34"
      ]
     },
     "execution_count": 45,
     "metadata": {},
     "output_type": "execute_result"
    }
   ],
   "source": [
    "s['Age']"
   ]
  },
  {
   "cell_type": "code",
   "execution_count": 46,
   "id": "262754ad",
   "metadata": {},
   "outputs": [
    {
     "ename": "KeyError",
     "evalue": "'Add'",
     "output_type": "error",
     "traceback": [
      "\u001b[1;31m---------------------------------------------------------------------------\u001b[0m",
      "\u001b[1;31mKeyError\u001b[0m                                  Traceback (most recent call last)",
      "Cell \u001b[1;32mIn[46], line 1\u001b[0m\n\u001b[1;32m----> 1\u001b[0m s[\u001b[38;5;124m'\u001b[39m\u001b[38;5;124mAdd\u001b[39m\u001b[38;5;124m'\u001b[39m]\n",
      "\u001b[1;31mKeyError\u001b[0m: 'Add'"
     ]
    }
   ],
   "source": [
    "s['Add']"
   ]
  },
  {
   "cell_type": "code",
   "execution_count": 47,
   "id": "67899306",
   "metadata": {},
   "outputs": [],
   "source": [
    "s.get('Add')"
   ]
  },
  {
   "cell_type": "code",
   "execution_count": 49,
   "id": "95ae021f",
   "metadata": {},
   "outputs": [],
   "source": [
    "s['Age'] = 45"
   ]
  },
  {
   "cell_type": "code",
   "execution_count": 51,
   "id": "9cce9d0c",
   "metadata": {},
   "outputs": [
    {
     "data": {
      "text/plain": [
       "{'Name': 'Ajay', 'Age': 45, 'Address': 'Noida'}"
      ]
     },
     "execution_count": 51,
     "metadata": {},
     "output_type": "execute_result"
    }
   ],
   "source": [
    "s"
   ]
  },
  {
   "cell_type": "code",
   "execution_count": 55,
   "id": "5528aace",
   "metadata": {},
   "outputs": [
    {
     "data": {
      "text/plain": [
       "45"
      ]
     },
     "execution_count": 55,
     "metadata": {},
     "output_type": "execute_result"
    }
   ],
   "source": [
    "s.get('Age')"
   ]
  },
  {
   "cell_type": "code",
   "execution_count": 57,
   "id": "04ae1471",
   "metadata": {},
   "outputs": [
    {
     "name": "stdout",
     "output_type": "stream",
     "text": [
      "None\n"
     ]
    }
   ],
   "source": [
    "print(s.get('Bank'))"
   ]
  },
  {
   "cell_type": "code",
   "execution_count": 58,
   "id": "b16d3b7c",
   "metadata": {},
   "outputs": [
    {
     "data": {
      "text/plain": [
       "{'Name': 'Ajay', 'Age': 45, 'Address': 'Noida'}"
      ]
     },
     "execution_count": 58,
     "metadata": {},
     "output_type": "execute_result"
    }
   ],
   "source": [
    "s"
   ]
  },
  {
   "cell_type": "code",
   "execution_count": 60,
   "id": "c2c10366",
   "metadata": {},
   "outputs": [
    {
     "data": {
      "text/plain": [
       "dict_keys(['Name', 'Age', 'Address'])"
      ]
     },
     "execution_count": 60,
     "metadata": {},
     "output_type": "execute_result"
    }
   ],
   "source": [
    "s.keys()"
   ]
  },
  {
   "cell_type": "code",
   "execution_count": 61,
   "id": "34067e56",
   "metadata": {},
   "outputs": [
    {
     "data": {
      "text/plain": [
       "['Name', 'Age', 'Address']"
      ]
     },
     "execution_count": 61,
     "metadata": {},
     "output_type": "execute_result"
    }
   ],
   "source": [
    "list(s)"
   ]
  },
  {
   "cell_type": "code",
   "execution_count": 62,
   "id": "b4430316",
   "metadata": {},
   "outputs": [
    {
     "data": {
      "text/plain": [
       "('Name', 'Age', 'Address')"
      ]
     },
     "execution_count": 62,
     "metadata": {},
     "output_type": "execute_result"
    }
   ],
   "source": [
    "tuple(s)"
   ]
  },
  {
   "cell_type": "code",
   "execution_count": 63,
   "id": "16269dd3",
   "metadata": {},
   "outputs": [
    {
     "data": {
      "text/plain": [
       "{'Address', 'Age', 'Name'}"
      ]
     },
     "execution_count": 63,
     "metadata": {},
     "output_type": "execute_result"
    }
   ],
   "source": [
    "set(s)"
   ]
  },
  {
   "cell_type": "code",
   "execution_count": 64,
   "id": "f2907391",
   "metadata": {},
   "outputs": [
    {
     "data": {
      "text/plain": [
       "3"
      ]
     },
     "execution_count": 64,
     "metadata": {},
     "output_type": "execute_result"
    }
   ],
   "source": [
    "len(s.keys())"
   ]
  },
  {
   "cell_type": "code",
   "execution_count": 66,
   "id": "34fa8448",
   "metadata": {},
   "outputs": [
    {
     "data": {
      "text/plain": [
       "dict_keys"
      ]
     },
     "execution_count": 66,
     "metadata": {},
     "output_type": "execute_result"
    }
   ],
   "source": [
    "type(s.keys())"
   ]
  },
  {
   "cell_type": "code",
   "execution_count": 67,
   "id": "67308a94",
   "metadata": {},
   "outputs": [
    {
     "data": {
      "text/plain": [
       "dict_keys(['Name', 'Age', 'Address'])"
      ]
     },
     "execution_count": 67,
     "metadata": {},
     "output_type": "execute_result"
    }
   ],
   "source": [
    "s.keys()"
   ]
  },
  {
   "cell_type": "code",
   "execution_count": 68,
   "id": "a2739a28",
   "metadata": {},
   "outputs": [
    {
     "data": {
      "text/plain": [
       "{'Name': 'Ajay', 'Age': 45, 'Address': 'Noida'}"
      ]
     },
     "execution_count": 68,
     "metadata": {},
     "output_type": "execute_result"
    }
   ],
   "source": [
    "s"
   ]
  },
  {
   "cell_type": "code",
   "execution_count": 69,
   "id": "263de63d",
   "metadata": {},
   "outputs": [
    {
     "data": {
      "text/plain": [
       "dict_values(['Ajay', 45, 'Noida'])"
      ]
     },
     "execution_count": 69,
     "metadata": {},
     "output_type": "execute_result"
    }
   ],
   "source": [
    "s.values()"
   ]
  },
  {
   "cell_type": "code",
   "execution_count": 74,
   "id": "d99db94c",
   "metadata": {},
   "outputs": [],
   "source": [
    "# {**s}"
   ]
  },
  {
   "cell_type": "code",
   "execution_count": 75,
   "id": "662f611f",
   "metadata": {},
   "outputs": [],
   "source": [
    "# [(1,True)]"
   ]
  },
  {
   "cell_type": "code",
   "execution_count": 76,
   "id": "08fcbeec",
   "metadata": {},
   "outputs": [
    {
     "data": {
      "text/plain": [
       "{'Name': 'Ajay', 'Age': 45, 'Address': 'Noida'}"
      ]
     },
     "execution_count": 76,
     "metadata": {},
     "output_type": "execute_result"
    }
   ],
   "source": [
    "s"
   ]
  },
  {
   "cell_type": "code",
   "execution_count": 77,
   "id": "e28f22cd",
   "metadata": {},
   "outputs": [
    {
     "data": {
      "text/plain": [
       "dict_items([('Name', 'Ajay'), ('Age', 45), ('Address', 'Noida')])"
      ]
     },
     "execution_count": 77,
     "metadata": {},
     "output_type": "execute_result"
    }
   ],
   "source": [
    "s.items()"
   ]
  },
  {
   "cell_type": "code",
   "execution_count": 78,
   "id": "3460b526",
   "metadata": {},
   "outputs": [],
   "source": [
    "# 'pop', 'popitem', 'setdefault', 'update',"
   ]
  },
  {
   "cell_type": "code",
   "execution_count": 79,
   "id": "94a67f61",
   "metadata": {},
   "outputs": [
    {
     "data": {
      "text/plain": [
       "{'Name': 'Ajay', 'Age': 45, 'Address': 'Noida'}"
      ]
     },
     "execution_count": 79,
     "metadata": {},
     "output_type": "execute_result"
    }
   ],
   "source": [
    "s"
   ]
  },
  {
   "cell_type": "code",
   "execution_count": 81,
   "id": "78da23f2",
   "metadata": {},
   "outputs": [
    {
     "data": {
      "text/plain": [
       "45"
      ]
     },
     "execution_count": 81,
     "metadata": {},
     "output_type": "execute_result"
    }
   ],
   "source": [
    "s.pop('Age')"
   ]
  },
  {
   "cell_type": "code",
   "execution_count": 82,
   "id": "cc28840d",
   "metadata": {},
   "outputs": [
    {
     "data": {
      "text/plain": [
       "{'Name': 'Ajay', 'Address': 'Noida'}"
      ]
     },
     "execution_count": 82,
     "metadata": {},
     "output_type": "execute_result"
    }
   ],
   "source": [
    "s"
   ]
  },
  {
   "cell_type": "code",
   "execution_count": 84,
   "id": "3cbe1b7b",
   "metadata": {},
   "outputs": [
    {
     "data": {
      "text/plain": [
       "'Noida'"
      ]
     },
     "execution_count": 84,
     "metadata": {},
     "output_type": "execute_result"
    }
   ],
   "source": [
    "s.pop('Address')"
   ]
  },
  {
   "cell_type": "code",
   "execution_count": 85,
   "id": "6daa3df1",
   "metadata": {},
   "outputs": [
    {
     "data": {
      "text/plain": [
       "{'Name': 'Ajay'}"
      ]
     },
     "execution_count": 85,
     "metadata": {},
     "output_type": "execute_result"
    }
   ],
   "source": [
    "s"
   ]
  },
  {
   "cell_type": "code",
   "execution_count": 86,
   "id": "bff50465",
   "metadata": {},
   "outputs": [],
   "source": [
    "d = {'Name':'Rohan','sec':'B','class':5,'Address':'Noida'}"
   ]
  },
  {
   "cell_type": "code",
   "execution_count": 87,
   "id": "29a5304b",
   "metadata": {},
   "outputs": [
    {
     "data": {
      "text/plain": [
       "{'Name': 'Rohan', 'sec': 'B', 'class': 5, 'Address': 'Noida'}"
      ]
     },
     "execution_count": 87,
     "metadata": {},
     "output_type": "execute_result"
    }
   ],
   "source": [
    "d"
   ]
  },
  {
   "cell_type": "code",
   "execution_count": 90,
   "id": "9a7823cf",
   "metadata": {},
   "outputs": [
    {
     "data": {
      "text/plain": [
       "('sec', 'B')"
      ]
     },
     "execution_count": 90,
     "metadata": {},
     "output_type": "execute_result"
    }
   ],
   "source": [
    "d.popitem()"
   ]
  },
  {
   "cell_type": "code",
   "execution_count": 91,
   "id": "ea21c0c3",
   "metadata": {},
   "outputs": [
    {
     "data": {
      "text/plain": [
       "{'Name': 'Rohan'}"
      ]
     },
     "execution_count": 91,
     "metadata": {},
     "output_type": "execute_result"
    }
   ],
   "source": [
    "d"
   ]
  },
  {
   "cell_type": "code",
   "execution_count": 92,
   "id": "be4e6d39",
   "metadata": {},
   "outputs": [],
   "source": [
    "# 'setdefault', 'update',"
   ]
  },
  {
   "cell_type": "code",
   "execution_count": 93,
   "id": "0b47c215",
   "metadata": {},
   "outputs": [
    {
     "data": {
      "text/plain": [
       "{'Audi': 7654321,\n",
       " 'Bmw': 8765438,\n",
       " 'Maruti': 87654,\n",
       " 'Honda': 9876543,\n",
       " 'Mahindra': 8765432}"
      ]
     },
     "execution_count": 93,
     "metadata": {},
     "output_type": "execute_result"
    }
   ],
   "source": [
    "a = {'Audi':7654321,'Bmw':8765438,'Maruti':87654,'Honda':9876543,'Mahindra':8765432}\n",
    "\n",
    "a"
   ]
  },
  {
   "cell_type": "code",
   "execution_count": 94,
   "id": "dd3b82ad",
   "metadata": {},
   "outputs": [
    {
     "name": "stdout",
     "output_type": "stream",
     "text": [
      "{'Audi': 7654321, 'Bmw': 8765438, 'Maruti': 87654, 'Honda': 9876543, 'Mahindra': 8765432}\n"
     ]
    }
   ],
   "source": [
    "print(a)"
   ]
  },
  {
   "cell_type": "code",
   "execution_count": 95,
   "id": "adb6fdc4",
   "metadata": {},
   "outputs": [
    {
     "data": {
      "text/plain": [
       "7654321"
      ]
     },
     "execution_count": 95,
     "metadata": {},
     "output_type": "execute_result"
    }
   ],
   "source": [
    "a.setdefault('Audi',1)"
   ]
  },
  {
   "cell_type": "code",
   "execution_count": 96,
   "id": "4808dc6b",
   "metadata": {},
   "outputs": [
    {
     "data": {
      "text/plain": [
       "{'Audi': 7654321,\n",
       " 'Bmw': 8765438,\n",
       " 'Maruti': 87654,\n",
       " 'Honda': 9876543,\n",
       " 'Mahindra': 8765432}"
      ]
     },
     "execution_count": 96,
     "metadata": {},
     "output_type": "execute_result"
    }
   ],
   "source": [
    "a"
   ]
  },
  {
   "cell_type": "code",
   "execution_count": 97,
   "id": "ad63e086",
   "metadata": {},
   "outputs": [
    {
     "data": {
      "text/plain": [
       "8765432"
      ]
     },
     "execution_count": 97,
     "metadata": {},
     "output_type": "execute_result"
    }
   ],
   "source": [
    "a.setdefault('Toyota',8765432)"
   ]
  },
  {
   "cell_type": "code",
   "execution_count": 98,
   "id": "5d7b0f8b",
   "metadata": {},
   "outputs": [
    {
     "data": {
      "text/plain": [
       "{'Audi': 7654321,\n",
       " 'Bmw': 8765438,\n",
       " 'Maruti': 87654,\n",
       " 'Honda': 9876543,\n",
       " 'Mahindra': 8765432,\n",
       " 'Toyota': 8765432}"
      ]
     },
     "execution_count": 98,
     "metadata": {},
     "output_type": "execute_result"
    }
   ],
   "source": [
    "a"
   ]
  },
  {
   "cell_type": "code",
   "execution_count": 99,
   "id": "09c22f25",
   "metadata": {},
   "outputs": [],
   "source": [
    "a.setdefault('Kia')"
   ]
  },
  {
   "cell_type": "code",
   "execution_count": 100,
   "id": "f0ec3935",
   "metadata": {},
   "outputs": [
    {
     "data": {
      "text/plain": [
       "{'Audi': 7654321,\n",
       " 'Bmw': 8765438,\n",
       " 'Maruti': 87654,\n",
       " 'Honda': 9876543,\n",
       " 'Mahindra': 8765432,\n",
       " 'Toyota': 8765432,\n",
       " 'Kia': None}"
      ]
     },
     "execution_count": 100,
     "metadata": {},
     "output_type": "execute_result"
    }
   ],
   "source": [
    "a"
   ]
  },
  {
   "cell_type": "code",
   "execution_count": null,
   "id": "d8266046",
   "metadata": {},
   "outputs": [],
   "source": []
  },
  {
   "cell_type": "code",
   "execution_count": 102,
   "id": "8d35b866",
   "metadata": {},
   "outputs": [],
   "source": [
    "# update"
   ]
  },
  {
   "cell_type": "code",
   "execution_count": 103,
   "id": "84cf84fc",
   "metadata": {},
   "outputs": [
    {
     "data": {
      "text/plain": [
       "{'Audi': 7654321,\n",
       " 'Bmw': 8765438,\n",
       " 'Maruti': 87654,\n",
       " 'Honda': 9876543,\n",
       " 'Mahindra': 8765432,\n",
       " 'Toyota': 8765432,\n",
       " 'Kia': None}"
      ]
     },
     "execution_count": 103,
     "metadata": {},
     "output_type": "execute_result"
    }
   ],
   "source": [
    "a"
   ]
  },
  {
   "cell_type": "code",
   "execution_count": 106,
   "id": "812f7f05",
   "metadata": {},
   "outputs": [],
   "source": [
    "a.update([('kia',2)])"
   ]
  },
  {
   "cell_type": "code",
   "execution_count": 107,
   "id": "97489128",
   "metadata": {},
   "outputs": [
    {
     "data": {
      "text/plain": [
       "{'Audi': 7654321,\n",
       " 'Bmw': 8765438,\n",
       " 'Maruti': 87654,\n",
       " 'Honda': 9876543,\n",
       " 'Mahindra': 8765432,\n",
       " 'Toyota': 8765432,\n",
       " 'Kia': None,\n",
       " 'kia': 2}"
      ]
     },
     "execution_count": 107,
     "metadata": {},
     "output_type": "execute_result"
    }
   ],
   "source": [
    "a"
   ]
  },
  {
   "cell_type": "code",
   "execution_count": 108,
   "id": "1b28d39e",
   "metadata": {},
   "outputs": [],
   "source": [
    "a.update([('Honda',12)])"
   ]
  },
  {
   "cell_type": "code",
   "execution_count": 109,
   "id": "173b2e32",
   "metadata": {},
   "outputs": [
    {
     "data": {
      "text/plain": [
       "{'Audi': 7654321,\n",
       " 'Bmw': 8765438,\n",
       " 'Maruti': 87654,\n",
       " 'Honda': 12,\n",
       " 'Mahindra': 8765432,\n",
       " 'Toyota': 8765432,\n",
       " 'Kia': None,\n",
       " 'kia': 2}"
      ]
     },
     "execution_count": 109,
     "metadata": {},
     "output_type": "execute_result"
    }
   ],
   "source": [
    "a"
   ]
  },
  {
   "cell_type": "code",
   "execution_count": 110,
   "id": "99a1ab64",
   "metadata": {},
   "outputs": [],
   "source": [
    "# multiple updates\n",
    "\n",
    "a.update([('Audi',1),('Bmw',2),('Toyota',3)])"
   ]
  },
  {
   "cell_type": "code",
   "execution_count": 111,
   "id": "cafeb854",
   "metadata": {},
   "outputs": [
    {
     "data": {
      "text/plain": [
       "{'Audi': 1,\n",
       " 'Bmw': 2,\n",
       " 'Maruti': 87654,\n",
       " 'Honda': 12,\n",
       " 'Mahindra': 8765432,\n",
       " 'Toyota': 3,\n",
       " 'Kia': None,\n",
       " 'kia': 2}"
      ]
     },
     "execution_count": 111,
     "metadata": {},
     "output_type": "execute_result"
    }
   ],
   "source": [
    "a"
   ]
  },
  {
   "cell_type": "code",
   "execution_count": 112,
   "id": "2e55fb5e",
   "metadata": {},
   "outputs": [],
   "source": [
    "# dict update\n",
    "\n",
    "a.update({'Audi':100,'Bmw':200,'Toyota':300})"
   ]
  },
  {
   "cell_type": "code",
   "execution_count": 113,
   "id": "2791e080",
   "metadata": {},
   "outputs": [
    {
     "data": {
      "text/plain": [
       "{'Audi': 100,\n",
       " 'Bmw': 200,\n",
       " 'Maruti': 87654,\n",
       " 'Honda': 12,\n",
       " 'Mahindra': 8765432,\n",
       " 'Toyota': 300,\n",
       " 'Kia': None,\n",
       " 'kia': 2}"
      ]
     },
     "execution_count": 113,
     "metadata": {},
     "output_type": "execute_result"
    }
   ],
   "source": [
    "a"
   ]
  },
  {
   "cell_type": "code",
   "execution_count": 114,
   "id": "d041c6a2",
   "metadata": {},
   "outputs": [
    {
     "data": {
      "text/plain": [
       "{'Audi': 100,\n",
       " 'Bmw': 200,\n",
       " 'Maruti': 87654,\n",
       " 'Honda': 12,\n",
       " 'Mahindra': 8765432,\n",
       " 'Toyota': 300,\n",
       " 'Kia': None,\n",
       " 'kia': 2}"
      ]
     },
     "execution_count": 114,
     "metadata": {},
     "output_type": "execute_result"
    }
   ],
   "source": [
    "a"
   ]
  },
  {
   "cell_type": "code",
   "execution_count": 115,
   "id": "65283e73",
   "metadata": {},
   "outputs": [],
   "source": [
    "a.update((['Maruti',23],['Kia',34]))"
   ]
  },
  {
   "cell_type": "code",
   "execution_count": 116,
   "id": "7e6078e9",
   "metadata": {},
   "outputs": [
    {
     "data": {
      "text/plain": [
       "{'Audi': 100,\n",
       " 'Bmw': 200,\n",
       " 'Maruti': 23,\n",
       " 'Honda': 12,\n",
       " 'Mahindra': 8765432,\n",
       " 'Toyota': 300,\n",
       " 'Kia': 34,\n",
       " 'kia': 2}"
      ]
     },
     "execution_count": 116,
     "metadata": {},
     "output_type": "execute_result"
    }
   ],
   "source": [
    "a"
   ]
  },
  {
   "cell_type": "code",
   "execution_count": 117,
   "id": "7e518646",
   "metadata": {},
   "outputs": [],
   "source": [
    "# unpacking"
   ]
  },
  {
   "cell_type": "code",
   "execution_count": 118,
   "id": "33634242",
   "metadata": {},
   "outputs": [],
   "source": [
    "a = {'Name':'Ajay','Age':23,'Address':'Noida'}"
   ]
  },
  {
   "cell_type": "code",
   "execution_count": 119,
   "id": "e7b38548",
   "metadata": {},
   "outputs": [],
   "source": [
    "b = {**a}"
   ]
  },
  {
   "cell_type": "code",
   "execution_count": 120,
   "id": "74731500",
   "metadata": {},
   "outputs": [
    {
     "data": {
      "text/plain": [
       "{'Name': 'Ajay', 'Age': 23, 'Address': 'Noida'}"
      ]
     },
     "execution_count": 120,
     "metadata": {},
     "output_type": "execute_result"
    }
   ],
   "source": [
    "b"
   ]
  },
  {
   "cell_type": "code",
   "execution_count": 121,
   "id": "843f04d0",
   "metadata": {},
   "outputs": [],
   "source": [
    "b['bank2'] = 234567890"
   ]
  },
  {
   "cell_type": "code",
   "execution_count": 122,
   "id": "d91c24ee",
   "metadata": {},
   "outputs": [
    {
     "data": {
      "text/plain": [
       "{'Name': 'Ajay', 'Age': 23, 'Address': 'Noida', 'bank2': 234567890}"
      ]
     },
     "execution_count": 122,
     "metadata": {},
     "output_type": "execute_result"
    }
   ],
   "source": [
    "b"
   ]
  },
  {
   "cell_type": "code",
   "execution_count": 123,
   "id": "46bfcd6e",
   "metadata": {},
   "outputs": [
    {
     "data": {
      "text/plain": [
       "{'Name': 'Ajay', 'Age': 23, 'Address': 'Noida'}"
      ]
     },
     "execution_count": 123,
     "metadata": {},
     "output_type": "execute_result"
    }
   ],
   "source": [
    "a"
   ]
  },
  {
   "cell_type": "code",
   "execution_count": 124,
   "id": "257bd02a",
   "metadata": {},
   "outputs": [
    {
     "data": {
      "text/plain": [
       "{'Name': 'Ajay', 'Age': 23, 'Address': 'Noida'}"
      ]
     },
     "execution_count": 124,
     "metadata": {},
     "output_type": "execute_result"
    }
   ],
   "source": [
    "a"
   ]
  },
  {
   "cell_type": "code",
   "execution_count": 125,
   "id": "dccd1fcc",
   "metadata": {},
   "outputs": [],
   "source": [
    "c = {*a}"
   ]
  },
  {
   "cell_type": "code",
   "execution_count": 127,
   "id": "5a331c8c",
   "metadata": {},
   "outputs": [
    {
     "data": {
      "text/plain": [
       "set"
      ]
     },
     "execution_count": 127,
     "metadata": {},
     "output_type": "execute_result"
    }
   ],
   "source": [
    "type(c)"
   ]
  },
  {
   "cell_type": "code",
   "execution_count": 128,
   "id": "01abb5c5",
   "metadata": {},
   "outputs": [
    {
     "data": {
      "text/plain": [
       "{'Address', 'Age', 'Name'}"
      ]
     },
     "execution_count": 128,
     "metadata": {},
     "output_type": "execute_result"
    }
   ],
   "source": [
    "c"
   ]
  },
  {
   "cell_type": "code",
   "execution_count": 129,
   "id": "7632ad1e",
   "metadata": {},
   "outputs": [
    {
     "data": {
      "text/plain": [
       "{'Name': 'Ajay', 'Age': 23, 'Address': 'Noida'}"
      ]
     },
     "execution_count": 129,
     "metadata": {},
     "output_type": "execute_result"
    }
   ],
   "source": [
    "a"
   ]
  },
  {
   "cell_type": "code",
   "execution_count": 130,
   "id": "2458d532",
   "metadata": {},
   "outputs": [
    {
     "data": {
      "text/plain": [
       "['Name', 'Age', 'Address']"
      ]
     },
     "execution_count": 130,
     "metadata": {},
     "output_type": "execute_result"
    }
   ],
   "source": [
    "list(a)"
   ]
  },
  {
   "cell_type": "code",
   "execution_count": 131,
   "id": "cfdb188c",
   "metadata": {},
   "outputs": [],
   "source": [
    "b = [*a]"
   ]
  },
  {
   "cell_type": "code",
   "execution_count": 132,
   "id": "3cdc2ffd",
   "metadata": {},
   "outputs": [
    {
     "data": {
      "text/plain": [
       "['Name', 'Age', 'Address']"
      ]
     },
     "execution_count": 132,
     "metadata": {},
     "output_type": "execute_result"
    }
   ],
   "source": [
    "b"
   ]
  },
  {
   "cell_type": "code",
   "execution_count": 134,
   "id": "33b0668d",
   "metadata": {},
   "outputs": [],
   "source": [
    "d = {**a}"
   ]
  },
  {
   "cell_type": "code",
   "execution_count": 135,
   "id": "c8dce449",
   "metadata": {},
   "outputs": [
    {
     "data": {
      "text/plain": [
       "{'Name': 'Ajay', 'Age': 23, 'Address': 'Noida'}"
      ]
     },
     "execution_count": 135,
     "metadata": {},
     "output_type": "execute_result"
    }
   ],
   "source": [
    "d"
   ]
  },
  {
   "cell_type": "code",
   "execution_count": 136,
   "id": "45f02212",
   "metadata": {},
   "outputs": [],
   "source": [
    "d = [{**a}]"
   ]
  },
  {
   "cell_type": "code",
   "execution_count": 137,
   "id": "e0cc211d",
   "metadata": {},
   "outputs": [
    {
     "data": {
      "text/plain": [
       "[{'Name': 'Ajay', 'Age': 23, 'Address': 'Noida'}]"
      ]
     },
     "execution_count": 137,
     "metadata": {},
     "output_type": "execute_result"
    }
   ],
   "source": [
    "d"
   ]
  },
  {
   "cell_type": "code",
   "execution_count": 138,
   "id": "013266da",
   "metadata": {},
   "outputs": [],
   "source": [
    "a = {'Name':'Ajay'}\n",
    "b = {'Address':'Noida'}\n",
    "c = {'Bank1':23456}\n",
    "\n",
    "\n"
   ]
  },
  {
   "cell_type": "code",
   "execution_count": 139,
   "id": "c27db3b8",
   "metadata": {},
   "outputs": [
    {
     "data": {
      "text/plain": [
       "{'Name': 'Ajay'}"
      ]
     },
     "execution_count": 139,
     "metadata": {},
     "output_type": "execute_result"
    }
   ],
   "source": [
    "a"
   ]
  },
  {
   "cell_type": "code",
   "execution_count": 140,
   "id": "33967338",
   "metadata": {},
   "outputs": [
    {
     "data": {
      "text/plain": [
       "{'Address': 'Noida'}"
      ]
     },
     "execution_count": 140,
     "metadata": {},
     "output_type": "execute_result"
    }
   ],
   "source": [
    "b"
   ]
  },
  {
   "cell_type": "code",
   "execution_count": 141,
   "id": "8b646a25",
   "metadata": {},
   "outputs": [
    {
     "data": {
      "text/plain": [
       "{'Bank1': 23456}"
      ]
     },
     "execution_count": 141,
     "metadata": {},
     "output_type": "execute_result"
    }
   ],
   "source": [
    "c"
   ]
  },
  {
   "cell_type": "code",
   "execution_count": 142,
   "id": "6e28f7fa",
   "metadata": {},
   "outputs": [
    {
     "ename": "TypeError",
     "evalue": "unsupported operand type(s) for +: 'dict' and 'dict'",
     "output_type": "error",
     "traceback": [
      "\u001b[1;31m---------------------------------------------------------------------------\u001b[0m",
      "\u001b[1;31mTypeError\u001b[0m                                 Traceback (most recent call last)",
      "Cell \u001b[1;32mIn[142], line 1\u001b[0m\n\u001b[1;32m----> 1\u001b[0m \u001b[38;5;28mprint\u001b[39m(a\u001b[38;5;241m+\u001b[39mb\u001b[38;5;241m+\u001b[39mc)\n",
      "\u001b[1;31mTypeError\u001b[0m: unsupported operand type(s) for +: 'dict' and 'dict'"
     ]
    }
   ],
   "source": [
    "print(a+b+c)"
   ]
  },
  {
   "cell_type": "code",
   "execution_count": 143,
   "id": "fb87cb7e",
   "metadata": {},
   "outputs": [],
   "source": [
    "d = {**a,**b,**c}"
   ]
  },
  {
   "cell_type": "code",
   "execution_count": 144,
   "id": "58db9211",
   "metadata": {},
   "outputs": [
    {
     "data": {
      "text/plain": [
       "{'Name': 'Ajay', 'Address': 'Noida', 'Bank1': 23456}"
      ]
     },
     "execution_count": 144,
     "metadata": {},
     "output_type": "execute_result"
    }
   ],
   "source": [
    "d"
   ]
  },
  {
   "cell_type": "code",
   "execution_count": 147,
   "id": "07bf30a9",
   "metadata": {},
   "outputs": [
    {
     "data": {
      "text/plain": [
       "[('Name', 'Ajay'), ('Address', 'Noida'), ('Bank1', 23456)]"
      ]
     },
     "execution_count": 147,
     "metadata": {},
     "output_type": "execute_result"
    }
   ],
   "source": [
    "# valid question\n",
    "\n",
    "\n",
    "list(d.items())"
   ]
  },
  {
   "cell_type": "code",
   "execution_count": 148,
   "id": "1d54719e",
   "metadata": {},
   "outputs": [
    {
     "data": {
      "text/plain": [
       "[['Name', 'Ajay'], ['Address', 'Noida'], ['Bank1', 23456]]"
      ]
     },
     "execution_count": 148,
     "metadata": {},
     "output_type": "execute_result"
    }
   ],
   "source": [
    "[list(i) for i in d.items() ]"
   ]
  },
  {
   "cell_type": "code",
   "execution_count": null,
   "id": "33a3fb21",
   "metadata": {},
   "outputs": [],
   "source": []
  }
 ],
 "metadata": {
  "kernelspec": {
   "display_name": "Python 3 (ipykernel)",
   "language": "python",
   "name": "python3"
  },
  "language_info": {
   "codemirror_mode": {
    "name": "ipython",
    "version": 3
   },
   "file_extension": ".py",
   "mimetype": "text/x-python",
   "name": "python",
   "nbconvert_exporter": "python",
   "pygments_lexer": "ipython3",
   "version": "3.11.3"
  }
 },
 "nbformat": 4,
 "nbformat_minor": 5
}
