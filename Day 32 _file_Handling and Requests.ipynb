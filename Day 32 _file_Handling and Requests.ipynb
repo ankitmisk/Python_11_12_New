{
 "cells": [
  {
   "cell_type": "code",
   "execution_count": 1,
   "id": "9d30625c",
   "metadata": {},
   "outputs": [],
   "source": [
    "# with, open(),read,write(),append(),delete,copy,remove\n",
    "# os"
   ]
  },
  {
   "cell_type": "code",
   "execution_count": 2,
   "id": "49aed9f5",
   "metadata": {},
   "outputs": [],
   "source": [
    "# mode:- 'rb+','wb+','rb','wb','r','w','r+','w+','a','x','a+','x+'"
   ]
  },
  {
   "cell_type": "code",
   "execution_count": 3,
   "id": "b200f061",
   "metadata": {},
   "outputs": [],
   "source": [
    "import requests"
   ]
  },
  {
   "cell_type": "code",
   "execution_count": 4,
   "id": "d661741b",
   "metadata": {},
   "outputs": [],
   "source": [
    "url = '''https://upload.wikimedia.org/wikipedia/commons/e/ef/Virat_Kohli_during_the_India_vs_Aus_4th_Test_match_at_Narendra_Modi_Stadium_on_09_March_2023.jpg'''"
   ]
  },
  {
   "cell_type": "code",
   "execution_count": 5,
   "id": "e60cf1d4",
   "metadata": {},
   "outputs": [
    {
     "name": "stdout",
     "output_type": "stream",
     "text": [
      "https://upload.wikimedia.org/wikipedia/commons/e/ef/Virat_Kohli_during_the_India_vs_Aus_4th_Test_match_at_Narendra_Modi_Stadium_on_09_March_2023.jpg\n"
     ]
    }
   ],
   "source": [
    "print(url)"
   ]
  },
  {
   "cell_type": "code",
   "execution_count": 7,
   "id": "38ee12d6",
   "metadata": {},
   "outputs": [],
   "source": [
    "response = requests.get(url)"
   ]
  },
  {
   "cell_type": "code",
   "execution_count": 10,
   "id": "f9dbb38f",
   "metadata": {},
   "outputs": [],
   "source": [
    "data = response.content"
   ]
  },
  {
   "cell_type": "code",
   "execution_count": 11,
   "id": "6a8fbf59",
   "metadata": {},
   "outputs": [
    {
     "name": "stdout",
     "output_type": "stream",
     "text": [
      "done\n"
     ]
    }
   ],
   "source": [
    "with open(r\"C:\\Users\\Lenovo\\Desktop\\kohli_image.jpg\",'wb') as f:\n",
    "    f.write(data)\n",
    "print('done')"
   ]
  },
  {
   "cell_type": "code",
   "execution_count": 13,
   "id": "3ee8f4cc",
   "metadata": {},
   "outputs": [],
   "source": [
    "def download_image(url,path):\n",
    "    response = requests.get(url)\n",
    "    data = response.content\n",
    "    \n",
    "    with open(path,'wb') as f:\n",
    "        f.write(data)\n",
    "    return 'success'"
   ]
  },
  {
   "cell_type": "code",
   "execution_count": 15,
   "id": "df6570b7",
   "metadata": {},
   "outputs": [
    {
     "data": {
      "text/plain": [
       "'success'"
      ]
     },
     "execution_count": 15,
     "metadata": {},
     "output_type": "execute_result"
    }
   ],
   "source": [
    "url = '''https://www.bollywoodshaadis.com/img/article-l-2024498020011201000.webp'''\n",
    "path = r\"C:\\Users\\Lenovo\\Desktop\\raj.webp\"\n",
    "\n",
    "download_image(url,path)"
   ]
  },
  {
   "cell_type": "code",
   "execution_count": 16,
   "id": "495d1b99",
   "metadata": {},
   "outputs": [
    {
     "data": {
      "text/plain": [
       "'success'"
      ]
     },
     "execution_count": 16,
     "metadata": {},
     "output_type": "execute_result"
    }
   ],
   "source": [
    "url = '''https://media.assettype.com/freepressjournal/2022-04/2e558d1c-2f19-4f6d-97fa-60ad6679e34b/cats.jpg'''\n",
    "\n",
    "path = r\"C:\\Users\\Lenovo\\Desktop\\check.webp\"\n",
    "\n",
    "download_image(url,path)"
   ]
  },
  {
   "cell_type": "code",
   "execution_count": null,
   "id": "5a1b968a",
   "metadata": {},
   "outputs": [],
   "source": []
  },
  {
   "cell_type": "code",
   "execution_count": null,
   "id": "5866ee96",
   "metadata": {},
   "outputs": [],
   "source": []
  },
  {
   "cell_type": "code",
   "execution_count": 17,
   "id": "4f5936c1",
   "metadata": {},
   "outputs": [
    {
     "data": {
      "text/plain": [
       "'success'"
      ]
     },
     "execution_count": 17,
     "metadata": {},
     "output_type": "execute_result"
    }
   ],
   "source": [
    "url = '''https://picsum.photos/1080/1080'''\n",
    "\n",
    "path = r\"C:\\Users\\Lenovo\\Desktop\\random_images\\random_1.jpg\"\n",
    "\n",
    "download_image(url,path)"
   ]
  },
  {
   "cell_type": "code",
   "execution_count": 22,
   "id": "b65adf47",
   "metadata": {},
   "outputs": [],
   "source": [
    "import time"
   ]
  },
  {
   "cell_type": "code",
   "execution_count": 24,
   "id": "2cd89b61",
   "metadata": {},
   "outputs": [
    {
     "name": "stdout",
     "output_type": "stream",
     "text": [
      "Time Taken:  24.35710334777832\n"
     ]
    }
   ],
   "source": [
    "start = time.time()\n",
    "\n",
    "url = '''https://picsum.photos/1080/1080'''\n",
    "\n",
    "for i in range(1,41):\n",
    "    path = f\"C:\\\\Users\\\\Lenovo\\\\Desktop\\\\random_images\\\\random_{i}.jpg\"\n",
    "    download_image(url,path)\n",
    "    \n",
    "    \n",
    "end = time.time()\n",
    "\n",
    "print('Time Taken: ',end-start)"
   ]
  },
  {
   "cell_type": "code",
   "execution_count": null,
   "id": "4239eb4f",
   "metadata": {},
   "outputs": [],
   "source": []
  },
  {
   "cell_type": "code",
   "execution_count": null,
   "id": "b2cae315",
   "metadata": {},
   "outputs": [],
   "source": []
  },
  {
   "cell_type": "code",
   "execution_count": null,
   "id": "2ebe12a4",
   "metadata": {},
   "outputs": [],
   "source": []
  },
  {
   "cell_type": "code",
   "execution_count": 25,
   "id": "32a7e8fc",
   "metadata": {},
   "outputs": [],
   "source": [
    "# threading concept: parallel\n",
    "\n"
   ]
  },
  {
   "cell_type": "code",
   "execution_count": 26,
   "id": "585bb0b6",
   "metadata": {},
   "outputs": [],
   "source": [
    "import threading as th"
   ]
  },
  {
   "cell_type": "code",
   "execution_count": 34,
   "id": "0190df95",
   "metadata": {},
   "outputs": [
    {
     "name": "stdout",
     "output_type": "stream",
     "text": [
      "Time Taken:  26.199410676956177\n"
     ]
    }
   ],
   "source": [
    "start = time.time()\n",
    "\n",
    "all_threads = []\n",
    "url = '''https://picsum.photos/1080/1080'''\n",
    "\n",
    "for i in range(1,1001):\n",
    "    path = f\"C:\\\\Users\\\\Lenovo\\\\Desktop\\\\random_images\\\\random_{i}.jpg\"\n",
    "    t = th.Thread(target=download_image,args=[url,path])\n",
    "    \n",
    "    all_threads.append(t)\n",
    "    \n",
    "\n",
    "for i in all_threads:\n",
    "    i.start()\n",
    "    \n",
    "\n",
    "\n",
    "for k in all_threads:\n",
    "    k.join()\n",
    "    \n",
    "    \n",
    "end = time.time()\n",
    "\n",
    "print('Time Taken: ',end-start)"
   ]
  },
  {
   "cell_type": "code",
   "execution_count": 36,
   "id": "e968c6a2",
   "metadata": {},
   "outputs": [
    {
     "data": {
      "text/plain": [
       "22.22222222222222"
      ]
     },
     "execution_count": 36,
     "metadata": {},
     "output_type": "execute_result"
    }
   ],
   "source": [
    "10*60/27"
   ]
  },
  {
   "cell_type": "code",
   "execution_count": 37,
   "id": "391b2d02",
   "metadata": {},
   "outputs": [
    {
     "data": {
      "text/plain": [
       "25.0"
      ]
     },
     "execution_count": 37,
     "metadata": {},
     "output_type": "execute_result"
    }
   ],
   "source": [
    "1000/40"
   ]
  },
  {
   "cell_type": "code",
   "execution_count": null,
   "id": "f8bb01a9",
   "metadata": {},
   "outputs": [],
   "source": []
  },
  {
   "cell_type": "code",
   "execution_count": 38,
   "id": "182d0a89",
   "metadata": {},
   "outputs": [
    {
     "name": "stdout",
     "output_type": "stream",
     "text": [
      "Done\n"
     ]
    }
   ],
   "source": [
    "print('Done')"
   ]
  },
  {
   "cell_type": "code",
   "execution_count": null,
   "id": "892d9398",
   "metadata": {},
   "outputs": [],
   "source": []
  },
  {
   "cell_type": "code",
   "execution_count": 40,
   "id": "40fd17b3",
   "metadata": {},
   "outputs": [
    {
     "name": "stdout",
     "output_type": "stream",
     "text": [
      "Done\n"
     ]
    }
   ],
   "source": [
    "with open('Day 32 _file_Handling and Requests.ipynb','rb') as f:\n",
    "    with open(r\"C:\\Users\\Lenovo\\Desktop\\Day32_Python.ipynb\",'wb') as nf:\n",
    "        nf.write(f.read())\n",
    "        \n",
    "print('Done')"
   ]
  },
  {
   "cell_type": "code",
   "execution_count": 41,
   "id": "53488e57",
   "metadata": {},
   "outputs": [
    {
     "name": "stdout",
     "output_type": "stream",
     "text": [
      "Done\n"
     ]
    }
   ],
   "source": [
    "url = '''https://www.python.org/ftp/python/3.12.3/python-3.12.3-amd64.exe'''\n",
    "res = requests.get(url)\n",
    "\n",
    "data = res.content\n",
    "\n",
    "with open(r\"C:\\Users\\Lenovo\\Desktop\\my_python.exe\",'wb') as f:\n",
    "    f.write(data)\n",
    "print('Done')"
   ]
  },
  {
   "cell_type": "code",
   "execution_count": null,
   "id": "e2a05343",
   "metadata": {},
   "outputs": [],
   "source": []
  }
 ],
 "metadata": {
  "kernelspec": {
   "display_name": "Python 3 (ipykernel)",
   "language": "python",
   "name": "python3"
  },
  "language_info": {
   "codemirror_mode": {
    "name": "ipython",
    "version": 3
   },
   "file_extension": ".py",
   "mimetype": "text/x-python",
   "name": "python",
   "nbconvert_exporter": "python",
   "pygments_lexer": "ipython3",
   "version": "3.11.3"
  }
 },
 "nbformat": 4,
 "nbformat_minor": 5
}
