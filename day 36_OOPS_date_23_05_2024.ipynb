{
 "cells": [
  {
   "cell_type": "code",
   "execution_count": 1,
   "id": "b7212985",
   "metadata": {},
   "outputs": [],
   "source": [
    "# Important Points\n",
    "# Data types and its methods\n",
    "#For loop \n",
    "# while loop:\n",
    "# Interview:- pattern printing\n",
    "# if esle: break, continue pass\n",
    "# nested if else\n",
    "# functions:- all examples:- lambda(map,filter,reduce)\n",
    "# Modules creation\n",
    "# file Handling\n",
    "# Request module\n",
    "# Threading\n",
    "# Regex\n",
    "# OOPs\n"
   ]
  },
  {
   "cell_type": "code",
   "execution_count": 3,
   "id": "b5c74bd0",
   "metadata": {},
   "outputs": [
    {
     "name": "stdout",
     "output_type": "stream",
     "text": [
      "<class 'int'>\n"
     ]
    }
   ],
   "source": [
    "# basic conditional programming:-\n",
    "    # methods,if else, loops\n",
    "    \n",
    "#     :- we have repeat code again and again\n",
    "\n",
    "# Functional Programming(procedural programming)\n",
    "# how to create a func:-\n",
    "    # basic conditional programming:-\n",
    "\n",
    "\n",
    "# Advance OOPS:\n",
    "# OOPS:- Object Oriented Programming language\n",
    "# Modules: with the class concept\n",
    "# we learn here how to create our own class\n",
    "\n",
    "a = 76\n",
    "print(type(a))"
   ]
  },
  {
   "cell_type": "code",
   "execution_count": 4,
   "id": "e4395b89",
   "metadata": {},
   "outputs": [],
   "source": [
    "# Everything consider as an object"
   ]
  },
  {
   "cell_type": "code",
   "execution_count": 5,
   "id": "91a360fb",
   "metadata": {},
   "outputs": [
    {
     "name": "stdout",
     "output_type": "stream",
     "text": [
      "99\n"
     ]
    }
   ],
   "source": [
    "b = 23\n",
    "\n",
    "print(a+b)"
   ]
  },
  {
   "cell_type": "code",
   "execution_count": 6,
   "id": "9e9c1e07",
   "metadata": {},
   "outputs": [
    {
     "data": {
      "text/plain": [
       "<_io.TextIOWrapper name='sandeep.txt' mode='r' encoding='cp1252'>"
      ]
     },
     "execution_count": 6,
     "metadata": {},
     "output_type": "execute_result"
    }
   ],
   "source": [
    "file = open('sandeep.txt')\n",
    "file"
   ]
  },
  {
   "cell_type": "code",
   "execution_count": 7,
   "id": "ba145515",
   "metadata": {},
   "outputs": [],
   "source": [
    "# How these object has been created"
   ]
  },
  {
   "cell_type": "code",
   "execution_count": 8,
   "id": "0c17681d",
   "metadata": {},
   "outputs": [
    {
     "data": {
      "text/plain": [
       "_io.TextIOWrapper"
      ]
     },
     "execution_count": 8,
     "metadata": {},
     "output_type": "execute_result"
    }
   ],
   "source": [
    "# class concept\n",
    "\n",
    "type(file)"
   ]
  },
  {
   "cell_type": "code",
   "execution_count": 9,
   "id": "e4ec71b5",
   "metadata": {},
   "outputs": [],
   "source": [
    "# int\n",
    "# str\n",
    "# tuple\n",
    "# float\n",
    "# set\n",
    "# list\n",
    "# frozenset\n",
    "# dict\n",
    "# complex\n",
    "# bool\n",
    "# None\n"
   ]
  },
  {
   "cell_type": "code",
   "execution_count": 10,
   "id": "34c95a79",
   "metadata": {},
   "outputs": [],
   "source": [
    "def abc():\n",
    "    pass"
   ]
  },
  {
   "cell_type": "code",
   "execution_count": 11,
   "id": "d7f59308",
   "metadata": {},
   "outputs": [
    {
     "data": {
      "text/plain": [
       "function"
      ]
     },
     "execution_count": 11,
     "metadata": {},
     "output_type": "execute_result"
    }
   ],
   "source": [
    "type(abc)"
   ]
  },
  {
   "cell_type": "code",
   "execution_count": 12,
   "id": "164ef276",
   "metadata": {},
   "outputs": [],
   "source": [
    "# a = (12,343,456,67)\n",
    "\n",
    "# a."
   ]
  },
  {
   "cell_type": "code",
   "execution_count": 13,
   "id": "8bca666b",
   "metadata": {},
   "outputs": [],
   "source": [
    "# def ga():\n",
    "#     code"
   ]
  },
  {
   "cell_type": "code",
   "execution_count": 14,
   "id": "2ea2712b",
   "metadata": {},
   "outputs": [],
   "source": [
    "# class Gaurav:\n",
    "#     func()\n",
    "#     func\n",
    "#     func"
   ]
  },
  {
   "cell_type": "code",
   "execution_count": 15,
   "id": "74a331bf",
   "metadata": {},
   "outputs": [],
   "source": [
    "# class :- blue print of our own data type/structure\n"
   ]
  },
  {
   "cell_type": "code",
   "execution_count": 16,
   "id": "985440ae",
   "metadata": {},
   "outputs": [],
   "source": [
    "class Gaurav:\n",
    "    \n",
    "    def one():\n",
    "        print('I am One')\n",
    "    \n",
    "    def two():\n",
    "        print('I am two')\n",
    "        \n",
    "    def three():\n",
    "        print('I am Three')"
   ]
  },
  {
   "cell_type": "code",
   "execution_count": 17,
   "id": "eadf5172",
   "metadata": {},
   "outputs": [
    {
     "name": "stdout",
     "output_type": "stream",
     "text": [
      "<class 'int'>\n"
     ]
    }
   ],
   "source": [
    "a = 9\n",
    "print(type(a))"
   ]
  },
  {
   "cell_type": "code",
   "execution_count": 18,
   "id": "987f42c8",
   "metadata": {},
   "outputs": [
    {
     "name": "stdout",
     "output_type": "stream",
     "text": [
      "9 <class 'int'>\n"
     ]
    }
   ],
   "source": [
    "b = int(9)\n",
    "\n",
    "print(b,type(b))"
   ]
  },
  {
   "cell_type": "code",
   "execution_count": null,
   "id": "4a6d5e53",
   "metadata": {},
   "outputs": [],
   "source": []
  },
  {
   "cell_type": "code",
   "execution_count": null,
   "id": "9dd59e4a",
   "metadata": {},
   "outputs": [],
   "source": []
  },
  {
   "cell_type": "code",
   "execution_count": 19,
   "id": "03515676",
   "metadata": {},
   "outputs": [],
   "source": [
    "obj1 = Gaurav()"
   ]
  },
  {
   "cell_type": "code",
   "execution_count": 21,
   "id": "7728bb9d",
   "metadata": {},
   "outputs": [
    {
     "name": "stdout",
     "output_type": "stream",
     "text": [
      "<class '__main__.Gaurav'>\n"
     ]
    }
   ],
   "source": [
    "print(type(obj1))"
   ]
  },
  {
   "cell_type": "code",
   "execution_count": 22,
   "id": "37dc0583",
   "metadata": {},
   "outputs": [],
   "source": [
    "a = [12,434,6]"
   ]
  },
  {
   "cell_type": "code",
   "execution_count": 23,
   "id": "123b3bd7",
   "metadata": {},
   "outputs": [
    {
     "ename": "TypeError",
     "evalue": "Gaurav.one() takes 0 positional arguments but 1 was given",
     "output_type": "error",
     "traceback": [
      "\u001b[1;31m---------------------------------------------------------------------------\u001b[0m",
      "\u001b[1;31mTypeError\u001b[0m                                 Traceback (most recent call last)",
      "Cell \u001b[1;32mIn[23], line 1\u001b[0m\n\u001b[1;32m----> 1\u001b[0m obj1\u001b[38;5;241m.\u001b[39mone()\n",
      "\u001b[1;31mTypeError\u001b[0m: Gaurav.one() takes 0 positional arguments but 1 was given"
     ]
    }
   ],
   "source": [
    "obj1.one()"
   ]
  },
  {
   "cell_type": "code",
   "execution_count": 35,
   "id": "22d600c0",
   "metadata": {},
   "outputs": [],
   "source": [
    "class Gaurav:\n",
    "    \n",
    "    def one(self,value = None):\n",
    "        print(f'I am One and value is {value}')\n",
    "    \n",
    "    def two(self):\n",
    "        print('I am two')\n",
    "        \n",
    "    def three(self):\n",
    "        print('I am Three')"
   ]
  },
  {
   "cell_type": "code",
   "execution_count": 36,
   "id": "bc8241e0",
   "metadata": {},
   "outputs": [],
   "source": [
    "ob2 = Gaurav()"
   ]
  },
  {
   "cell_type": "code",
   "execution_count": 37,
   "id": "8de484b3",
   "metadata": {},
   "outputs": [
    {
     "name": "stdout",
     "output_type": "stream",
     "text": [
      "I am Three\n"
     ]
    }
   ],
   "source": [
    "ob2.three()"
   ]
  },
  {
   "cell_type": "code",
   "execution_count": 38,
   "id": "6602b9a8",
   "metadata": {},
   "outputs": [
    {
     "name": "stdout",
     "output_type": "stream",
     "text": [
      "I am two\n"
     ]
    }
   ],
   "source": [
    "ob2.two()"
   ]
  },
  {
   "cell_type": "code",
   "execution_count": 41,
   "id": "19dad745",
   "metadata": {},
   "outputs": [
    {
     "name": "stdout",
     "output_type": "stream",
     "text": [
      "I am One and value is 120\n"
     ]
    }
   ],
   "source": [
    "ob2.one(120)"
   ]
  },
  {
   "cell_type": "code",
   "execution_count": null,
   "id": "0dd9ae18",
   "metadata": {},
   "outputs": [],
   "source": []
  },
  {
   "cell_type": "code",
   "execution_count": null,
   "id": "73f77d64",
   "metadata": {},
   "outputs": [],
   "source": []
  },
  {
   "cell_type": "code",
   "execution_count": 96,
   "id": "4406f6b5",
   "metadata": {},
   "outputs": [],
   "source": [
    "class Human:\n",
    "    \n",
    "    def __init__(self): #initilize Class constructor, magic method\n",
    "        print('You have created a Gaurav Class')\n",
    "        self.hand = 2  #attribute/s\n",
    "        self.leg = 2\n",
    "        self.brain = 1\n",
    "        \n",
    "        \n",
    "    # function/methods\n",
    "    def one(self,value = None):\n",
    "        print(f'I am One and value is {value}')\n",
    "        print(self.hand)\n",
    "    \n",
    "    def two(self):\n",
    "        print('I am two')\n",
    "        print(self.hand+10)\n",
    "        \n",
    "    def three(self):\n",
    "        print('I am Three')"
   ]
  },
  {
   "cell_type": "code",
   "execution_count": 97,
   "id": "6924c80f",
   "metadata": {},
   "outputs": [],
   "source": [
    "# diff b/w function and methods"
   ]
  },
  {
   "cell_type": "code",
   "execution_count": 98,
   "id": "92c8366a",
   "metadata": {},
   "outputs": [
    {
     "name": "stdout",
     "output_type": "stream",
     "text": [
      "You have created a Gaurav Class\n"
     ]
    }
   ],
   "source": [
    "new_var = Gaurav()"
   ]
  },
  {
   "cell_type": "code",
   "execution_count": 99,
   "id": "54b81223",
   "metadata": {},
   "outputs": [
    {
     "name": "stdout",
     "output_type": "stream",
     "text": [
      "You have created a Gaurav Class\n"
     ]
    }
   ],
   "source": [
    "obj2 = Gaurav()"
   ]
  },
  {
   "cell_type": "code",
   "execution_count": 100,
   "id": "274dcc9d",
   "metadata": {},
   "outputs": [
    {
     "name": "stdout",
     "output_type": "stream",
     "text": [
      "I am One and value is None\n",
      "2\n"
     ]
    }
   ],
   "source": [
    "obj2.one()"
   ]
  },
  {
   "cell_type": "code",
   "execution_count": 101,
   "id": "0faf9356",
   "metadata": {},
   "outputs": [
    {
     "name": "stdout",
     "output_type": "stream",
     "text": [
      "I am two\n",
      "12\n"
     ]
    }
   ],
   "source": [
    "obj2.two()"
   ]
  },
  {
   "cell_type": "code",
   "execution_count": 106,
   "id": "a1ba9cd7",
   "metadata": {},
   "outputs": [
    {
     "data": {
      "text/plain": [
       "2"
      ]
     },
     "execution_count": 106,
     "metadata": {},
     "output_type": "execute_result"
    }
   ],
   "source": [
    "obj2.hand"
   ]
  },
  {
   "cell_type": "code",
   "execution_count": null,
   "id": "baa492b2",
   "metadata": {},
   "outputs": [],
   "source": []
  },
  {
   "cell_type": "code",
   "execution_count": null,
   "id": "2e577991",
   "metadata": {},
   "outputs": [],
   "source": []
  },
  {
   "cell_type": "code",
   "execution_count": 109,
   "id": "ef148530",
   "metadata": {},
   "outputs": [],
   "source": [
    "class Human:\n",
    "    \n",
    "    def __init__(self): #initilize Class constructor, magic method\n",
    "        print('You have created a Human Class\\nYou are now a Human!!')\n",
    "        self.hand = 2  #attribute/s\n",
    "        self.leg = 2\n",
    "        self.brain = 1\n",
    "        \n",
    "        \n",
    "    # function/methods\n",
    "    def walk(self):\n",
    "        print('I can Walk')\n",
    "        print('See, I am walking!!')\n",
    "    \n",
    "    def talk(self):\n",
    "        print('I can talk!!')\n",
    "        \n",
    "    def use_brain(self):\n",
    "        print('Now you are using your brain\\nyou are a superhuman!!')\n",
    "        \n",
    "        "
   ]
  },
  {
   "cell_type": "code",
   "execution_count": 110,
   "id": "eff0fee1",
   "metadata": {},
   "outputs": [
    {
     "name": "stdout",
     "output_type": "stream",
     "text": [
      "You have created a Human Class\n",
      "You are now a Human!!\n"
     ]
    }
   ],
   "source": [
    "ajay = Human()\n",
    "# object instantiation\n",
    "# Object creation\n",
    "# Instantiate karna"
   ]
  },
  {
   "cell_type": "code",
   "execution_count": 111,
   "id": "3cffb9ad",
   "metadata": {},
   "outputs": [
    {
     "data": {
      "text/plain": [
       "1"
      ]
     },
     "execution_count": 111,
     "metadata": {},
     "output_type": "execute_result"
    }
   ],
   "source": [
    "ajay.brain"
   ]
  },
  {
   "cell_type": "code",
   "execution_count": 112,
   "id": "df57bd8f",
   "metadata": {},
   "outputs": [
    {
     "data": {
      "text/plain": [
       "2"
      ]
     },
     "execution_count": 112,
     "metadata": {},
     "output_type": "execute_result"
    }
   ],
   "source": [
    "ajay.hand"
   ]
  },
  {
   "cell_type": "code",
   "execution_count": 113,
   "id": "c5542089",
   "metadata": {},
   "outputs": [
    {
     "data": {
      "text/plain": [
       "2"
      ]
     },
     "execution_count": 113,
     "metadata": {},
     "output_type": "execute_result"
    }
   ],
   "source": [
    "ajay.leg"
   ]
  },
  {
   "cell_type": "code",
   "execution_count": 114,
   "id": "50a25269",
   "metadata": {},
   "outputs": [
    {
     "name": "stdout",
     "output_type": "stream",
     "text": [
      "I can talk!!\n"
     ]
    }
   ],
   "source": [
    "ajay.talk()"
   ]
  },
  {
   "cell_type": "code",
   "execution_count": 115,
   "id": "80c7526b",
   "metadata": {},
   "outputs": [
    {
     "name": "stdout",
     "output_type": "stream",
     "text": [
      "I can Walk\n",
      "See, I am walking!!\n"
     ]
    }
   ],
   "source": [
    "ajay.walk()"
   ]
  },
  {
   "cell_type": "code",
   "execution_count": 116,
   "id": "b62b4b3d",
   "metadata": {},
   "outputs": [
    {
     "name": "stdout",
     "output_type": "stream",
     "text": [
      "Now you are using your brain\n",
      "you are a superhuman!!\n"
     ]
    }
   ],
   "source": [
    "ajay.use_brain()"
   ]
  },
  {
   "cell_type": "code",
   "execution_count": 117,
   "id": "5cb796d9",
   "metadata": {},
   "outputs": [
    {
     "name": "stdout",
     "output_type": "stream",
     "text": [
      "You have created a Human Class\n",
      "You are now a Human!!\n"
     ]
    }
   ],
   "source": [
    "karan = Human()"
   ]
  },
  {
   "cell_type": "code",
   "execution_count": 118,
   "id": "b2044069",
   "metadata": {},
   "outputs": [
    {
     "name": "stdout",
     "output_type": "stream",
     "text": [
      "I can Walk\n",
      "See, I am walking!!\n"
     ]
    }
   ],
   "source": [
    "karan.walk()"
   ]
  },
  {
   "cell_type": "code",
   "execution_count": 119,
   "id": "e2dc81ae",
   "metadata": {},
   "outputs": [
    {
     "name": "stdout",
     "output_type": "stream",
     "text": [
      "You have created a Human Class\n",
      "You are now a Human!!\n"
     ]
    }
   ],
   "source": [
    "ajeet = Human()"
   ]
  },
  {
   "cell_type": "code",
   "execution_count": 121,
   "id": "5977ed3f",
   "metadata": {},
   "outputs": [],
   "source": [
    "ajeet.hand = 200"
   ]
  },
  {
   "cell_type": "code",
   "execution_count": 122,
   "id": "7aba1f42",
   "metadata": {},
   "outputs": [
    {
     "data": {
      "text/plain": [
       "200"
      ]
     },
     "execution_count": 122,
     "metadata": {},
     "output_type": "execute_result"
    }
   ],
   "source": [
    "ajeet.hand"
   ]
  },
  {
   "cell_type": "code",
   "execution_count": 123,
   "id": "22d4f243",
   "metadata": {},
   "outputs": [
    {
     "data": {
      "text/plain": [
       "2"
      ]
     },
     "execution_count": 123,
     "metadata": {},
     "output_type": "execute_result"
    }
   ],
   "source": [
    "ajay.hand"
   ]
  },
  {
   "cell_type": "code",
   "execution_count": 124,
   "id": "738c8200",
   "metadata": {},
   "outputs": [
    {
     "data": {
      "text/plain": [
       "2"
      ]
     },
     "execution_count": 124,
     "metadata": {},
     "output_type": "execute_result"
    }
   ],
   "source": [
    "karan.hand"
   ]
  },
  {
   "cell_type": "code",
   "execution_count": 125,
   "id": "0762e04a",
   "metadata": {},
   "outputs": [
    {
     "data": {
      "text/plain": [
       "200"
      ]
     },
     "execution_count": 125,
     "metadata": {},
     "output_type": "execute_result"
    }
   ],
   "source": [
    "ajeet.hand"
   ]
  },
  {
   "cell_type": "code",
   "execution_count": 126,
   "id": "296add05",
   "metadata": {},
   "outputs": [],
   "source": [
    "import math"
   ]
  },
  {
   "cell_type": "code",
   "execution_count": null,
   "id": "0efc8398",
   "metadata": {},
   "outputs": [],
   "source": []
  },
  {
   "cell_type": "code",
   "execution_count": null,
   "id": "3d424a1f",
   "metadata": {},
   "outputs": [],
   "source": []
  }
 ],
 "metadata": {
  "kernelspec": {
   "display_name": "Python 3 (ipykernel)",
   "language": "python",
   "name": "python3"
  },
  "language_info": {
   "codemirror_mode": {
    "name": "ipython",
    "version": 3
   },
   "file_extension": ".py",
   "mimetype": "text/x-python",
   "name": "python",
   "nbconvert_exporter": "python",
   "pygments_lexer": "ipython3",
   "version": "3.11.3"
  }
 },
 "nbformat": 4,
 "nbformat_minor": 5
}
