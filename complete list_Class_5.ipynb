{
 "cells": [
  {
   "cell_type": "code",
   "execution_count": 1,
   "id": "80fe1418",
   "metadata": {},
   "outputs": [
    {
     "name": "stdout",
     "output_type": "stream",
     "text": [
      "[12, 32, 42, 32, 354, 7]\n"
     ]
    }
   ],
   "source": [
    "# list\n",
    "a = [12,32,42,32,354,7]\n",
    "\n",
    "print(a)"
   ]
  },
  {
   "cell_type": "code",
   "execution_count": 2,
   "id": "4f63e05c",
   "metadata": {},
   "outputs": [
    {
     "name": "stdout",
     "output_type": "stream",
     "text": [
      "<class 'list'>\n"
     ]
    }
   ],
   "source": [
    "print(type(a))"
   ]
  },
  {
   "cell_type": "code",
   "execution_count": 96,
   "id": "6acc7fcf",
   "metadata": {},
   "outputs": [],
   "source": [
    "# Important features\n",
    "\n",
    "# 1>> can contain multiple/any data types()\n",
    "# 2>> list is mutable(support item assignment)\n",
    "# 3>> list also support indexing\n",
    "# 4>> list also supports slicing\n",
    "# 5>> also supports nested list\n",
    "# 6>> can contain duplicates elements"
   ]
  },
  {
   "cell_type": "code",
   "execution_count": 4,
   "id": "67aed81a",
   "metadata": {},
   "outputs": [
    {
     "name": "stdout",
     "output_type": "stream",
     "text": [
      "[12, 432, 67.8, (67-9j), True, (21, 434, 54), [1, 23443, 67], {42, 21, 343, 4543}, {'Name': 'Mohan', 'Age': 23}, 'Ajay', None]\n"
     ]
    }
   ],
   "source": [
    "# 1>> can contain multiple/any/objects data types()\n",
    "\n",
    "a = [12,432,67.8,67-9j,True,(21,434,54),[1,23443,67],\n",
    "    {21,343,4543,42},{'Name':'Mohan','Age':23},\n",
    "    'Ajay',None]\n",
    "\n",
    "print(a)"
   ]
  },
  {
   "cell_type": "code",
   "execution_count": 5,
   "id": "709c5b8c",
   "metadata": {},
   "outputs": [],
   "source": [
    "# 3>> list also support indexing\n",
    "\n",
    "\n",
    "a = [2,3434,5321,332,5]\n",
    "#    0,1    2    3   4"
   ]
  },
  {
   "cell_type": "code",
   "execution_count": 6,
   "id": "aab44fd8",
   "metadata": {},
   "outputs": [
    {
     "data": {
      "text/plain": [
       "332"
      ]
     },
     "execution_count": 6,
     "metadata": {},
     "output_type": "execute_result"
    }
   ],
   "source": [
    "a[3]"
   ]
  },
  {
   "cell_type": "code",
   "execution_count": 7,
   "id": "402bce81",
   "metadata": {},
   "outputs": [
    {
     "ename": "IndexError",
     "evalue": "list index out of range",
     "output_type": "error",
     "traceback": [
      "\u001b[1;31m---------------------------------------------------------------------------\u001b[0m",
      "\u001b[1;31mIndexError\u001b[0m                                Traceback (most recent call last)",
      "Cell \u001b[1;32mIn[7], line 1\u001b[0m\n\u001b[1;32m----> 1\u001b[0m a[\u001b[38;5;241m12\u001b[39m]\n",
      "\u001b[1;31mIndexError\u001b[0m: list index out of range"
     ]
    }
   ],
   "source": [
    "a[12]"
   ]
  },
  {
   "cell_type": "code",
   "execution_count": 8,
   "id": "7ce37b79",
   "metadata": {},
   "outputs": [
    {
     "data": {
      "text/plain": [
       "332"
      ]
     },
     "execution_count": 8,
     "metadata": {},
     "output_type": "execute_result"
    }
   ],
   "source": [
    "# 3>> list also support negative indexing\n",
    "\n",
    "\n",
    "a = [2,3434,5321,332,5]\n",
    "#    0,1    2    3   4\n",
    "\n",
    "\n",
    "a[-2]"
   ]
  },
  {
   "cell_type": "code",
   "execution_count": 9,
   "id": "0002ed25",
   "metadata": {},
   "outputs": [
    {
     "data": {
      "text/plain": [
       "True"
      ]
     },
     "execution_count": 9,
     "metadata": {},
     "output_type": "execute_result"
    }
   ],
   "source": [
    "a[3] == a[-2]"
   ]
  },
  {
   "cell_type": "code",
   "execution_count": 10,
   "id": "55a118f2",
   "metadata": {},
   "outputs": [
    {
     "data": {
      "text/plain": [
       "[232, 323, 1234, 53456, 75]"
      ]
     },
     "execution_count": 10,
     "metadata": {},
     "output_type": "execute_result"
    }
   ],
   "source": [
    "# 4>> list also supports slicing\n",
    "\n",
    "a = [21,323,41,232,323,1234,53456,75,65434,65,6563436,567,54]\n",
    "\n",
    "a[3:8]"
   ]
  },
  {
   "cell_type": "code",
   "execution_count": 11,
   "id": "642d9c39",
   "metadata": {},
   "outputs": [
    {
     "data": {
      "text/plain": [
       "[323, 41, 232, 323, 1234, 53456, 75, 65434, 65, 6563436]"
      ]
     },
     "execution_count": 11,
     "metadata": {},
     "output_type": "execute_result"
    }
   ],
   "source": [
    "a[1:-2]"
   ]
  },
  {
   "cell_type": "code",
   "execution_count": 12,
   "id": "f5f499e3",
   "metadata": {},
   "outputs": [
    {
     "data": {
      "text/plain": [
       "[323, 1234, 53456, 75, 65434]"
      ]
     },
     "execution_count": 12,
     "metadata": {},
     "output_type": "execute_result"
    }
   ],
   "source": [
    "a[4:9]"
   ]
  },
  {
   "cell_type": "code",
   "execution_count": 13,
   "id": "f7437317",
   "metadata": {},
   "outputs": [
    {
     "data": {
      "text/plain": [
       "[21, 323, 41, 232, 323, 1234, 53456, 75, 65434, 65, 6563436, 567, 54]"
      ]
     },
     "execution_count": 13,
     "metadata": {},
     "output_type": "execute_result"
    }
   ],
   "source": [
    "a"
   ]
  },
  {
   "cell_type": "code",
   "execution_count": 17,
   "id": "c2523e96",
   "metadata": {},
   "outputs": [
    {
     "data": {
      "text/plain": [
       "[21, 41, 323, 53456, 65434, 6563436, 54]"
      ]
     },
     "execution_count": 17,
     "metadata": {},
     "output_type": "execute_result"
    }
   ],
   "source": [
    "a[::2]"
   ]
  },
  {
   "cell_type": "code",
   "execution_count": 18,
   "id": "ee0dc827",
   "metadata": {},
   "outputs": [
    {
     "data": {
      "text/plain": [
       "[21, 232, 53456, 65, 54]"
      ]
     },
     "execution_count": 18,
     "metadata": {},
     "output_type": "execute_result"
    }
   ],
   "source": [
    "a[::3]"
   ]
  },
  {
   "cell_type": "code",
   "execution_count": 19,
   "id": "07cdf1ad",
   "metadata": {},
   "outputs": [
    {
     "data": {
      "text/plain": [
       "[323, 232, 1234, 75, 65, 567]"
      ]
     },
     "execution_count": 19,
     "metadata": {},
     "output_type": "execute_result"
    }
   ],
   "source": [
    "a[1::2]"
   ]
  },
  {
   "cell_type": "code",
   "execution_count": 20,
   "id": "61e91330",
   "metadata": {},
   "outputs": [],
   "source": [
    "# 2>> list is mutable(support item assignment)"
   ]
  },
  {
   "cell_type": "code",
   "execution_count": 22,
   "id": "8a2bed3f",
   "metadata": {},
   "outputs": [],
   "source": [
    "a = [12,43,421,5,3]\n",
    "\n"
   ]
  },
  {
   "cell_type": "code",
   "execution_count": 23,
   "id": "5021cdb4",
   "metadata": {},
   "outputs": [],
   "source": [
    "a[2] = 234567"
   ]
  },
  {
   "cell_type": "code",
   "execution_count": 24,
   "id": "8fe30ea5",
   "metadata": {},
   "outputs": [
    {
     "name": "stdout",
     "output_type": "stream",
     "text": [
      "[12, 43, 234567, 5, 3]\n"
     ]
    }
   ],
   "source": [
    "print(a)"
   ]
  },
  {
   "cell_type": "code",
   "execution_count": 26,
   "id": "68e38678",
   "metadata": {},
   "outputs": [],
   "source": [
    "a[-1] = 98754"
   ]
  },
  {
   "cell_type": "code",
   "execution_count": 27,
   "id": "56423c95",
   "metadata": {},
   "outputs": [
    {
     "data": {
      "text/plain": [
       "[12, 43, 234567, 5, 98754]"
      ]
     },
     "execution_count": 27,
     "metadata": {},
     "output_type": "execute_result"
    }
   ],
   "source": [
    "a"
   ]
  },
  {
   "cell_type": "code",
   "execution_count": 29,
   "id": "7d09e0d3",
   "metadata": {},
   "outputs": [],
   "source": [
    "a = [12,3,5432,312,43,543,4324,456,546,4]\n",
    "\n",
    "\n",
    "a[3:6] = [1,2,3]"
   ]
  },
  {
   "cell_type": "code",
   "execution_count": 30,
   "id": "c0e113b8",
   "metadata": {},
   "outputs": [
    {
     "data": {
      "text/plain": [
       "[12, 3, 5432, 1, 2, 3, 4324, 456, 546, 4]"
      ]
     },
     "execution_count": 30,
     "metadata": {},
     "output_type": "execute_result"
    }
   ],
   "source": [
    "a"
   ]
  },
  {
   "cell_type": "code",
   "execution_count": 33,
   "id": "fd8204e0",
   "metadata": {},
   "outputs": [],
   "source": [
    "a = [12,3,5432,312,43,543,4324,456,546,4]\n",
    "\n",
    "\n",
    "a[3:6] = [1]"
   ]
  },
  {
   "cell_type": "code",
   "execution_count": 34,
   "id": "f67a0020",
   "metadata": {},
   "outputs": [
    {
     "data": {
      "text/plain": [
       "[12, 3, 5432, 1, 4324, 456, 546, 4]"
      ]
     },
     "execution_count": 34,
     "metadata": {},
     "output_type": "execute_result"
    }
   ],
   "source": [
    "a"
   ]
  },
  {
   "cell_type": "code",
   "execution_count": 35,
   "id": "ced2a685",
   "metadata": {},
   "outputs": [
    {
     "data": {
      "text/plain": [
       "[12, 3, 5432, 1, 4324, 456, 546, 4]"
      ]
     },
     "execution_count": 35,
     "metadata": {},
     "output_type": "execute_result"
    }
   ],
   "source": [
    "a"
   ]
  },
  {
   "cell_type": "code",
   "execution_count": 37,
   "id": "b1a14f75",
   "metadata": {},
   "outputs": [],
   "source": [
    "a[::2] = ['python']*4"
   ]
  },
  {
   "cell_type": "code",
   "execution_count": 38,
   "id": "a684c975",
   "metadata": {},
   "outputs": [
    {
     "data": {
      "text/plain": [
       "['python', 3, 'python', 1, 'python', 456, 'python', 4]"
      ]
     },
     "execution_count": 38,
     "metadata": {},
     "output_type": "execute_result"
    }
   ],
   "source": [
    "a"
   ]
  },
  {
   "cell_type": "code",
   "execution_count": 39,
   "id": "0e4c2cf4",
   "metadata": {},
   "outputs": [
    {
     "data": {
      "text/plain": [
       "[7, 6, 5, 4, 3, 2, 1]"
      ]
     },
     "execution_count": 39,
     "metadata": {},
     "output_type": "execute_result"
    }
   ],
   "source": [
    "a = [1,2,3,4,5,6,7]\n",
    "\n",
    "a[::-1]"
   ]
  },
  {
   "cell_type": "code",
   "execution_count": 40,
   "id": "84399f61",
   "metadata": {},
   "outputs": [
    {
     "name": "stdout",
     "output_type": "stream",
     "text": [
      "[]\n"
     ]
    }
   ],
   "source": [
    "# empty list\n",
    "a = []\n",
    "\n",
    "print(a)"
   ]
  },
  {
   "cell_type": "code",
   "execution_count": 42,
   "id": "4f014c12",
   "metadata": {},
   "outputs": [
    {
     "name": "stdout",
     "output_type": "stream",
     "text": [
      "0\n"
     ]
    }
   ],
   "source": [
    "print(len(a))"
   ]
  },
  {
   "cell_type": "code",
   "execution_count": 43,
   "id": "11edd5fb",
   "metadata": {},
   "outputs": [
    {
     "name": "stdout",
     "output_type": "stream",
     "text": [
      "[]\n"
     ]
    }
   ],
   "source": [
    "# empty list\n",
    "\n",
    "a = list()\n",
    "\n",
    "print(a)"
   ]
  },
  {
   "cell_type": "code",
   "execution_count": 44,
   "id": "65b79449",
   "metadata": {},
   "outputs": [
    {
     "name": "stdout",
     "output_type": "stream",
     "text": [
      "[1, 24, 3453, 2, 23, 46, 4]\n"
     ]
    }
   ],
   "source": [
    "# basic operation\n",
    "\n",
    "\n",
    "a = [1,24,3453]\n",
    "b = [2,23,46,4]\n",
    "\n",
    "\n",
    "print(a+b)"
   ]
  },
  {
   "cell_type": "code",
   "execution_count": 45,
   "id": "8cc54e87",
   "metadata": {},
   "outputs": [
    {
     "ename": "TypeError",
     "evalue": "unsupported operand type(s) for -: 'list' and 'list'",
     "output_type": "error",
     "traceback": [
      "\u001b[1;31m---------------------------------------------------------------------------\u001b[0m",
      "\u001b[1;31mTypeError\u001b[0m                                 Traceback (most recent call last)",
      "Cell \u001b[1;32mIn[45], line 8\u001b[0m\n\u001b[0;32m      4\u001b[0m a \u001b[38;5;241m=\u001b[39m [\u001b[38;5;241m1\u001b[39m,\u001b[38;5;241m24\u001b[39m,\u001b[38;5;241m3453\u001b[39m]\n\u001b[0;32m      5\u001b[0m b \u001b[38;5;241m=\u001b[39m [\u001b[38;5;241m2\u001b[39m,\u001b[38;5;241m23\u001b[39m,\u001b[38;5;241m46\u001b[39m,\u001b[38;5;241m4\u001b[39m]\n\u001b[1;32m----> 8\u001b[0m \u001b[38;5;28mprint\u001b[39m(a\u001b[38;5;241m-\u001b[39mb)\n",
      "\u001b[1;31mTypeError\u001b[0m: unsupported operand type(s) for -: 'list' and 'list'"
     ]
    }
   ],
   "source": [
    "# basic operation\n",
    "\n",
    "\n",
    "a = [1,24,3453]\n",
    "b = [2,23,46,4]\n",
    "\n",
    "\n",
    "print(a-b)"
   ]
  },
  {
   "cell_type": "code",
   "execution_count": 46,
   "id": "325fe325",
   "metadata": {},
   "outputs": [
    {
     "ename": "TypeError",
     "evalue": "can't multiply sequence by non-int of type 'list'",
     "output_type": "error",
     "traceback": [
      "\u001b[1;31m---------------------------------------------------------------------------\u001b[0m",
      "\u001b[1;31mTypeError\u001b[0m                                 Traceback (most recent call last)",
      "Cell \u001b[1;32mIn[46], line 8\u001b[0m\n\u001b[0;32m      4\u001b[0m a \u001b[38;5;241m=\u001b[39m [\u001b[38;5;241m1\u001b[39m,\u001b[38;5;241m24\u001b[39m,\u001b[38;5;241m3453\u001b[39m]\n\u001b[0;32m      5\u001b[0m b \u001b[38;5;241m=\u001b[39m [\u001b[38;5;241m2\u001b[39m,\u001b[38;5;241m23\u001b[39m,\u001b[38;5;241m46\u001b[39m,\u001b[38;5;241m4\u001b[39m]\n\u001b[1;32m----> 8\u001b[0m \u001b[38;5;28mprint\u001b[39m(a\u001b[38;5;241m*\u001b[39mb)\n",
      "\u001b[1;31mTypeError\u001b[0m: can't multiply sequence by non-int of type 'list'"
     ]
    }
   ],
   "source": [
    "# basic operation\n",
    "\n",
    "\n",
    "a = [1,24,3453]\n",
    "b = [2,23,46,4]\n",
    "\n",
    "\n",
    "print(a*b)"
   ]
  },
  {
   "cell_type": "code",
   "execution_count": 47,
   "id": "ac3c01f6",
   "metadata": {},
   "outputs": [
    {
     "name": "stdout",
     "output_type": "stream",
     "text": [
      "[1, 24, 3453, 1, 24, 3453, 1, 24, 3453, 1, 24, 3453]\n"
     ]
    }
   ],
   "source": [
    "# basic operation\n",
    "\n",
    "\n",
    "a = [1,24,3453]\n",
    "b = [2,23,46,4]\n",
    "\n",
    "\n",
    "print(a*4)"
   ]
  },
  {
   "cell_type": "code",
   "execution_count": 49,
   "id": "8ea14893",
   "metadata": {},
   "outputs": [
    {
     "data": {
      "text/plain": [
       "False"
      ]
     },
     "execution_count": 49,
     "metadata": {},
     "output_type": "execute_result"
    }
   ],
   "source": [
    "students = ['mohan','ravi','shayam']\n",
    "\n",
    "\n",
    "'kavi' in students"
   ]
  },
  {
   "cell_type": "code",
   "execution_count": 51,
   "id": "752a0e97",
   "metadata": {},
   "outputs": [
    {
     "data": {
      "text/plain": [
       "[23, 443, 56]"
      ]
     },
     "execution_count": 51,
     "metadata": {},
     "output_type": "execute_result"
    }
   ],
   "source": [
    "# Nested list\n",
    "\n",
    "a = [2,243,52,1323,[23,443,56],46]\n",
    "\n",
    "a[4]"
   ]
  },
  {
   "cell_type": "code",
   "execution_count": 52,
   "id": "309cd9d9",
   "metadata": {},
   "outputs": [
    {
     "data": {
      "text/plain": [
       "[2, 243, 52, 1323, [23, 443, 56, [21, 434, 532, 35]], 46]"
      ]
     },
     "execution_count": 52,
     "metadata": {},
     "output_type": "execute_result"
    }
   ],
   "source": [
    "# Nested list\n",
    "\n",
    "a = [2,243,52,1323,[23,443,56,[21,434,532,35]],46]\n",
    "\n",
    "a"
   ]
  },
  {
   "cell_type": "code",
   "execution_count": 55,
   "id": "0d86d806",
   "metadata": {},
   "outputs": [],
   "source": [
    "a[-2][2]  = 560"
   ]
  },
  {
   "cell_type": "code",
   "execution_count": 56,
   "id": "3f6a9987",
   "metadata": {},
   "outputs": [
    {
     "data": {
      "text/plain": [
       "[2, 243, 52, 1323, [23, 443, 560, [21, 434, 532, 35]], 46]"
      ]
     },
     "execution_count": 56,
     "metadata": {},
     "output_type": "execute_result"
    }
   ],
   "source": [
    "a"
   ]
  },
  {
   "cell_type": "code",
   "execution_count": 60,
   "id": "e3e28a26",
   "metadata": {},
   "outputs": [],
   "source": [
    "a[-2][-1][2] = 'Madan'"
   ]
  },
  {
   "cell_type": "code",
   "execution_count": 61,
   "id": "6742582e",
   "metadata": {},
   "outputs": [
    {
     "data": {
      "text/plain": [
       "[2, 243, 52, 1323, [23, 443, 560, [21, 434, 'Madan', 35]], 46]"
      ]
     },
     "execution_count": 61,
     "metadata": {},
     "output_type": "execute_result"
    }
   ],
   "source": [
    "a"
   ]
  },
  {
   "cell_type": "code",
   "execution_count": 65,
   "id": "9882e511",
   "metadata": {},
   "outputs": [],
   "source": [
    "a = [1,2,3231,323,[12,43,421,432,3,[3,2134,34,24,[3,234,34,124,[2,34,346]]]]]"
   ]
  },
  {
   "cell_type": "code",
   "execution_count": 66,
   "id": "b65e4ffe",
   "metadata": {},
   "outputs": [
    {
     "name": "stdout",
     "output_type": "stream",
     "text": [
      "[1, 2, 3231, 323, [12, 43, 421, 432, 3, [3, 2134, 34, 24, [3, 234, 34, 124, [2, 34, 346]]]]]\n"
     ]
    }
   ],
   "source": [
    "print(a)"
   ]
  },
  {
   "cell_type": "code",
   "execution_count": 72,
   "id": "5d70a034",
   "metadata": {},
   "outputs": [],
   "source": [
    "a[-1][-1][-1][-1][1] = 2345678909876543"
   ]
  },
  {
   "cell_type": "code",
   "execution_count": 74,
   "id": "319338e9",
   "metadata": {},
   "outputs": [
    {
     "name": "stdout",
     "output_type": "stream",
     "text": [
      "[1, 2, 3231, 323, [12, 43, 421, 432, 3, [3, 2134, 34, 24, [3, 234, 34, 124, [2, 2345678909876543, 346]]]]]\n"
     ]
    }
   ],
   "source": [
    "print(a)"
   ]
  },
  {
   "cell_type": "code",
   "execution_count": 81,
   "id": "53930248",
   "metadata": {},
   "outputs": [],
   "source": [
    "a[-1][-1][-1][1] = 898"
   ]
  },
  {
   "cell_type": "code",
   "execution_count": 83,
   "id": "fc4c11f0",
   "metadata": {},
   "outputs": [
    {
     "name": "stdout",
     "output_type": "stream",
     "text": [
      "[1, 2, 3231, 323, [12, 43, 421, 432, 3, [3, 2134, 34, 24, [3, 898, 34, 124, [2, 2345678909876543, 346]]]]]\n"
     ]
    }
   ],
   "source": [
    "print(a)"
   ]
  },
  {
   "cell_type": "code",
   "execution_count": null,
   "id": "d9731400",
   "metadata": {},
   "outputs": [],
   "source": []
  },
  {
   "cell_type": "code",
   "execution_count": null,
   "id": "828f3298",
   "metadata": {},
   "outputs": [],
   "source": []
  },
  {
   "cell_type": "code",
   "execution_count": 84,
   "id": "3730fed7",
   "metadata": {},
   "outputs": [],
   "source": [
    "# List methods"
   ]
  },
  {
   "cell_type": "code",
   "execution_count": 85,
   "id": "a7df8b1c",
   "metadata": {},
   "outputs": [
    {
     "name": "stdout",
     "output_type": "stream",
     "text": [
      "['__add__', '__class__', '__class_getitem__', '__contains__', '__delattr__', '__delitem__', '__dir__', '__doc__', '__eq__', '__format__', '__ge__', '__getattribute__', '__getitem__', '__getstate__', '__gt__', '__hash__', '__iadd__', '__imul__', '__init__', '__init_subclass__', '__iter__', '__le__', '__len__', '__lt__', '__mul__', '__ne__', '__new__', '__reduce__', '__reduce_ex__', '__repr__', '__reversed__', '__rmul__', '__setattr__', '__setitem__', '__sizeof__', '__str__', '__subclasshook__', 'append', 'clear', 'copy', 'count', 'extend', 'index', 'insert', 'pop', 'remove', 'reverse', 'sort']\n"
     ]
    }
   ],
   "source": [
    "print(dir(list))"
   ]
  },
  {
   "cell_type": "code",
   "execution_count": 86,
   "id": "771e241d",
   "metadata": {},
   "outputs": [],
   "source": [
    "methods = ['append', 'clear', 'copy', 'count', 'extend', 'index', 'insert', 'pop', 'remove', 'reverse', 'sort']"
   ]
  },
  {
   "cell_type": "code",
   "execution_count": 87,
   "id": "8c7de356",
   "metadata": {},
   "outputs": [
    {
     "data": {
      "text/plain": [
       "11"
      ]
     },
     "execution_count": 87,
     "metadata": {},
     "output_type": "execute_result"
    }
   ],
   "source": [
    "len(methods)"
   ]
  },
  {
   "cell_type": "code",
   "execution_count": 88,
   "id": "b21001e3",
   "metadata": {},
   "outputs": [],
   "source": [
    "a = [1243,5432,45,3,5]"
   ]
  },
  {
   "cell_type": "code",
   "execution_count": 90,
   "id": "53569b0d",
   "metadata": {},
   "outputs": [],
   "source": [
    "# a[5] = 55"
   ]
  },
  {
   "cell_type": "code",
   "execution_count": 91,
   "id": "4f44cea9",
   "metadata": {},
   "outputs": [
    {
     "data": {
      "text/plain": [
       "[1243, 5432, 45, 3, 5]"
      ]
     },
     "execution_count": 91,
     "metadata": {},
     "output_type": "execute_result"
    }
   ],
   "source": [
    "# 'append'\n",
    "\n",
    "\n",
    "a"
   ]
  },
  {
   "cell_type": "code",
   "execution_count": 92,
   "id": "7a616c74",
   "metadata": {},
   "outputs": [],
   "source": [
    "a.append(True)"
   ]
  },
  {
   "cell_type": "code",
   "execution_count": 93,
   "id": "3d126606",
   "metadata": {},
   "outputs": [
    {
     "name": "stdout",
     "output_type": "stream",
     "text": [
      "[1243, 5432, 45, 3, 5, True]\n"
     ]
    }
   ],
   "source": [
    "print(a)"
   ]
  },
  {
   "cell_type": "code",
   "execution_count": 94,
   "id": "4856546f",
   "metadata": {},
   "outputs": [],
   "source": [
    "a.append('Karan')"
   ]
  },
  {
   "cell_type": "code",
   "execution_count": 95,
   "id": "0a7f2519",
   "metadata": {},
   "outputs": [
    {
     "data": {
      "text/plain": [
       "[1243, 5432, 45, 3, 5, True, 'Karan']"
      ]
     },
     "execution_count": 95,
     "metadata": {},
     "output_type": "execute_result"
    }
   ],
   "source": [
    "a"
   ]
  },
  {
   "cell_type": "code",
   "execution_count": 97,
   "id": "8df11472",
   "metadata": {},
   "outputs": [],
   "source": [
    "a = ['Mohan','Mohan','ravi',1,1,1,'ravi']"
   ]
  },
  {
   "cell_type": "code",
   "execution_count": 98,
   "id": "01cd158b",
   "metadata": {},
   "outputs": [
    {
     "name": "stdout",
     "output_type": "stream",
     "text": [
      "['Mohan', 'Mohan', 'ravi', 1, 1, 1, 'ravi']\n"
     ]
    }
   ],
   "source": [
    "print(a)"
   ]
  },
  {
   "cell_type": "code",
   "execution_count": 104,
   "id": "d1468c45",
   "metadata": {},
   "outputs": [],
   "source": [
    "a.append('Karan')"
   ]
  },
  {
   "cell_type": "code",
   "execution_count": 105,
   "id": "8aea072b",
   "metadata": {},
   "outputs": [
    {
     "name": "stdout",
     "output_type": "stream",
     "text": [
      "['Mohan', 'Mohan', 'ravi', 1, 1, 1, 'ravi', 'Karan', 'Karan', 'Karan', 'Karan', 'Karan']\n"
     ]
    }
   ],
   "source": [
    "print(a)"
   ]
  },
  {
   "cell_type": "code",
   "execution_count": 106,
   "id": "6ff6996a",
   "metadata": {},
   "outputs": [
    {
     "data": {
      "text/plain": [
       "['Mohan',\n",
       " 'Mohan',\n",
       " 'ravi',\n",
       " 1,\n",
       " 1,\n",
       " 1,\n",
       " 'ravi',\n",
       " 'Karan',\n",
       " 'Karan',\n",
       " 'Karan',\n",
       " 'Karan',\n",
       " 'Karan',\n",
       " [1, 2, 3]]"
      ]
     },
     "execution_count": 106,
     "metadata": {},
     "output_type": "execute_result"
    }
   ],
   "source": [
    "a.append([1,2,3])\n",
    "\n",
    "\n",
    "a"
   ]
  },
  {
   "cell_type": "code",
   "execution_count": 107,
   "id": "b6dc9009",
   "metadata": {},
   "outputs": [
    {
     "name": "stdout",
     "output_type": "stream",
     "text": [
      "['Mohan', 'Mohan', 'ravi', 1, 1, 1, 'ravi', 'Karan', 'Karan', 'Karan', 'Karan', 'Karan', [1, 2, 3]]\n"
     ]
    }
   ],
   "source": [
    "print(a)"
   ]
  },
  {
   "cell_type": "code",
   "execution_count": 108,
   "id": "8103f1eb",
   "metadata": {},
   "outputs": [],
   "source": [
    "a.clear()"
   ]
  },
  {
   "cell_type": "code",
   "execution_count": 109,
   "id": "1364bd21",
   "metadata": {},
   "outputs": [
    {
     "name": "stdout",
     "output_type": "stream",
     "text": [
      "[]\n"
     ]
    }
   ],
   "source": [
    "print(a)"
   ]
  },
  {
   "cell_type": "code",
   "execution_count": 110,
   "id": "053da2db",
   "metadata": {},
   "outputs": [],
   "source": [
    "# a = []"
   ]
  },
  {
   "cell_type": "code",
   "execution_count": 111,
   "id": "4597df53",
   "metadata": {},
   "outputs": [],
   "source": [
    "ajay = [12,23]\n",
    "\n",
    "karan = ajay"
   ]
  },
  {
   "cell_type": "code",
   "execution_count": 112,
   "id": "5fab8399",
   "metadata": {},
   "outputs": [
    {
     "name": "stdout",
     "output_type": "stream",
     "text": [
      "[12, 23]\n"
     ]
    }
   ],
   "source": [
    "print(ajay)"
   ]
  },
  {
   "cell_type": "code",
   "execution_count": 113,
   "id": "8307ecda",
   "metadata": {},
   "outputs": [
    {
     "name": "stdout",
     "output_type": "stream",
     "text": [
      "[12, 23]\n"
     ]
    }
   ],
   "source": [
    "print(karan)"
   ]
  },
  {
   "cell_type": "code",
   "execution_count": 114,
   "id": "d57baa58",
   "metadata": {},
   "outputs": [],
   "source": [
    "karan.append(123456789)"
   ]
  },
  {
   "cell_type": "code",
   "execution_count": 115,
   "id": "a07ec8e1",
   "metadata": {},
   "outputs": [
    {
     "name": "stdout",
     "output_type": "stream",
     "text": [
      "[12, 23, 123456789]\n"
     ]
    }
   ],
   "source": [
    "print(karan)"
   ]
  },
  {
   "cell_type": "code",
   "execution_count": 116,
   "id": "09ea6f6e",
   "metadata": {},
   "outputs": [
    {
     "name": "stdout",
     "output_type": "stream",
     "text": [
      "[12, 23, 123456789]\n"
     ]
    }
   ],
   "source": [
    "print(ajay)"
   ]
  },
  {
   "cell_type": "code",
   "execution_count": 117,
   "id": "1efff9be",
   "metadata": {},
   "outputs": [],
   "source": [
    "# deep copy"
   ]
  },
  {
   "cell_type": "code",
   "execution_count": 118,
   "id": "898b2b79",
   "metadata": {},
   "outputs": [],
   "source": [
    "# shallow copy"
   ]
  },
  {
   "cell_type": "code",
   "execution_count": 119,
   "id": "b016f9af",
   "metadata": {},
   "outputs": [],
   "source": [
    "deepak = [23,4534]\n",
    "\n",
    "rohit = deepak.copy()"
   ]
  },
  {
   "cell_type": "code",
   "execution_count": 120,
   "id": "a8fe3769",
   "metadata": {},
   "outputs": [
    {
     "data": {
      "text/plain": [
       "[23, 4534]"
      ]
     },
     "execution_count": 120,
     "metadata": {},
     "output_type": "execute_result"
    }
   ],
   "source": [
    "rohit"
   ]
  },
  {
   "cell_type": "code",
   "execution_count": 121,
   "id": "fc38cb99",
   "metadata": {},
   "outputs": [
    {
     "data": {
      "text/plain": [
       "[23, 4534]"
      ]
     },
     "execution_count": 121,
     "metadata": {},
     "output_type": "execute_result"
    }
   ],
   "source": [
    "deepak"
   ]
  },
  {
   "cell_type": "code",
   "execution_count": 122,
   "id": "34139e8a",
   "metadata": {},
   "outputs": [],
   "source": [
    "rohit.append(34543234)"
   ]
  },
  {
   "cell_type": "code",
   "execution_count": 123,
   "id": "4a45bc3e",
   "metadata": {},
   "outputs": [
    {
     "name": "stdout",
     "output_type": "stream",
     "text": [
      "[23, 4534, 34543234]\n"
     ]
    }
   ],
   "source": [
    "print(rohit)"
   ]
  },
  {
   "cell_type": "code",
   "execution_count": 124,
   "id": "6d605b10",
   "metadata": {},
   "outputs": [
    {
     "name": "stdout",
     "output_type": "stream",
     "text": [
      "[23, 4534]\n"
     ]
    }
   ],
   "source": [
    "print(deepak)"
   ]
  },
  {
   "cell_type": "code",
   "execution_count": 125,
   "id": "24639ffa",
   "metadata": {},
   "outputs": [],
   "source": [
    "# ajay !=deepak"
   ]
  },
  {
   "cell_type": "code",
   "execution_count": 126,
   "id": "dbfe139c",
   "metadata": {},
   "outputs": [],
   "source": [
    "# shallow copy"
   ]
  },
  {
   "cell_type": "code",
   "execution_count": 128,
   "id": "6840396c",
   "metadata": {},
   "outputs": [],
   "source": [
    "jimi = [23,43,543]\n",
    "\n",
    "rimi = jimi[:]"
   ]
  },
  {
   "cell_type": "code",
   "execution_count": 129,
   "id": "ffcc89db",
   "metadata": {},
   "outputs": [
    {
     "data": {
      "text/plain": [
       "[23, 43, 543]"
      ]
     },
     "execution_count": 129,
     "metadata": {},
     "output_type": "execute_result"
    }
   ],
   "source": [
    "rimi"
   ]
  },
  {
   "cell_type": "code",
   "execution_count": 130,
   "id": "d7873b17",
   "metadata": {},
   "outputs": [
    {
     "data": {
      "text/plain": [
       "[23, 43, 543]"
      ]
     },
     "execution_count": 130,
     "metadata": {},
     "output_type": "execute_result"
    }
   ],
   "source": [
    "jimi"
   ]
  },
  {
   "cell_type": "code",
   "execution_count": 131,
   "id": "4c646732",
   "metadata": {},
   "outputs": [],
   "source": [
    "rimi.append(2345)"
   ]
  },
  {
   "cell_type": "code",
   "execution_count": 132,
   "id": "2dffba82",
   "metadata": {},
   "outputs": [
    {
     "name": "stdout",
     "output_type": "stream",
     "text": [
      "[23, 43, 543, 2345]\n"
     ]
    }
   ],
   "source": [
    "print(rimi)"
   ]
  },
  {
   "cell_type": "code",
   "execution_count": 133,
   "id": "f283b86c",
   "metadata": {},
   "outputs": [
    {
     "name": "stdout",
     "output_type": "stream",
     "text": [
      "[23, 43, 543]\n"
     ]
    }
   ],
   "source": [
    "print(jimi)"
   ]
  },
  {
   "cell_type": "code",
   "execution_count": 134,
   "id": "c54954c8",
   "metadata": {},
   "outputs": [
    {
     "data": {
      "text/plain": [
       "[23, 43, 543]"
      ]
     },
     "execution_count": 134,
     "metadata": {},
     "output_type": "execute_result"
    }
   ],
   "source": [
    "jimi[::]"
   ]
  },
  {
   "cell_type": "code",
   "execution_count": 135,
   "id": "071d70d8",
   "metadata": {},
   "outputs": [
    {
     "data": {
      "text/plain": [
       "5"
      ]
     },
     "execution_count": 135,
     "metadata": {},
     "output_type": "execute_result"
    }
   ],
   "source": [
    "a = [1,1,1,2,212,23,32,12,23,2,22,32,33,23,23,23,24,34,34,35,45,6,576,6,7656]\n",
    "\n",
    "\n",
    "a.count(23)"
   ]
  },
  {
   "cell_type": "code",
   "execution_count": 136,
   "id": "c0c43852",
   "metadata": {},
   "outputs": [
    {
     "data": {
      "text/plain": [
       "0"
      ]
     },
     "execution_count": 136,
     "metadata": {},
     "output_type": "execute_result"
    }
   ],
   "source": [
    "a.count(123)"
   ]
  },
  {
   "cell_type": "code",
   "execution_count": 137,
   "id": "6fa5c6b6",
   "metadata": {},
   "outputs": [
    {
     "data": {
      "text/plain": [
       "0"
      ]
     },
     "execution_count": 137,
     "metadata": {},
     "output_type": "execute_result"
    }
   ],
   "source": [
    "a = [2,343,42,3325,[2,3434,5,5]]\n",
    "\n",
    "\n",
    "a.count(5)"
   ]
  },
  {
   "cell_type": "code",
   "execution_count": 139,
   "id": "a7c90ae2",
   "metadata": {},
   "outputs": [
    {
     "data": {
      "text/plain": [
       "2"
      ]
     },
     "execution_count": 139,
     "metadata": {},
     "output_type": "execute_result"
    }
   ],
   "source": [
    "a[-1].count(5)"
   ]
  },
  {
   "cell_type": "code",
   "execution_count": null,
   "id": "96531520",
   "metadata": {},
   "outputs": [],
   "source": []
  }
 ],
 "metadata": {
  "kernelspec": {
   "display_name": "Python 3 (ipykernel)",
   "language": "python",
   "name": "python3"
  },
  "language_info": {
   "codemirror_mode": {
    "name": "ipython",
    "version": 3
   },
   "file_extension": ".py",
   "mimetype": "text/x-python",
   "name": "python",
   "nbconvert_exporter": "python",
   "pygments_lexer": "ipython3",
   "version": "3.11.3"
  }
 },
 "nbformat": 4,
 "nbformat_minor": 5
}
