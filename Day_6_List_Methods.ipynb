{
 "cells": [
  {
   "cell_type": "markdown",
   "id": "4712baa6",
   "metadata": {},
   "source": [
    "# List Methods"
   ]
  },
  {
   "cell_type": "code",
   "execution_count": 1,
   "id": "43aa7713",
   "metadata": {},
   "outputs": [],
   "source": [
    "# 5>> Extend"
   ]
  },
  {
   "cell_type": "code",
   "execution_count": 2,
   "id": "46f73f75",
   "metadata": {},
   "outputs": [
    {
     "name": "stdout",
     "output_type": "stream",
     "text": [
      "[12343421, 3432, 5, 3123, 24, 32, 4334, 554]\n"
     ]
    }
   ],
   "source": [
    "a = [12343421,3432,5,3123,24,32,4334,554]\n",
    "\n",
    "print(a)"
   ]
  },
  {
   "cell_type": "code",
   "execution_count": 3,
   "id": "9b770a4b",
   "metadata": {},
   "outputs": [],
   "source": [
    "a.append([1,2,3])"
   ]
  },
  {
   "cell_type": "code",
   "execution_count": 4,
   "id": "ad33d130",
   "metadata": {},
   "outputs": [
    {
     "name": "stdout",
     "output_type": "stream",
     "text": [
      "[12343421, 3432, 5, 3123, 24, 32, 4334, 554, [1, 2, 3]]\n"
     ]
    }
   ],
   "source": [
    "print(a)"
   ]
  },
  {
   "cell_type": "code",
   "execution_count": 7,
   "id": "0896d207",
   "metadata": {},
   "outputs": [],
   "source": [
    "a.extend([40,50,60])"
   ]
  },
  {
   "cell_type": "code",
   "execution_count": 8,
   "id": "14a77d54",
   "metadata": {},
   "outputs": [
    {
     "name": "stdout",
     "output_type": "stream",
     "text": [
      "[12343421, 3432, 5, 3123, 24, 32, 4334, 554, [1, 2, 3], 4, 5, 6, 40, 50, 60]\n"
     ]
    }
   ],
   "source": [
    "print(a)"
   ]
  },
  {
   "cell_type": "code",
   "execution_count": 9,
   "id": "4cbc287d",
   "metadata": {},
   "outputs": [],
   "source": [
    "s = [2,234,213,2,43,232,346,545,34,43]"
   ]
  },
  {
   "cell_type": "code",
   "execution_count": 10,
   "id": "a222ba00",
   "metadata": {},
   "outputs": [
    {
     "name": "stdout",
     "output_type": "stream",
     "text": [
      "545\n"
     ]
    }
   ],
   "source": [
    "print(s[7])"
   ]
  },
  {
   "cell_type": "code",
   "execution_count": 11,
   "id": "88bd6625",
   "metadata": {},
   "outputs": [
    {
     "data": {
      "text/plain": [
       "7"
      ]
     },
     "execution_count": 11,
     "metadata": {},
     "output_type": "execute_result"
    }
   ],
   "source": [
    "s.index(545)"
   ]
  },
  {
   "cell_type": "code",
   "execution_count": 12,
   "id": "3165aa6b",
   "metadata": {},
   "outputs": [
    {
     "data": {
      "text/plain": [
       "2"
      ]
     },
     "execution_count": 12,
     "metadata": {},
     "output_type": "execute_result"
    }
   ],
   "source": [
    "s = [1,23,2,123,212,23,123,324,2,34,24,35,346]\n",
    "\n",
    "s.index(2)"
   ]
  },
  {
   "cell_type": "code",
   "execution_count": 13,
   "id": "7a479f13",
   "metadata": {},
   "outputs": [
    {
     "data": {
      "text/plain": [
       "8"
      ]
     },
     "execution_count": 13,
     "metadata": {},
     "output_type": "execute_result"
    }
   ],
   "source": [
    "s.index(2,3)"
   ]
  },
  {
   "cell_type": "code",
   "execution_count": 14,
   "id": "0002f3f1",
   "metadata": {},
   "outputs": [
    {
     "ename": "ValueError",
     "evalue": "2 is not in list",
     "output_type": "error",
     "traceback": [
      "\u001b[1;31m---------------------------------------------------------------------------\u001b[0m",
      "\u001b[1;31mValueError\u001b[0m                                Traceback (most recent call last)",
      "Cell \u001b[1;32mIn[14], line 1\u001b[0m\n\u001b[1;32m----> 1\u001b[0m s\u001b[38;5;241m.\u001b[39mindex(\u001b[38;5;241m2\u001b[39m,\u001b[38;5;241m9\u001b[39m)\n",
      "\u001b[1;31mValueError\u001b[0m: 2 is not in list"
     ]
    }
   ],
   "source": [
    "s.index(2,9)"
   ]
  },
  {
   "cell_type": "code",
   "execution_count": 15,
   "id": "e1964b1d",
   "metadata": {},
   "outputs": [
    {
     "data": {
      "text/plain": [
       "3"
      ]
     },
     "execution_count": 15,
     "metadata": {},
     "output_type": "execute_result"
    }
   ],
   "source": [
    "s.index(123)"
   ]
  },
  {
   "cell_type": "code",
   "execution_count": 16,
   "id": "9d9f22e3",
   "metadata": {},
   "outputs": [
    {
     "data": {
      "text/plain": [
       "6"
      ]
     },
     "execution_count": 16,
     "metadata": {},
     "output_type": "execute_result"
    }
   ],
   "source": [
    "s.index(123,4)"
   ]
  },
  {
   "cell_type": "code",
   "execution_count": 17,
   "id": "a5f7bf0b",
   "metadata": {},
   "outputs": [],
   "source": [
    "s = [12,423,31,323,43465]\n",
    "\n",
    "\n",
    "s.append(23)"
   ]
  },
  {
   "cell_type": "code",
   "execution_count": 18,
   "id": "9c39e85a",
   "metadata": {},
   "outputs": [
    {
     "data": {
      "text/plain": [
       "[12, 423, 31, 323, 43465, 23]"
      ]
     },
     "execution_count": 18,
     "metadata": {},
     "output_type": "execute_result"
    }
   ],
   "source": [
    "s"
   ]
  },
  {
   "cell_type": "code",
   "execution_count": 19,
   "id": "5f6e338a",
   "metadata": {},
   "outputs": [],
   "source": [
    "s.insert(2,45)"
   ]
  },
  {
   "cell_type": "code",
   "execution_count": 20,
   "id": "1fd0b6ad",
   "metadata": {},
   "outputs": [
    {
     "data": {
      "text/plain": [
       "[12, 423, 45, 31, 323, 43465, 23]"
      ]
     },
     "execution_count": 20,
     "metadata": {},
     "output_type": "execute_result"
    }
   ],
   "source": [
    "s"
   ]
  },
  {
   "cell_type": "code",
   "execution_count": 21,
   "id": "c026e820",
   "metadata": {},
   "outputs": [],
   "source": [
    "s.insert(0,10)"
   ]
  },
  {
   "cell_type": "code",
   "execution_count": 22,
   "id": "65052ef0",
   "metadata": {},
   "outputs": [
    {
     "data": {
      "text/plain": [
       "[10, 12, 423, 45, 31, 323, 43465, 23]"
      ]
     },
     "execution_count": 22,
     "metadata": {},
     "output_type": "execute_result"
    }
   ],
   "source": [
    "s"
   ]
  },
  {
   "cell_type": "code",
   "execution_count": 23,
   "id": "3fe6cfaf",
   "metadata": {},
   "outputs": [],
   "source": [
    "s.insert(8,100)"
   ]
  },
  {
   "cell_type": "code",
   "execution_count": 24,
   "id": "389b0794",
   "metadata": {},
   "outputs": [
    {
     "data": {
      "text/plain": [
       "[10, 12, 423, 45, 31, 323, 43465, 23, 100]"
      ]
     },
     "execution_count": 24,
     "metadata": {},
     "output_type": "execute_result"
    }
   ],
   "source": [
    "s"
   ]
  },
  {
   "cell_type": "code",
   "execution_count": 25,
   "id": "b95746b8",
   "metadata": {},
   "outputs": [],
   "source": [
    "s.insert(12,120)"
   ]
  },
  {
   "cell_type": "code",
   "execution_count": 26,
   "id": "1ec043d2",
   "metadata": {},
   "outputs": [
    {
     "data": {
      "text/plain": [
       "[10, 12, 423, 45, 31, 323, 43465, 23, 100, 120]"
      ]
     },
     "execution_count": 26,
     "metadata": {},
     "output_type": "execute_result"
    }
   ],
   "source": [
    "s"
   ]
  },
  {
   "cell_type": "code",
   "execution_count": 28,
   "id": "1edc99b6",
   "metadata": {},
   "outputs": [],
   "source": [
    "s.insert(1234567,234567890)"
   ]
  },
  {
   "cell_type": "code",
   "execution_count": 29,
   "id": "175cebfd",
   "metadata": {},
   "outputs": [
    {
     "data": {
      "text/plain": [
       "[10, 12, 423, 45, 31, 323, 43465, 23, 100, 120, 234567890]"
      ]
     },
     "execution_count": 29,
     "metadata": {},
     "output_type": "execute_result"
    }
   ],
   "source": [
    "s"
   ]
  },
  {
   "cell_type": "code",
   "execution_count": 32,
   "id": "d3f82372",
   "metadata": {},
   "outputs": [
    {
     "data": {
      "text/plain": [
       "234567890"
      ]
     },
     "execution_count": 32,
     "metadata": {},
     "output_type": "execute_result"
    }
   ],
   "source": [
    "s[-1]"
   ]
  },
  {
   "cell_type": "code",
   "execution_count": 33,
   "id": "6e92d0ea",
   "metadata": {},
   "outputs": [],
   "source": [
    "s.insert(-100,100)"
   ]
  },
  {
   "cell_type": "code",
   "execution_count": 34,
   "id": "ff260533",
   "metadata": {},
   "outputs": [
    {
     "data": {
      "text/plain": [
       "[100, 10, 12, 423, 45, 31, 323, 43465, 23, 100, 120, 234567890]"
      ]
     },
     "execution_count": 34,
     "metadata": {},
     "output_type": "execute_result"
    }
   ],
   "source": [
    "s"
   ]
  },
  {
   "cell_type": "code",
   "execution_count": 35,
   "id": "da5d6e8e",
   "metadata": {},
   "outputs": [],
   "source": [
    "# pop"
   ]
  },
  {
   "cell_type": "code",
   "execution_count": 36,
   "id": "39aee713",
   "metadata": {},
   "outputs": [
    {
     "data": {
      "text/plain": [
       "64"
      ]
     },
     "execution_count": 36,
     "metadata": {},
     "output_type": "execute_result"
    }
   ],
   "source": [
    "s = [1,23432,4312,323,543,5,64]\n",
    "\n",
    "s.pop()"
   ]
  },
  {
   "cell_type": "code",
   "execution_count": 37,
   "id": "d84d3b26",
   "metadata": {},
   "outputs": [
    {
     "data": {
      "text/plain": [
       "[1, 23432, 4312, 323, 543, 5]"
      ]
     },
     "execution_count": 37,
     "metadata": {},
     "output_type": "execute_result"
    }
   ],
   "source": [
    "s"
   ]
  },
  {
   "cell_type": "code",
   "execution_count": 38,
   "id": "085368d1",
   "metadata": {},
   "outputs": [
    {
     "data": {
      "text/plain": [
       "23432"
      ]
     },
     "execution_count": 38,
     "metadata": {},
     "output_type": "execute_result"
    }
   ],
   "source": [
    "s.pop(1)"
   ]
  },
  {
   "cell_type": "code",
   "execution_count": 39,
   "id": "c9f9fcbd",
   "metadata": {},
   "outputs": [
    {
     "data": {
      "text/plain": [
       "[1, 4312, 323, 543, 5]"
      ]
     },
     "execution_count": 39,
     "metadata": {},
     "output_type": "execute_result"
    }
   ],
   "source": [
    "s"
   ]
  },
  {
   "cell_type": "code",
   "execution_count": 40,
   "id": "22b5db50",
   "metadata": {},
   "outputs": [
    {
     "data": {
      "text/plain": [
       "[1, 4312, 323, 543, 5]"
      ]
     },
     "execution_count": 40,
     "metadata": {},
     "output_type": "execute_result"
    }
   ],
   "source": [
    "s"
   ]
  },
  {
   "cell_type": "code",
   "execution_count": 41,
   "id": "6eca83fe",
   "metadata": {},
   "outputs": [],
   "source": [
    "# remove"
   ]
  },
  {
   "cell_type": "code",
   "execution_count": 42,
   "id": "73f970ba",
   "metadata": {},
   "outputs": [],
   "source": [
    "s.remove(323)"
   ]
  },
  {
   "cell_type": "code",
   "execution_count": 43,
   "id": "d404d874",
   "metadata": {},
   "outputs": [
    {
     "data": {
      "text/plain": [
       "[1, 4312, 543, 5]"
      ]
     },
     "execution_count": 43,
     "metadata": {},
     "output_type": "execute_result"
    }
   ],
   "source": [
    "s"
   ]
  },
  {
   "cell_type": "code",
   "execution_count": 44,
   "id": "f69f7e46",
   "metadata": {},
   "outputs": [
    {
     "ename": "ValueError",
     "evalue": "list.remove(x): x not in list",
     "output_type": "error",
     "traceback": [
      "\u001b[1;31m---------------------------------------------------------------------------\u001b[0m",
      "\u001b[1;31mValueError\u001b[0m                                Traceback (most recent call last)",
      "Cell \u001b[1;32mIn[44], line 3\u001b[0m\n\u001b[0;32m      1\u001b[0m s \u001b[38;5;241m=\u001b[39m [\u001b[38;5;241m1\u001b[39m,\u001b[38;5;241m24\u001b[39m,\u001b[38;5;241m32312\u001b[39m,\u001b[38;5;241m312\u001b[39m,\u001b[38;5;241m434\u001b[39m,\u001b[38;5;241m556\u001b[39m]\n\u001b[1;32m----> 3\u001b[0m s\u001b[38;5;241m.\u001b[39mremove([\u001b[38;5;241m24\u001b[39m,\u001b[38;5;241m434\u001b[39m])\n",
      "\u001b[1;31mValueError\u001b[0m: list.remove(x): x not in list"
     ]
    }
   ],
   "source": [
    "s = [1,24,32312,312,434,556]\n",
    "\n",
    "s.remove([24,434])"
   ]
  },
  {
   "cell_type": "code",
   "execution_count": 45,
   "id": "c3227b28",
   "metadata": {},
   "outputs": [
    {
     "ename": "TypeError",
     "evalue": "'list' object cannot be interpreted as an integer",
     "output_type": "error",
     "traceback": [
      "\u001b[1;31m---------------------------------------------------------------------------\u001b[0m",
      "\u001b[1;31mTypeError\u001b[0m                                 Traceback (most recent call last)",
      "Cell \u001b[1;32mIn[45], line 1\u001b[0m\n\u001b[1;32m----> 1\u001b[0m s\u001b[38;5;241m.\u001b[39mpop([\u001b[38;5;241m1\u001b[39m,\u001b[38;5;241m3\u001b[39m])\n",
      "\u001b[1;31mTypeError\u001b[0m: 'list' object cannot be interpreted as an integer"
     ]
    }
   ],
   "source": [
    "s.pop([1,3])"
   ]
  },
  {
   "cell_type": "code",
   "execution_count": 46,
   "id": "7e849902",
   "metadata": {},
   "outputs": [
    {
     "data": {
      "text/plain": [
       "[1, 24, 32312, 312, 434, 556]"
      ]
     },
     "execution_count": 46,
     "metadata": {},
     "output_type": "execute_result"
    }
   ],
   "source": [
    "s"
   ]
  },
  {
   "cell_type": "code",
   "execution_count": 48,
   "id": "173e1751",
   "metadata": {},
   "outputs": [],
   "source": [
    "del(s[1:4])"
   ]
  },
  {
   "cell_type": "code",
   "execution_count": 49,
   "id": "b39f1f8c",
   "metadata": {},
   "outputs": [
    {
     "data": {
      "text/plain": [
       "[1, 434, 556]"
      ]
     },
     "execution_count": 49,
     "metadata": {},
     "output_type": "execute_result"
    }
   ],
   "source": [
    "s"
   ]
  },
  {
   "cell_type": "code",
   "execution_count": 51,
   "id": "7d7f8d79",
   "metadata": {},
   "outputs": [],
   "source": [
    "s = ['Mohan','ravi','kumar birla',34]\n",
    "\n",
    "s[2] = 'Birla'"
   ]
  },
  {
   "cell_type": "code",
   "execution_count": 52,
   "id": "27125fab",
   "metadata": {},
   "outputs": [
    {
     "data": {
      "text/plain": [
       "['Mohan', 'ravi', 'Birla', 34]"
      ]
     },
     "execution_count": 52,
     "metadata": {},
     "output_type": "execute_result"
    }
   ],
   "source": [
    "s"
   ]
  },
  {
   "cell_type": "code",
   "execution_count": 54,
   "id": "e49578bf",
   "metadata": {},
   "outputs": [
    {
     "data": {
      "text/plain": [
       "'Aditya Birla'"
      ]
     },
     "execution_count": 54,
     "metadata": {},
     "output_type": "execute_result"
    }
   ],
   "source": [
    "s[2].replace('Birla','Aditya Birla')"
   ]
  },
  {
   "cell_type": "code",
   "execution_count": 56,
   "id": "347bd8f1",
   "metadata": {},
   "outputs": [],
   "source": [
    "s[2] = s[2].replace('Birla','Aditya Birla')"
   ]
  },
  {
   "cell_type": "code",
   "execution_count": 57,
   "id": "abee0236",
   "metadata": {},
   "outputs": [
    {
     "data": {
      "text/plain": [
       "['Mohan', 'ravi', 'Aditya Birla', 34]"
      ]
     },
     "execution_count": 57,
     "metadata": {},
     "output_type": "execute_result"
    }
   ],
   "source": [
    "s"
   ]
  },
  {
   "cell_type": "code",
   "execution_count": null,
   "id": "ec0daeb7",
   "metadata": {},
   "outputs": [],
   "source": []
  },
  {
   "cell_type": "code",
   "execution_count": 58,
   "id": "7e255730",
   "metadata": {},
   "outputs": [
    {
     "data": {
      "text/plain": [
       "[6, 54, 332, 4312, 243, 1]"
      ]
     },
     "execution_count": 58,
     "metadata": {},
     "output_type": "execute_result"
    }
   ],
   "source": [
    "# Reverse \n",
    "\n",
    "a = [1,243,4312,332,54,6]\n",
    "\n",
    "a[::-1]"
   ]
  },
  {
   "cell_type": "code",
   "execution_count": 59,
   "id": "a381c6a4",
   "metadata": {},
   "outputs": [],
   "source": [
    "a.reverse()"
   ]
  },
  {
   "cell_type": "code",
   "execution_count": 60,
   "id": "d30629fc",
   "metadata": {},
   "outputs": [
    {
     "name": "stdout",
     "output_type": "stream",
     "text": [
      "[6, 54, 332, 4312, 243, 1]\n"
     ]
    }
   ],
   "source": [
    "print(a)"
   ]
  },
  {
   "cell_type": "code",
   "execution_count": 61,
   "id": "b55a0007",
   "metadata": {},
   "outputs": [],
   "source": [
    "a.reverse()"
   ]
  },
  {
   "cell_type": "code",
   "execution_count": 62,
   "id": "4332c61c",
   "metadata": {},
   "outputs": [
    {
     "name": "stdout",
     "output_type": "stream",
     "text": [
      "[1, 243, 4312, 332, 54, 6]\n"
     ]
    }
   ],
   "source": [
    "print(a)"
   ]
  },
  {
   "cell_type": "code",
   "execution_count": null,
   "id": "ae5ea686",
   "metadata": {},
   "outputs": [],
   "source": []
  },
  {
   "cell_type": "code",
   "execution_count": 63,
   "id": "b053a99e",
   "metadata": {},
   "outputs": [],
   "source": [
    "# sort"
   ]
  },
  {
   "cell_type": "code",
   "execution_count": 64,
   "id": "dd49dabb",
   "metadata": {},
   "outputs": [
    {
     "name": "stdout",
     "output_type": "stream",
     "text": [
      "[1, 24, 34312, 332, 54, 432, 343, 65, 76434, 324]\n"
     ]
    }
   ],
   "source": [
    "a = [1,24,34312,332,54,432,343,65,76434,324]\n",
    "\n",
    "print(a)"
   ]
  },
  {
   "cell_type": "code",
   "execution_count": 65,
   "id": "011a8e3e",
   "metadata": {},
   "outputs": [],
   "source": [
    "a.sort()"
   ]
  },
  {
   "cell_type": "code",
   "execution_count": 66,
   "id": "bccca675",
   "metadata": {},
   "outputs": [
    {
     "name": "stdout",
     "output_type": "stream",
     "text": [
      "[1, 24, 54, 65, 324, 332, 343, 432, 34312, 76434]\n"
     ]
    }
   ],
   "source": [
    "print(a)"
   ]
  },
  {
   "cell_type": "code",
   "execution_count": 67,
   "id": "fc9786c7",
   "metadata": {},
   "outputs": [
    {
     "name": "stdout",
     "output_type": "stream",
     "text": [
      "[1, 24, 34312, 332, 54, 432, 343, 65, 76434, 324]\n"
     ]
    }
   ],
   "source": [
    "a = [1,24,34312,332,54,432,343,65,76434,324]\n",
    "\n",
    "print(a)\n",
    "\n"
   ]
  },
  {
   "cell_type": "code",
   "execution_count": 68,
   "id": "daf7bacb",
   "metadata": {},
   "outputs": [],
   "source": [
    "a.sort()"
   ]
  },
  {
   "cell_type": "code",
   "execution_count": 69,
   "id": "4b8391b5",
   "metadata": {},
   "outputs": [],
   "source": [
    "a.reverse()"
   ]
  },
  {
   "cell_type": "code",
   "execution_count": 70,
   "id": "63f3b04d",
   "metadata": {},
   "outputs": [
    {
     "name": "stdout",
     "output_type": "stream",
     "text": [
      "[76434, 34312, 432, 343, 332, 324, 65, 54, 24, 1]\n"
     ]
    }
   ],
   "source": [
    "print(a)"
   ]
  },
  {
   "cell_type": "code",
   "execution_count": null,
   "id": "1672a0c9",
   "metadata": {},
   "outputs": [],
   "source": []
  },
  {
   "cell_type": "code",
   "execution_count": null,
   "id": "417fd257",
   "metadata": {},
   "outputs": [],
   "source": []
  },
  {
   "cell_type": "code",
   "execution_count": 71,
   "id": "c5672451",
   "metadata": {},
   "outputs": [
    {
     "name": "stdout",
     "output_type": "stream",
     "text": [
      "[1, 24, 34312, 332, 54, 432, 343, 65, 76434, 324]\n"
     ]
    }
   ],
   "source": [
    "a = [1,24,34312,332,54,432,343,65,76434,324]\n",
    "\n",
    "print(a)\n",
    "\n"
   ]
  },
  {
   "cell_type": "code",
   "execution_count": 72,
   "id": "3f6afdd8",
   "metadata": {},
   "outputs": [],
   "source": [
    "a.sort(reverse=True)"
   ]
  },
  {
   "cell_type": "code",
   "execution_count": 73,
   "id": "e03e1c17",
   "metadata": {},
   "outputs": [
    {
     "name": "stdout",
     "output_type": "stream",
     "text": [
      "[76434, 34312, 432, 343, 332, 324, 65, 54, 24, 1]\n"
     ]
    }
   ],
   "source": [
    "print(a)"
   ]
  },
  {
   "cell_type": "code",
   "execution_count": 74,
   "id": "b2108173",
   "metadata": {},
   "outputs": [
    {
     "name": "stdout",
     "output_type": "stream",
     "text": [
      "[1, 243, 454, 3321, 4324, 6]\n"
     ]
    }
   ],
   "source": [
    "a = [1,243,454,3321,4324,6]\n",
    "\n",
    "print(a)"
   ]
  },
  {
   "cell_type": "code",
   "execution_count": 75,
   "id": "cf45d7a2",
   "metadata": {},
   "outputs": [],
   "source": [
    "a.sort()"
   ]
  },
  {
   "cell_type": "code",
   "execution_count": 79,
   "id": "570648da",
   "metadata": {},
   "outputs": [
    {
     "name": "stdout",
     "output_type": "stream",
     "text": [
      "[4324, 3321, 454, 243, 6, 1]\n"
     ]
    }
   ],
   "source": [
    "print(a[::-1])"
   ]
  },
  {
   "cell_type": "code",
   "execution_count": null,
   "id": "772a2289",
   "metadata": {},
   "outputs": [],
   "source": []
  },
  {
   "cell_type": "code",
   "execution_count": null,
   "id": "7f063c1f",
   "metadata": {},
   "outputs": [],
   "source": []
  },
  {
   "cell_type": "code",
   "execution_count": 80,
   "id": "d79398d8",
   "metadata": {},
   "outputs": [
    {
     "name": "stdout",
     "output_type": "stream",
     "text": [
      "[12345, 323432, 34, 423, 235, 465, 324, 326]\n"
     ]
    }
   ],
   "source": [
    "# reversed\n",
    "\n",
    "# reversed()\n",
    "\n",
    "\n",
    "a = [12345,323432,34,423,235,465,324,326]\n",
    "\n",
    "print(a)"
   ]
  },
  {
   "cell_type": "code",
   "execution_count": 81,
   "id": "cdca7977",
   "metadata": {},
   "outputs": [],
   "source": [
    "a.sort()"
   ]
  },
  {
   "cell_type": "code",
   "execution_count": 83,
   "id": "338d9865",
   "metadata": {},
   "outputs": [
    {
     "data": {
      "text/plain": [
       "[323432, 12345, 465, 423, 326, 324, 235, 34]"
      ]
     },
     "execution_count": 83,
     "metadata": {},
     "output_type": "execute_result"
    }
   ],
   "source": [
    "list(reversed(a))"
   ]
  },
  {
   "cell_type": "code",
   "execution_count": null,
   "id": "54a82fda",
   "metadata": {},
   "outputs": [],
   "source": []
  },
  {
   "cell_type": "markdown",
   "id": "b9429e43",
   "metadata": {},
   "source": [
    "# Tuple"
   ]
  },
  {
   "cell_type": "code",
   "execution_count": 85,
   "id": "3ee834e0",
   "metadata": {},
   "outputs": [
    {
     "name": "stdout",
     "output_type": "stream",
     "text": [
      "(1, 243, 31, 323, 5)\n"
     ]
    }
   ],
   "source": [
    "a = (1,243,31,323,5)\n",
    "\n",
    "print(a)"
   ]
  },
  {
   "cell_type": "code",
   "execution_count": 86,
   "id": "5bbd4665",
   "metadata": {},
   "outputs": [
    {
     "name": "stdout",
     "output_type": "stream",
     "text": [
      "(12, 4, 212, 332, 5346)\n"
     ]
    }
   ],
   "source": [
    "a = 12,4,212,332,5346\n",
    "\n",
    "print(a)"
   ]
  },
  {
   "cell_type": "code",
   "execution_count": 87,
   "id": "b39d8beb",
   "metadata": {},
   "outputs": [],
   "source": [
    "# ['count','index']"
   ]
  },
  {
   "cell_type": "code",
   "execution_count": 88,
   "id": "29fcc25d",
   "metadata": {},
   "outputs": [
    {
     "name": "stdout",
     "output_type": "stream",
     "text": [
      "(12, 321, 343, 6, 12, 323, 54, 67)\n"
     ]
    }
   ],
   "source": [
    "a = (12,321,343,6)\n",
    "\n",
    "b = (12,323,54,67)\n",
    "\n",
    "\n",
    "print(a+b)"
   ]
  },
  {
   "cell_type": "code",
   "execution_count": 89,
   "id": "f344cf77",
   "metadata": {},
   "outputs": [
    {
     "name": "stdout",
     "output_type": "stream",
     "text": [
      "(11, 24, 345, 436, 11, 24, 345, 436, 11, 24, 345, 436, 11, 24, 345, 436, 11, 24, 345, 436)\n"
     ]
    }
   ],
   "source": [
    "a = (11,24,345,436)\n",
    "\n",
    "print(a*5)"
   ]
  },
  {
   "cell_type": "code",
   "execution_count": 91,
   "id": "d5adc2f1",
   "metadata": {},
   "outputs": [],
   "source": [
    "# indexing and slicing concept"
   ]
  },
  {
   "cell_type": "code",
   "execution_count": 92,
   "id": "6f904f8c",
   "metadata": {},
   "outputs": [
    {
     "data": {
      "text/plain": [
       "6"
      ]
     },
     "execution_count": 92,
     "metadata": {},
     "output_type": "execute_result"
    }
   ],
   "source": [
    "sd = (1,24,324,124,32,6,547)\n",
    "\n",
    "sd[-2]"
   ]
  },
  {
   "cell_type": "code",
   "execution_count": 93,
   "id": "282edceb",
   "metadata": {},
   "outputs": [
    {
     "data": {
      "text/plain": [
       "124"
      ]
     },
     "execution_count": 93,
     "metadata": {},
     "output_type": "execute_result"
    }
   ],
   "source": [
    "sd[3]"
   ]
  },
  {
   "cell_type": "code",
   "execution_count": 94,
   "id": "77d38b21",
   "metadata": {},
   "outputs": [
    {
     "ename": "TypeError",
     "evalue": "'tuple' object does not support item assignment",
     "output_type": "error",
     "traceback": [
      "\u001b[1;31m---------------------------------------------------------------------------\u001b[0m",
      "\u001b[1;31mTypeError\u001b[0m                                 Traceback (most recent call last)",
      "Cell \u001b[1;32mIn[94], line 1\u001b[0m\n\u001b[1;32m----> 1\u001b[0m sd[\u001b[38;5;241m3\u001b[39m] \u001b[38;5;241m=\u001b[39m \u001b[38;5;241m23456789\u001b[39m\n",
      "\u001b[1;31mTypeError\u001b[0m: 'tuple' object does not support item assignment"
     ]
    }
   ],
   "source": [
    "sd[3] = 23456789"
   ]
  },
  {
   "cell_type": "code",
   "execution_count": 95,
   "id": "862a6a96",
   "metadata": {},
   "outputs": [],
   "source": [
    "# 'tuple' object does not support item assignment"
   ]
  },
  {
   "cell_type": "code",
   "execution_count": 96,
   "id": "5b0284eb",
   "metadata": {},
   "outputs": [],
   "source": [
    "# nested tuple"
   ]
  },
  {
   "cell_type": "code",
   "execution_count": 98,
   "id": "80707c6e",
   "metadata": {},
   "outputs": [
    {
     "data": {
      "text/plain": [
       "(1, 12, 4, 235, (45, 124, 35, (1, 23, 43, 56, (23, 124, 346))))"
      ]
     },
     "execution_count": 98,
     "metadata": {},
     "output_type": "execute_result"
    }
   ],
   "source": [
    "a = (1,12,4,235,(45,124,35,(1,23,43,56,(23,124,346))))\n",
    "\n",
    "a"
   ]
  },
  {
   "cell_type": "code",
   "execution_count": 102,
   "id": "4c814eae",
   "metadata": {},
   "outputs": [
    {
     "data": {
      "text/plain": [
       "23"
      ]
     },
     "execution_count": 102,
     "metadata": {},
     "output_type": "execute_result"
    }
   ],
   "source": [
    "a[-1][-1][-1][0]"
   ]
  },
  {
   "cell_type": "code",
   "execution_count": 103,
   "id": "daacce3c",
   "metadata": {},
   "outputs": [
    {
     "ename": "TypeError",
     "evalue": "'tuple' object does not support item assignment",
     "output_type": "error",
     "traceback": [
      "\u001b[1;31m---------------------------------------------------------------------------\u001b[0m",
      "\u001b[1;31mTypeError\u001b[0m                                 Traceback (most recent call last)",
      "Cell \u001b[1;32mIn[103], line 1\u001b[0m\n\u001b[1;32m----> 1\u001b[0m a[\u001b[38;5;241m-\u001b[39m\u001b[38;5;241m1\u001b[39m][\u001b[38;5;241m-\u001b[39m\u001b[38;5;241m1\u001b[39m][\u001b[38;5;241m-\u001b[39m\u001b[38;5;241m1\u001b[39m][\u001b[38;5;241m0\u001b[39m] \u001b[38;5;241m=\u001b[39m \u001b[38;5;241m234567\u001b[39m\n",
      "\u001b[1;31mTypeError\u001b[0m: 'tuple' object does not support item assignment"
     ]
    }
   ],
   "source": [
    "a[-1][-1][-1][0] = 234567"
   ]
  },
  {
   "cell_type": "code",
   "execution_count": 104,
   "id": "0439fe9c",
   "metadata": {},
   "outputs": [],
   "source": [
    "a = (1,24,323,1432,6)"
   ]
  },
  {
   "cell_type": "code",
   "execution_count": 106,
   "id": "d62ed12a",
   "metadata": {},
   "outputs": [
    {
     "ename": "TypeError",
     "evalue": "'tuple' object does not support item deletion",
     "output_type": "error",
     "traceback": [
      "\u001b[1;31m---------------------------------------------------------------------------\u001b[0m",
      "\u001b[1;31mTypeError\u001b[0m                                 Traceback (most recent call last)",
      "Cell \u001b[1;32mIn[106], line 1\u001b[0m\n\u001b[1;32m----> 1\u001b[0m \u001b[38;5;28;01mdel\u001b[39;00m(a[\u001b[38;5;241m1\u001b[39m:\u001b[38;5;241m4\u001b[39m])\n",
      "\u001b[1;31mTypeError\u001b[0m: 'tuple' object does not support item deletion"
     ]
    }
   ],
   "source": [
    "del(a[1:4])"
   ]
  },
  {
   "cell_type": "code",
   "execution_count": 107,
   "id": "a9f7136e",
   "metadata": {},
   "outputs": [
    {
     "ename": "TypeError",
     "evalue": "'tuple' object does not support item deletion",
     "output_type": "error",
     "traceback": [
      "\u001b[1;31m---------------------------------------------------------------------------\u001b[0m",
      "\u001b[1;31mTypeError\u001b[0m                                 Traceback (most recent call last)",
      "Cell \u001b[1;32mIn[107], line 1\u001b[0m\n\u001b[1;32m----> 1\u001b[0m \u001b[38;5;28;01mdel\u001b[39;00m a[\u001b[38;5;241m1\u001b[39m:\u001b[38;5;241m4\u001b[39m]\n",
      "\u001b[1;31mTypeError\u001b[0m: 'tuple' object does not support item deletion"
     ]
    }
   ],
   "source": [
    "del a[1:4]"
   ]
  },
  {
   "cell_type": "code",
   "execution_count": 108,
   "id": "b392ebd1",
   "metadata": {},
   "outputs": [
    {
     "name": "stdout",
     "output_type": "stream",
     "text": [
      "(1, 24, 346, 4367)\n"
     ]
    }
   ],
   "source": [
    "# valid question\n",
    "a = (1,24,346,4367)\n",
    "\n",
    "print(a)"
   ]
  },
  {
   "cell_type": "code",
   "execution_count": 110,
   "id": "88cba439",
   "metadata": {},
   "outputs": [],
   "source": [
    "a = list(a)\n",
    "a[2] = 23456789"
   ]
  },
  {
   "cell_type": "code",
   "execution_count": 112,
   "id": "1790962c",
   "metadata": {},
   "outputs": [],
   "source": [
    "a = tuple(a)"
   ]
  },
  {
   "cell_type": "code",
   "execution_count": 113,
   "id": "90148f68",
   "metadata": {},
   "outputs": [
    {
     "data": {
      "text/plain": [
       "(1, 24, 23456789, 4367)"
      ]
     },
     "execution_count": 113,
     "metadata": {},
     "output_type": "execute_result"
    }
   ],
   "source": [
    "a"
   ]
  },
  {
   "cell_type": "code",
   "execution_count": 115,
   "id": "4bc4f8fc",
   "metadata": {},
   "outputs": [],
   "source": [
    "# Type casting\n",
    "\n",
    "# 10 data types\n",
    "\n",
    "\n",
    "# int()\n",
    "# str()\n",
    "# list()\n",
    "# tuple()\n",
    "# set()\n",
    "# dict()\n",
    "# bool()\n",
    "# complex()\n",
    "# float()\n",
    "# frozenset()\n"
   ]
  },
  {
   "cell_type": "code",
   "execution_count": 118,
   "id": "2f30ba92",
   "metadata": {},
   "outputs": [
    {
     "name": "stdout",
     "output_type": "stream",
     "text": [
      "{432, 12, 543}\n"
     ]
    }
   ],
   "source": [
    "a = [12,432,543,12,12,12]\n",
    "\n",
    "\n",
    "d = set(a)\n",
    "print(d)"
   ]
  },
  {
   "cell_type": "code",
   "execution_count": 119,
   "id": "2d1418cc",
   "metadata": {},
   "outputs": [],
   "source": [
    "# Tuple methods\n",
    "\n",
    "# ['count','index']"
   ]
  },
  {
   "cell_type": "code",
   "execution_count": 120,
   "id": "ca65a098",
   "metadata": {},
   "outputs": [
    {
     "data": {
      "text/plain": [
       "3"
      ]
     },
     "execution_count": 120,
     "metadata": {},
     "output_type": "execute_result"
    }
   ],
   "source": [
    "a = (1,23,1,1,22,13,231,3,12,123,23,43)\n",
    "\n",
    "\n",
    "a.count(1)"
   ]
  },
  {
   "cell_type": "code",
   "execution_count": 121,
   "id": "39721324",
   "metadata": {},
   "outputs": [
    {
     "data": {
      "text/plain": [
       "0"
      ]
     },
     "execution_count": 121,
     "metadata": {},
     "output_type": "execute_result"
    }
   ],
   "source": [
    "a.count(100)"
   ]
  },
  {
   "cell_type": "code",
   "execution_count": 122,
   "id": "e8b54f2c",
   "metadata": {},
   "outputs": [
    {
     "data": {
      "text/plain": [
       "5"
      ]
     },
     "execution_count": 122,
     "metadata": {},
     "output_type": "execute_result"
    }
   ],
   "source": [
    "a.index(13)"
   ]
  },
  {
   "cell_type": "code",
   "execution_count": 123,
   "id": "788bb820",
   "metadata": {},
   "outputs": [
    {
     "data": {
      "text/plain": [
       "1"
      ]
     },
     "execution_count": 123,
     "metadata": {},
     "output_type": "execute_result"
    }
   ],
   "source": [
    "a.index(23)"
   ]
  },
  {
   "cell_type": "code",
   "execution_count": 124,
   "id": "61af3820",
   "metadata": {},
   "outputs": [
    {
     "data": {
      "text/plain": [
       "10"
      ]
     },
     "execution_count": 124,
     "metadata": {},
     "output_type": "execute_result"
    }
   ],
   "source": [
    "a.index(23,2)"
   ]
  },
  {
   "cell_type": "code",
   "execution_count": 125,
   "id": "0556b3b5",
   "metadata": {},
   "outputs": [
    {
     "data": {
      "text/plain": [
       "10"
      ]
     },
     "execution_count": 125,
     "metadata": {},
     "output_type": "execute_result"
    }
   ],
   "source": [
    "a.index(23,2)"
   ]
  },
  {
   "cell_type": "code",
   "execution_count": 128,
   "id": "98c4f9a4",
   "metadata": {},
   "outputs": [
    {
     "data": {
      "text/plain": [
       "-2"
      ]
     },
     "execution_count": 128,
     "metadata": {},
     "output_type": "execute_result"
    }
   ],
   "source": [
    "-(len(a) - a.index(23,2))"
   ]
  },
  {
   "cell_type": "code",
   "execution_count": 129,
   "id": "dc28070a",
   "metadata": {},
   "outputs": [
    {
     "data": {
      "text/plain": [
       "1"
      ]
     },
     "execution_count": 129,
     "metadata": {},
     "output_type": "execute_result"
    }
   ],
   "source": [
    "s = 45\n",
    "s.denominator"
   ]
  },
  {
   "cell_type": "code",
   "execution_count": 131,
   "id": "b81c1e75",
   "metadata": {},
   "outputs": [
    {
     "data": {
      "text/plain": [
       "6"
      ]
     },
     "execution_count": 131,
     "metadata": {},
     "output_type": "execute_result"
    }
   ],
   "source": [
    "s.bit_length()"
   ]
  },
  {
   "cell_type": "code",
   "execution_count": 132,
   "id": "fc34ddde",
   "metadata": {},
   "outputs": [
    {
     "data": {
      "text/plain": [
       "45"
      ]
     },
     "execution_count": 132,
     "metadata": {},
     "output_type": "execute_result"
    }
   ],
   "source": [
    "s.real"
   ]
  },
  {
   "cell_type": "code",
   "execution_count": 133,
   "id": "0d4c6313",
   "metadata": {},
   "outputs": [
    {
     "data": {
      "text/plain": [
       "0"
      ]
     },
     "execution_count": 133,
     "metadata": {},
     "output_type": "execute_result"
    }
   ],
   "source": [
    "s.imag"
   ]
  },
  {
   "cell_type": "code",
   "execution_count": null,
   "id": "d9f3c628",
   "metadata": {},
   "outputs": [],
   "source": []
  }
 ],
 "metadata": {
  "kernelspec": {
   "display_name": "Python 3 (ipykernel)",
   "language": "python",
   "name": "python3"
  },
  "language_info": {
   "codemirror_mode": {
    "name": "ipython",
    "version": 3
   },
   "file_extension": ".py",
   "mimetype": "text/x-python",
   "name": "python",
   "nbconvert_exporter": "python",
   "pygments_lexer": "ipython3",
   "version": "3.11.3"
  }
 },
 "nbformat": 4,
 "nbformat_minor": 5
}
