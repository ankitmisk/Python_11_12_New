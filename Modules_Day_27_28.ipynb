{
 "cells": [
  {
   "cell_type": "code",
   "execution_count": 1,
   "id": "f127958d",
   "metadata": {},
   "outputs": [],
   "source": [
    "import cowsay"
   ]
  },
  {
   "cell_type": "code",
   "execution_count": 2,
   "id": "c44660d0",
   "metadata": {},
   "outputs": [
    {
     "name": "stdout",
     "output_type": "stream",
     "text": [
      "  _____\n",
      "| Hello |\n",
      "  =====\n",
      "     \\\n",
      "      \\\n",
      "        ^__^\n",
      "        (oo)\\_______\n",
      "        (__)\\       )\\/\\\n",
      "            ||----w |\n",
      "            ||     ||\n"
     ]
    }
   ],
   "source": [
    "cowsay.cow('Hello')"
   ]
  },
  {
   "cell_type": "code",
   "execution_count": 3,
   "id": "81331621",
   "metadata": {},
   "outputs": [],
   "source": [
    "import sandeep"
   ]
  },
  {
   "cell_type": "code",
   "execution_count": 4,
   "id": "ff31d6d5",
   "metadata": {},
   "outputs": [
    {
     "data": {
      "text/plain": [
       "4"
      ]
     },
     "execution_count": 4,
     "metadata": {},
     "output_type": "execute_result"
    }
   ],
   "source": [
    "sandeep.maxx([1,2,3,4])"
   ]
  },
  {
   "cell_type": "code",
   "execution_count": 5,
   "id": "26abdcfc",
   "metadata": {},
   "outputs": [],
   "source": [
    "import sandeep as s"
   ]
  },
  {
   "cell_type": "code",
   "execution_count": 6,
   "id": "f8bdbcc7",
   "metadata": {},
   "outputs": [
    {
     "data": {
      "text/plain": [
       "3628800"
      ]
     },
     "execution_count": 6,
     "metadata": {},
     "output_type": "execute_result"
    }
   ],
   "source": [
    "s.factorial(10)"
   ]
  },
  {
   "cell_type": "code",
   "execution_count": 7,
   "id": "bda60b3e",
   "metadata": {},
   "outputs": [
    {
     "data": {
      "text/plain": [
       "120"
      ]
     },
     "execution_count": 7,
     "metadata": {},
     "output_type": "execute_result"
    }
   ],
   "source": [
    "s.factorial(5)"
   ]
  },
  {
   "cell_type": "code",
   "execution_count": 8,
   "id": "6f6f83a0",
   "metadata": {},
   "outputs": [],
   "source": [
    "import math as m"
   ]
  },
  {
   "cell_type": "code",
   "execution_count": 9,
   "id": "566bfb2c",
   "metadata": {},
   "outputs": [
    {
     "data": {
      "text/plain": [
       "120"
      ]
     },
     "execution_count": 9,
     "metadata": {},
     "output_type": "execute_result"
    }
   ],
   "source": [
    "m.factorial(5)"
   ]
  },
  {
   "cell_type": "code",
   "execution_count": 10,
   "id": "e26db69a",
   "metadata": {},
   "outputs": [],
   "source": [
    "# pip install cosway"
   ]
  },
  {
   "cell_type": "code",
   "execution_count": 11,
   "id": "fcc052fc",
   "metadata": {},
   "outputs": [],
   "source": [
    "import sandeep as san"
   ]
  },
  {
   "cell_type": "code",
   "execution_count": 12,
   "id": "45f2ad88",
   "metadata": {},
   "outputs": [
    {
     "name": "stdout",
     "output_type": "stream",
     "text": [
      "Hello Mr Aditya Kumar, how are you, nice to meet you!!\n",
      "You are 23 years old\n",
      "Your Address is Noida\n",
      "Your current company is Ola\n",
      "Your inhand salary is 56789\n"
     ]
    }
   ],
   "source": [
    "san.greet_with_intro(\"Aditya Kumar\",23,\"Noida\",56789,'Ola')"
   ]
  },
  {
   "cell_type": "code",
   "execution_count": 13,
   "id": "b8ad63da",
   "metadata": {},
   "outputs": [],
   "source": [
    "# from app\n",
    "\n",
    "\n",
    "from sandeep import factorial"
   ]
  },
  {
   "cell_type": "code",
   "execution_count": 14,
   "id": "65b32e59",
   "metadata": {},
   "outputs": [
    {
     "data": {
      "text/plain": [
       "120"
      ]
     },
     "execution_count": 14,
     "metadata": {},
     "output_type": "execute_result"
    }
   ],
   "source": [
    "factorial(5)"
   ]
  },
  {
   "cell_type": "code",
   "execution_count": 15,
   "id": "8902d6f7",
   "metadata": {},
   "outputs": [],
   "source": [
    "from sandeep import maxx"
   ]
  },
  {
   "cell_type": "code",
   "execution_count": 16,
   "id": "05b04730",
   "metadata": {},
   "outputs": [
    {
     "data": {
      "text/plain": [
       "64321"
      ]
     },
     "execution_count": 16,
     "metadata": {},
     "output_type": "execute_result"
    }
   ],
   "source": [
    "maxx([1234,2134,3,13,435,64321,454,678])"
   ]
  },
  {
   "cell_type": "code",
   "execution_count": 17,
   "id": "c20bf50c",
   "metadata": {},
   "outputs": [],
   "source": [
    "from sandeep import factorial,get_fibonacci,check_armstrong,check_anagrams"
   ]
  },
  {
   "cell_type": "code",
   "execution_count": 18,
   "id": "d5f34bdd",
   "metadata": {},
   "outputs": [
    {
     "data": {
      "text/plain": [
       "120"
      ]
     },
     "execution_count": 18,
     "metadata": {},
     "output_type": "execute_result"
    }
   ],
   "source": [
    "factorial(5)"
   ]
  },
  {
   "cell_type": "code",
   "execution_count": 19,
   "id": "1c7c1d0e",
   "metadata": {},
   "outputs": [
    {
     "data": {
      "text/plain": [
       "[0, 1, 1, 2, 3, 5, 8, 13, 21, 34]"
      ]
     },
     "execution_count": 19,
     "metadata": {},
     "output_type": "execute_result"
    }
   ],
   "source": [
    "get_fibonacci(10)"
   ]
  },
  {
   "cell_type": "code",
   "execution_count": 21,
   "id": "c1c78c2e",
   "metadata": {},
   "outputs": [
    {
     "name": "stdout",
     "output_type": "stream",
     "text": [
      "Yes both words are Anagrams\n"
     ]
    }
   ],
   "source": [
    "check_anagrams('pup','pup')"
   ]
  },
  {
   "cell_type": "code",
   "execution_count": 23,
   "id": "2edaf091",
   "metadata": {},
   "outputs": [
    {
     "data": {
      "text/plain": [
       "True"
      ]
     },
     "execution_count": 23,
     "metadata": {},
     "output_type": "execute_result"
    }
   ],
   "source": [
    "check_armstrong(153)"
   ]
  },
  {
   "cell_type": "code",
   "execution_count": 24,
   "id": "8f857f4e",
   "metadata": {},
   "outputs": [
    {
     "ename": "ImportError",
     "evalue": "cannot import name 'avg' from 'sandeep' (C:\\Users\\Lenovo\\NewBatch_11_12_Python\\sandeep.py)",
     "output_type": "error",
     "traceback": [
      "\u001b[1;31m---------------------------------------------------------------------------\u001b[0m",
      "\u001b[1;31mImportError\u001b[0m                               Traceback (most recent call last)",
      "Cell \u001b[1;32mIn[24], line 1\u001b[0m\n\u001b[1;32m----> 1\u001b[0m \u001b[38;5;28;01mfrom\u001b[39;00m \u001b[38;5;21;01msandeep\u001b[39;00m \u001b[38;5;28;01mimport\u001b[39;00m avg\n",
      "\u001b[1;31mImportError\u001b[0m: cannot import name 'avg' from 'sandeep' (C:\\Users\\Lenovo\\NewBatch_11_12_Python\\sandeep.py)"
     ]
    }
   ],
   "source": [
    "from sandeep import avg"
   ]
  },
  {
   "cell_type": "code",
   "execution_count": 25,
   "id": "0c60ddda",
   "metadata": {},
   "outputs": [
    {
     "ename": "ModuleNotFoundError",
     "evalue": "No module named 'sandeeep'",
     "output_type": "error",
     "traceback": [
      "\u001b[1;31m---------------------------------------------------------------------------\u001b[0m",
      "\u001b[1;31mModuleNotFoundError\u001b[0m                       Traceback (most recent call last)",
      "Cell \u001b[1;32mIn[25], line 1\u001b[0m\n\u001b[1;32m----> 1\u001b[0m \u001b[38;5;28;01mimport\u001b[39;00m \u001b[38;5;21;01msandeeep\u001b[39;00m\n",
      "\u001b[1;31mModuleNotFoundError\u001b[0m: No module named 'sandeeep'"
     ]
    }
   ],
   "source": [
    "import sandeeep"
   ]
  },
  {
   "cell_type": "code",
   "execution_count": 26,
   "id": "b02cb0f5",
   "metadata": {},
   "outputs": [],
   "source": [
    "from functools import reduce"
   ]
  },
  {
   "cell_type": "code",
   "execution_count": 27,
   "id": "52f0f17d",
   "metadata": {},
   "outputs": [],
   "source": [
    "# Modules:- libraries"
   ]
  },
  {
   "cell_type": "code",
   "execution_count": 33,
   "id": "0bffb03c",
   "metadata": {},
   "outputs": [],
   "source": [
    "from sandeep import *"
   ]
  },
  {
   "cell_type": "code",
   "execution_count": 29,
   "id": "20f55441",
   "metadata": {},
   "outputs": [
    {
     "data": {
      "text/plain": [
       "[0, 1, 1, 2, 3, 5, 8, 13, 21, 34, 55, 89]"
      ]
     },
     "execution_count": 29,
     "metadata": {},
     "output_type": "execute_result"
    }
   ],
   "source": [
    "get_fibonacci(12)"
   ]
  },
  {
   "cell_type": "code",
   "execution_count": 30,
   "id": "cb13ee5b",
   "metadata": {},
   "outputs": [
    {
     "data": {
      "text/plain": [
       "1"
      ]
     },
     "execution_count": 30,
     "metadata": {},
     "output_type": "execute_result"
    }
   ],
   "source": [
    "minn([1,24,5457])"
   ]
  },
  {
   "cell_type": "code",
   "execution_count": 32,
   "id": "1ccbb220",
   "metadata": {},
   "outputs": [
    {
     "name": "stdout",
     "output_type": "stream",
     "text": [
      "Hello Mr Ajay, how are you, nice to meet you!!\n",
      "You are None years old\n",
      "Your Address is None\n",
      "Your current company is None\n",
      "Your inhand salary is None\n"
     ]
    }
   ],
   "source": [
    "check_intro(name='Ajay')"
   ]
  },
  {
   "cell_type": "code",
   "execution_count": 34,
   "id": "bf50f155",
   "metadata": {},
   "outputs": [],
   "source": [
    "# import sandep\n",
    "# import sandeep as s\n",
    "# from sandeep import check_anagrams\n",
    "# from sandeep import check_armstrong,check_anagrams\n",
    "# from sandeep import *"
   ]
  },
  {
   "cell_type": "code",
   "execution_count": 35,
   "id": "e17166ed",
   "metadata": {},
   "outputs": [],
   "source": [
    "# import math\n",
    "# import math as m\n",
    "# from math import factorial\n",
    "# from math import ceil,floor\n",
    "# from math import *"
   ]
  },
  {
   "cell_type": "code",
   "execution_count": 36,
   "id": "ca9ecd7e",
   "metadata": {},
   "outputs": [],
   "source": [
    "# important modules\n",
    "\n",
    "\n",
    "\n"
   ]
  },
  {
   "cell_type": "code",
   "execution_count": 37,
   "id": "168ad4c8",
   "metadata": {},
   "outputs": [
    {
     "name": "stdout",
     "output_type": "stream",
     "text": [
      "['_STRUCT_TM_ITEMS', '__doc__', '__loader__', '__name__', '__package__', '__spec__', 'altzone', 'asctime', 'ctime', 'daylight', 'get_clock_info', 'gmtime', 'localtime', 'mktime', 'monotonic', 'monotonic_ns', 'perf_counter', 'perf_counter_ns', 'process_time', 'process_time_ns', 'sleep', 'strftime', 'strptime', 'struct_time', 'thread_time', 'thread_time_ns', 'time', 'time_ns', 'timezone', 'tzname']\n"
     ]
    }
   ],
   "source": [
    "# time module\n",
    "\n",
    "import time\n",
    "\n",
    "print(dir(time))"
   ]
  },
  {
   "cell_type": "code",
   "execution_count": 38,
   "id": "00690dfa",
   "metadata": {},
   "outputs": [
    {
     "name": "stdout",
     "output_type": "stream",
     "text": [
      "['__builtins__', '__cached__', '__doc__', '__file__', '__loader__', '__name__', '__package__', '__spec__', 'check_anagrams', 'check_armstrong', 'check_intro', 'factorial', 'get_fibonacci', 'greet', 'greet_with_intro', 'maxx', 'minn', 'multiply', 'summ', 'ye_count_karke_dega']\n"
     ]
    }
   ],
   "source": [
    "print(dir(sandeep))"
   ]
  },
  {
   "cell_type": "code",
   "execution_count": 39,
   "id": "f16956a4",
   "metadata": {},
   "outputs": [],
   "source": [
    "sa = ['check_anagrams', 'check_armstrong', 'check_intro', 'factorial', 'get_fibonacci', 'greet', 'greet_with_intro', 'maxx', 'minn', 'multiply', 'summ', 'ye_count_karke_dega']"
   ]
  },
  {
   "cell_type": "code",
   "execution_count": 40,
   "id": "a1d106a6",
   "metadata": {},
   "outputs": [
    {
     "name": "stdout",
     "output_type": "stream",
     "text": [
      "12\n"
     ]
    }
   ],
   "source": [
    "print(len(sa))"
   ]
  },
  {
   "cell_type": "code",
   "execution_count": 41,
   "id": "a6269dfa",
   "metadata": {},
   "outputs": [
    {
     "name": "stdout",
     "output_type": "stream",
     "text": [
      "['_STRUCT_TM_ITEMS', '__doc__', '__loader__', '__name__', '__package__', '__spec__', 'altzone', 'asctime', 'ctime', 'daylight', 'get_clock_info', 'gmtime', 'localtime', 'mktime', 'monotonic', 'monotonic_ns', 'perf_counter', 'perf_counter_ns', 'process_time', 'process_time_ns', 'sleep', 'strftime', 'strptime', 'struct_time', 'thread_time', 'thread_time_ns', 'time', 'time_ns', 'timezone', 'tzname']\n"
     ]
    }
   ],
   "source": [
    "print(dir(time))"
   ]
  },
  {
   "cell_type": "code",
   "execution_count": 42,
   "id": "4cfedfe9",
   "metadata": {},
   "outputs": [
    {
     "name": "stdout",
     "output_type": "stream",
     "text": [
      "hello\n",
      "hello\n"
     ]
    },
    {
     "ename": "KeyboardInterrupt",
     "evalue": "",
     "output_type": "error",
     "traceback": [
      "\u001b[1;31m---------------------------------------------------------------------------\u001b[0m",
      "\u001b[1;31mKeyboardInterrupt\u001b[0m                         Traceback (most recent call last)",
      "Cell \u001b[1;32mIn[42], line 5\u001b[0m\n\u001b[0;32m      1\u001b[0m \u001b[38;5;66;03m# Python modules:- more than 5.5 lakh\u001b[39;00m\n\u001b[0;32m      4\u001b[0m \u001b[38;5;28;01mwhile\u001b[39;00m \u001b[38;5;28;01mTrue\u001b[39;00m:\n\u001b[1;32m----> 5\u001b[0m     time\u001b[38;5;241m.\u001b[39msleep(\u001b[38;5;241m1\u001b[39m)\n\u001b[0;32m      6\u001b[0m     \u001b[38;5;28mprint\u001b[39m(\u001b[38;5;124m'\u001b[39m\u001b[38;5;124mhello\u001b[39m\u001b[38;5;124m'\u001b[39m)\n",
      "\u001b[1;31mKeyboardInterrupt\u001b[0m: "
     ]
    }
   ],
   "source": [
    "# Python modules:- more than 5.5 lakh\n",
    "\n",
    "\n",
    "while True:\n",
    "    time.sleep(1)\n",
    "    print('hello')"
   ]
  },
  {
   "cell_type": "code",
   "execution_count": 44,
   "id": "7a69c89f",
   "metadata": {},
   "outputs": [
    {
     "name": "stdout",
     "output_type": "stream",
     "text": [
      "Mon May  6 12:27:09 2024\n"
     ]
    }
   ],
   "source": [
    "print(time.asctime())"
   ]
  },
  {
   "cell_type": "code",
   "execution_count": 45,
   "id": "fb25924a",
   "metadata": {},
   "outputs": [],
   "source": [
    "import math"
   ]
  },
  {
   "cell_type": "code",
   "execution_count": 46,
   "id": "22a57268",
   "metadata": {},
   "outputs": [
    {
     "name": "stdout",
     "output_type": "stream",
     "text": [
      "['__doc__', '__loader__', '__name__', '__package__', '__spec__', 'acos', 'acosh', 'asin', 'asinh', 'atan', 'atan2', 'atanh', 'cbrt', 'ceil', 'comb', 'copysign', 'cos', 'cosh', 'degrees', 'dist', 'e', 'erf', 'erfc', 'exp', 'exp2', 'expm1', 'fabs', 'factorial', 'floor', 'fmod', 'frexp', 'fsum', 'gamma', 'gcd', 'hypot', 'inf', 'isclose', 'isfinite', 'isinf', 'isnan', 'isqrt', 'lcm', 'ldexp', 'lgamma', 'log', 'log10', 'log1p', 'log2', 'modf', 'nan', 'nextafter', 'perm', 'pi', 'pow', 'prod', 'radians', 'remainder', 'sin', 'sinh', 'sqrt', 'tan', 'tanh', 'tau', 'trunc', 'ulp']\n"
     ]
    }
   ],
   "source": [
    "print(dir(math))"
   ]
  },
  {
   "cell_type": "code",
   "execution_count": 47,
   "id": "628501a0",
   "metadata": {},
   "outputs": [
    {
     "data": {
      "text/plain": [
       "34"
      ]
     },
     "execution_count": 47,
     "metadata": {},
     "output_type": "execute_result"
    }
   ],
   "source": [
    "math.floor(34.987654)"
   ]
  },
  {
   "cell_type": "code",
   "execution_count": 48,
   "id": "0de71cb6",
   "metadata": {},
   "outputs": [
    {
     "data": {
      "text/plain": [
       "35"
      ]
     },
     "execution_count": 48,
     "metadata": {},
     "output_type": "execute_result"
    }
   ],
   "source": [
    "math.ceil(34.0000001)"
   ]
  },
  {
   "cell_type": "code",
   "execution_count": 49,
   "id": "4ce672b1",
   "metadata": {},
   "outputs": [
    {
     "data": {
      "text/plain": [
       "3.605551275463989"
      ]
     },
     "execution_count": 49,
     "metadata": {},
     "output_type": "execute_result"
    }
   ],
   "source": [
    "math.dist((-3,0),(0,2))"
   ]
  },
  {
   "cell_type": "code",
   "execution_count": 50,
   "id": "34bea790",
   "metadata": {},
   "outputs": [
    {
     "data": {
      "text/plain": [
       "1.0"
      ]
     },
     "execution_count": 50,
     "metadata": {},
     "output_type": "execute_result"
    }
   ],
   "source": [
    "math.dist((3,0),(4,0))"
   ]
  },
  {
   "cell_type": "code",
   "execution_count": 52,
   "id": "246fd268",
   "metadata": {},
   "outputs": [
    {
     "data": {
      "text/plain": [
       "1531.5606419596973"
      ]
     },
     "execution_count": 52,
     "metadata": {},
     "output_type": "execute_result"
    }
   ],
   "source": [
    "math.sqrt(2345678)"
   ]
  },
  {
   "cell_type": "code",
   "execution_count": 53,
   "id": "a6d0fa2c",
   "metadata": {},
   "outputs": [
    {
     "data": {
      "text/plain": [
       "5.0"
      ]
     },
     "execution_count": 53,
     "metadata": {},
     "output_type": "execute_result"
    }
   ],
   "source": [
    "25**0.5"
   ]
  },
  {
   "cell_type": "code",
   "execution_count": 54,
   "id": "783b3fde",
   "metadata": {},
   "outputs": [],
   "source": [
    "sqrt = lambda x: x**0.5"
   ]
  },
  {
   "cell_type": "code",
   "execution_count": 55,
   "id": "7f741971",
   "metadata": {},
   "outputs": [
    {
     "data": {
      "text/plain": [
       "1531.5606419596973"
      ]
     },
     "execution_count": 55,
     "metadata": {},
     "output_type": "execute_result"
    }
   ],
   "source": [
    "sqrt(2345678)"
   ]
  },
  {
   "cell_type": "code",
   "execution_count": 56,
   "id": "0a77f8de",
   "metadata": {},
   "outputs": [],
   "source": [
    "import calendar"
   ]
  },
  {
   "cell_type": "code",
   "execution_count": 70,
   "id": "e08a4fa5",
   "metadata": {},
   "outputs": [
    {
     "name": "stdout",
     "output_type": "stream",
     "text": [
      "                     2024\n",
      "\n",
      "      January                   February\n",
      "Mo Tu We Th Fr Sa Su      Mo Tu We Th Fr Sa Su\n",
      " 1  2  3  4  5  6  7                1  2  3  4\n",
      " 8  9 10 11 12 13 14       5  6  7  8  9 10 11\n",
      "15 16 17 18 19 20 21      12 13 14 15 16 17 18\n",
      "22 23 24 25 26 27 28      19 20 21 22 23 24 25\n",
      "29 30 31                  26 27 28 29\n",
      "\n",
      "       March                     April\n",
      "Mo Tu We Th Fr Sa Su      Mo Tu We Th Fr Sa Su\n",
      "             1  2  3       1  2  3  4  5  6  7\n",
      " 4  5  6  7  8  9 10       8  9 10 11 12 13 14\n",
      "11 12 13 14 15 16 17      15 16 17 18 19 20 21\n",
      "18 19 20 21 22 23 24      22 23 24 25 26 27 28\n",
      "25 26 27 28 29 30 31      29 30\n",
      "\n",
      "        May                       June\n",
      "Mo Tu We Th Fr Sa Su      Mo Tu We Th Fr Sa Su\n",
      "       1  2  3  4  5                      1  2\n",
      " 6  7  8  9 10 11 12       3  4  5  6  7  8  9\n",
      "13 14 15 16 17 18 19      10 11 12 13 14 15 16\n",
      "20 21 22 23 24 25 26      17 18 19 20 21 22 23\n",
      "27 28 29 30 31            24 25 26 27 28 29 30\n",
      "\n",
      "        July                     August\n",
      "Mo Tu We Th Fr Sa Su      Mo Tu We Th Fr Sa Su\n",
      " 1  2  3  4  5  6  7                1  2  3  4\n",
      " 8  9 10 11 12 13 14       5  6  7  8  9 10 11\n",
      "15 16 17 18 19 20 21      12 13 14 15 16 17 18\n",
      "22 23 24 25 26 27 28      19 20 21 22 23 24 25\n",
      "29 30 31                  26 27 28 29 30 31\n",
      "\n",
      "     September                  October\n",
      "Mo Tu We Th Fr Sa Su      Mo Tu We Th Fr Sa Su\n",
      "                   1          1  2  3  4  5  6\n",
      " 2  3  4  5  6  7  8       7  8  9 10 11 12 13\n",
      " 9 10 11 12 13 14 15      14 15 16 17 18 19 20\n",
      "16 17 18 19 20 21 22      21 22 23 24 25 26 27\n",
      "23 24 25 26 27 28 29      28 29 30 31\n",
      "30\n",
      "\n",
      "      November                  December\n",
      "Mo Tu We Th Fr Sa Su      Mo Tu We Th Fr Sa Su\n",
      "             1  2  3                         1\n",
      " 4  5  6  7  8  9 10       2  3  4  5  6  7  8\n",
      "11 12 13 14 15 16 17       9 10 11 12 13 14 15\n",
      "18 19 20 21 22 23 24      16 17 18 19 20 21 22\n",
      "25 26 27 28 29 30         23 24 25 26 27 28 29\n",
      "                          30 31\n",
      "\n"
     ]
    }
   ],
   "source": [
    "print(calendar.calendar(2024,m=2))"
   ]
  },
  {
   "cell_type": "code",
   "execution_count": 72,
   "id": "311eee98",
   "metadata": {},
   "outputs": [
    {
     "data": {
      "text/plain": [
       "True"
      ]
     },
     "execution_count": 72,
     "metadata": {},
     "output_type": "execute_result"
    }
   ],
   "source": [
    "calendar.isleap(2020)"
   ]
  },
  {
   "cell_type": "code",
   "execution_count": 73,
   "id": "5dbcdd36",
   "metadata": {},
   "outputs": [],
   "source": [
    "# #DA\n",
    "# pandas\n",
    "# matplotlib\n",
    "# seaborn\n",
    "# numpy\n",
    "# plotly\n",
    "\n",
    "\n",
    "# #\n",
    "# pygame\n",
    "# gtts\n",
    "# qrcode\n",
    "# turtle\n",
    "# requests\n",
    "# csv\n",
    "# json\n",
    "# pickle\n",
    "\n",
    "\n",
    "# mysql sqlserver sqlite\n",
    "\n",
    "# webscrapping:- urlib,selenium,requests,bs4\n",
    "\n",
    "# webbrowser\n",
    "# instaloader\n",
    "\n",
    "\n",
    "# ML:\n",
    "# sk learn\n",
    "# AI;DL\n",
    "# Pytorch,scipy\n",
    "# keras, Tensorflow\n",
    "# opencv, huggingface\n",
    "\n",
    "# Website:\n",
    "#     Django, flask,fastapi\n",
    "\n"
   ]
  },
  {
   "cell_type": "code",
   "execution_count": 76,
   "id": "ad1f56d4",
   "metadata": {},
   "outputs": [],
   "source": [
    "# pip install qrcode"
   ]
  },
  {
   "cell_type": "code",
   "execution_count": 77,
   "id": "cf0c031a",
   "metadata": {},
   "outputs": [],
   "source": [
    "import qrcode"
   ]
  },
  {
   "cell_type": "code",
   "execution_count": 79,
   "id": "02b07701",
   "metadata": {},
   "outputs": [
    {
     "name": "stdout",
     "output_type": "stream",
     "text": [
      "done\n"
     ]
    }
   ],
   "source": [
    "img = qrcode.make('❤️We are in Techvidya👍\\nWe are learning Python!!')\n",
    "img.save('intro.png')\n",
    "print('done')"
   ]
  },
  {
   "cell_type": "code",
   "execution_count": 80,
   "id": "fdd795fc",
   "metadata": {},
   "outputs": [
    {
     "name": "stdout",
     "output_type": "stream",
     "text": [
      "done\n"
     ]
    }
   ],
   "source": [
    "link = '''https://forms.gle/g1juPqY89AEUDACt8'''\n",
    "\n",
    "feedback = qrcode.make(link)\n",
    "feedback.save('feedback.png')\n",
    "print('done')"
   ]
  },
  {
   "cell_type": "code",
   "execution_count": 81,
   "id": "e97732d8",
   "metadata": {},
   "outputs": [],
   "source": []
  },
  {
   "cell_type": "code",
   "execution_count": 82,
   "id": "7977a4df",
   "metadata": {},
   "outputs": [],
   "source": [
    "# pip install gTTS"
   ]
  },
  {
   "cell_type": "code",
   "execution_count": 86,
   "id": "802c5b52",
   "metadata": {},
   "outputs": [],
   "source": [
    "import pygame\n",
    "import gtts\n",
    "pygame.init()\n",
    "\n",
    "def speek(amount):\n",
    "    audio = gtts.gTTS(f'Paytm par {amount} rs prapt hue')\n",
    "    audio.save('payment.mp3')\n",
    "    \n",
    "    music = pygame.mixer.Sound('payment.mp3')\n",
    "    music.play()"
   ]
  },
  {
   "cell_type": "code",
   "execution_count": 92,
   "id": "2a585809",
   "metadata": {},
   "outputs": [],
   "source": [
    "speek(1000)"
   ]
  },
  {
   "cell_type": "code",
   "execution_count": null,
   "id": "a9397dcf",
   "metadata": {},
   "outputs": [],
   "source": []
  },
  {
   "cell_type": "code",
   "execution_count": 93,
   "id": "40392d7b",
   "metadata": {},
   "outputs": [],
   "source": []
  },
  {
   "cell_type": "code",
   "execution_count": 95,
   "id": "6222373c",
   "metadata": {},
   "outputs": [],
   "source": [
    "import random\n",
    "import pyautogui as py\n",
    "import time\n",
    "data = ['Python','Java','C','Noida','Delhi']\n",
    "\n",
    "time.sleep(5)\n",
    "c = 1\n",
    "while c<=20:\n",
    "    py.write(random.choice(data))\n",
    "    py.press('Enter')\n",
    "    c+=1"
   ]
  },
  {
   "cell_type": "code",
   "execution_count": 96,
   "id": "7da8cf43",
   "metadata": {},
   "outputs": [],
   "source": [
    "# Java\n",
    "# C\n",
    "# Python\n"
   ]
  },
  {
   "cell_type": "markdown",
   "id": "08c38cf4",
   "metadata": {},
   "source": [
    "# day 28"
   ]
  },
  {
   "cell_type": "code",
   "execution_count": 1,
   "id": "aee492b9",
   "metadata": {},
   "outputs": [],
   "source": [
    "# turtle\n",
    "# instaloader\n",
    "# pyautogui\n",
    "# IPython\n",
    "# webbrowser"
   ]
  },
  {
   "cell_type": "code",
   "execution_count": 2,
   "id": "221c4f6c",
   "metadata": {},
   "outputs": [],
   "source": [
    "# instaloader:- download public, profile videos and posts/ photos"
   ]
  },
  {
   "cell_type": "code",
   "execution_count": 3,
   "id": "ff94c6d8",
   "metadata": {},
   "outputs": [],
   "source": [
    "# pip install instaloader"
   ]
  },
  {
   "cell_type": "code",
   "execution_count": 4,
   "id": "cea01399",
   "metadata": {},
   "outputs": [],
   "source": [
    "from instaloader import Instaloader"
   ]
  },
  {
   "cell_type": "code",
   "execution_count": 5,
   "id": "23e70f3f",
   "metadata": {},
   "outputs": [],
   "source": [
    "insta = Instaloader()"
   ]
  },
  {
   "cell_type": "code",
   "execution_count": 6,
   "id": "aef72503",
   "metadata": {},
   "outputs": [
    {
     "name": "stdout",
     "output_type": "stream",
     "text": [
      "Stored ID 52733977422 for profile cracentreoflearning.\n",
      "cracentreoflearning\\2024-03-20_06-54-24_UTC_profile_pic.jpg \n",
      "Retrieving posts from profile cracentreoflearning.\n",
      "[  1/345] cracentreoflearning\\2023-04-28_08-16-23_UTC.jpg [Many learners find it difficu…] cracentreoflearning\\2023-04-28_08-16-23_UTC.mp4 json \n",
      "[  2/345] cracentreoflearning\\2024-05-06_06-05-11_UTC.jpg [🎉 Congratulations 𝐏𝐒𝐄𝐁 𝐂𝐥𝐚𝐬𝐬 …] json \n",
      "[  3/345] cracentreoflearning\\2024-05-03_06-58-44_UTC.jpg [Your education shouldn't be o…] cracentreoflearning\\2024-05-03_06-58-44_UTC.mp4 json \n",
      "[  4/345] cracentreoflearning\\2024-05-01_01-30-11_UTC.jpg [May this day inspire us to st…] json \n",
      "[  5/345] cracentreoflearning\\2024-04-30_06-02-47_UTC.jpg [ਗੁਰੂ ਅਰਜਨ ਦੇਵ ਜੀ ਦੇ ਪ੍ਰਕਾਸ਼ ਪ…] json \n",
      "[  6/345] cracentreoflearning\\2024-04-29_06-11-03_UTC.jpg [ਹਿੰਦ ਦੀ ਚਾਦਰ,  ਨੌਵੇਂ ਪਾਤਿਸ਼ਾਹ…] json \n",
      "[  7/345] cracentreoflearning\\2024-04-26_09-44-51_UTC.jpg [Worried about navigating the …] json \n",
      "[  8/345] cracentreoflearning\\2024-04-24_05-00-03_UTC.jpg [The clock is ticking!🕰  Appli…] json \n",
      "[  9/345] cracentreoflearning\\2024-04-23_04-30-11_UTC.jpg [\"Expensive\" sounds so...basic…] json \n",
      "[ 10/345] cracentreoflearning\\2024-04-23_00-53-32_UTC.jpg [जिनके मन में है श्रीराम, जिनक…] json \n",
      "[ 11/345] cracentreoflearning\\2024-04-20_04-42-24_UTC.jpg [𝐌𝐚𝐬𝐭𝐞𝐫 𝐜𝐨𝐦𝐦𝐮𝐧𝐢𝐜𝐚𝐭𝐢𝐨𝐧 𝐰𝐢𝐭𝐡 𝐬𝐲𝐧…] json \n",
      "[ 12/345] cracentreoflearning\\2024-04-18_07-17-30_UTC.jpg [Thinking of 𝐬𝐭𝐮𝐝𝐲𝐢𝐧𝐠 𝐢𝐧 𝐭𝐡𝐞 𝐔…] json \n",
      "[ 13/345] cracentreoflearning\\2024-04-17_00-30-12_UTC.jpg [May Lord Rama shower us with …] json \n",
      "[ 14/345] cracentreoflearning\\2024-04-16_06-00-25_UTC.jpg [Using clear and concise langu…] json \n",
      "[ 15/345] cracentreoflearning\\2024-04-16_05-21-52_UTC.jpg [Happy Durga Ashtami! May Maa …] json \n",
      "[ 16/345] cracentreoflearning\\2024-04-15_06-02-40_UTC.jpg [Attention talented individual…] json \n",
      "[ 17/345] cracentreoflearning\\2024-04-13_01-30-14_UTC.jpg [🌾 ਕਣਕਾਂ ਦੀ ਮੁੱਕ ਗਈ ਰਾਖੀ ਓ ਜੱਟ…] json \n",
      "[ 18/345] cracentreoflearning\\2024-04-11_06-49-07_UTC.jpg [Sending heartfelt wishes for …] json \n",
      "[ 19/345] cracentreoflearning\\2024-04-11_05-11-13_UTC.jpg [Planning to study in the UK i…] json \n",
      "[ 20/345] cracentreoflearning\\2024-04-09_01-30-18_UTC.jpg [Celebrating the nine divine n…] cracentreoflearning\\2024-04-09_01-30-18_UTC.mp4 json \n",
      "[ 21/345] cracentreoflearning\\2024-04-08_13-32-13_UTC.jpg [Exploring the beauty of diver…] cracentreoflearning\\2024-04-08_13-32-13_UTC.mp4 json \n",
      "[ 22/345] cracentreoflearning\\2024-04-03_06-04-11_UTC.jpg [🎓 Ready to dominate the 𝐈𝐄𝐋𝐓𝐒…] json \n",
      "[ 23/345] cracentreoflearning\\2024-04-01_09-35-04_UTC.jpg [Craving something new? Check …] json \n",
      "[ 24/345] cracentreoflearning\\2024-03-28_09-30-11_UTC.jpg [𝐖𝐨𝐫𝐝 𝐨𝐟 𝐭𝐡𝐞 𝐃𝐚𝐲: Blurt Out!  …] json \n",
      "[ 25/345] cracentreoflearning\\2024-03-28_07-37-15_UTC.jpg [ਵਿਦੇਸ਼ ਪੜ੍ਹਾਈ ਲਈ 𝐅𝐮𝐧𝐝𝐬 ਦੀ ਘਾਟ…] json \n",
      "[ 26/345] cracentreoflearning\\2024-03-22_08-02-25_UTC.jpg [🎓 Dreams don't need collatera…] \n",
      "Saved resume information to cracentreoflearning\\iterator_sskZPmu1.json.xz.\n"
     ]
    },
    {
     "name": "stderr",
     "output_type": "stream",
     "text": [
      "\n",
      "KeyboardInterrupt\n",
      "\n"
     ]
    }
   ],
   "source": [
    "insta.download_profile('cracentreoflearning')"
   ]
  },
  {
   "cell_type": "code",
   "execution_count": 7,
   "id": "c72c9aba",
   "metadata": {},
   "outputs": [],
   "source": [
    "# IPython"
   ]
  },
  {
   "cell_type": "code",
   "execution_count": 8,
   "id": "c6861561",
   "metadata": {},
   "outputs": [],
   "source": [
    "import IPython"
   ]
  },
  {
   "cell_type": "code",
   "execution_count": 20,
   "id": "62f00f27",
   "metadata": {},
   "outputs": [
    {
     "data": {
      "image/jpeg": "[encoded data removed]",
      "text/html": [
       "\n",
       "        <iframe\n",
       "            width=\"400\"\n",
       "            height=\"300\"\n",
       "            src=\"https://www.youtube.com/embed/Fj2AWCwgDOs?autoplay=1\"\n",
       "            frameborder=\"0\"\n",
       "            allowfullscreen\n",
       "            allow=\"autoplay\"\n",
       "        ></iframe>\n",
       "        "
      ],
      "text/plain": [
       "<IPython.lib.display.YouTubeVideo at 0x2c4e5154b50>"
      ]
     },
     "metadata": {},
     "output_type": "display_data"
    },
    {
     "data": {
      "image/jpeg": "[encoded data removed]",
      "text/html": [
       "\n",
       "        <iframe\n",
       "            width=\"400\"\n",
       "            height=\"300\"\n",
       "            src=\"https://www.youtube.com/embed/Q6rfaLVaWvE?autoplay=1\"\n",
       "            frameborder=\"0\"\n",
       "            allowfullscreen\n",
       "            allow=\"autoplay\"\n",
       "        ></iframe>\n",
       "        "
      ],
      "text/plain": [
       "<IPython.lib.display.YouTubeVideo at 0x2c4e50f61d0>"
      ]
     },
     "metadata": {},
     "output_type": "display_data"
    }
   ],
   "source": [
    "display(IPython.display.YouTubeVideo('Fj2AWCwgDOs',allow_autoplay=True))\n",
    "display(IPython.display.YouTubeVideo('Q6rfaLVaWvE',allow_autoplay=True))"
   ]
  },
  {
   "cell_type": "code",
   "execution_count": 10,
   "id": "b41ff8ea",
   "metadata": {},
   "outputs": [
    {
     "name": "stdout",
     "output_type": "stream",
     "text": [
      "Done\n"
     ]
    }
   ],
   "source": [
    "print('Done')"
   ]
  },
  {
   "attachments": {
    "Flag_of_India.svg.webp": {
     "image/webp": "[encoded data removed]"
    }
   },
   "cell_type": "markdown",
   "id": "4e2deee5",
   "metadata": {},
   "source": [
    "![Flag_of_India.svg.webp](attachment:Flag_of_India.svg.webp)"
   ]
  },
  {
   "cell_type": "code",
   "execution_count": 21,
   "id": "87b8996c",
   "metadata": {},
   "outputs": [
    {
     "data": {
      "image/png": "[encoded data removed]",
      "text/plain": [
       "<IPython.core.display.Image object>"
      ]
     },
     "execution_count": 21,
     "metadata": {},
     "output_type": "execute_result"
    }
   ],
   "source": [
    "IPython.display.Image('https://upload.wikimedia.org/wikipedia/en/thumb/4/41/Flag_of_India.svg/1200px-Flag_of_India.svg.png')"
   ]
  },
  {
   "cell_type": "code",
   "execution_count": 22,
   "id": "a3a75158",
   "metadata": {},
   "outputs": [],
   "source": [
    "import webbrowser"
   ]
  },
  {
   "cell_type": "code",
   "execution_count": 23,
   "id": "6e098893",
   "metadata": {},
   "outputs": [],
   "source": [
    "urls = ['https://twitter-trends.iamrohit.in/india',\n",
    "       'https://swayam.gov.in/',\n",
    "        'https://proposal.sakshat.ac.in/scholarship/index.php/scholarship/scholarship-user/home']\n",
    "\n",
    "import time\n",
    "for i in urls:\n",
    "    webbrowser.open_new_tab(i)\n",
    "    time.sleep(2)\n",
    "    "
   ]
  },
  {
   "cell_type": "code",
   "execution_count": 27,
   "id": "bad2a3ef",
   "metadata": {},
   "outputs": [],
   "source": [
    "import pyautogui as py\n",
    "import gtts\n",
    "import pygame\n",
    "import time\n",
    "pygame.init()\n",
    "\n",
    "time.sleep(5)\n",
    "\n",
    "data = '''India, officially the Republic of India, is a country in South Asia. It is the seventh-largest country by area; the most populous country as of June 2023; and from the time of its independence in 1947, the world's most populous democracy'''\n",
    "\n",
    "\n",
    "audio = gtts.gTTS(data)\n",
    "audio.save('india.mp3')\n",
    "\n",
    "music = pygame.mixer.Sound('india.mp3')\n",
    "music.play()\n",
    "\n",
    "for i in data:\n",
    "    py.write(i)\n",
    "    \n",
    "\n"
   ]
  },
  {
   "cell_type": "code",
   "execution_count": 28,
   "id": "bb7adb9d",
   "metadata": {},
   "outputs": [],
   "source": [
    "# pip install PythonTurtle"
   ]
  },
  {
   "cell_type": "code",
   "execution_count": 29,
   "id": "96ff3c83",
   "metadata": {},
   "outputs": [],
   "source": [
    "import turtle"
   ]
  },
  {
   "cell_type": "code",
   "execution_count": 30,
   "id": "18084039",
   "metadata": {},
   "outputs": [
    {
     "name": "stdout",
     "output_type": "stream",
     "text": [
      "['Canvas', 'Pen', 'RawPen', 'RawTurtle', 'Screen', 'ScrolledCanvas', 'Shape', 'TK', 'TNavigator', 'TPen', 'Tbuffer', 'Terminator', 'Turtle', 'TurtleGraphicsError', 'TurtleScreen', 'TurtleScreenBase', 'Vec2D', '_CFG', '_LANGUAGE', '_Root', '_Screen', '_TurtleImage', '__all__', '__builtins__', '__cached__', '__doc__', '__file__', '__forwardmethods', '__func_body', '__loader__', '__methodDict', '__methods', '__name__', '__package__', '__spec__', '__stringBody', '_alias_list', '_make_global_funcs', '_screen_docrevise', '_tg_classes', '_tg_screen_functions', '_tg_turtle_functions', '_tg_utilities', '_turtle_docrevise', '_ver', 'addshape', 'back', 'backward', 'begin_fill', 'begin_poly', 'bgcolor', 'bgpic', 'bk', 'bye', 'circle', 'clear', 'clearscreen', 'clearstamp', 'clearstamps', 'clone', 'color', 'colormode', 'config_dict', 'deepcopy', 'degrees', 'delay', 'distance', 'done', 'dot', 'down', 'end_fill', 'end_poly', 'exitonclick', 'fd', 'fillcolor', 'filling', 'forward', 'get_poly', 'get_shapepoly', 'getcanvas', 'getmethparlist', 'getpen', 'getscreen', 'getshapes', 'getturtle', 'goto', 'heading', 'hideturtle', 'home', 'ht', 'inspect', 'isdown', 'isfile', 'isvisible', 'join', 'left', 'listen', 'lt', 'mainloop', 'math', 'mode', 'numinput', 'onclick', 'ondrag', 'onkey', 'onkeypress', 'onkeyrelease', 'onrelease', 'onscreenclick', 'ontimer', 'pd', 'pen', 'pencolor', 'pendown', 'pensize', 'penup', 'pos', 'position', 'pu', 'radians', 'read_docstrings', 'readconfig', 'register_shape', 'reset', 'resetscreen', 'resizemode', 'right', 'rt', 'screensize', 'seth', 'setheading', 'setpos', 'setposition', 'settiltangle', 'setundobuffer', 'setup', 'setworldcoordinates', 'setx', 'sety', 'shape', 'shapesize', 'shapetransform', 'shearfactor', 'showturtle', 'simpledialog', 'speed', 'split', 'st', 'stamp', 'sys', 'textinput', 'tilt', 'tiltangle', 'time', 'title', 'towards', 'tracer', 'turtles', 'turtlesize', 'types', 'undo', 'undobufferentries', 'up', 'update', 'warnings', 'width', 'window_height', 'window_width', 'write', 'write_docstringdict', 'xcor', 'ycor']\n"
     ]
    }
   ],
   "source": [
    "print(dir(turtle))"
   ]
  },
  {
   "cell_type": "code",
   "execution_count": 31,
   "id": "c8542c2e",
   "metadata": {},
   "outputs": [
    {
     "name": "stdout",
     "output_type": "stream",
     "text": [
      "['ArrowDtype', 'BooleanDtype', 'Categorical', 'CategoricalDtype', 'CategoricalIndex', 'DataFrame', 'DateOffset', 'DatetimeIndex', 'DatetimeTZDtype', 'ExcelFile', 'ExcelWriter', 'Flags', 'Float32Dtype', 'Float64Dtype', 'Float64Index', 'Grouper', 'HDFStore', 'Index', 'IndexSlice', 'Int16Dtype', 'Int32Dtype', 'Int64Dtype', 'Int64Index', 'Int8Dtype', 'Interval', 'IntervalDtype', 'IntervalIndex', 'MultiIndex', 'NA', 'NaT', 'NamedAgg', 'Period', 'PeriodDtype', 'PeriodIndex', 'RangeIndex', 'Series', 'SparseDtype', 'StringDtype', 'Timedelta', 'TimedeltaIndex', 'Timestamp', 'UInt16Dtype', 'UInt32Dtype', 'UInt64Dtype', 'UInt64Index', 'UInt8Dtype', '__all__', '__builtins__', '__cached__', '__deprecated_num_index_names', '__dir__', '__doc__', '__docformat__', '__file__', '__getattr__', '__git_version__', '__loader__', '__name__', '__package__', '__path__', '__spec__', '__version__', '_config', '_is_numpy_dev', '_libs', '_testing', '_typing', '_version', 'annotations', 'api', 'array', 'arrays', 'bdate_range', 'compat', 'concat', 'core', 'crosstab', 'cut', 'date_range', 'describe_option', 'errors', 'eval', 'factorize', 'from_dummies', 'get_dummies', 'get_option', 'infer_freq', 'interval_range', 'io', 'isna', 'isnull', 'json_normalize', 'lreshape', 'melt', 'merge', 'merge_asof', 'merge_ordered', 'notna', 'notnull', 'offsets', 'option_context', 'options', 'pandas', 'period_range', 'pivot', 'pivot_table', 'plotting', 'qcut', 'read_clipboard', 'read_csv', 'read_excel', 'read_feather', 'read_fwf', 'read_gbq', 'read_hdf', 'read_html', 'read_json', 'read_orc', 'read_parquet', 'read_pickle', 'read_sas', 'read_spss', 'read_sql', 'read_sql_query', 'read_sql_table', 'read_stata', 'read_table', 'read_xml', 'reset_option', 'set_eng_float_format', 'set_option', 'show_versions', 'test', 'testing', 'timedelta_range', 'to_datetime', 'to_numeric', 'to_pickle', 'to_timedelta', 'tseries', 'unique', 'util', 'value_counts', 'wide_to_long']\n"
     ]
    }
   ],
   "source": [
    "import pandas as pd\n",
    "\n",
    "print(dir(pd))"
   ]
  },
  {
   "cell_type": "code",
   "execution_count": 32,
   "id": "ebb2d0d2",
   "metadata": {},
   "outputs": [
    {
     "name": "stdout",
     "output_type": "stream",
     "text": [
      "['ALLOW_THREADS', 'AxisError', 'BUFSIZE', 'CLIP', 'ComplexWarning', 'DataSource', 'ERR_CALL', 'ERR_DEFAULT', 'ERR_IGNORE', 'ERR_LOG', 'ERR_PRINT', 'ERR_RAISE', 'ERR_WARN', 'FLOATING_POINT_SUPPORT', 'FPE_DIVIDEBYZERO', 'FPE_INVALID', 'FPE_OVERFLOW', 'FPE_UNDERFLOW', 'False_', 'Inf', 'Infinity', 'MAXDIMS', 'MAY_SHARE_BOUNDS', 'MAY_SHARE_EXACT', 'ModuleDeprecationWarning', 'NAN', 'NINF', 'NZERO', 'NaN', 'PINF', 'PZERO', 'RAISE', 'RankWarning', 'SHIFT_DIVIDEBYZERO', 'SHIFT_INVALID', 'SHIFT_OVERFLOW', 'SHIFT_UNDERFLOW', 'ScalarType', 'Tester', 'TooHardError', 'True_', 'UFUNC_BUFSIZE_DEFAULT', 'UFUNC_PYVALS_NAME', 'VisibleDeprecationWarning', 'WRAP', '_CopyMode', '_NoValue', '_UFUNC_API', '__NUMPY_SETUP__', '__all__', '__builtins__', '__cached__', '__config__', '__deprecated_attrs__', '__dir__', '__doc__', '__expired_functions__', '__file__', '__former_attrs__', '__future_scalars__', '__getattr__', '__git_version__', '__loader__', '__name__', '__package__', '__path__', '__spec__', '__version__', '_add_newdoc_ufunc', '_builtins', '_distributor_init', '_financial_names', '_get_promotion_state', '_globals', '_int_extended_msg', '_mat', '_no_nep50_warning', '_pyinstaller_hooks_dir', '_pytesttester', '_set_promotion_state', '_specific_msg', '_version', 'abs', 'absolute', 'add', 'add_docstring', 'add_newdoc', 'add_newdoc_ufunc', 'all', 'allclose', 'alltrue', 'amax', 'amin', 'angle', 'any', 'append', 'apply_along_axis', 'apply_over_axes', 'arange', 'arccos', 'arccosh', 'arcsin', 'arcsinh', 'arctan', 'arctan2', 'arctanh', 'argmax', 'argmin', 'argpartition', 'argsort', 'argwhere', 'around', 'array', 'array2string', 'array_equal', 'array_equiv', 'array_repr', 'array_split', 'array_str', 'asanyarray', 'asarray', 'asarray_chkfinite', 'ascontiguousarray', 'asfarray', 'asfortranarray', 'asmatrix', 'atleast_1d', 'atleast_2d', 'atleast_3d', 'average', 'bartlett', 'base_repr', 'binary_repr', 'bincount', 'bitwise_and', 'bitwise_not', 'bitwise_or', 'bitwise_xor', 'blackman', 'block', 'bmat', 'bool_', 'broadcast', 'broadcast_arrays', 'broadcast_shapes', 'broadcast_to', 'busday_count', 'busday_offset', 'busdaycalendar', 'byte', 'byte_bounds', 'bytes_', 'c_', 'can_cast', 'cast', 'cbrt', 'cdouble', 'ceil', 'cfloat', 'char', 'character', 'chararray', 'choose', 'clip', 'clongdouble', 'clongfloat', 'column_stack', 'common_type', 'compare_chararrays', 'compat', 'complex128', 'complex64', 'complex_', 'complexfloating', 'compress', 'concatenate', 'conj', 'conjugate', 'convolve', 'copy', 'copysign', 'copyto', 'corrcoef', 'correlate', 'cos', 'cosh', 'count_nonzero', 'cov', 'cross', 'csingle', 'ctypeslib', 'cumprod', 'cumproduct', 'cumsum', 'datetime64', 'datetime_as_string', 'datetime_data', 'deg2rad', 'degrees', 'delete', 'deprecate', 'deprecate_with_doc', 'diag', 'diag_indices', 'diag_indices_from', 'diagflat', 'diagonal', 'diff', 'digitize', 'disp', 'divide', 'divmod', 'dot', 'double', 'dsplit', 'dstack', 'dtype', 'e', 'ediff1d', 'einsum', 'einsum_path', 'emath', 'empty', 'empty_like', 'equal', 'errstate', 'euler_gamma', 'exp', 'exp2', 'expand_dims', 'expm1', 'expm1x', 'extract', 'eye', 'fabs', 'fastCopyAndTranspose', 'fft', 'fill_diagonal', 'find_common_type', 'finfo', 'fix', 'flatiter', 'flatnonzero', 'flexible', 'flip', 'fliplr', 'flipud', 'float16', 'float32', 'float64', 'float_', 'float_power', 'floating', 'floor', 'floor_divide', 'fmax', 'fmin', 'fmod', 'format_float_positional', 'format_float_scientific', 'format_parser', 'frexp', 'from_dlpack', 'frombuffer', 'fromfile', 'fromfunction', 'fromiter', 'frompyfunc', 'fromregex', 'fromstring', 'full', 'full_like', 'gcd', 'generic', 'genfromtxt', 'geomspace', 'get_array_wrap', 'get_include', 'get_printoptions', 'getbufsize', 'geterr', 'geterrcall', 'geterrobj', 'gradient', 'greater', 'greater_equal', 'half', 'hamming', 'hanning', 'heaviside', 'histogram', 'histogram2d', 'histogram_bin_edges', 'histogramdd', 'hsplit', 'hstack', 'hypot', 'i0', 'identity', 'iinfo', 'imag', 'in1d', 'index_exp', 'indices', 'inexact', 'inf', 'info', 'infty', 'inner', 'insert', 'int16', 'int32', 'int64', 'int8', 'int_', 'intc', 'integer', 'interp', 'intersect1d', 'intp', 'invert', 'is_busday', 'isclose', 'iscomplex', 'iscomplexobj', 'isfinite', 'isfortran', 'isin', 'isinf', 'isnan', 'isnat', 'isneginf', 'isposinf', 'isreal', 'isrealobj', 'isscalar', 'issctype', 'issubclass_', 'issubdtype', 'issubsctype', 'iterable', 'ix_', 'kaiser', 'kron', 'lcm', 'ldexp', 'left_shift', 'less', 'less_equal', 'lexsort', 'lib', 'linalg', 'linspace', 'little_endian', 'load', 'loadtxt', 'log', 'log10', 'log1p', 'log2', 'logaddexp', 'logaddexp2', 'logical_and', 'logical_not', 'logical_or', 'logical_xor', 'logspace', 'longcomplex', 'longdouble', 'longfloat', 'longlong', 'lookfor', 'ma', 'mask_indices', 'mat', 'math', 'matmul', 'matrix', 'max', 'maximum', 'maximum_sctype', 'may_share_memory', 'mean', 'median', 'memmap', 'meshgrid', 'mgrid', 'min', 'min_scalar_type', 'minimum', 'mintypecode', 'mod', 'modf', 'moveaxis', 'msort', 'multiply', 'nan', 'nan_to_num', 'nanargmax', 'nanargmin', 'nancumprod', 'nancumsum', 'nanmax', 'nanmean', 'nanmedian', 'nanmin', 'nanpercentile', 'nanprod', 'nanquantile', 'nanstd', 'nansum', 'nanvar', 'nbytes', 'ndarray', 'ndenumerate', 'ndim', 'ndindex', 'nditer', 'negative', 'nested_iters', 'newaxis', 'nextafter', 'nonzero', 'not_equal', 'numarray', 'number', 'obj2sctype', 'object_', 'ogrid', 'oldnumeric', 'ones', 'ones_like', 'outer', 'packbits', 'pad', 'partition', 'percentile', 'pi', 'piecewise', 'place', 'poly', 'poly1d', 'polyadd', 'polyder', 'polydiv', 'polyfit', 'polyint', 'polymul', 'polynomial', 'polysub', 'polyval', 'positive', 'power', 'printoptions', 'prod', 'product', 'promote_types', 'ptp', 'put', 'put_along_axis', 'putmask', 'quantile', 'r_', 'rad2deg', 'radians', 'random', 'ravel', 'ravel_multi_index', 'real', 'real_if_close', 'rec', 'recarray', 'recfromcsv', 'recfromtxt', 'reciprocal', 'record', 'remainder', 'repeat', 'require', 'reshape', 'resize', 'result_type', 'right_shift', 'rint', 'roll', 'rollaxis', 'roots', 'rot90', 'round', 'round_', 'row_stack', 's_', 'safe_eval', 'save', 'savetxt', 'savez', 'savez_compressed', 'sctype2char', 'sctypeDict', 'sctypes', 'searchsorted', 'select', 'set_numeric_ops', 'set_printoptions', 'set_string_function', 'setbufsize', 'setdiff1d', 'seterr', 'seterrcall', 'seterrobj', 'setxor1d', 'shape', 'shares_memory', 'short', 'show_config', 'show_runtime', 'sign', 'signbit', 'signedinteger', 'sin', 'sinc', 'single', 'singlecomplex', 'sinh', 'size', 'sometrue', 'sort', 'sort_complex', 'source', 'spacing', 'split', 'sqrt', 'square', 'squeeze', 'stack', 'std', 'str_', 'string_', 'subtract', 'sum', 'swapaxes', 'take', 'take_along_axis', 'tan', 'tanh', 'tensordot', 'test', 'testing', 'tile', 'timedelta64', 'trace', 'tracemalloc_domain', 'transpose', 'trapz', 'tri', 'tril', 'tril_indices', 'tril_indices_from', 'trim_zeros', 'triu', 'triu_indices', 'triu_indices_from', 'true_divide', 'trunc', 'typecodes', 'typename', 'ubyte', 'ufunc', 'uint', 'uint16', 'uint32', 'uint64', 'uint8', 'uintc', 'uintp', 'ulonglong', 'unicode_', 'union1d', 'unique', 'unpackbits', 'unravel_index', 'unsignedinteger', 'unwrap', 'use_hugepage', 'ushort', 'vander', 'var', 'vdot', 'vectorize', 'version', 'void', 'vsplit', 'vstack', 'where', 'who', 'zeros', 'zeros_like']\n"
     ]
    }
   ],
   "source": [
    "import numpy as np\n",
    "\n",
    "print(dir(np))"
   ]
  },
  {
   "cell_type": "code",
   "execution_count": 1,
   "id": "8d856927",
   "metadata": {},
   "outputs": [],
   "source": [
    "c = 1\n",
    "import random\n",
    "import turtle\n",
    "while c<=300 :\n",
    "    colors = ['red','orange','white','yellow','green','pink']\n",
    "    turtle.speed(0)\n",
    "    turtle.bgcolor('black')\n",
    "    turtle.color(random.choice(colors))\n",
    "    turtle.forward(random.randint(100,150))\n",
    "    turtle.left(90)\n",
    "    \n",
    "    c+=1"
   ]
  },
  {
   "cell_type": "code",
   "execution_count": 2,
   "id": "f4ee0467",
   "metadata": {},
   "outputs": [
    {
     "name": "stdout",
     "output_type": "stream",
     "text": [
      "['Canvas', 'Pen', 'RawPen', 'RawTurtle', 'Screen', 'ScrolledCanvas', 'Shape', 'TK', 'TNavigator', 'TPen', 'Tbuffer', 'Terminator', 'Turtle', 'TurtleGraphicsError', 'TurtleScreen', 'TurtleScreenBase', 'Vec2D', '_CFG', '_LANGUAGE', '_Root', '_Screen', '_TurtleImage', '__all__', '__builtins__', '__cached__', '__doc__', '__file__', '__forwardmethods', '__func_body', '__loader__', '__methodDict', '__methods', '__name__', '__package__', '__spec__', '__stringBody', '_alias_list', '_make_global_funcs', '_screen_docrevise', '_tg_classes', '_tg_screen_functions', '_tg_turtle_functions', '_tg_utilities', '_turtle_docrevise', '_ver', 'addshape', 'back', 'backward', 'begin_fill', 'begin_poly', 'bgcolor', 'bgpic', 'bk', 'bye', 'circle', 'clear', 'clearscreen', 'clearstamp', 'clearstamps', 'clone', 'color', 'colormode', 'config_dict', 'deepcopy', 'degrees', 'delay', 'distance', 'done', 'dot', 'down', 'end_fill', 'end_poly', 'exitonclick', 'fd', 'fillcolor', 'filling', 'forward', 'get_poly', 'get_shapepoly', 'getcanvas', 'getmethparlist', 'getpen', 'getscreen', 'getshapes', 'getturtle', 'goto', 'heading', 'hideturtle', 'home', 'ht', 'inspect', 'isdown', 'isfile', 'isvisible', 'join', 'left', 'listen', 'lt', 'mainloop', 'math', 'mode', 'numinput', 'onclick', 'ondrag', 'onkey', 'onkeypress', 'onkeyrelease', 'onrelease', 'onscreenclick', 'ontimer', 'pd', 'pen', 'pencolor', 'pendown', 'pensize', 'penup', 'pos', 'position', 'pu', 'radians', 'read_docstrings', 'readconfig', 'register_shape', 'reset', 'resetscreen', 'resizemode', 'right', 'rt', 'screensize', 'seth', 'setheading', 'setpos', 'setposition', 'settiltangle', 'setundobuffer', 'setup', 'setworldcoordinates', 'setx', 'sety', 'shape', 'shapesize', 'shapetransform', 'shearfactor', 'showturtle', 'simpledialog', 'speed', 'split', 'st', 'stamp', 'sys', 'textinput', 'tilt', 'tiltangle', 'time', 'title', 'towards', 'tracer', 'turtles', 'turtlesize', 'types', 'undo', 'undobufferentries', 'up', 'update', 'warnings', 'width', 'window_height', 'window_width', 'write', 'write_docstringdict', 'xcor', 'ycor']\n"
     ]
    }
   ],
   "source": [
    "print(dir(turtle))"
   ]
  },
  {
   "cell_type": "code",
   "execution_count": 2,
   "id": "4e966725",
   "metadata": {},
   "outputs": [],
   "source": [
    "# pip install google\n",
    "# pip install googlesearch-python"
   ]
  },
  {
   "cell_type": "code",
   "execution_count": 3,
   "id": "66a4244d",
   "metadata": {},
   "outputs": [
    {
     "name": "stdout",
     "output_type": "stream",
     "text": [
      "Requirement already satisfied: googlesearch-python in c:\\users\\lenovo\\anaconda3\\lib\\site-packages (1.2.3)\n",
      "Requirement already satisfied: beautifulsoup4>=4.9 in c:\\users\\lenovo\\anaconda3\\lib\\site-packages (from googlesearch-python) (4.12.2)\n",
      "Requirement already satisfied: requests>=2.20 in c:\\users\\lenovo\\anaconda3\\lib\\site-packages (from googlesearch-python) (2.31.0)\n",
      "Requirement already satisfied: soupsieve>1.2 in c:\\users\\lenovo\\anaconda3\\lib\\site-packages (from beautifulsoup4>=4.9->googlesearch-python) (2.4)\n",
      "Requirement already satisfied: charset-normalizer<4,>=2 in c:\\users\\lenovo\\anaconda3\\lib\\site-packages (from requests>=2.20->googlesearch-python) (2.0.4)\n",
      "Requirement already satisfied: idna<4,>=2.5 in c:\\users\\lenovo\\anaconda3\\lib\\site-packages (from requests>=2.20->googlesearch-python) (3.4)\n",
      "Requirement already satisfied: urllib3<3,>=1.21.1 in c:\\users\\lenovo\\anaconda3\\lib\\site-packages (from requests>=2.20->googlesearch-python) (1.26.16)\n",
      "Requirement already satisfied: certifi>=2017.4.17 in c:\\users\\lenovo\\anaconda3\\lib\\site-packages (from requests>=2.20->googlesearch-python) (2023.5.7)\n",
      "Note: you may need to restart the kernel to use updated packages.\n"
     ]
    }
   ],
   "source": [
    "pip install googlesearch-python"
   ]
  },
  {
   "cell_type": "code",
   "execution_count": 15,
   "id": "0af7df64",
   "metadata": {},
   "outputs": [],
   "source": [
    "from googlesearch import search\n",
    "data = search(\"Python top interview questions\")"
   ]
  },
  {
   "cell_type": "code",
   "execution_count": 16,
   "id": "2a0d8b17",
   "metadata": {},
   "outputs": [],
   "source": [
    "search_url = list(data)"
   ]
  },
  {
   "cell_type": "code",
   "execution_count": 17,
   "id": "627bcafb",
   "metadata": {},
   "outputs": [
    {
     "name": "stdout",
     "output_type": "stream",
     "text": [
      "done\n",
      "done\n",
      "done\n",
      "done\n",
      "done\n",
      "done\n",
      "done\n"
     ]
    },
    {
     "name": "stderr",
     "output_type": "stream",
     "text": [
      "\n",
      "KeyboardInterrupt\n",
      "\n"
     ]
    }
   ],
   "source": [
    "import webbrowser\n",
    "import time\n",
    "for i in search_url:\n",
    "    print('done')\n",
    "    webbrowser.open_new_tab(i)\n",
    "    time.sleep(5)"
   ]
  },
  {
   "cell_type": "markdown",
   "id": "3dd6cee2",
   "metadata": {},
   "source": [
    "https://pypi.org/project/googlesearch-python/"
   ]
  },
  {
   "cell_type": "code",
   "execution_count": null,
   "id": "ee2f517f",
   "metadata": {},
   "outputs": [],
   "source": []
  }
 ],
 "metadata": {
  "kernelspec": {
   "display_name": "Python 3 (ipykernel)",
   "language": "python",
   "name": "python3"
  },
  "language_info": {
   "codemirror_mode": {
    "name": "ipython",
    "version": 3
   },
   "file_extension": ".py",
   "mimetype": "text/x-python",
   "name": "python",
   "nbconvert_exporter": "python",
   "pygments_lexer": "ipython3",
   "version": "3.11.3"
  }
 },
 "nbformat": 4,
 "nbformat_minor": 5
}
