{
 "cells": [
  {
   "cell_type": "code",
   "execution_count": 1,
   "id": "cd853125",
   "metadata": {},
   "outputs": [],
   "source": [
    "# given number is an armstrong number or not"
   ]
  },
  {
   "cell_type": "code",
   "execution_count": 2,
   "id": "6df42a13",
   "metadata": {},
   "outputs": [
    {
     "data": {
      "text/plain": [
       "153"
      ]
     },
     "execution_count": 2,
     "metadata": {},
     "output_type": "execute_result"
    }
   ],
   "source": [
    "153\n",
    "\n",
    "1**3 + 5**3 + 3**3"
   ]
  },
  {
   "cell_type": "markdown",
   "id": "e00ecc95",
   "metadata": {},
   "source": [
    "1, 2, 3, 4, 5, 6, 7, 8, 9, 153, 370, 371, 407, 1634, 8208, 9474, 54748, 92727, 93084, 548834, 1741725, 4210818, 9800817, 9926315, 24678050, 24678051, 88593477, 146511208, 472335975, 534494836, 912985153, and 4679307774."
   ]
  },
  {
   "cell_type": "code",
   "execution_count": 5,
   "id": "03a69b59",
   "metadata": {
    "scrolled": true
   },
   "outputs": [
    {
     "data": {
      "text/plain": [
       "9843"
      ]
     },
     "execution_count": 5,
     "metadata": {},
     "output_type": "execute_result"
    }
   ],
   "source": [
    "9475\n",
    "\n",
    "\n",
    "9**4 +4**4 +7**4 + 5**4"
   ]
  },
  {
   "cell_type": "code",
   "execution_count": 8,
   "id": "58a8a7d0",
   "metadata": {},
   "outputs": [
    {
     "data": {
      "text/plain": [
       "3"
      ]
     },
     "execution_count": 8,
     "metadata": {},
     "output_type": "execute_result"
    }
   ],
   "source": [
    "len('345')"
   ]
  },
  {
   "cell_type": "code",
   "execution_count": 26,
   "id": "8d57de25",
   "metadata": {},
   "outputs": [
    {
     "name": "stdout",
     "output_type": "stream",
     "text": [
      "Enter Number: 153\n",
      "Armstrong Number!!\n"
     ]
    }
   ],
   "source": [
    "user = int(input('Enter Number: '))\n",
    "\n",
    "result = 0\n",
    "for i in str(user):\n",
    "    lt = len(str(user))\n",
    "    \n",
    "    \n",
    "    result += pow(int(i),lt)\n",
    "    \n",
    "if result == user:\n",
    "    print('Armstrong Number!!')\n",
    "else:\n",
    "    print('Not an Armstrong Number!!')\n",
    "    "
   ]
  },
  {
   "cell_type": "code",
   "execution_count": null,
   "id": "34cc38a3",
   "metadata": {},
   "outputs": [],
   "source": [
    "9475\n",
    "\n",
    "res = 0\n",
    "# 9**4 +4**4 +7**4 + 5**4\n",
    "\n",
    "\n"
   ]
  },
  {
   "cell_type": "code",
   "execution_count": 27,
   "id": "ed289361",
   "metadata": {},
   "outputs": [
    {
     "data": {
      "text/plain": [
       "['A', 'B', 'C', 'D', 'E']"
      ]
     },
     "execution_count": 27,
     "metadata": {},
     "output_type": "execute_result"
    }
   ],
   "source": [
    "sum([1,16,81,256])\n",
    "list('ABCDE' )"
   ]
  },
  {
   "cell_type": "code",
   "execution_count": 29,
   "id": "07869107",
   "metadata": {},
   "outputs": [
    {
     "name": "stdout",
     "output_type": "stream",
     "text": [
      "A\n",
      "B\n",
      "C\n",
      "D\n",
      "E\n",
      "--------------------------------\n",
      "A\n",
      "B\n",
      "C\n",
      "D\n",
      "E\n",
      "--------------------------------\n",
      "A\n",
      "B\n",
      "C\n",
      "D\n",
      "E\n",
      "--------------------------------\n",
      "A\n",
      "B\n",
      "C\n",
      "D\n",
      "E\n",
      "--------------------------------\n",
      "A\n",
      "B\n",
      "C\n",
      "D\n",
      "E\n",
      "--------------------------------\n"
     ]
    }
   ],
   "source": [
    "# nested loop\n",
    "\n",
    "for i in [1,2,3,4,5]:  # outer loop\n",
    "    \n",
    "    for j in list('ABCDE' ):\n",
    "        \n",
    "        print(j)\n",
    "    print('--------------------------------')"
   ]
  },
  {
   "cell_type": "code",
   "execution_count": 30,
   "id": "b81389a9",
   "metadata": {},
   "outputs": [
    {
     "name": "stdout",
     "output_type": "stream",
     "text": [
      "1 A\n",
      "1 B\n",
      "1 C\n",
      "1 D\n",
      "1 E\n",
      "--------------------------------\n",
      "2 A\n",
      "2 B\n",
      "2 C\n",
      "2 D\n",
      "2 E\n",
      "--------------------------------\n",
      "3 A\n",
      "3 B\n",
      "3 C\n",
      "3 D\n",
      "3 E\n",
      "--------------------------------\n",
      "4 A\n",
      "4 B\n",
      "4 C\n",
      "4 D\n",
      "4 E\n",
      "--------------------------------\n",
      "5 A\n",
      "5 B\n",
      "5 C\n",
      "5 D\n",
      "5 E\n",
      "--------------------------------\n"
     ]
    }
   ],
   "source": [
    "# nested loop\n",
    "\n",
    "for i in [1,2,3,4,5]:  # outer loop\n",
    "    \n",
    "    for j in list('ABCDE' ):\n",
    "        \n",
    "        print(i,j)\n",
    "    print('--------------------------------')"
   ]
  },
  {
   "cell_type": "code",
   "execution_count": 31,
   "id": "b7dd3273",
   "metadata": {},
   "outputs": [
    {
     "name": "stdout",
     "output_type": "stream",
     "text": [
      "J A\n",
      "J B\n",
      "J C\n",
      "J D\n",
      "J E\n",
      "--------------------------------\n",
      "I A\n",
      "I B\n",
      "I C\n",
      "I D\n",
      "I E\n",
      "--------------------------------\n",
      "A A\n",
      "A B\n",
      "A C\n",
      "A D\n",
      "A E\n",
      "--------------------------------\n",
      "B A\n",
      "B B\n",
      "B C\n",
      "B D\n",
      "B E\n",
      "--------------------------------\n",
      "H A\n",
      "H B\n",
      "H C\n",
      "H D\n",
      "H E\n",
      "--------------------------------\n"
     ]
    }
   ],
   "source": [
    "# nested loop\n",
    "\n",
    "for i in list('JIABH'):  # outer loop\n",
    "    \n",
    "    for j in list('ABCDE' ):\n",
    "        \n",
    "        print(i,j)\n",
    "    print('--------------------------------')"
   ]
  },
  {
   "cell_type": "code",
   "execution_count": 32,
   "id": "94fc27c6",
   "metadata": {},
   "outputs": [
    {
     "name": "stdout",
     "output_type": "stream",
     "text": [
      "--------------------------------\n",
      "--------------------------------\n",
      "A\n",
      "--------------------------------\n",
      "B\n",
      "--------------------------------\n",
      "--------------------------------\n"
     ]
    }
   ],
   "source": [
    "# nested loop\n",
    "\n",
    "for i in list('JIABH'):  # outer loop\n",
    "    \n",
    "    for j in list('ABCDE' ):\n",
    "        \n",
    "        if i == j:\n",
    "            print(i)\n",
    "        \n",
    "    print('--------------------------------')"
   ]
  },
  {
   "cell_type": "code",
   "execution_count": 36,
   "id": "2e21ed3f",
   "metadata": {},
   "outputs": [
    {
     "name": "stdout",
     "output_type": "stream",
     "text": [
      "Common Elements:  [11, 10, 1, 4, 5]\n"
     ]
    }
   ],
   "source": [
    "a = [11,12,10,1,4,5]\n",
    "\n",
    "b = [3,4,1,10,11,5]\n",
    "\n",
    "common = []\n",
    "for i in a:\n",
    "    \n",
    "    for j in b:\n",
    "        \n",
    "        if i==j:\n",
    "#             print(i)\n",
    "            common.append(i)\n",
    "\n",
    "print('Common Elements: ',common)"
   ]
  },
  {
   "cell_type": "code",
   "execution_count": 38,
   "id": "afa19de3",
   "metadata": {},
   "outputs": [
    {
     "name": "stdout",
     "output_type": "stream",
     "text": [
      "Common Elements:  [5, 4]\n"
     ]
    }
   ],
   "source": [
    "a = [1,2,5,4,45]\n",
    "b = [4,5,6,7,8]\n",
    "c = [4,5,6,7,8]\n",
    "\n",
    "common = []\n",
    "\n",
    "for i in a:\n",
    "    for j in b:\n",
    "        for k in c:\n",
    "            \n",
    "            if i == j ==k:\n",
    "                common.append(i)\n",
    "print('Common Elements: ',common)"
   ]
  },
  {
   "cell_type": "code",
   "execution_count": 42,
   "id": "8e0b251e",
   "metadata": {},
   "outputs": [
    {
     "name": "stdout",
     "output_type": "stream",
     "text": [
      "Common Elements:  [30, 31, 32, 33, 34, 35, 36, 37, 38, 39]\n"
     ]
    }
   ],
   "source": [
    "a = list(range(30,300))\n",
    "b = list(range(20,40))\n",
    "c = list(range(25,355))\n",
    "common = []\n",
    "for i in a:\n",
    "    for j in b:\n",
    "        for k in c:\n",
    "            \n",
    "            if i == j ==k:\n",
    "                common.append(i)\n",
    "print('Common Elements: ',common)"
   ]
  },
  {
   "cell_type": "code",
   "execution_count": 43,
   "id": "cd7f9cb6",
   "metadata": {},
   "outputs": [
    {
     "name": "stdout",
     "output_type": "stream",
     "text": [
      "Even:  [12, 44, 56, 44, 568]\n",
      "Odd:  [43, 231, 643, 4223, 865, 53423]\n"
     ]
    }
   ],
   "source": [
    "# List comphrension\n",
    "\n",
    "\n",
    "a = [12,43,231,44,643,4223,56,865,53423,44,568]\n",
    "even = []\n",
    "odd = []\n",
    "for i in a:\n",
    "    if i%2==0:\n",
    "        even.append(i)\n",
    "    else:\n",
    "        odd.append(i)\n",
    "        \n",
    "print('Even: ',even)\n",
    "print('Odd: ',odd)"
   ]
  },
  {
   "cell_type": "code",
   "execution_count": 46,
   "id": "67681708",
   "metadata": {},
   "outputs": [
    {
     "data": {
      "text/plain": [
       "[1, 8, 27, 64, 125, 216, 343, 512, 729, 1000]"
      ]
     },
     "execution_count": 46,
     "metadata": {},
     "output_type": "execute_result"
    }
   ],
   "source": [
    "[i**3 for i in range(1,11)]"
   ]
  },
  {
   "cell_type": "code",
   "execution_count": 50,
   "id": "91b54923",
   "metadata": {},
   "outputs": [
    {
     "data": {
      "text/plain": [
       "['@MOHAN', '@KARAN', '@AJAY', '@RAVI']"
      ]
     },
     "execution_count": 50,
     "metadata": {},
     "output_type": "execute_result"
    }
   ],
   "source": [
    "a = ['mohan','karan','ajay','ravi']\n",
    "['@'+i.upper() for i in a]"
   ]
  },
  {
   "cell_type": "code",
   "execution_count": 56,
   "id": "6327c833",
   "metadata": {},
   "outputs": [
    {
     "data": {
      "text/plain": [
       "['Hello', 'Hello', 'Hello', 'Hello', 'Hello']"
      ]
     },
     "execution_count": 56,
     "metadata": {},
     "output_type": "execute_result"
    }
   ],
   "source": [
    "['Hello' for i in 'abcde']"
   ]
  },
  {
   "cell_type": "code",
   "execution_count": 54,
   "id": "5f2aa7da",
   "metadata": {},
   "outputs": [
    {
     "name": "stdout",
     "output_type": "stream",
     "text": [
      "Hello\n",
      "Hello\n",
      "Hello\n",
      "Hello\n",
      "Hello\n"
     ]
    }
   ],
   "source": [
    "for i in 'abcde':\n",
    "    print('Hello')"
   ]
  },
  {
   "cell_type": "code",
   "execution_count": 58,
   "id": "167f4253",
   "metadata": {},
   "outputs": [
    {
     "name": "stdout",
     "output_type": "stream",
     "text": [
      "[12, 44, 56, 44, 568]\n",
      "[43, 231, 643, 4223, 865, 53423]\n"
     ]
    }
   ],
   "source": [
    "a = [12,43,231,44,643,4223,56,865,53423,44,568]\n",
    "\n",
    "\n",
    "even = [i for i in a if i%2==0]\n",
    "odd = [i for i in a if i%2!=0]\n",
    "\n",
    "print(even)\n",
    "print(odd)"
   ]
  },
  {
   "cell_type": "code",
   "execution_count": null,
   "id": "95a2adc6",
   "metadata": {},
   "outputs": [],
   "source": [
    "a = [12,43,231,44,643,4223,56,865,53423,44,568]\n",
    "\n",
    "\n",
    "even = [i for i in a if i%2==0]\n",
    "odd = [i for i in a if i%2!=0]\n",
    "\n",
    "print(even)\n",
    "print(odd)"
   ]
  },
  {
   "cell_type": "code",
   "execution_count": 60,
   "id": "fc9ba68e",
   "metadata": {},
   "outputs": [
    {
     "data": {
      "text/plain": [
       "[12, 44, 56, 44, 568]"
      ]
     },
     "execution_count": 60,
     "metadata": {},
     "output_type": "execute_result"
    }
   ],
   "source": [
    "[i for i in a if i%2==0]"
   ]
  },
  {
   "cell_type": "code",
   "execution_count": 61,
   "id": "20e33e9f",
   "metadata": {},
   "outputs": [
    {
     "data": {
      "text/plain": [
       "[43, 231, 643, 4223, 865, 53423]"
      ]
     },
     "execution_count": 61,
     "metadata": {},
     "output_type": "execute_result"
    }
   ],
   "source": [
    "[i for i in a if i%2!=0]"
   ]
  },
  {
   "cell_type": "code",
   "execution_count": 63,
   "id": "326ee2ae",
   "metadata": {},
   "outputs": [
    {
     "ename": "SyntaxError",
     "evalue": "invalid syntax (2331488745.py, line 1)",
     "output_type": "error",
     "traceback": [
      "\u001b[1;36m  Cell \u001b[1;32mIn[63], line 1\u001b[1;36m\u001b[0m\n\u001b[1;33m    [i for i in a if i%2==0 else None]\u001b[0m\n\u001b[1;37m                            ^\u001b[0m\n\u001b[1;31mSyntaxError\u001b[0m\u001b[1;31m:\u001b[0m invalid syntax\n"
     ]
    }
   ],
   "source": [
    "[i for i in a if i%2==0]"
   ]
  },
  {
   "cell_type": "code",
   "execution_count": 64,
   "id": "ee602b45",
   "metadata": {},
   "outputs": [
    {
     "data": {
      "text/plain": [
       "[None, None, None, None, None, None]"
      ]
     },
     "execution_count": 64,
     "metadata": {},
     "output_type": "execute_result"
    }
   ],
   "source": [
    "odd = []\n",
    "\n",
    "[odd.append(i) for i in a if i%2!=0]"
   ]
  },
  {
   "cell_type": "code",
   "execution_count": 65,
   "id": "885fd6ee",
   "metadata": {},
   "outputs": [
    {
     "data": {
      "text/plain": [
       "[43, 231, 643, 4223, 865, 53423]"
      ]
     },
     "execution_count": 65,
     "metadata": {},
     "output_type": "execute_result"
    }
   ],
   "source": [
    "odd"
   ]
  },
  {
   "cell_type": "code",
   "execution_count": 66,
   "id": "e71469d0",
   "metadata": {},
   "outputs": [
    {
     "name": "stdout",
     "output_type": "stream",
     "text": [
      "None\n"
     ]
    }
   ],
   "source": [
    "print(odd.append(2345))"
   ]
  },
  {
   "cell_type": "code",
   "execution_count": 70,
   "id": "483cc903",
   "metadata": {},
   "outputs": [
    {
     "name": "stdout",
     "output_type": "stream",
     "text": [
      "['ola', 'Uber', 'adani']\n",
      "['meta', 'tata']\n"
     ]
    }
   ],
   "source": [
    "data = ['ola','Uber','meta','tata','adani']\n",
    "\n",
    "vowels = [i for i in data if i[0].lower() in 'aeiou']\n",
    "consonants = [i for i in data if i[0].lower() not in 'aeiou']\n",
    "\n",
    "print(vowels)\n",
    "print(consonants)"
   ]
  },
  {
   "cell_type": "code",
   "execution_count": 75,
   "id": "a6991b96",
   "metadata": {},
   "outputs": [],
   "source": [
    "i = 'Ola'"
   ]
  },
  {
   "cell_type": "code",
   "execution_count": 77,
   "id": "db32598d",
   "metadata": {},
   "outputs": [
    {
     "data": {
      "text/plain": [
       "True"
      ]
     },
     "execution_count": 77,
     "metadata": {},
     "output_type": "execute_result"
    }
   ],
   "source": [
    "i[0].lower() in 'aeiou'"
   ]
  },
  {
   "cell_type": "code",
   "execution_count": 78,
   "id": "ed8734e7",
   "metadata": {},
   "outputs": [
    {
     "data": {
      "text/plain": [
       "'o'"
      ]
     },
     "execution_count": 78,
     "metadata": {},
     "output_type": "execute_result"
    }
   ],
   "source": [
    "'O'.lower()"
   ]
  },
  {
   "cell_type": "code",
   "execution_count": null,
   "id": "140b200d",
   "metadata": {},
   "outputs": [],
   "source": []
  }
 ],
 "metadata": {
  "kernelspec": {
   "display_name": "Python 3 (ipykernel)",
   "language": "python",
   "name": "python3"
  },
  "language_info": {
   "codemirror_mode": {
    "name": "ipython",
    "version": 3
   },
   "file_extension": ".py",
   "mimetype": "text/x-python",
   "name": "python",
   "nbconvert_exporter": "python",
   "pygments_lexer": "ipython3",
   "version": "3.11.3"
  }
 },
 "nbformat": 4,
 "nbformat_minor": 5
}
