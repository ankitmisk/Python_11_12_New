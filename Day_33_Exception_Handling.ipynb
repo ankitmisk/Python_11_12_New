{
 "cells": [
  {
   "cell_type": "code",
   "execution_count": 3,
   "id": "b93975b2",
   "metadata": {},
   "outputs": [
    {
     "name": "stdout",
     "output_type": "stream",
     "text": [
      "Hello world\n",
      "22\n",
      "[12, 432, 56, 12, 432, 56, 12, 432, 56, 12, 432, 56, 12, 432, 56, 12, 432, 56, 12, 432, 56, 12, 432, 56, 12, 432, 56, 12, 432, 56]\n"
     ]
    },
    {
     "ename": "NameError",
     "evalue": "name 'name' is not defined",
     "output_type": "error",
     "traceback": [
      "\u001b[1;31m---------------------------------------------------------------------------\u001b[0m",
      "\u001b[1;31mNameError\u001b[0m                                 Traceback (most recent call last)",
      "Cell \u001b[1;32mIn[3], line 6\u001b[0m\n\u001b[0;32m      4\u001b[0m c \u001b[38;5;241m=\u001b[39m [\u001b[38;5;241m12\u001b[39m,\u001b[38;5;241m432\u001b[39m,\u001b[38;5;241m56\u001b[39m]\u001b[38;5;241m*\u001b[39m\u001b[38;5;241m10\u001b[39m\n\u001b[0;32m      5\u001b[0m \u001b[38;5;28mprint\u001b[39m(c)\n\u001b[1;32m----> 6\u001b[0m \u001b[38;5;28mprint\u001b[39m(name)\n\u001b[0;32m      8\u001b[0m \u001b[38;5;28;01mfor\u001b[39;00m i \u001b[38;5;129;01min\u001b[39;00m \u001b[38;5;28mrange\u001b[39m(\u001b[38;5;241m1\u001b[39m,\u001b[38;5;241m11\u001b[39m):\n\u001b[0;32m      9\u001b[0m     \u001b[38;5;28mprint\u001b[39m(\u001b[38;5;124m'\u001b[39m\u001b[38;5;124mHello\u001b[39m\u001b[38;5;124m'\u001b[39m)\n",
      "\u001b[1;31mNameError\u001b[0m: name 'name' is not defined"
     ]
    }
   ],
   "source": [
    "a = 'Hello world'\n",
    "print(a)\n",
    "print(12+10)\n",
    "c = [12,432,56]*10\n",
    "print(c)\n",
    "print(name)\n",
    "\n",
    "for i in range(1,11):\n",
    "    print('Hello')\n",
    "    \n",
    "print('Bye!!')"
   ]
  },
  {
   "cell_type": "code",
   "execution_count": 4,
   "id": "cf3b1ee7",
   "metadata": {},
   "outputs": [
    {
     "ename": "NameError",
     "evalue": "name 'x' is not defined",
     "output_type": "error",
     "traceback": [
      "\u001b[1;31m---------------------------------------------------------------------------\u001b[0m",
      "\u001b[1;31mNameError\u001b[0m                                 Traceback (most recent call last)",
      "Cell \u001b[1;32mIn[4], line 1\u001b[0m\n\u001b[1;32m----> 1\u001b[0m \u001b[38;5;28mprint\u001b[39m(x)\n",
      "\u001b[1;31mNameError\u001b[0m: name 'x' is not defined"
     ]
    }
   ],
   "source": [
    "print(x)"
   ]
  },
  {
   "cell_type": "code",
   "execution_count": 5,
   "id": "2a054b6f",
   "metadata": {},
   "outputs": [
    {
     "ename": "SyntaxError",
     "evalue": "unterminated string literal (detected at line 1) (388992376.py, line 1)",
     "output_type": "error",
     "traceback": [
      "\u001b[1;36m  Cell \u001b[1;32mIn[5], line 1\u001b[1;36m\u001b[0m\n\u001b[1;33m    s = 'Hello Gaurav\u001b[0m\n\u001b[1;37m        ^\u001b[0m\n\u001b[1;31mSyntaxError\u001b[0m\u001b[1;31m:\u001b[0m unterminated string literal (detected at line 1)\n"
     ]
    }
   ],
   "source": [
    "s = 'Hello Gaurav\n",
    "\n",
    "print(s)"
   ]
  },
  {
   "cell_type": "code",
   "execution_count": 7,
   "id": "8d036c60",
   "metadata": {},
   "outputs": [
    {
     "ename": "IndentationError",
     "evalue": "expected an indented block after 'for' statement on line 1 (1766233612.py, line 2)",
     "output_type": "error",
     "traceback": [
      "\u001b[1;36m  Cell \u001b[1;32mIn[7], line 2\u001b[1;36m\u001b[0m\n\u001b[1;33m    print('hello')\u001b[0m\n\u001b[1;37m    ^\u001b[0m\n\u001b[1;31mIndentationError\u001b[0m\u001b[1;31m:\u001b[0m expected an indented block after 'for' statement on line 1\n"
     ]
    }
   ],
   "source": [
    "for i in range(1,11):\n",
    "print('hello')"
   ]
  },
  {
   "cell_type": "code",
   "execution_count": 8,
   "id": "76d3f018",
   "metadata": {},
   "outputs": [
    {
     "ename": "ValueError",
     "evalue": "invalid literal for int() with base 10: 'happy'",
     "output_type": "error",
     "traceback": [
      "\u001b[1;31m---------------------------------------------------------------------------\u001b[0m",
      "\u001b[1;31mValueError\u001b[0m                                Traceback (most recent call last)",
      "Cell \u001b[1;32mIn[8], line 1\u001b[0m\n\u001b[1;32m----> 1\u001b[0m a \u001b[38;5;241m=\u001b[39m \u001b[38;5;28mint\u001b[39m(\u001b[38;5;124m'\u001b[39m\u001b[38;5;124mhappy\u001b[39m\u001b[38;5;124m'\u001b[39m)\n\u001b[0;32m      2\u001b[0m \u001b[38;5;28mprint\u001b[39m(a)\n",
      "\u001b[1;31mValueError\u001b[0m: invalid literal for int() with base 10: 'happy'"
     ]
    }
   ],
   "source": [
    "a = int('happy')\n",
    "print(a)"
   ]
  },
  {
   "cell_type": "code",
   "execution_count": 9,
   "id": "9545757a",
   "metadata": {},
   "outputs": [
    {
     "ename": "TypeError",
     "evalue": "unsupported operand type(s) for /: 'str' and 'int'",
     "output_type": "error",
     "traceback": [
      "\u001b[1;31m---------------------------------------------------------------------------\u001b[0m",
      "\u001b[1;31mTypeError\u001b[0m                                 Traceback (most recent call last)",
      "Cell \u001b[1;32mIn[9], line 2\u001b[0m\n\u001b[0;32m      1\u001b[0m a \u001b[38;5;241m=\u001b[39m \u001b[38;5;124m'\u001b[39m\u001b[38;5;124mAjay\u001b[39m\u001b[38;5;124m'\u001b[39m\n\u001b[1;32m----> 2\u001b[0m a\u001b[38;5;241m/\u001b[39m\u001b[38;5;241m2\u001b[39m\n",
      "\u001b[1;31mTypeError\u001b[0m: unsupported operand type(s) for /: 'str' and 'int'"
     ]
    }
   ],
   "source": [
    "a = 'Ajay'\n",
    "a/2"
   ]
  },
  {
   "cell_type": "code",
   "execution_count": 10,
   "id": "0bd5ae6e",
   "metadata": {},
   "outputs": [
    {
     "ename": "IndexError",
     "evalue": "list index out of range",
     "output_type": "error",
     "traceback": [
      "\u001b[1;31m---------------------------------------------------------------------------\u001b[0m",
      "\u001b[1;31mIndexError\u001b[0m                                Traceback (most recent call last)",
      "Cell \u001b[1;32mIn[10], line 3\u001b[0m\n\u001b[0;32m      1\u001b[0m a \u001b[38;5;241m=\u001b[39m [\u001b[38;5;241m12\u001b[39m,\u001b[38;5;241m443\u001b[39m,\u001b[38;5;241m566\u001b[39m,\u001b[38;5;241m7\u001b[39m,\u001b[38;5;241m8\u001b[39m]\n\u001b[1;32m----> 3\u001b[0m a[\u001b[38;5;241m120\u001b[39m]\n",
      "\u001b[1;31mIndexError\u001b[0m: list index out of range"
     ]
    }
   ],
   "source": [
    "a = [12,443,566,7,8]\n",
    "\n",
    "a[120]"
   ]
  },
  {
   "cell_type": "code",
   "execution_count": 11,
   "id": "57d00c40",
   "metadata": {},
   "outputs": [
    {
     "ename": "KeyError",
     "evalue": "'Salary'",
     "output_type": "error",
     "traceback": [
      "\u001b[1;31m---------------------------------------------------------------------------\u001b[0m",
      "\u001b[1;31mKeyError\u001b[0m                                  Traceback (most recent call last)",
      "Cell \u001b[1;32mIn[11], line 3\u001b[0m\n\u001b[0;32m      1\u001b[0m b \u001b[38;5;241m=\u001b[39m {\u001b[38;5;124m'\u001b[39m\u001b[38;5;124mname\u001b[39m\u001b[38;5;124m'\u001b[39m:\u001b[38;5;124m'\u001b[39m\u001b[38;5;124mmohan\u001b[39m\u001b[38;5;124m'\u001b[39m,\u001b[38;5;124m'\u001b[39m\u001b[38;5;124mage\u001b[39m\u001b[38;5;124m'\u001b[39m:\u001b[38;5;241m23\u001b[39m,\u001b[38;5;124m'\u001b[39m\u001b[38;5;124mAdd\u001b[39m\u001b[38;5;124m'\u001b[39m:\u001b[38;5;124m'\u001b[39m\u001b[38;5;124mNoida\u001b[39m\u001b[38;5;124m'\u001b[39m}\n\u001b[1;32m----> 3\u001b[0m b[\u001b[38;5;124m'\u001b[39m\u001b[38;5;124mSalary\u001b[39m\u001b[38;5;124m'\u001b[39m]\n",
      "\u001b[1;31mKeyError\u001b[0m: 'Salary'"
     ]
    }
   ],
   "source": [
    "b = {'name':'mohan','age':23,'Add':'Noida'}\n",
    "\n",
    "b['Salary']"
   ]
  },
  {
   "cell_type": "code",
   "execution_count": 12,
   "id": "2a155911",
   "metadata": {},
   "outputs": [],
   "source": [
    "def abc():\n",
    "    abc()"
   ]
  },
  {
   "cell_type": "code",
   "execution_count": 13,
   "id": "d3fff085",
   "metadata": {},
   "outputs": [
    {
     "ename": "RecursionError",
     "evalue": "maximum recursion depth exceeded",
     "output_type": "error",
     "traceback": [
      "\u001b[1;31m---------------------------------------------------------------------------\u001b[0m",
      "\u001b[1;31mRecursionError\u001b[0m                            Traceback (most recent call last)",
      "Cell \u001b[1;32mIn[13], line 1\u001b[0m\n\u001b[1;32m----> 1\u001b[0m abc()\n",
      "Cell \u001b[1;32mIn[12], line 2\u001b[0m, in \u001b[0;36mabc\u001b[1;34m()\u001b[0m\n\u001b[0;32m      1\u001b[0m \u001b[38;5;28;01mdef\u001b[39;00m \u001b[38;5;21mabc\u001b[39m():\n\u001b[1;32m----> 2\u001b[0m     abc()\n",
      "Cell \u001b[1;32mIn[12], line 2\u001b[0m, in \u001b[0;36mabc\u001b[1;34m()\u001b[0m\n\u001b[0;32m      1\u001b[0m \u001b[38;5;28;01mdef\u001b[39;00m \u001b[38;5;21mabc\u001b[39m():\n\u001b[1;32m----> 2\u001b[0m     abc()\n",
      "    \u001b[1;31m[... skipping similar frames: abc at line 2 (2971 times)]\u001b[0m\n",
      "Cell \u001b[1;32mIn[12], line 2\u001b[0m, in \u001b[0;36mabc\u001b[1;34m()\u001b[0m\n\u001b[0;32m      1\u001b[0m \u001b[38;5;28;01mdef\u001b[39;00m \u001b[38;5;21mabc\u001b[39m():\n\u001b[1;32m----> 2\u001b[0m     abc()\n",
      "\u001b[1;31mRecursionError\u001b[0m: maximum recursion depth exceeded"
     ]
    }
   ],
   "source": [
    "abc()"
   ]
  },
  {
   "cell_type": "code",
   "execution_count": 14,
   "id": "b32c48bf",
   "metadata": {},
   "outputs": [],
   "source": [
    "def give():\n",
    "    yield 1\n",
    "    yield 2"
   ]
  },
  {
   "cell_type": "code",
   "execution_count": 15,
   "id": "1cdcef2c",
   "metadata": {},
   "outputs": [],
   "source": [
    "var = give()"
   ]
  },
  {
   "cell_type": "code",
   "execution_count": 19,
   "id": "c82dd3d4",
   "metadata": {},
   "outputs": [
    {
     "ename": "StopIteration",
     "evalue": "",
     "output_type": "error",
     "traceback": [
      "\u001b[1;31m---------------------------------------------------------------------------\u001b[0m",
      "\u001b[1;31mStopIteration\u001b[0m                             Traceback (most recent call last)",
      "Cell \u001b[1;32mIn[19], line 1\u001b[0m\n\u001b[1;32m----> 1\u001b[0m \u001b[38;5;28mnext\u001b[39m(var)\n",
      "\u001b[1;31mStopIteration\u001b[0m: "
     ]
    }
   ],
   "source": [
    "next(var)"
   ]
  },
  {
   "cell_type": "code",
   "execution_count": 21,
   "id": "fd8844a1",
   "metadata": {},
   "outputs": [],
   "source": [
    "# a = (1,234,456\n",
    "     \n",
    "# print(a)"
   ]
  },
  {
   "cell_type": "code",
   "execution_count": 22,
   "id": "09586d23",
   "metadata": {},
   "outputs": [
    {
     "ename": "SyntaxError",
     "evalue": "invalid decimal literal (3557378516.py, line 1)",
     "output_type": "error",
     "traceback": [
      "\u001b[1;36m  Cell \u001b[1;32mIn[22], line 1\u001b[1;36m\u001b[0m\n\u001b[1;33m    123a = 2345\u001b[0m\n\u001b[1;37m      ^\u001b[0m\n\u001b[1;31mSyntaxError\u001b[0m\u001b[1;31m:\u001b[0m invalid decimal literal\n"
     ]
    }
   ],
   "source": [
    "123a = 2345\n"
   ]
  },
  {
   "cell_type": "code",
   "execution_count": 24,
   "id": "df605d8d",
   "metadata": {},
   "outputs": [
    {
     "name": "stdout",
     "output_type": "stream",
     "text": [
      "['ArithmeticError', 'AssertionError', 'AttributeError', 'BaseException', 'BaseExceptionGroup', 'BlockingIOError', 'BrokenPipeError', 'BufferError', 'BytesWarning', 'ChildProcessError', 'ConnectionAbortedError', 'ConnectionError', 'ConnectionRefusedError', 'ConnectionResetError', 'DeprecationWarning', 'EOFError', 'Ellipsis', 'EncodingWarning', 'EnvironmentError', 'Exception', 'ExceptionGroup', 'False', 'FileExistsError', 'FileNotFoundError', 'FloatingPointError', 'FutureWarning', 'GeneratorExit', 'IOError', 'ImportError', 'ImportWarning', 'IndentationError', 'IndexError', 'InterruptedError', 'IsADirectoryError', 'KeyError', 'KeyboardInterrupt', 'LookupError', 'MemoryError', 'ModuleNotFoundError', 'NameError', 'None', 'NotADirectoryError', 'NotImplemented', 'NotImplementedError', 'OSError', 'OverflowError', 'PendingDeprecationWarning', 'PermissionError', 'ProcessLookupError', 'RecursionError', 'ReferenceError', 'ResourceWarning', 'RuntimeError', 'RuntimeWarning', 'StopAsyncIteration', 'StopIteration', 'SyntaxError', 'SyntaxWarning', 'SystemError', 'SystemExit', 'TabError', 'TimeoutError', 'True', 'TypeError', 'UnboundLocalError', 'UnicodeDecodeError', 'UnicodeEncodeError', 'UnicodeError', 'UnicodeTranslateError', 'UnicodeWarning', 'UserWarning', 'ValueError', 'Warning', 'WindowsError', 'ZeroDivisionError', '__IPYTHON__', '__build_class__', '__debug__', '__doc__', '__import__', '__loader__', '__name__', '__package__', '__spec__', 'abs', 'aiter', 'all', 'anext', 'any', 'ascii', 'bin', 'bool', 'breakpoint', 'bytearray', 'bytes', 'callable', 'chr', 'classmethod', 'compile', 'complex', 'copyright', 'credits', 'delattr', 'dict', 'dir', 'display', 'divmod', 'enumerate', 'eval', 'exec', 'execfile', 'filter', 'float', 'format', 'frozenset', 'get_ipython', 'getattr', 'globals', 'hasattr', 'hash', 'help', 'hex', 'id', 'input', 'int', 'isinstance', 'issubclass', 'iter', 'len', 'license', 'list', 'locals', 'map', 'max', 'memoryview', 'min', 'next', 'object', 'oct', 'open', 'ord', 'pow', 'print', 'property', 'range', 'repr', 'reversed', 'round', 'runfile', 'set', 'setattr', 'slice', 'sorted', 'staticmethod', 'str', 'sum', 'super', 'tuple', 'type', 'vars', 'zip']\n"
     ]
    }
   ],
   "source": [
    "print(dir(__builtins__))"
   ]
  },
  {
   "cell_type": "code",
   "execution_count": 27,
   "id": "961daeb0",
   "metadata": {},
   "outputs": [
    {
     "ename": "ModuleNotFoundError",
     "evalue": "No module named 'maths'",
     "output_type": "error",
     "traceback": [
      "\u001b[1;31m---------------------------------------------------------------------------\u001b[0m",
      "\u001b[1;31mModuleNotFoundError\u001b[0m                       Traceback (most recent call last)",
      "Cell \u001b[1;32mIn[27], line 1\u001b[0m\n\u001b[1;32m----> 1\u001b[0m \u001b[38;5;28;01mimport\u001b[39;00m \u001b[38;5;21;01mmaths\u001b[39;00m\n",
      "\u001b[1;31mModuleNotFoundError\u001b[0m: No module named 'maths'"
     ]
    }
   ],
   "source": [
    "import maths"
   ]
  },
  {
   "cell_type": "code",
   "execution_count": 28,
   "id": "00cd8142",
   "metadata": {},
   "outputs": [
    {
     "ename": "ImportError",
     "evalue": "cannot import name 'cow' from 'math' (unknown location)",
     "output_type": "error",
     "traceback": [
      "\u001b[1;31m---------------------------------------------------------------------------\u001b[0m",
      "\u001b[1;31mImportError\u001b[0m                               Traceback (most recent call last)",
      "Cell \u001b[1;32mIn[28], line 1\u001b[0m\n\u001b[1;32m----> 1\u001b[0m \u001b[38;5;28;01mfrom\u001b[39;00m \u001b[38;5;21;01mmath\u001b[39;00m \u001b[38;5;28;01mimport\u001b[39;00m cow\n",
      "\u001b[1;31mImportError\u001b[0m: cannot import name 'cow' from 'math' (unknown location)"
     ]
    }
   ],
   "source": [
    "from math import cow"
   ]
  },
  {
   "cell_type": "code",
   "execution_count": 29,
   "id": "931fbfd9",
   "metadata": {},
   "outputs": [
    {
     "ename": "FileNotFoundError",
     "evalue": "[Errno 2] No such file or directory: 'adani.txt'",
     "output_type": "error",
     "traceback": [
      "\u001b[1;31m---------------------------------------------------------------------------\u001b[0m",
      "\u001b[1;31mFileNotFoundError\u001b[0m                         Traceback (most recent call last)",
      "Cell \u001b[1;32mIn[29], line 1\u001b[0m\n\u001b[1;32m----> 1\u001b[0m f \u001b[38;5;241m=\u001b[39m \u001b[38;5;28mopen\u001b[39m(\u001b[38;5;124m'\u001b[39m\u001b[38;5;124madani.txt\u001b[39m\u001b[38;5;124m'\u001b[39m)\n\u001b[0;32m      2\u001b[0m f\n",
      "File \u001b[1;32m~\\anaconda3\\Lib\\site-packages\\IPython\\core\\interactiveshell.py:310\u001b[0m, in \u001b[0;36m_modified_open\u001b[1;34m(file, *args, **kwargs)\u001b[0m\n\u001b[0;32m    303\u001b[0m \u001b[38;5;28;01mif\u001b[39;00m file \u001b[38;5;129;01min\u001b[39;00m {\u001b[38;5;241m0\u001b[39m, \u001b[38;5;241m1\u001b[39m, \u001b[38;5;241m2\u001b[39m}:\n\u001b[0;32m    304\u001b[0m     \u001b[38;5;28;01mraise\u001b[39;00m \u001b[38;5;167;01mValueError\u001b[39;00m(\n\u001b[0;32m    305\u001b[0m         \u001b[38;5;124mf\u001b[39m\u001b[38;5;124m\"\u001b[39m\u001b[38;5;124mIPython won\u001b[39m\u001b[38;5;124m'\u001b[39m\u001b[38;5;124mt let you open fd=\u001b[39m\u001b[38;5;132;01m{\u001b[39;00mfile\u001b[38;5;132;01m}\u001b[39;00m\u001b[38;5;124m by default \u001b[39m\u001b[38;5;124m\"\u001b[39m\n\u001b[0;32m    306\u001b[0m         \u001b[38;5;124m\"\u001b[39m\u001b[38;5;124mas it is likely to crash IPython. If you know what you are doing, \u001b[39m\u001b[38;5;124m\"\u001b[39m\n\u001b[0;32m    307\u001b[0m         \u001b[38;5;124m\"\u001b[39m\u001b[38;5;124myou can use builtins\u001b[39m\u001b[38;5;124m'\u001b[39m\u001b[38;5;124m open.\u001b[39m\u001b[38;5;124m\"\u001b[39m\n\u001b[0;32m    308\u001b[0m     )\n\u001b[1;32m--> 310\u001b[0m \u001b[38;5;28;01mreturn\u001b[39;00m io_open(file, \u001b[38;5;241m*\u001b[39margs, \u001b[38;5;241m*\u001b[39m\u001b[38;5;241m*\u001b[39mkwargs)\n",
      "\u001b[1;31mFileNotFoundError\u001b[0m: [Errno 2] No such file or directory: 'adani.txt'"
     ]
    }
   ],
   "source": [
    "f = open('adani.txt')\n",
    "f"
   ]
  },
  {
   "cell_type": "code",
   "execution_count": 30,
   "id": "a4232e3b",
   "metadata": {},
   "outputs": [
    {
     "ename": "ZeroDivisionError",
     "evalue": "division by zero",
     "output_type": "error",
     "traceback": [
      "\u001b[1;31m---------------------------------------------------------------------------\u001b[0m",
      "\u001b[1;31mZeroDivisionError\u001b[0m                         Traceback (most recent call last)",
      "Cell \u001b[1;32mIn[30], line 1\u001b[0m\n\u001b[1;32m----> 1\u001b[0m \u001b[38;5;28mprint\u001b[39m(\u001b[38;5;241m19\u001b[39m\u001b[38;5;241m/\u001b[39m\u001b[38;5;241m0\u001b[39m)\n",
      "\u001b[1;31mZeroDivisionError\u001b[0m: division by zero"
     ]
    }
   ],
   "source": [
    "print(19/0)"
   ]
  },
  {
   "cell_type": "code",
   "execution_count": 32,
   "id": "78ba8459",
   "metadata": {},
   "outputs": [
    {
     "ename": "MemoryError",
     "evalue": "",
     "output_type": "error",
     "traceback": [
      "\u001b[1;31m---------------------------------------------------------------------------\u001b[0m",
      "\u001b[1;31mMemoryError\u001b[0m                               Traceback (most recent call last)",
      "Cell \u001b[1;32mIn[32], line 1\u001b[0m\n\u001b[1;32m----> 1\u001b[0m a \u001b[38;5;241m=\u001b[39m [i \u001b[38;5;28;01mfor\u001b[39;00m i \u001b[38;5;129;01min\u001b[39;00m \u001b[38;5;28mrange\u001b[39m(\u001b[38;5;241m12345654321234565432123456765432345678\u001b[39m)]\n\u001b[0;32m      3\u001b[0m \u001b[38;5;28mprint\u001b[39m(a)\n",
      "Cell \u001b[1;32mIn[32], line 1\u001b[0m, in \u001b[0;36m<listcomp>\u001b[1;34m(.0)\u001b[0m\n\u001b[1;32m----> 1\u001b[0m a \u001b[38;5;241m=\u001b[39m [i \u001b[38;5;28;01mfor\u001b[39;00m i \u001b[38;5;129;01min\u001b[39;00m \u001b[38;5;28mrange\u001b[39m(\u001b[38;5;241m12345654321234565432123456765432345678\u001b[39m)]\n\u001b[0;32m      3\u001b[0m \u001b[38;5;28mprint\u001b[39m(a)\n",
      "\u001b[1;31mMemoryError\u001b[0m: "
     ]
    }
   ],
   "source": [
    "a = [i for i in range(12345654321234565432123456765432345678)]\n",
    "\n",
    "print(a)"
   ]
  },
  {
   "cell_type": "code",
   "execution_count": 33,
   "id": "ef84592f",
   "metadata": {},
   "outputs": [
    {
     "ename": "FileExistsError",
     "evalue": "[Errno 17] File exists: 'sandeep.txt'",
     "output_type": "error",
     "traceback": [
      "\u001b[1;31m---------------------------------------------------------------------------\u001b[0m",
      "\u001b[1;31mFileExistsError\u001b[0m                           Traceback (most recent call last)",
      "Cell \u001b[1;32mIn[33], line 1\u001b[0m\n\u001b[1;32m----> 1\u001b[0m f \u001b[38;5;241m=\u001b[39m \u001b[38;5;28mopen\u001b[39m(\u001b[38;5;124m'\u001b[39m\u001b[38;5;124msandeep.txt\u001b[39m\u001b[38;5;124m'\u001b[39m,\u001b[38;5;124m'\u001b[39m\u001b[38;5;124mx\u001b[39m\u001b[38;5;124m'\u001b[39m)\n",
      "File \u001b[1;32m~\\anaconda3\\Lib\\site-packages\\IPython\\core\\interactiveshell.py:310\u001b[0m, in \u001b[0;36m_modified_open\u001b[1;34m(file, *args, **kwargs)\u001b[0m\n\u001b[0;32m    303\u001b[0m \u001b[38;5;28;01mif\u001b[39;00m file \u001b[38;5;129;01min\u001b[39;00m {\u001b[38;5;241m0\u001b[39m, \u001b[38;5;241m1\u001b[39m, \u001b[38;5;241m2\u001b[39m}:\n\u001b[0;32m    304\u001b[0m     \u001b[38;5;28;01mraise\u001b[39;00m \u001b[38;5;167;01mValueError\u001b[39;00m(\n\u001b[0;32m    305\u001b[0m         \u001b[38;5;124mf\u001b[39m\u001b[38;5;124m\"\u001b[39m\u001b[38;5;124mIPython won\u001b[39m\u001b[38;5;124m'\u001b[39m\u001b[38;5;124mt let you open fd=\u001b[39m\u001b[38;5;132;01m{\u001b[39;00mfile\u001b[38;5;132;01m}\u001b[39;00m\u001b[38;5;124m by default \u001b[39m\u001b[38;5;124m\"\u001b[39m\n\u001b[0;32m    306\u001b[0m         \u001b[38;5;124m\"\u001b[39m\u001b[38;5;124mas it is likely to crash IPython. If you know what you are doing, \u001b[39m\u001b[38;5;124m\"\u001b[39m\n\u001b[0;32m    307\u001b[0m         \u001b[38;5;124m\"\u001b[39m\u001b[38;5;124myou can use builtins\u001b[39m\u001b[38;5;124m'\u001b[39m\u001b[38;5;124m open.\u001b[39m\u001b[38;5;124m\"\u001b[39m\n\u001b[0;32m    308\u001b[0m     )\n\u001b[1;32m--> 310\u001b[0m \u001b[38;5;28;01mreturn\u001b[39;00m io_open(file, \u001b[38;5;241m*\u001b[39margs, \u001b[38;5;241m*\u001b[39m\u001b[38;5;241m*\u001b[39mkwargs)\n",
      "\u001b[1;31mFileExistsError\u001b[0m: [Errno 17] File exists: 'sandeep.txt'"
     ]
    }
   ],
   "source": [
    "f = open('sandeep.txt','x')"
   ]
  },
  {
   "cell_type": "code",
   "execution_count": 34,
   "id": "55ec5779",
   "metadata": {},
   "outputs": [],
   "source": [
    "# Exception Handling"
   ]
  },
  {
   "cell_type": "code",
   "execution_count": 35,
   "id": "7c262c58",
   "metadata": {},
   "outputs": [],
   "source": [
    "# try\n",
    "# except\n",
    "# else\n",
    "# finally"
   ]
  },
  {
   "cell_type": "code",
   "execution_count": 37,
   "id": "ef4aeda7",
   "metadata": {},
   "outputs": [
    {
     "name": "stdout",
     "output_type": "stream",
     "text": [
      "Hello world\n",
      "Something went wrong!!\n",
      "we are in techvidya\n"
     ]
    }
   ],
   "source": [
    "try:\n",
    "    print('Hello world')\n",
    "    print(1/0)\n",
    "    \n",
    "except:\n",
    "    print('Something went wrong!!') \n",
    "    \n",
    "print('we are in techvidya')"
   ]
  },
  {
   "cell_type": "code",
   "execution_count": 38,
   "id": "16823450",
   "metadata": {},
   "outputs": [
    {
     "name": "stdout",
     "output_type": "stream",
     "text": [
      "Hello world\n"
     ]
    },
    {
     "ename": "ZeroDivisionError",
     "evalue": "division by zero",
     "output_type": "error",
     "traceback": [
      "\u001b[1;31m---------------------------------------------------------------------------\u001b[0m",
      "\u001b[1;31mZeroDivisionError\u001b[0m                         Traceback (most recent call last)",
      "Cell \u001b[1;32mIn[38], line 2\u001b[0m\n\u001b[0;32m      1\u001b[0m \u001b[38;5;28mprint\u001b[39m(\u001b[38;5;124m'\u001b[39m\u001b[38;5;124mHello world\u001b[39m\u001b[38;5;124m'\u001b[39m)\n\u001b[1;32m----> 2\u001b[0m \u001b[38;5;28mprint\u001b[39m(\u001b[38;5;241m1\u001b[39m\u001b[38;5;241m/\u001b[39m\u001b[38;5;241m0\u001b[39m)\n\u001b[0;32m      3\u001b[0m \u001b[38;5;28mprint\u001b[39m(\u001b[38;5;124m'\u001b[39m\u001b[38;5;124mwe are in techvidya\u001b[39m\u001b[38;5;124m'\u001b[39m)\n",
      "\u001b[1;31mZeroDivisionError\u001b[0m: division by zero"
     ]
    }
   ],
   "source": [
    "print('Hello world')\n",
    "print(1/0)\n",
    "print('we are in techvidya')"
   ]
  },
  {
   "cell_type": "code",
   "execution_count": 42,
   "id": "194830f7",
   "metadata": {},
   "outputs": [
    {
     "name": "stdout",
     "output_type": "stream",
     "text": [
      "Enter number: komal\n",
      "Enter Number only\n"
     ]
    }
   ],
   "source": [
    "try:\n",
    "    user_no  = int(input('Enter number: '))\n",
    "    print(user_no)\n",
    "except:\n",
    "    print('Enter Number only')"
   ]
  },
  {
   "cell_type": "code",
   "execution_count": 43,
   "id": "4e89d873",
   "metadata": {},
   "outputs": [
    {
     "name": "stdout",
     "output_type": "stream",
     "text": [
      "Code that you want to try!!\n",
      "Might generate errors\n",
      "This block is asscociated with try block\n",
      "It will only run after successfull execution of Try block!!\n",
      "This is a final code block\n",
      "And Not dependent on any code block\n",
      "This has to be run!!\n"
     ]
    }
   ],
   "source": [
    "try:\n",
    "    print('Code that you want to try!!')\n",
    "    print('Might generate errors')\n",
    "except:\n",
    "    print('This is an except block!!')\n",
    "    print('This will run after try block fails')\n",
    "else:\n",
    "    print('This block is asscociated with try block')\n",
    "    print('It will only run after successfull execution of Try block!!')\n",
    "finally:\n",
    "    print('This is a final code block')\n",
    "    print('And Not dependent on any code block')\n",
    "    print('This has to be run!!')"
   ]
  },
  {
   "cell_type": "code",
   "execution_count": 44,
   "id": "d7aa6824",
   "metadata": {},
   "outputs": [],
   "source": [
    "# nameerror\n",
    "# index error\n",
    "# recursion error\n",
    "# type error\n",
    "# value error\n",
    "# module not found\n",
    "# import error\n",
    "# memeory error\n",
    "# file not exist error\n",
    "# zero divison error\n",
    "# stop iteration"
   ]
  },
  {
   "cell_type": "code",
   "execution_count": 48,
   "id": "f116c777",
   "metadata": {},
   "outputs": [
    {
     "name": "stdout",
     "output_type": "stream",
     "text": [
      "File not found\n",
      "check try code block\n"
     ]
    }
   ],
   "source": [
    "try:\n",
    "    f = open('adani.txt')\n",
    "    print(f.read())\n",
    "except:\n",
    "    print('File not found\\ncheck try code block')"
   ]
  },
  {
   "cell_type": "code",
   "execution_count": 49,
   "id": "709812e1",
   "metadata": {},
   "outputs": [
    {
     "name": "stdout",
     "output_type": "stream",
     "text": [
      "Something went wrong!!\n"
     ]
    }
   ],
   "source": [
    "try:\n",
    "    print(address)\n",
    "except:\n",
    "    print('Something went wrong!!')"
   ]
  },
  {
   "cell_type": "code",
   "execution_count": 50,
   "id": "d8990e61",
   "metadata": {},
   "outputs": [
    {
     "ename": "NameError",
     "evalue": "name 'address' is not defined",
     "output_type": "error",
     "traceback": [
      "\u001b[1;31m---------------------------------------------------------------------------\u001b[0m",
      "\u001b[1;31mNameError\u001b[0m                                 Traceback (most recent call last)",
      "Cell \u001b[1;32mIn[50], line 1\u001b[0m\n\u001b[1;32m----> 1\u001b[0m \u001b[38;5;28mprint\u001b[39m(address)\n",
      "\u001b[1;31mNameError\u001b[0m: name 'address' is not defined"
     ]
    }
   ],
   "source": [
    "print(address)"
   ]
  },
  {
   "cell_type": "code",
   "execution_count": 54,
   "id": "943ec8c3",
   "metadata": {},
   "outputs": [
    {
     "name": "stdout",
     "output_type": "stream",
     "text": [
      "Mohan\n",
      "name 'address' is not defined\n",
      "Something went wrong!!\n"
     ]
    }
   ],
   "source": [
    "try:\n",
    "    print('Mohan')\n",
    "    print(address)\n",
    "except Exception as e:\n",
    "    print(e,'Something went wrong!!',sep='\\n')"
   ]
  },
  {
   "cell_type": "code",
   "execution_count": 55,
   "id": "80587f91",
   "metadata": {},
   "outputs": [
    {
     "name": "stdout",
     "output_type": "stream",
     "text": [
      "list assignment index out of range\n",
      "Code checked successfully!!\n"
     ]
    }
   ],
   "source": [
    "try:\n",
    "    a = [12,43,45,342,436]\n",
    "    a[100] = 123452345\n",
    "    \n",
    "except Exception as e:\n",
    "    print(e)\n",
    "    \n",
    "else:\n",
    "    print('Task completed!!')\n",
    "    \n",
    "finally:\n",
    "    print('Code checked successfully!!')"
   ]
  },
  {
   "cell_type": "code",
   "execution_count": 56,
   "id": "9816051e",
   "metadata": {},
   "outputs": [
    {
     "name": "stdout",
     "output_type": "stream",
     "text": [
      "Task completed!!\n",
      "Code checked successfully!!\n"
     ]
    }
   ],
   "source": [
    "try:\n",
    "    a = [12,43,45,342,436]\n",
    "    a[1] = 123452345\n",
    "    \n",
    "except Exception as e:\n",
    "    print(e)\n",
    "    \n",
    "else:\n",
    "    print('Task completed!!')\n",
    "    \n",
    "finally:\n",
    "    print('Code checked successfully!!')"
   ]
  },
  {
   "cell_type": "code",
   "execution_count": 57,
   "id": "5f1a315e",
   "metadata": {},
   "outputs": [],
   "source": [
    "# nested Exception handling"
   ]
  },
  {
   "cell_type": "code",
   "execution_count": 58,
   "id": "ea53a4a1",
   "metadata": {},
   "outputs": [],
   "source": [
    "# try:\n",
    "#     try:\n",
    "#         pass\n",
    "#     except:\n",
    "#         pass\n",
    "# except:\n",
    "#     pass\n",
    "\n",
    "# else:\n",
    "#     try:\n",
    "#         pass\n",
    "#     except:\n",
    "#         pass\n",
    "#     else:\n",
    "#         pass\n",
    "#     finally:\n",
    "#         pass\n",
    "    \n",
    "# finally:\n",
    "#     try:\n",
    "#         pass\n",
    "#     except:\n",
    "#         try:\n",
    "#             pass\n",
    "#         except:\n",
    "#             try:\n",
    "#                 pass\n",
    "#             except:\n",
    "#                 pass\n",
    "    "
   ]
  },
  {
   "cell_type": "code",
   "execution_count": 61,
   "id": "2dabd8e6",
   "metadata": {},
   "outputs": [
    {
     "name": "stdout",
     "output_type": "stream",
     "text": [
      "name 'naman' is not defined\n"
     ]
    }
   ],
   "source": [
    "try:\n",
    "    print(naman)\n",
    "    print([1,243,54,67,6][120])\n",
    "    \n",
    "except Exception as err:\n",
    "    print(err)\n",
    "    "
   ]
  },
  {
   "cell_type": "code",
   "execution_count": 73,
   "id": "5b431498",
   "metadata": {},
   "outputs": [
    {
     "name": "stdout",
     "output_type": "stream",
     "text": [
      "No module named 'randommm'\n"
     ]
    }
   ],
   "source": [
    "try:\n",
    "#     a = {\"Name\":'Mohan','Age':23}\n",
    "#     print(a['Address'])\n",
    "    \n",
    "    import randommm\n",
    "    \n",
    "except NameError:\n",
    "    print('''variable name has not defined or declared yet\n",
    "    If you want to use name variable declare it first\n",
    "    ex: \n",
    "    name = \"Ajay\"\n",
    "    ''')\n",
    "\n",
    "except ZeroDivisionError:\n",
    "    print('''You can not divide any number by Zero\n",
    "    check again!!''')\n",
    "    \n",
    "except KeyError:\n",
    "    print('You have used incorrect key in dict\\nCheck Again!!')\n",
    "    \n",
    "except Exception as e:\n",
    "    print(e)"
   ]
  },
  {
   "cell_type": "code",
   "execution_count": null,
   "id": "108e006a",
   "metadata": {},
   "outputs": [],
   "source": []
  },
  {
   "cell_type": "code",
   "execution_count": null,
   "id": "d231ac28",
   "metadata": {},
   "outputs": [
    {
     "name": "stdout",
     "output_type": "stream",
     "text": [
      "Something went wrong with the try block\n",
      "Something went wrong with the try block\n",
      "Something went wrong with the try block\n",
      "Something went wrong with the try block\n",
      "Something went wrong with the try block\n",
      "Something went wrong with the try block\n",
      "Something went wrong with the try block\n",
      "Something went wrong with the try block\n",
      "Something went wrong with the try block\n",
      "Something went wrong with the try block\n",
      "Something went wrong with the try block\n",
      "Something went wrong with the try block\n",
      "Something went wrong with the try block\n",
      "Something went wrong with the try block\n",
      "Something went wrong with the try block\n",
      "Something went wrong with the try block\n",
      "Something went wrong with the try block\n",
      "Something went wrong with the try block\n"
     ]
    }
   ],
   "source": [
    "import random\n",
    "\n",
    "while True:\n",
    "    try:\n",
    "        ans = int(input('Guess a number b/w (1-5): '))\n",
    "        comp = random.randint(1,5)\n",
    "\n",
    "        if ans == comp:\n",
    "            print('You Won!!')\n",
    "        else:\n",
    "            print('You Lose!!')\n",
    "            \n",
    "    except:\n",
    "        print('Something went wrong with the try block')\n",
    "        \n",
    "        "
   ]
  },
  {
   "cell_type": "code",
   "execution_count": null,
   "id": "c4b90fe4",
   "metadata": {},
   "outputs": [
    {
     "name": "stdout",
     "output_type": "stream",
     "text": [
      "Exception!!\n",
      "Exception!!\n",
      "Exception!!\n",
      "Exception!!\n",
      "Exception!!\n",
      "Exception!!\n",
      "Exception!!\n",
      "Exception!!\n"
     ]
    }
   ],
   "source": [
    "while True:\n",
    "    try:\n",
    "        a = input('Enter: ')\n",
    "    except:\n",
    "        print('Exception!!')"
   ]
  },
  {
   "cell_type": "code",
   "execution_count": 1,
   "id": "3debd6e3",
   "metadata": {},
   "outputs": [
    {
     "ename": "SyntaxError",
     "evalue": "unterminated string literal (detected at line 2) (2762760129.py, line 2)",
     "output_type": "error",
     "traceback": [
      "\u001b[1;36m  Cell \u001b[1;32mIn[1], line 2\u001b[1;36m\u001b[0m\n\u001b[1;33m    print('Ajay)\u001b[0m\n\u001b[1;37m          ^\u001b[0m\n\u001b[1;31mSyntaxError\u001b[0m\u001b[1;31m:\u001b[0m unterminated string literal (detected at line 2)\n"
     ]
    }
   ],
   "source": [
    "try:\n",
    "    print('Ajay)\n",
    "    \n",
    "except:\n",
    "    print('Wrong!!')"
   ]
  },
  {
   "cell_type": "code",
   "execution_count": 2,
   "id": "d824576b",
   "metadata": {},
   "outputs": [
    {
     "ename": "IndentationError",
     "evalue": "expected an indented block after 'if' statement on line 2 (2619466954.py, line 3)",
     "output_type": "error",
     "traceback": [
      "\u001b[1;36m  Cell \u001b[1;32mIn[2], line 3\u001b[1;36m\u001b[0m\n\u001b[1;33m    print(True)\u001b[0m\n\u001b[1;37m    ^\u001b[0m\n\u001b[1;31mIndentationError\u001b[0m\u001b[1;31m:\u001b[0m expected an indented block after 'if' statement on line 2\n"
     ]
    }
   ],
   "source": [
    "try:\n",
    "    if 2==2:\n",
    "    print(True)\n",
    "    else:\n",
    "        print(False)\n",
    "except:\n",
    "    print('Wrong')"
   ]
  },
  {
   "cell_type": "code",
   "execution_count": null,
   "id": "37587a1b",
   "metadata": {},
   "outputs": [],
   "source": []
  }
 ],
 "metadata": {
  "kernelspec": {
   "display_name": "Python 3 (ipykernel)",
   "language": "python",
   "name": "python3"
  },
  "language_info": {
   "codemirror_mode": {
    "name": "ipython",
    "version": 3
   },
   "file_extension": ".py",
   "mimetype": "text/x-python",
   "name": "python",
   "nbconvert_exporter": "python",
   "pygments_lexer": "ipython3",
   "version": "3.11.3"
  }
 },
 "nbformat": 4,
 "nbformat_minor": 5
}
