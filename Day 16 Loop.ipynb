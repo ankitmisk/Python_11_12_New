{
 "cells": [
  {
   "cell_type": "code",
   "execution_count": 1,
   "id": "e0b41ffb",
   "metadata": {},
   "outputs": [],
   "source": [
    "# Dict student add\n",
    "# Emp student add\n",
    "# kbc game"
   ]
  },
  {
   "cell_type": "code",
   "execution_count": 2,
   "id": "1be0717a",
   "metadata": {},
   "outputs": [
    {
     "data": {
      "text/plain": [
       "{'Name': [], 'Class': [], 'Age': [], 'Sec': [], 'Address': []}"
      ]
     },
     "execution_count": 2,
     "metadata": {},
     "output_type": "execute_result"
    }
   ],
   "source": [
    "data = {'Name':[],\n",
    "       'Class':[],\n",
    "       'Age':[],\n",
    "       'Sec':[],\n",
    "       'Address':[]}\n",
    "\n",
    "data"
   ]
  },
  {
   "cell_type": "code",
   "execution_count": 8,
   "id": "801ba09e",
   "metadata": {},
   "outputs": [
    {
     "name": "stdout",
     "output_type": "stream",
     "text": [
      "Enter your Name: Akshay\n",
      "Enter your Class: 5\n",
      "Enter your Age: 25\n",
      "Enter your Sec: A\n",
      "Enter your Address: Noida\n",
      "1 Student Added successfully!!\n",
      "Enter your Name: Vippin\n",
      "Enter your Class: 12\n",
      "Enter your Age: 23\n",
      "Enter your Sec: B\n",
      "Enter your Address: Delhi\n",
      "2 Student Added successfully!!\n",
      "Enter your Name: Karan\n",
      "Enter your Class: 11\n",
      "Enter your Age: 20\n",
      "Enter your Sec: A\n",
      "Enter your Address: Faridabad\n",
      "3 Student Added successfully!!\n"
     ]
    }
   ],
   "source": [
    "# nested loop\n",
    "\n",
    "for i in range(3):\n",
    "    for j in data:\n",
    "        user = input(f'Enter your {j}: ')\n",
    "        data[j].append(user)\n",
    "        \n",
    "    print(f'{i+1} Student Added successfully!!')"
   ]
  },
  {
   "cell_type": "code",
   "execution_count": 6,
   "id": "c8a0ecc6",
   "metadata": {},
   "outputs": [],
   "source": [
    "# for j in data:\n",
    "#     print(j,data[j])"
   ]
  },
  {
   "cell_type": "code",
   "execution_count": 9,
   "id": "f2ceb608",
   "metadata": {},
   "outputs": [
    {
     "data": {
      "text/plain": [
       "{'Name': ['Akshay', 'Vippin', 'Karan'],\n",
       " 'Class': ['5', '12', '11'],\n",
       " 'Age': ['25', '23', '20'],\n",
       " 'Sec': ['A', 'B', 'A'],\n",
       " 'Address': ['Noida', 'Delhi', 'Faridabad']}"
      ]
     },
     "execution_count": 9,
     "metadata": {},
     "output_type": "execute_result"
    }
   ],
   "source": [
    "data"
   ]
  },
  {
   "cell_type": "code",
   "execution_count": 10,
   "id": "8a711caf",
   "metadata": {},
   "outputs": [],
   "source": [
    "import pandas as pd"
   ]
  },
  {
   "cell_type": "code",
   "execution_count": 12,
   "id": "a1ca98b3",
   "metadata": {},
   "outputs": [
    {
     "data": {
      "text/html": [
       "<div>\n",
       "<style scoped>\n",
       "    .dataframe tbody tr th:only-of-type {\n",
       "        vertical-align: middle;\n",
       "    }\n",
       "\n",
       "    .dataframe tbody tr th {\n",
       "        vertical-align: top;\n",
       "    }\n",
       "\n",
       "    .dataframe thead th {\n",
       "        text-align: right;\n",
       "    }\n",
       "</style>\n",
       "<table border=\"1\" class=\"dataframe\">\n",
       "  <thead>\n",
       "    <tr style=\"text-align: right;\">\n",
       "      <th></th>\n",
       "      <th>Name</th>\n",
       "      <th>Class</th>\n",
       "      <th>Age</th>\n",
       "      <th>Sec</th>\n",
       "      <th>Address</th>\n",
       "    </tr>\n",
       "  </thead>\n",
       "  <tbody>\n",
       "    <tr>\n",
       "      <th>0</th>\n",
       "      <td>Akshay</td>\n",
       "      <td>5</td>\n",
       "      <td>25</td>\n",
       "      <td>A</td>\n",
       "      <td>Noida</td>\n",
       "    </tr>\n",
       "    <tr>\n",
       "      <th>1</th>\n",
       "      <td>Vippin</td>\n",
       "      <td>12</td>\n",
       "      <td>23</td>\n",
       "      <td>B</td>\n",
       "      <td>Delhi</td>\n",
       "    </tr>\n",
       "    <tr>\n",
       "      <th>2</th>\n",
       "      <td>Karan</td>\n",
       "      <td>11</td>\n",
       "      <td>20</td>\n",
       "      <td>A</td>\n",
       "      <td>Faridabad</td>\n",
       "    </tr>\n",
       "  </tbody>\n",
       "</table>\n",
       "</div>"
      ],
      "text/plain": [
       "     Name Class Age Sec    Address\n",
       "0  Akshay     5  25   A      Noida\n",
       "1  Vippin    12  23   B      Delhi\n",
       "2   Karan    11  20   A  Faridabad"
      ]
     },
     "execution_count": 12,
     "metadata": {},
     "output_type": "execute_result"
    }
   ],
   "source": [
    "std_table = pd.DataFrame(data)\n",
    "std_table"
   ]
  },
  {
   "cell_type": "code",
   "execution_count": 14,
   "id": "4550e34d",
   "metadata": {},
   "outputs": [
    {
     "name": "stdout",
     "output_type": "stream",
     "text": [
      "     Name Class Age Sec    Address\n",
      "0  Akshay     5  25   A      Noida\n",
      "1  Vippin    12  23   B      Delhi\n",
      "2   Karan    11  20   A  Faridabad\n"
     ]
    }
   ],
   "source": [
    "print(std_table)"
   ]
  },
  {
   "cell_type": "code",
   "execution_count": 15,
   "id": "3812424d",
   "metadata": {},
   "outputs": [
    {
     "data": {
      "text/html": [
       "<div>\n",
       "<style scoped>\n",
       "    .dataframe tbody tr th:only-of-type {\n",
       "        vertical-align: middle;\n",
       "    }\n",
       "\n",
       "    .dataframe tbody tr th {\n",
       "        vertical-align: top;\n",
       "    }\n",
       "\n",
       "    .dataframe thead th {\n",
       "        text-align: right;\n",
       "    }\n",
       "</style>\n",
       "<table border=\"1\" class=\"dataframe\">\n",
       "  <thead>\n",
       "    <tr style=\"text-align: right;\">\n",
       "      <th></th>\n",
       "      <th>Name</th>\n",
       "      <th>Class</th>\n",
       "      <th>Age</th>\n",
       "      <th>Sec</th>\n",
       "      <th>Address</th>\n",
       "    </tr>\n",
       "  </thead>\n",
       "  <tbody>\n",
       "    <tr>\n",
       "      <th>0</th>\n",
       "      <td>Akshay</td>\n",
       "      <td>5</td>\n",
       "      <td>25</td>\n",
       "      <td>A</td>\n",
       "      <td>Noida</td>\n",
       "    </tr>\n",
       "    <tr>\n",
       "      <th>1</th>\n",
       "      <td>Vippin</td>\n",
       "      <td>12</td>\n",
       "      <td>23</td>\n",
       "      <td>B</td>\n",
       "      <td>Delhi</td>\n",
       "    </tr>\n",
       "    <tr>\n",
       "      <th>2</th>\n",
       "      <td>Karan</td>\n",
       "      <td>11</td>\n",
       "      <td>20</td>\n",
       "      <td>A</td>\n",
       "      <td>Faridabad</td>\n",
       "    </tr>\n",
       "  </tbody>\n",
       "</table>\n",
       "</div>"
      ],
      "text/plain": [
       "     Name Class Age Sec    Address\n",
       "0  Akshay     5  25   A      Noida\n",
       "1  Vippin    12  23   B      Delhi\n",
       "2   Karan    11  20   A  Faridabad"
      ]
     },
     "execution_count": 15,
     "metadata": {},
     "output_type": "execute_result"
    }
   ],
   "source": [
    "std_table"
   ]
  },
  {
   "cell_type": "code",
   "execution_count": 18,
   "id": "458208a2",
   "metadata": {},
   "outputs": [
    {
     "name": "stdout",
     "output_type": "stream",
     "text": [
      "done\n"
     ]
    }
   ],
   "source": [
    "std_table.to_excel(r\"C:\\Users\\Lenovo\\Desktop\\sandeep.xlsx\")\n",
    "print('done')"
   ]
  },
  {
   "cell_type": "code",
   "execution_count": 19,
   "id": "292726e2",
   "metadata": {},
   "outputs": [
    {
     "name": "stdout",
     "output_type": "stream",
     "text": [
      "Enter name: ajay\n",
      "Enter name: karan\n",
      "Enter name: mohan\n"
     ]
    },
    {
     "data": {
      "text/plain": [
       "['ajay', 'karan', 'mohan']"
      ]
     },
     "execution_count": 19,
     "metadata": {},
     "output_type": "execute_result"
    }
   ],
   "source": [
    "[input('Enter name: ') for i in range(3)]"
   ]
  },
  {
   "cell_type": "code",
   "execution_count": 20,
   "id": "082b869f",
   "metadata": {},
   "outputs": [
    {
     "name": "stdout",
     "output_type": "stream",
     "text": [
      "Enter your name: Ajay\n",
      "Enter your name: Mohan\n",
      "Enter your name: Karan\n",
      "Enter your Class: 12\n",
      "Enter your Class: 11\n",
      "Enter your Class: 10\n",
      "Enter your Age: 12\n",
      "Enter your Age: 11\n",
      "Enter your Age: 10\n",
      "Enter your Sec: A\n",
      "Enter your Sec: B\n",
      "Enter your Sec: A\n",
      "Enter your Address: Noida\n",
      "Enter your Address: Delhi\n",
      "Enter your Address: Noida\n"
     ]
    }
   ],
   "source": [
    "data = {'Name':[input('Enter your name: ') for i in range(3)],\n",
    "       'Class':[input('Enter your Class: ') for i in range(3)],\n",
    "       'Age':[input('Enter your Age: ') for i in range(3)],\n",
    "       'Sec':[input('Enter your Sec: ') for i in range(3)],\n",
    "       'Address':[input('Enter your Address: ') for i in range(3)]}"
   ]
  },
  {
   "cell_type": "code",
   "execution_count": 21,
   "id": "629eb920",
   "metadata": {},
   "outputs": [
    {
     "data": {
      "text/plain": [
       "{'Name': ['Ajay', 'Mohan', 'Karan'],\n",
       " 'Class': ['12', '11', '10'],\n",
       " 'Age': ['12', '11', '10'],\n",
       " 'Sec': ['A', 'B', 'A'],\n",
       " 'Address': ['Noida', 'Delhi', 'Noida']}"
      ]
     },
     "execution_count": 21,
     "metadata": {},
     "output_type": "execute_result"
    }
   ],
   "source": [
    "data"
   ]
  },
  {
   "cell_type": "code",
   "execution_count": 22,
   "id": "f9c8c7de",
   "metadata": {},
   "outputs": [
    {
     "data": {
      "text/html": [
       "<div>\n",
       "<style scoped>\n",
       "    .dataframe tbody tr th:only-of-type {\n",
       "        vertical-align: middle;\n",
       "    }\n",
       "\n",
       "    .dataframe tbody tr th {\n",
       "        vertical-align: top;\n",
       "    }\n",
       "\n",
       "    .dataframe thead th {\n",
       "        text-align: right;\n",
       "    }\n",
       "</style>\n",
       "<table border=\"1\" class=\"dataframe\">\n",
       "  <thead>\n",
       "    <tr style=\"text-align: right;\">\n",
       "      <th></th>\n",
       "      <th>Name</th>\n",
       "      <th>Class</th>\n",
       "      <th>Age</th>\n",
       "      <th>Sec</th>\n",
       "      <th>Address</th>\n",
       "    </tr>\n",
       "  </thead>\n",
       "  <tbody>\n",
       "    <tr>\n",
       "      <th>0</th>\n",
       "      <td>Ajay</td>\n",
       "      <td>12</td>\n",
       "      <td>12</td>\n",
       "      <td>A</td>\n",
       "      <td>Noida</td>\n",
       "    </tr>\n",
       "    <tr>\n",
       "      <th>1</th>\n",
       "      <td>Mohan</td>\n",
       "      <td>11</td>\n",
       "      <td>11</td>\n",
       "      <td>B</td>\n",
       "      <td>Delhi</td>\n",
       "    </tr>\n",
       "    <tr>\n",
       "      <th>2</th>\n",
       "      <td>Karan</td>\n",
       "      <td>10</td>\n",
       "      <td>10</td>\n",
       "      <td>A</td>\n",
       "      <td>Noida</td>\n",
       "    </tr>\n",
       "  </tbody>\n",
       "</table>\n",
       "</div>"
      ],
      "text/plain": [
       "    Name Class Age Sec Address\n",
       "0   Ajay    12  12   A   Noida\n",
       "1  Mohan    11  11   B   Delhi\n",
       "2  Karan    10  10   A   Noida"
      ]
     },
     "execution_count": 22,
     "metadata": {},
     "output_type": "execute_result"
    }
   ],
   "source": [
    "pd.DataFrame(data)"
   ]
  },
  {
   "cell_type": "code",
   "execution_count": 24,
   "id": "71b18c02",
   "metadata": {},
   "outputs": [
    {
     "name": "stdout",
     "output_type": "stream",
     "text": [
      "[1, 2, 3, 4, 5, 6, 7, 8, 9, 10, 11, 12, 13, 14, 15, 16, 17, 18, 19, 20, 21, 22, 23, 24, 25, 26, 27, 28, 29, 30, 31, 32, 33, 34, 35, 36, 37, 38, 39, 40, 41, 42, 43, 44, 45, 46, 47, 48, 49, 50, 51, 52, 53, 54, 55, 56, 57, 58, 59, 60, 61, 62, 63, 64, 65, 66, 67, 68, 69, 70, 71, 72, 73, 74, 75, 76, 77, 78, 79, 80, 81, 82, 83, 84, 85, 86, 87, 88, 89, 90, 91, 92, 93, 94, 95, 96, 97, 98, 99]\n"
     ]
    }
   ],
   "source": [
    "print(list(range(1,100)))"
   ]
  },
  {
   "cell_type": "code",
   "execution_count": 43,
   "id": "1d90ea15",
   "metadata": {},
   "outputs": [
    {
     "name": "stdout",
     "output_type": "stream",
     "text": [
      "[9586545, 546687, 7195565, 8096042, 9698763, 248848, 3457755, 7760814, 8242587, 4656025]\n"
     ]
    }
   ],
   "source": [
    "import random\n",
    "random.seed(10)\n",
    "a = [random.randint(1,10000001) for i in range(1,11)]\n",
    "print(a)"
   ]
  },
  {
   "cell_type": "code",
   "execution_count": null,
   "id": "d6de24b3",
   "metadata": {},
   "outputs": [],
   "source": []
  },
  {
   "cell_type": "code",
   "execution_count": 44,
   "id": "b8659ac0",
   "metadata": {},
   "outputs": [],
   "source": [
    "# KBC GAME"
   ]
  },
  {
   "cell_type": "code",
   "execution_count": 73,
   "id": "9f97cabe",
   "metadata": {},
   "outputs": [
    {
     "name": "stdout",
     "output_type": "stream",
     "text": [
      "                                                       Welcome to KBC                                                      \n",
      "Q1: Which of the following is the capital of Arunachal Pradesh?\n",
      "  A: Itanagar\n",
      "  B: Dispur\n",
      "  C: Imphal\n",
      "  D: Panaji\n",
      "Enter your choice: a\n",
      "Right Answer!!\n",
      "\n",
      "Q2: What are the major languages spoken in Andhra Pradesh?\n",
      "  A: Odia and Telugu\n",
      "  B: Telugu and Urdu\n",
      "  C: Telugu and Kannada\n",
      "  D: All of the above languages\n",
      "Enter your choice: d\n",
      "Wrong Answer!!\n"
     ]
    }
   ],
   "source": [
    "questions = ['Which of the following is the capital of Arunachal Pradesh?',\n",
    "            'What are the major languages spoken in Andhra Pradesh?',\n",
    "            'What is the state flower of Haryana?']\n",
    "\n",
    "\n",
    "options = [['Itanagar','Dispur','Imphal','Panaji'],\n",
    "          ['Odia and Telugu','Telugu and Urdu','Telugu and Kannada','All of the above languages'],\n",
    "          ['Lotus','Rhododendron','Golden Shower','Not Declared']]\n",
    "\n",
    "\n",
    "correct_op = ['A','B','A']\n",
    "\n",
    "\n",
    "op = 'ABCD'\n",
    "print('Welcome to KBC'.center(123,' '))\n",
    "\n",
    "for index,value in enumerate(questions):\n",
    "    print(f'Q{index+1}: {value}')\n",
    "    \n",
    "    for i,j in enumerate(options[index]):\n",
    "        print(f'  {op[i]}: {j}')\n",
    "        \n",
    "    user = input('Enter your choice: ').upper()\n",
    "    if user == correct_op[index]:\n",
    "        print('Right Answer!!')\n",
    "    else:\n",
    "        print('Wrong Answer!!')\n",
    "        break\n",
    "    print()\n",
    "    \n",
    "else:\n",
    "    print('You Won 7 crore!!')"
   ]
  },
  {
   "cell_type": "code",
   "execution_count": null,
   "id": "f68045a0",
   "metadata": {},
   "outputs": [],
   "source": []
  },
  {
   "cell_type": "code",
   "execution_count": null,
   "id": "54241998",
   "metadata": {},
   "outputs": [],
   "source": []
  }
 ],
 "metadata": {
  "kernelspec": {
   "display_name": "Python 3 (ipykernel)",
   "language": "python",
   "name": "python3"
  },
  "language_info": {
   "codemirror_mode": {
    "name": "ipython",
    "version": 3
   },
   "file_extension": ".py",
   "mimetype": "text/x-python",
   "name": "python",
   "nbconvert_exporter": "python",
   "pygments_lexer": "ipython3",
   "version": "3.11.3"
  }
 },
 "nbformat": 4,
 "nbformat_minor": 5
}
