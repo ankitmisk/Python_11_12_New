{
 "cells": [
  {
   "cell_type": "code",
   "execution_count": null,
   "id": "075c683c",
   "metadata": {},
   "outputs": [],
   "source": [
    "# loop with all data types"
   ]
  },
  {
   "cell_type": "code",
   "execution_count": null,
   "id": "b02ac809",
   "metadata": {},
   "outputs": [],
   "source": [
    "# # One liner loop\n",
    "# With list comphrension ** imp\n",
    "\n",
    "# for loop with pass, continue,break\n",
    "# for if else\n",
    "# for imp questions\n",
    "\n",
    "# for dict:- how to save data"
   ]
  },
  {
   "cell_type": "code",
   "execution_count": null,
   "id": "49b6b1c5",
   "metadata": {},
   "outputs": [],
   "source": [
    "for i in range(10):print('hello')"
   ]
  },
  {
   "cell_type": "code",
   "execution_count": null,
   "id": "6bc22736",
   "metadata": {},
   "outputs": [],
   "source": [
    "# even odd check\n",
    "\n",
    "a = [23,4321,3434,65,234,32,4535,43,245]\n",
    "\n",
    "even = []\n",
    "\n",
    "odd = []\n",
    "\n",
    "for i in a:\n",
    "    if i%2 == 0:\n",
    "        even.append(i)    \n",
    "    else:\n",
    "        odd.append(i)\n",
    "        \n",
    "print('Even List: ',even)\n",
    "print('Odd List: ',odd)"
   ]
  },
  {
   "cell_type": "code",
   "execution_count": null,
   "id": "921ef555",
   "metadata": {},
   "outputs": [],
   "source": [
    "# pass\n",
    "\n",
    "students = ['mohan','ravi','karan','akshay','ajay']\n",
    "\n",
    "for i in students:\n",
    "    if len(i)>0:\n",
    "        pass\n",
    "    else:\n",
    "        print('Not a candidate')"
   ]
  },
  {
   "cell_type": "code",
   "execution_count": 5,
   "id": "13683a85",
   "metadata": {},
   "outputs": [
    {
     "name": "stdout",
     "output_type": "stream",
     "text": [
      "hello\n",
      "hello\n",
      "hello\n",
      "hello\n",
      "hello\n",
      "hello\n",
      "hello\n"
     ]
    }
   ],
   "source": [
    "for i in range(7):\n",
    "    pass\n",
    "    print('hello')"
   ]
  },
  {
   "cell_type": "code",
   "execution_count": 3,
   "id": "cf7d82c2",
   "metadata": {},
   "outputs": [],
   "source": [
    "# continue"
   ]
  },
  {
   "cell_type": "code",
   "execution_count": 12,
   "id": "cd8e8180",
   "metadata": {},
   "outputs": [
    {
     "name": "stdout",
     "output_type": "stream",
     "text": [
      "12 144\n",
      "43 1849\n",
      "321 103041\n",
      "32 1024\n",
      "342 116964\n",
      "4545 20657025\n",
      "78 6084\n"
     ]
    }
   ],
   "source": [
    "a = [12,43,321,32,454,342,4545,78]\n",
    "\n",
    "for i in a:\n",
    "    if i == 454:\n",
    "        continue # skip particular iteration\n",
    "        print('Hello')\n",
    "    else:\n",
    "        print(i,i**2)"
   ]
  },
  {
   "cell_type": "code",
   "execution_count": 18,
   "id": "248cb561",
   "metadata": {},
   "outputs": [
    {
     "name": "stdout",
     "output_type": "stream",
     "text": [
      "Hello \n",
      "Hello Hello \n",
      "Hello Hello Hello \n",
      "Hello Hello Hello Hello \n"
     ]
    }
   ],
   "source": [
    "# break\n",
    "\n",
    "for i in range(1,11):\n",
    "    if i == 5:\n",
    "        break\n",
    "        print('Hello I am Python')\n",
    "    else:\n",
    "        print('Hello '*i)"
   ]
  },
  {
   "cell_type": "code",
   "execution_count": 21,
   "id": "00256563",
   "metadata": {},
   "outputs": [],
   "source": [
    "# for i in range(5678909861238765432345678900986456789098754):\n",
    "#     break"
   ]
  },
  {
   "cell_type": "code",
   "execution_count": 24,
   "id": "2b57db7a",
   "metadata": {},
   "outputs": [
    {
     "name": "stdout",
     "output_type": "stream",
     "text": [
      "mohan you can go\n",
      "ravi you can go\n",
      "karan wait for further checking!!\n"
     ]
    }
   ],
   "source": [
    "students = ['mohan','ravi','karan','akshay','ajay']\n",
    "\n",
    "\n",
    "for i in students:\n",
    "    if i=='karan':\n",
    "        print(f'{i} wait for further checking!!')\n",
    "        break\n",
    "        \n",
    "    else:\n",
    "        print(f'{i} you can go')"
   ]
  },
  {
   "cell_type": "code",
   "execution_count": 29,
   "id": "5267b807",
   "metadata": {},
   "outputs": [
    {
     "name": "stdout",
     "output_type": "stream",
     "text": [
      "1 1\n",
      "11 121\n",
      "21 441\n",
      "31 961\n",
      "Loop Executed successfully!!\n"
     ]
    }
   ],
   "source": [
    "# for with else\n",
    "\n",
    "for i in range(1,51,10):\n",
    "    if i >=35:\n",
    "        continue\n",
    "    else:\n",
    "        print(i,i**2)\n",
    "        \n",
    "else:\n",
    "    print('Loop Executed successfully!!') "
   ]
  },
  {
   "cell_type": "code",
   "execution_count": 32,
   "id": "a5db2e11",
   "metadata": {},
   "outputs": [
    {
     "name": "stdout",
     "output_type": "stream",
     "text": [
      "Not a Prime Number!!\n"
     ]
    }
   ],
   "source": [
    "# prime number\n",
    "# 2,3,4,5,6,7\n",
    "# 2,3,5,7,10,13\n",
    "\n",
    "\n",
    "no = 8\n",
    "\n",
    "\n",
    "for i in range(2,no):\n",
    "    if no % i == 0:\n",
    "        print('Not a Prime Number!!')\n",
    "        break    \n",
    "else:\n",
    "    print('It\\'s a Prime Number')"
   ]
  },
  {
   "cell_type": "code",
   "execution_count": null,
   "id": "73051da5",
   "metadata": {},
   "outputs": [],
   "source": []
  },
  {
   "cell_type": "code",
   "execution_count": 39,
   "id": "1e7d94c9",
   "metadata": {},
   "outputs": [
    {
     "data": {
      "text/plain": [
       "59484"
      ]
     },
     "execution_count": 39,
     "metadata": {},
     "output_type": "execute_result"
    }
   ],
   "source": [
    "# some important questions\n",
    "\n",
    "elements = [12,34543,5421,3434,675,5421,3434,5776,554,214]\n",
    "\n",
    "sum(a)"
   ]
  },
  {
   "cell_type": "code",
   "execution_count": 38,
   "id": "281c3087",
   "metadata": {},
   "outputs": [
    {
     "name": "stdout",
     "output_type": "stream",
     "text": [
      "59484\n"
     ]
    }
   ],
   "source": [
    "total = 0\n",
    "\n",
    "for element in elements:\n",
    "    total += element\n",
    "    \n",
    "print(total)"
   ]
  },
  {
   "cell_type": "code",
   "execution_count": 52,
   "id": "fdce81d6",
   "metadata": {},
   "outputs": [
    {
     "data": {
      "text/plain": [
       "34543"
      ]
     },
     "execution_count": 52,
     "metadata": {},
     "output_type": "execute_result"
    }
   ],
   "source": [
    "# min element\n",
    "data =  [6543,412,34543,5421,3434,67,5421,3434,5776,8554,21874]\n",
    "\n",
    "min(data)\n",
    "max(data)"
   ]
  },
  {
   "cell_type": "code",
   "execution_count": 49,
   "id": "f40a85e8",
   "metadata": {},
   "outputs": [
    {
     "name": "stdout",
     "output_type": "stream",
     "text": [
      "67\n"
     ]
    }
   ],
   "source": [
    "my_min = data[2]\n",
    "\n",
    "for i in data:\n",
    "    if i<my_min:\n",
    "        my_min = i\n",
    "        \n",
    "print(my_min)"
   ]
  },
  {
   "cell_type": "code",
   "execution_count": 53,
   "id": "0eea2879",
   "metadata": {},
   "outputs": [
    {
     "name": "stdout",
     "output_type": "stream",
     "text": [
      "34543\n"
     ]
    }
   ],
   "source": [
    "my_max = data[2]\n",
    "\n",
    "for i in data:\n",
    "    if i>my_max:\n",
    "        my_max = i\n",
    "        \n",
    "print(my_max)"
   ]
  },
  {
   "cell_type": "code",
   "execution_count": null,
   "id": "0b02eafe",
   "metadata": {},
   "outputs": [],
   "source": []
  }
 ],
 "metadata": {
  "kernelspec": {
   "display_name": "Python 3 (ipykernel)",
   "language": "python",
   "name": "python3"
  },
  "language_info": {
   "codemirror_mode": {
    "name": "ipython",
    "version": 3
   },
   "file_extension": ".py",
   "mimetype": "text/x-python",
   "name": "python",
   "nbconvert_exporter": "python",
   "pygments_lexer": "ipython3",
   "version": "3.11.3"
  }
 },
 "nbformat": 4,
 "nbformat_minor": 5
}
