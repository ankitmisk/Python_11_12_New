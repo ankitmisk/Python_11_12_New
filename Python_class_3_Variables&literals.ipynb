{
 "cells": [
  {
   "cell_type": "code",
   "execution_count": null,
   "id": "6eeda408",
   "metadata": {},
   "outputs": [],
   "source": [
    "# identifiers/variables\n",
    "\n",
    "# Rules "
   ]
  },
  {
   "cell_type": "code",
   "execution_count": null,
   "id": "b45c1ef8",
   "metadata": {},
   "outputs": [],
   "source": [
    "# 1>>it must not starts with digits\n",
    "# 2>> it must not starts with any special characters\n",
    "# 3>> can contain _(underscore) at any position\n",
    "# 4>> can use digits at any position except first\n",
    "# 5>> can not contain any white charcter or spaces\n",
    "# 6>> python is casesensitive\n",
    "# 7>> it should not be a python keywords"
   ]
  },
  {
   "cell_type": "code",
   "execution_count": null,
   "id": "dce5d165",
   "metadata": {},
   "outputs": [],
   "source": [
    "2a = 'Python'"
   ]
  },
  {
   "cell_type": "code",
   "execution_count": null,
   "id": "0698e3e4",
   "metadata": {},
   "outputs": [],
   "source": [
    "# ~!@#$%^&*()-+=<>;:''\\|?/.,"
   ]
  },
  {
   "cell_type": "code",
   "execution_count": null,
   "id": "e28d1d11",
   "metadata": {},
   "outputs": [],
   "source": [
    "@d = 2"
   ]
  },
  {
   "cell_type": "code",
   "execution_count": null,
   "id": "3a7145fd",
   "metadata": {},
   "outputs": [],
   "source": [
    "?df = 34"
   ]
  },
  {
   "cell_type": "code",
   "execution_count": null,
   "id": "1706d139",
   "metadata": {},
   "outputs": [],
   "source": [
    "!df"
   ]
  },
  {
   "cell_type": "code",
   "execution_count": null,
   "id": "01a36c70",
   "metadata": {},
   "outputs": [],
   "source": [
    "_a = 'python'"
   ]
  },
  {
   "cell_type": "code",
   "execution_count": null,
   "id": "1d20d450",
   "metadata": {},
   "outputs": [],
   "source": [
    "print(_a)"
   ]
  },
  {
   "cell_type": "code",
   "execution_count": null,
   "id": "a523618e",
   "metadata": {},
   "outputs": [],
   "source": [
    "a_b_c = 23\n",
    "print(a_b_c)"
   ]
  },
  {
   "cell_type": "code",
   "execution_count": null,
   "id": "cd6614ac",
   "metadata": {},
   "outputs": [],
   "source": [
    "bus3 = 23"
   ]
  },
  {
   "cell_type": "code",
   "execution_count": null,
   "id": "8b347373",
   "metadata": {},
   "outputs": [],
   "source": [
    "print(bus3)"
   ]
  },
  {
   "cell_type": "code",
   "execution_count": null,
   "id": "dc55b02e",
   "metadata": {},
   "outputs": [],
   "source": [
    "_s34_ab = 'python'"
   ]
  },
  {
   "cell_type": "code",
   "execution_count": null,
   "id": "d60fe11c",
   "metadata": {},
   "outputs": [],
   "source": [
    "full name = 'Mohan Sharma'"
   ]
  },
  {
   "cell_type": "code",
   "execution_count": null,
   "id": "6b186fdd",
   "metadata": {},
   "outputs": [],
   "source": [
    "full_name = 'Mohan Sharma'"
   ]
  },
  {
   "cell_type": "code",
   "execution_count": null,
   "id": "ad16cfe4",
   "metadata": {},
   "outputs": [],
   "source": [
    "      fullName            =                  'Mohan Sharma'"
   ]
  },
  {
   "cell_type": "code",
   "execution_count": null,
   "id": "cb4a7404",
   "metadata": {},
   "outputs": [],
   "source": [
    "a = 'python'"
   ]
  },
  {
   "cell_type": "code",
   "execution_count": null,
   "id": "798732a2",
   "metadata": {},
   "outputs": [],
   "source": [
    "A = 'Java'"
   ]
  },
  {
   "cell_type": "code",
   "execution_count": null,
   "id": "82fb7974",
   "metadata": {},
   "outputs": [],
   "source": [
    "print(a)"
   ]
  },
  {
   "cell_type": "code",
   "execution_count": null,
   "id": "151688db",
   "metadata": {},
   "outputs": [],
   "source": [
    "print(A)"
   ]
  },
  {
   "cell_type": "code",
   "execution_count": null,
   "id": "f2594bfb",
   "metadata": {},
   "outputs": [],
   "source": [
    "name = 'karan'\n",
    "Name = 'Mohan'"
   ]
  },
  {
   "cell_type": "code",
   "execution_count": null,
   "id": "98c242f0",
   "metadata": {},
   "outputs": [],
   "source": [
    "print(name)"
   ]
  },
  {
   "cell_type": "code",
   "execution_count": null,
   "id": "f26cc060",
   "metadata": {},
   "outputs": [],
   "source": [
    "print(Name)"
   ]
  },
  {
   "cell_type": "code",
   "execution_count": null,
   "id": "2dd9d9d0",
   "metadata": {},
   "outputs": [],
   "source": [
    "id(name)"
   ]
  },
  {
   "cell_type": "code",
   "execution_count": null,
   "id": "23046fd8",
   "metadata": {},
   "outputs": [],
   "source": [
    "id(Name)"
   ]
  },
  {
   "cell_type": "code",
   "execution_count": null,
   "id": "a3bce27e",
   "metadata": {},
   "outputs": [],
   "source": [
    "s2234567898765432 = 345"
   ]
  },
  {
   "cell_type": "code",
   "execution_count": null,
   "id": "91486d5d",
   "metadata": {},
   "outputs": [],
   "source": [
    "help('keywords')"
   ]
  },
  {
   "cell_type": "code",
   "execution_count": null,
   "id": "ef697d0b",
   "metadata": {},
   "outputs": [],
   "source": [
    "and = 34"
   ]
  },
  {
   "cell_type": "code",
   "execution_count": null,
   "id": "c8b6ca31",
   "metadata": {},
   "outputs": [],
   "source": [
    "except = 345"
   ]
  },
  {
   "cell_type": "code",
   "execution_count": null,
   "id": "dd9b6af4",
   "metadata": {},
   "outputs": [],
   "source": [
    "My_Complete_Name = 'Mohan Sharma' "
   ]
  },
  {
   "cell_type": "code",
   "execution_count": null,
   "id": "143d45f7",
   "metadata": {},
   "outputs": [],
   "source": [
    "# any data types (rigth side)"
   ]
  },
  {
   "cell_type": "code",
   "execution_count": 1,
   "id": "a80344a1",
   "metadata": {},
   "outputs": [],
   "source": [
    "# max = 'java'"
   ]
  },
  {
   "cell_type": "code",
   "execution_count": null,
   "id": "c674e0e8",
   "metadata": {},
   "outputs": [],
   "source": [
    "print(max)"
   ]
  },
  {
   "cell_type": "code",
   "execution_count": 2,
   "id": "28a765ec",
   "metadata": {},
   "outputs": [
    {
     "data": {
      "text/plain": [
       "3321"
      ]
     },
     "execution_count": 2,
     "metadata": {},
     "output_type": "execute_result"
    }
   ],
   "source": [
    "a = [1,32,3321,3,3245,567,54,3245,547]\n",
    "\n",
    "max(a)"
   ]
  },
  {
   "cell_type": "code",
   "execution_count": 3,
   "id": "51fa18fb",
   "metadata": {},
   "outputs": [],
   "source": [
    "# single data types"
   ]
  },
  {
   "cell_type": "code",
   "execution_count": 4,
   "id": "901a3aed",
   "metadata": {},
   "outputs": [],
   "source": [
    "# str\n",
    "# list\n",
    "# float\n",
    "# int\n",
    "# complex\n",
    "# set\n",
    "# tuple\n",
    "# dict\n",
    "# bool\n",
    "# None"
   ]
  },
  {
   "cell_type": "markdown",
   "id": "50a86238",
   "metadata": {},
   "source": [
    "# String Data Type"
   ]
  },
  {
   "cell_type": "code",
   "execution_count": 6,
   "id": "a23dae8b",
   "metadata": {},
   "outputs": [
    {
     "name": "stdout",
     "output_type": "stream",
     "text": [
      "Python\n"
     ]
    }
   ],
   "source": [
    "a = 'Python'\n",
    "print(a)"
   ]
  },
  {
   "cell_type": "code",
   "execution_count": 7,
   "id": "4ee198e4",
   "metadata": {},
   "outputs": [
    {
     "name": "stdout",
     "output_type": "stream",
     "text": [
      "we can use double quotes\n"
     ]
    }
   ],
   "source": [
    "b = \"we can use double quotes\"\n",
    "print(b)"
   ]
  },
  {
   "cell_type": "code",
   "execution_count": 8,
   "id": "ee74bf61",
   "metadata": {},
   "outputs": [
    {
     "name": "stdout",
     "output_type": "stream",
     "text": [
      "This is python's book\n"
     ]
    }
   ],
   "source": [
    "s = \"This is python's book\"\n",
    "print(s)"
   ]
  },
  {
   "cell_type": "code",
   "execution_count": 9,
   "id": "1bd6a491",
   "metadata": {},
   "outputs": [
    {
     "name": "stdout",
     "output_type": "stream",
     "text": [
      "\"This is python's book\"\n"
     ]
    }
   ],
   "source": [
    "d = '''\"This is python's book\"'''\n",
    "print(d)"
   ]
  },
  {
   "cell_type": "code",
   "execution_count": 15,
   "id": "f3ca832e",
   "metadata": {},
   "outputs": [],
   "source": [
    "s = 'India, officially the Republic of India, is a country in South Asia.\\\n",
    "It is the seventh-largest country by area;                   the most populous country as of June 2023\\\n",
    "and from the time of its independence in 1947, the world\\'s most populous democracy.'"
   ]
  },
  {
   "cell_type": "code",
   "execution_count": 16,
   "id": "ed2d3a67",
   "metadata": {},
   "outputs": [
    {
     "name": "stdout",
     "output_type": "stream",
     "text": [
      "India, officially the Republic of India, is a country in South Asia.It is the seventh-largest country by area;                   the most populous country as of June 2023and from the time of its independence in 1947, the world's most populous democracy.\n"
     ]
    }
   ],
   "source": [
    "print(s)"
   ]
  },
  {
   "cell_type": "code",
   "execution_count": 14,
   "id": "5935ab48",
   "metadata": {},
   "outputs": [
    {
     "name": "stdout",
     "output_type": "stream",
     "text": [
      "India, officially the Republic of India, is a country in South Asia.\n",
      "It is the seventh-largest country by area;                       \n",
      "                                    the most populous country as of June 2023\n",
      "and from the time of its independence in 1947, the world's most populous democracy.\n"
     ]
    }
   ],
   "source": [
    "d = '''India, officially the Republic of India, is a country in South Asia.\n",
    "It is the seventh-largest country by area;                       \n",
    "                                    the most populous country as of June 2023\n",
    "and from the time of its independence in 1947, the world's most populous democracy.'''\n",
    "\n",
    "print(d)"
   ]
  },
  {
   "cell_type": "code",
   "execution_count": 17,
   "id": "18464d0c",
   "metadata": {},
   "outputs": [
    {
     "name": "stdout",
     "output_type": "stream",
     "text": [
      "India, officially the Republic of India, is a country in South Asia.\n",
      "It is the seventh-largest country by area;                       \n",
      "                                    the most populous country as of June 2023\n",
      "and from the time of its independence in 1947, the world's most populous democracy.\n"
     ]
    }
   ],
   "source": [
    "d = \"\"\"India, officially the Republic of India, is a country in South Asia.\n",
    "It is the seventh-largest country by area;                       \n",
    "                                    the most populous country as of June 2023\n",
    "and from the time of its independence in 1947, the world's most populous democracy.\"\"\"\n",
    "\n",
    "print(d)"
   ]
  },
  {
   "cell_type": "code",
   "execution_count": 18,
   "id": "8bba91dc",
   "metadata": {},
   "outputs": [
    {
     "name": "stdout",
     "output_type": "stream",
     "text": [
      "python\n"
     ]
    }
   ],
   "source": [
    "s = 'python'\n",
    "\n",
    "print(s)"
   ]
  },
  {
   "cell_type": "code",
   "execution_count": 20,
   "id": "9af95f9e",
   "metadata": {},
   "outputs": [],
   "source": [
    "# basic operations"
   ]
  },
  {
   "cell_type": "code",
   "execution_count": 25,
   "id": "7c837680",
   "metadata": {},
   "outputs": [],
   "source": [
    "a = 'Hello'\n",
    "b = ' Python'"
   ]
  },
  {
   "cell_type": "code",
   "execution_count": 26,
   "id": "8f92b82a",
   "metadata": {},
   "outputs": [
    {
     "name": "stdout",
     "output_type": "stream",
     "text": [
      "Hello Python\n"
     ]
    }
   ],
   "source": [
    "print(a+b)"
   ]
  },
  {
   "cell_type": "code",
   "execution_count": 27,
   "id": "6eea61ce",
   "metadata": {},
   "outputs": [
    {
     "name": "stdout",
     "output_type": "stream",
     "text": [
      "Wolrd\n"
     ]
    }
   ],
   "source": [
    "# \n",
    "s = 'Wolrd'\n",
    "\n",
    "print(s)"
   ]
  },
  {
   "cell_type": "code",
   "execution_count": 31,
   "id": "ad15b1e4",
   "metadata": {},
   "outputs": [
    {
     "name": "stdout",
     "output_type": "stream",
     "text": [
      "world world world world world world world world world world world world world world world world world world world world world world world world world world world world world world world world world world world world world world world world world world world world world world world world world world world world world world world world world world world world world world world world world world world world world world world world world world world world world world world world world world world world world world world world world world world world world world world world world world world world world world world world world world world world world world world world world world world world world world world world world world world world world world world world world world world world world world world world world world world world world world world world world world world world world world world world world world world world world world world world world world world world world world world world world world world world world world world world world world world world world world world world world world world world world world world world world world world world world world world world world world world world world world world world world world world world world world world world world world world world world world world world world world world world world world world world world world world world world world world world world world world world world world world world world world world world world world world world world world world world world world world world world world world world world world world world world world world world world world world world world world world world world world world world world world world world world world world world world world world world world world world world world world world world world world world world world world world world world world world world world world world world world world world world world world world world world world world world world world world world world world world world world world world world world world world world world world world world world world world world world world world world world world world world world world world world world world world world world world world world world world world world world world world world world world world world world world world world world world world world world world world world world world world world world world world world world world world world world world world world world world world world world world world world world world world world world world world world world world world world world world world world world world world world world world world world world world world world world world world world world world world world world world world world world world world world world world world world world world world world world world world world world world world world world world world world world world world world world world world world world world world world world world world world world world world world world world world world world world world world world world world world world world world world world world world world world world world world world world world world world world world world world world world world world world world world world world world world world world world world world world world world world world world world world world world world world world world world world world world world world world world world world world world world world world world world world world world world world world world world world world world world world world world world world world world world world world world world world world world world world world world world world world world world world world world world world world world world world world world world world world world world world world world world world world world world world world world world world world world world world world world world world world world world world world world world world world world world world world world world world world world world world world world world world world world world world world world world world world world world world world world world world world world world world world world world world world world world world world world world world world world world world world world world world world world world world world world world world world world world world world world world world world world world world world world world world world world world world world world world world world world world world world world world world world world world world world world world world world world world world world world world world world world world world world world world world world world world world world world world world world world world world world world world world world world world world world world world world world world world world world world world world world world world world world world world world world world world world world world world world world world world world world world world world world world world world world world world world world world world world world world world world world world world world world world world world world world world world world world world world world world world world world world world world world world world world world world world world world world world world world world world world world world world world world world world world world world world world world world world world world world world world world world world world world world world world world world world world world world world world world world world world world world world world world world world world world world world world world world world world world world world world world world world world world world world world world world world world world world world world world world world world world world world world world world world world world world world world world world world \n"
     ]
    }
   ],
   "source": [
    "s = 'world '\n",
    "\n",
    "print(s*1000)"
   ]
  },
  {
   "cell_type": "code",
   "execution_count": 32,
   "id": "a62a69db",
   "metadata": {},
   "outputs": [],
   "source": [
    "# 5\n",
    "# 5 5\n",
    "# 5 5 5\n",
    "# 5 5 5 5\n",
    "# 5 5 5 5 5"
   ]
  },
  {
   "cell_type": "code",
   "execution_count": 36,
   "id": "cddc93c2",
   "metadata": {},
   "outputs": [],
   "source": []
  },
  {
   "cell_type": "code",
   "execution_count": 42,
   "id": "d0d9d6f4",
   "metadata": {},
   "outputs": [
    {
     "name": "stdout",
     "output_type": "stream",
     "text": [
      "India\n",
      "India\n",
      "India\n",
      "India\n",
      "India\n",
      "India\n",
      "India\n",
      "India\n",
      "India\n",
      "India\n",
      "India\n",
      "India\n",
      "India\n",
      "India\n",
      "India\n",
      "India\n",
      "India\n",
      "India\n",
      "India\n",
      "India\n",
      "India\n",
      "India\n",
      "India\n",
      "India\n",
      "India\n",
      "India\n",
      "India\n",
      "India\n",
      "India\n",
      "India\n",
      "India\n",
      "India\n",
      "India\n",
      "India\n",
      "India\n",
      "India\n",
      "India\n",
      "India\n",
      "India\n",
      "India\n",
      "India\n",
      "India\n",
      "India\n",
      "India\n",
      "India\n",
      "India\n",
      "India\n",
      "India\n",
      "India\n",
      "India\n",
      "India\n",
      "India\n",
      "India\n",
      "India\n",
      "India\n",
      "India\n",
      "India\n",
      "India\n",
      "India\n",
      "India\n",
      "India\n",
      "India\n",
      "India\n",
      "India\n",
      "India\n",
      "India\n",
      "India\n",
      "India\n",
      "India\n",
      "India\n",
      "India\n",
      "India\n",
      "India\n",
      "India\n",
      "India\n",
      "India\n",
      "India\n",
      "India\n",
      "India\n",
      "India\n",
      "India\n",
      "India\n",
      "India\n",
      "India\n",
      "India\n",
      "India\n",
      "India\n",
      "India\n",
      "India\n",
      "India\n",
      "India\n",
      "India\n",
      "India\n",
      "India\n",
      "India\n",
      "India\n",
      "India\n",
      "India\n",
      "India\n",
      "India\n",
      "\n"
     ]
    }
   ],
   "source": [
    "a = 'India\\n'\n",
    "print(a*100)"
   ]
  },
  {
   "cell_type": "code",
   "execution_count": 48,
   "id": "8a9e0d63",
   "metadata": {},
   "outputs": [
    {
     "name": "stdout",
     "output_type": "stream",
     "text": [
      "This is\n",
      "Elon Musk\n"
     ]
    }
   ],
   "source": [
    "a = 'This is\\nElon Musk'\n",
    "\n",
    "print(a)"
   ]
  },
  {
   "cell_type": "code",
   "execution_count": 59,
   "id": "99760c17",
   "metadata": {},
   "outputs": [],
   "source": [
    "b = '''This is\n",
    "\\n\\n\\nElon Musk'''"
   ]
  },
  {
   "cell_type": "code",
   "execution_count": 60,
   "id": "cdbe20dd",
   "metadata": {},
   "outputs": [
    {
     "name": "stdout",
     "output_type": "stream",
     "text": [
      "This is\n",
      "\n",
      "\n",
      "\n",
      "Elon Musk\n"
     ]
    }
   ],
   "source": [
    "print(b)"
   ]
  },
  {
   "cell_type": "code",
   "execution_count": 61,
   "id": "d100ab76",
   "metadata": {},
   "outputs": [
    {
     "ename": "TypeError",
     "evalue": "unsupported operand type(s) for -: 'str' and 'str'",
     "output_type": "error",
     "traceback": [
      "\u001b[1;31m---------------------------------------------------------------------------\u001b[0m",
      "\u001b[1;31mTypeError\u001b[0m                                 Traceback (most recent call last)",
      "Cell \u001b[1;32mIn[61], line 4\u001b[0m\n\u001b[0;32m      1\u001b[0m a \u001b[38;5;241m=\u001b[39m \u001b[38;5;124m'\u001b[39m\u001b[38;5;124maman\u001b[39m\u001b[38;5;124m'\u001b[39m\n\u001b[0;32m      2\u001b[0m b \u001b[38;5;241m=\u001b[39m \u001b[38;5;124m'\u001b[39m\u001b[38;5;124mkaran\u001b[39m\u001b[38;5;124m'\u001b[39m\n\u001b[1;32m----> 4\u001b[0m a\u001b[38;5;241m-\u001b[39mb\n",
      "\u001b[1;31mTypeError\u001b[0m: unsupported operand type(s) for -: 'str' and 'str'"
     ]
    }
   ],
   "source": [
    "a = 'aman'\n",
    "b = 'karan'\n",
    "\n",
    "a-b"
   ]
  },
  {
   "cell_type": "code",
   "execution_count": null,
   "id": "8568261c",
   "metadata": {},
   "outputs": [],
   "source": []
  }
 ],
 "metadata": {
  "kernelspec": {
   "display_name": "Python 3 (ipykernel)",
   "language": "python",
   "name": "python3"
  },
  "language_info": {
   "codemirror_mode": {
    "name": "ipython",
    "version": 3
   },
   "file_extension": ".py",
   "mimetype": "text/x-python",
   "name": "python",
   "nbconvert_exporter": "python",
   "pygments_lexer": "ipython3",
   "version": "3.11.3"
  }
 },
 "nbformat": 4,
 "nbformat_minor": 5
}
