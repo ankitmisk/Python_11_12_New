{
 "cells": [
  {
   "cell_type": "code",
   "execution_count": 1,
   "id": "80ba5204",
   "metadata": {},
   "outputs": [],
   "source": [
    "# For loop:- range: list/tuple\n",
    "\n",
    "# While loop:- based on given conditions"
   ]
  },
  {
   "cell_type": "code",
   "execution_count": 8,
   "id": "391689b9",
   "metadata": {},
   "outputs": [
    {
     "name": "stdout",
     "output_type": "stream",
     "text": [
      "0 [1, 2, 3, 5, 6, 7]\n",
      "1 [1, 2, 3, 5, 6, 7]\n",
      "2 [1, 2, 3, 5, 6, 7]\n",
      "3 [1, 2, 3, 5, 6, 7]\n",
      "4 [1, 2, 3, 5, 6, 7]\n",
      "5 [1, 2, 3, 5, 6, 7]\n",
      "6 [1, 2, 3, 5, 6, 7]\n",
      "7 [1, 2, 3, 5, 6, 7]\n",
      "8 [1, 2, 3, 5, 6, 7]\n",
      "9 [1, 2, 3, 5, 6, 7]\n",
      "10 [1, 2, 3, 5, 6, 7]\n",
      "11 [1, 2, 3, 5, 6, 7]\n",
      "12 [1, 2, 3, 5, 6, 7]\n"
     ]
    }
   ],
   "source": [
    "a = [1,2,3,5,6,7]\n",
    "\n",
    "c = 0\n",
    "while c<13:\n",
    "    print(c,a)\n",
    "    c+=1"
   ]
  },
  {
   "cell_type": "code",
   "execution_count": 9,
   "id": "b176f056",
   "metadata": {},
   "outputs": [
    {
     "name": "stdout",
     "output_type": "stream",
     "text": [
      "13\n"
     ]
    }
   ],
   "source": [
    "print(c)"
   ]
  },
  {
   "cell_type": "code",
   "execution_count": 11,
   "id": "1e0f7bac",
   "metadata": {},
   "outputs": [
    {
     "name": "stdout",
     "output_type": "stream",
     "text": [
      "1\n",
      "12\n",
      "3\n",
      "4\n",
      "54\n",
      "56\n",
      "67\n",
      "43\n",
      "2\n",
      "23\n",
      "3\n",
      "2\n"
     ]
    }
   ],
   "source": [
    "# while loop iterate element\n",
    "\n",
    "a = [1,12,3,4,54,56,67,43,2,23,3,2]\n",
    "\n",
    "c = 0\n",
    "\n",
    "while c<len(a):\n",
    "    print(a[c])\n",
    "    c+=1"
   ]
  },
  {
   "cell_type": "code",
   "execution_count": 12,
   "id": "2e21277e",
   "metadata": {},
   "outputs": [
    {
     "name": "stdout",
     "output_type": "stream",
     "text": [
      "1\n",
      "12\n",
      "3\n",
      "4\n",
      "54\n",
      "56\n",
      "67\n",
      "43\n",
      "2\n",
      "23\n",
      "3\n",
      "2\n"
     ]
    }
   ],
   "source": [
    "a = (1,12,3,4,54,56,67,43,2,23,3,2)\n",
    "\n",
    "c = 0\n",
    "\n",
    "while c<len(a):\n",
    "    print(a[c])\n",
    "    c+=1"
   ]
  },
  {
   "cell_type": "code",
   "execution_count": 13,
   "id": "5c0460da",
   "metadata": {},
   "outputs": [
    {
     "name": "stdout",
     "output_type": "stream",
     "text": [
      "A\n",
      "B\n",
      "C\n",
      "D\n",
      "E\n",
      "F\n",
      "R\n",
      "H\n",
      "J\n",
      "J\n",
      "H\n",
      "V\n",
      "G\n",
      "F\n",
      "F\n",
      "C\n",
      "V\n"
     ]
    }
   ],
   "source": [
    "a = 'ABCDEFRHJJHVGFFCV'\n",
    "\n",
    "c = 0\n",
    "\n",
    "while c<len(a):\n",
    "    print(a[c])\n",
    "    c+=1"
   ]
  },
  {
   "cell_type": "code",
   "execution_count": 17,
   "id": "a13d4c15",
   "metadata": {},
   "outputs": [
    {
     "name": "stdout",
     "output_type": "stream",
     "text": [
      "5 x 1 = 5\n",
      "5 x 2 = 10\n",
      "5 x 3 = 15\n",
      "5 x 4 = 20\n",
      "5 x 5 = 25\n",
      "5 x 6 = 30\n",
      "5 x 7 = 35\n",
      "5 x 8 = 40\n",
      "5 x 9 = 45\n",
      "5 x 10 = 50\n"
     ]
    }
   ],
   "source": [
    "table = 5\n",
    "\n",
    "c = 1\n",
    "while c<11:\n",
    "    print(f'{table} x {c} = {table*c}')\n",
    "    c+=1"
   ]
  },
  {
   "cell_type": "code",
   "execution_count": 18,
   "id": "aa4866a7",
   "metadata": {},
   "outputs": [
    {
     "name": "stdout",
     "output_type": "stream",
     "text": [
      "Hello World\n",
      "Hello World\n",
      "Hello World\n",
      "Hello World\n",
      "Hello World\n",
      "Hello World\n",
      "Hello World\n",
      "Hello World\n",
      "Hello World\n",
      "Hello World\n"
     ]
    },
    {
     "ename": "KeyboardInterrupt",
     "evalue": "",
     "output_type": "error",
     "traceback": [
      "\u001b[1;31m---------------------------------------------------------------------------\u001b[0m",
      "\u001b[1;31mKeyboardInterrupt\u001b[0m                         Traceback (most recent call last)",
      "Cell \u001b[1;32mIn[18], line 5\u001b[0m\n\u001b[0;32m      3\u001b[0m \u001b[38;5;28;01mwhile\u001b[39;00m \u001b[38;5;241m2\u001b[39m\u001b[38;5;241m==\u001b[39m\u001b[38;5;241m2\u001b[39m:\n\u001b[0;32m      4\u001b[0m     \u001b[38;5;28mprint\u001b[39m(\u001b[38;5;124m'\u001b[39m\u001b[38;5;124mHello World\u001b[39m\u001b[38;5;124m'\u001b[39m)\n\u001b[1;32m----> 5\u001b[0m     time\u001b[38;5;241m.\u001b[39msleep(\u001b[38;5;241m1\u001b[39m)\n",
      "\u001b[1;31mKeyboardInterrupt\u001b[0m: "
     ]
    }
   ],
   "source": [
    "import time\n",
    "\n",
    "while 2==2:\n",
    "    print('Hello World')\n",
    "    time.sleep(1)"
   ]
  },
  {
   "cell_type": "code",
   "execution_count": 19,
   "id": "1cfb7e02",
   "metadata": {},
   "outputs": [],
   "source": [
    "#Time print"
   ]
  },
  {
   "cell_type": "code",
   "execution_count": 21,
   "id": "5f129597",
   "metadata": {},
   "outputs": [
    {
     "name": "stdout",
     "output_type": "stream",
     "text": [
      "Thu Apr 18 12:16:23 2024\n"
     ]
    }
   ],
   "source": [
    "print(time.asctime())"
   ]
  },
  {
   "cell_type": "code",
   "execution_count": 23,
   "id": "780e286f",
   "metadata": {},
   "outputs": [
    {
     "name": "stdout",
     "output_type": "stream",
     "text": [
      "Thu Apr 18 12:17:38 2024\n"
     ]
    },
    {
     "ename": "KeyboardInterrupt",
     "evalue": "",
     "output_type": "error",
     "traceback": [
      "\u001b[1;31m---------------------------------------------------------------------------\u001b[0m",
      "\u001b[1;31mKeyboardInterrupt\u001b[0m                         Traceback (most recent call last)",
      "Cell \u001b[1;32mIn[23], line 3\u001b[0m\n\u001b[0;32m      1\u001b[0m \u001b[38;5;28;01mwhile\u001b[39;00m \u001b[38;5;28;01mTrue\u001b[39;00m:\n\u001b[0;32m      2\u001b[0m     \u001b[38;5;28mprint\u001b[39m(time\u001b[38;5;241m.\u001b[39masctime())\n\u001b[1;32m----> 3\u001b[0m     time\u001b[38;5;241m.\u001b[39msleep(\u001b[38;5;241m1\u001b[39m)\n\u001b[0;32m      4\u001b[0m     display(clear\u001b[38;5;241m=\u001b[39m\u001b[38;5;28;01mTrue\u001b[39;00m)\n",
      "\u001b[1;31mKeyboardInterrupt\u001b[0m: "
     ]
    }
   ],
   "source": [
    "while True:\n",
    "    print(time.asctime())\n",
    "    time.sleep(1)\n",
    "    display(clear=True)"
   ]
  },
  {
   "cell_type": "code",
   "execution_count": 24,
   "id": "d57c25ce",
   "metadata": {},
   "outputs": [],
   "source": [
    "# nested while loop"
   ]
  },
  {
   "cell_type": "code",
   "execution_count": 32,
   "id": "bf42887a",
   "metadata": {},
   "outputs": [
    {
     "name": "stdout",
     "output_type": "stream",
     "text": [
      "2 x 1 = 2\n",
      "2 x 2 = 4\n",
      "2 x 3 = 6\n",
      "2 x 4 = 8\n",
      "2 x 5 = 10\n",
      "2 x 6 = 12\n",
      "2 x 7 = 14\n",
      "2 x 8 = 16\n",
      "2 x 9 = 18\n",
      "2 x 10 = 20\n",
      "\n",
      "3 x 1 = 3\n",
      "3 x 2 = 6\n",
      "3 x 3 = 9\n",
      "3 x 4 = 12\n",
      "3 x 5 = 15\n",
      "3 x 6 = 18\n",
      "3 x 7 = 21\n",
      "3 x 8 = 24\n",
      "3 x 9 = 27\n",
      "3 x 10 = 30\n",
      "\n",
      "4 x 1 = 4\n",
      "4 x 2 = 8\n",
      "4 x 3 = 12\n",
      "4 x 4 = 16\n",
      "4 x 5 = 20\n",
      "4 x 6 = 24\n",
      "4 x 7 = 28\n",
      "4 x 8 = 32\n",
      "4 x 9 = 36\n",
      "4 x 10 = 40\n",
      "\n",
      "5 x 1 = 5\n",
      "5 x 2 = 10\n",
      "5 x 3 = 15\n",
      "5 x 4 = 20\n",
      "5 x 5 = 25\n",
      "5 x 6 = 30\n",
      "5 x 7 = 35\n",
      "5 x 8 = 40\n",
      "5 x 9 = 45\n",
      "5 x 10 = 50\n",
      "\n",
      "6 x 1 = 6\n",
      "6 x 2 = 12\n",
      "6 x 3 = 18\n",
      "6 x 4 = 24\n",
      "6 x 5 = 30\n",
      "6 x 6 = 36\n",
      "6 x 7 = 42\n",
      "6 x 8 = 48\n",
      "6 x 9 = 54\n",
      "6 x 10 = 60\n",
      "\n",
      "7 x 1 = 7\n",
      "7 x 2 = 14\n",
      "7 x 3 = 21\n",
      "7 x 4 = 28\n",
      "7 x 5 = 35\n",
      "7 x 6 = 42\n",
      "7 x 7 = 49\n",
      "7 x 8 = 56\n",
      "7 x 9 = 63\n",
      "7 x 10 = 70\n",
      "\n",
      "8 x 1 = 8\n",
      "8 x 2 = 16\n",
      "8 x 3 = 24\n",
      "8 x 4 = 32\n",
      "8 x 5 = 40\n",
      "8 x 6 = 48\n",
      "8 x 7 = 56\n",
      "8 x 8 = 64\n",
      "8 x 9 = 72\n",
      "8 x 10 = 80\n",
      "\n",
      "9 x 1 = 9\n",
      "9 x 2 = 18\n",
      "9 x 3 = 27\n",
      "9 x 4 = 36\n",
      "9 x 5 = 45\n",
      "9 x 6 = 54\n",
      "9 x 7 = 63\n",
      "9 x 8 = 72\n",
      "9 x 9 = 81\n",
      "9 x 10 = 90\n",
      "\n",
      "10 x 1 = 10\n",
      "10 x 2 = 20\n",
      "10 x 3 = 30\n",
      "10 x 4 = 40\n",
      "10 x 5 = 50\n",
      "10 x 6 = 60\n",
      "10 x 7 = 70\n",
      "10 x 8 = 80\n",
      "10 x 9 = 90\n",
      "10 x 10 = 100\n",
      "\n",
      "11 x 1 = 11\n",
      "11 x 2 = 22\n",
      "11 x 3 = 33\n",
      "11 x 4 = 44\n",
      "11 x 5 = 55\n",
      "11 x 6 = 66\n",
      "11 x 7 = 77\n",
      "11 x 8 = 88\n",
      "11 x 9 = 99\n",
      "11 x 10 = 110\n",
      "\n",
      "12 x 1 = 12\n",
      "12 x 2 = 24\n",
      "12 x 3 = 36\n",
      "12 x 4 = 48\n",
      "12 x 5 = 60\n",
      "12 x 6 = 72\n",
      "12 x 7 = 84\n",
      "12 x 8 = 96\n",
      "12 x 9 = 108\n",
      "12 x 10 = 120\n",
      "\n",
      "13 x 1 = 13\n",
      "13 x 2 = 26\n",
      "13 x 3 = 39\n",
      "13 x 4 = 52\n",
      "13 x 5 = 65\n",
      "13 x 6 = 78\n",
      "13 x 7 = 91\n",
      "13 x 8 = 104\n",
      "13 x 9 = 117\n",
      "13 x 10 = 130\n",
      "\n",
      "14 x 1 = 14\n",
      "14 x 2 = 28\n",
      "14 x 3 = 42\n",
      "14 x 4 = 56\n",
      "14 x 5 = 70\n",
      "14 x 6 = 84\n",
      "14 x 7 = 98\n",
      "14 x 8 = 112\n",
      "14 x 9 = 126\n",
      "14 x 10 = 140\n",
      "\n",
      "15 x 1 = 15\n",
      "15 x 2 = 30\n",
      "15 x 3 = 45\n",
      "15 x 4 = 60\n",
      "15 x 5 = 75\n",
      "15 x 6 = 90\n",
      "15 x 7 = 105\n",
      "15 x 8 = 120\n",
      "15 x 9 = 135\n",
      "15 x 10 = 150\n",
      "\n",
      "16 x 1 = 16\n",
      "16 x 2 = 32\n",
      "16 x 3 = 48\n",
      "16 x 4 = 64\n",
      "16 x 5 = 80\n",
      "16 x 6 = 96\n",
      "16 x 7 = 112\n",
      "16 x 8 = 128\n",
      "16 x 9 = 144\n",
      "16 x 10 = 160\n",
      "\n",
      "17 x 1 = 17\n",
      "17 x 2 = 34\n",
      "17 x 3 = 51\n",
      "17 x 4 = 68\n",
      "17 x 5 = 85\n",
      "17 x 6 = 102\n",
      "17 x 7 = 119\n",
      "17 x 8 = 136\n",
      "17 x 9 = 153\n",
      "17 x 10 = 170\n",
      "\n",
      "18 x 1 = 18\n",
      "18 x 2 = 36\n",
      "18 x 3 = 54\n",
      "18 x 4 = 72\n",
      "18 x 5 = 90\n",
      "18 x 6 = 108\n",
      "18 x 7 = 126\n",
      "18 x 8 = 144\n",
      "18 x 9 = 162\n",
      "18 x 10 = 180\n",
      "\n",
      "19 x 1 = 19\n",
      "19 x 2 = 38\n",
      "19 x 3 = 57\n",
      "19 x 4 = 76\n",
      "19 x 5 = 95\n",
      "19 x 6 = 114\n",
      "19 x 7 = 133\n",
      "19 x 8 = 152\n",
      "19 x 9 = 171\n",
      "19 x 10 = 190\n",
      "\n",
      "20 x 1 = 20\n",
      "20 x 2 = 40\n",
      "20 x 3 = 60\n",
      "20 x 4 = 80\n",
      "20 x 5 = 100\n",
      "20 x 6 = 120\n",
      "20 x 7 = 140\n",
      "20 x 8 = 160\n",
      "20 x 9 = 180\n",
      "20 x 10 = 200\n",
      "\n"
     ]
    }
   ],
   "source": [
    "a = 2\n",
    "b = 1\n",
    "while a<21:\n",
    "    \n",
    "#     b = 1 \n",
    "    while b<11:\n",
    "        print(f\"{a} x {b} = {a*b}\")\n",
    "        \n",
    "        b+=1\n",
    "        \n",
    "    b-=10\n",
    "    \n",
    "    a+=1\n",
    "    print()"
   ]
  },
  {
   "cell_type": "code",
   "execution_count": 33,
   "id": "b9fd125f",
   "metadata": {},
   "outputs": [],
   "source": [
    "# break, continue,pass"
   ]
  },
  {
   "cell_type": "code",
   "execution_count": 38,
   "id": "9af6c34a",
   "metadata": {},
   "outputs": [
    {
     "name": "stdout",
     "output_type": "stream",
     "text": [
      "1 : 1\n",
      "23 : 529\n",
      "4 : 16\n",
      "456 : 207936\n"
     ]
    }
   ],
   "source": [
    "a = [1,23,4,456,21,33,5457]\n",
    "\n",
    "c = 0\n",
    "\n",
    "while c<len(a):\n",
    "    if a[c]!=21:\n",
    "        print(a[c],':',a[c]**2)\n",
    "    else:\n",
    "        break\n",
    "    c+=1"
   ]
  },
  {
   "cell_type": "code",
   "execution_count": 39,
   "id": "c88f8ced",
   "metadata": {},
   "outputs": [
    {
     "ename": "KeyboardInterrupt",
     "evalue": "",
     "output_type": "error",
     "traceback": [
      "\u001b[1;31m---------------------------------------------------------------------------\u001b[0m",
      "\u001b[1;31mKeyboardInterrupt\u001b[0m                         Traceback (most recent call last)",
      "Cell \u001b[1;32mIn[39], line 3\u001b[0m\n\u001b[0;32m      1\u001b[0m a \u001b[38;5;241m=\u001b[39m [\u001b[38;5;241m1\u001b[39m,\u001b[38;5;241m23\u001b[39m,\u001b[38;5;241m4\u001b[39m,\u001b[38;5;241m456\u001b[39m,\u001b[38;5;241m21\u001b[39m,\u001b[38;5;241m33\u001b[39m,\u001b[38;5;241m5457\u001b[39m]\n\u001b[1;32m----> 3\u001b[0m \u001b[38;5;28;01mwhile\u001b[39;00m \u001b[38;5;28;01mTrue\u001b[39;00m:\n\u001b[0;32m      4\u001b[0m     \u001b[38;5;28;01mpass\u001b[39;00m\n",
      "\u001b[1;31mKeyboardInterrupt\u001b[0m: "
     ]
    }
   ],
   "source": [
    "a = [1,23,4,456,21,33,5457]\n",
    "\n",
    "while True:\n",
    "    pass"
   ]
  },
  {
   "cell_type": "code",
   "execution_count": 40,
   "id": "fad98f5d",
   "metadata": {},
   "outputs": [],
   "source": [
    "while c<len(a):\n",
    "    pass\n",
    "    c+=1"
   ]
  },
  {
   "cell_type": "code",
   "execution_count": 41,
   "id": "486c398d",
   "metadata": {},
   "outputs": [
    {
     "data": {
      "text/plain": [
       "[1, 23, 4, 456, 21, 33, 5457]"
      ]
     },
     "execution_count": 41,
     "metadata": {},
     "output_type": "execute_result"
    }
   ],
   "source": [
    "a"
   ]
  },
  {
   "cell_type": "code",
   "execution_count": 42,
   "id": "2a72cda9",
   "metadata": {},
   "outputs": [
    {
     "name": "stdout",
     "output_type": "stream",
     "text": [
      "1 : 1\n",
      "23 : 529\n",
      "4 : 16\n",
      "456 : 207936\n",
      "33 : 1089\n",
      "5457 : 29778849\n"
     ]
    }
   ],
   "source": [
    "counter = 0\n",
    "while counter<len(a):\n",
    "    if a[counter] == 21:\n",
    "        pass\n",
    "    else:\n",
    "        print(a[counter],':',a[counter]**2)\n",
    "    counter+=1"
   ]
  },
  {
   "cell_type": "code",
   "execution_count": 43,
   "id": "be5c6ff8",
   "metadata": {},
   "outputs": [
    {
     "data": {
      "text/plain": [
       "[1, 23, 4, 456, 21, 33, 5457]"
      ]
     },
     "execution_count": 43,
     "metadata": {},
     "output_type": "execute_result"
    }
   ],
   "source": [
    "a"
   ]
  },
  {
   "cell_type": "code",
   "execution_count": 49,
   "id": "1e1af483",
   "metadata": {},
   "outputs": [
    {
     "name": "stdout",
     "output_type": "stream",
     "text": [
      "1 : 1\n",
      "23 : 529\n",
      "4 : 16\n",
      "456 : 207936\n"
     ]
    }
   ],
   "source": [
    "counter = 0\n",
    "while counter<len(a):\n",
    "    if a[counter] == 21:\n",
    "        counter+=1\n",
    "        continue\n",
    "        \n",
    "    else:\n",
    "        print(a[counter],':',a[counter]**2)\n",
    "    \n",
    "    counter+=1\n"
   ]
  },
  {
   "cell_type": "code",
   "execution_count": 51,
   "id": "82bcdf5f",
   "metadata": {},
   "outputs": [],
   "source": [
    "while True:\n",
    "    break"
   ]
  },
  {
   "cell_type": "code",
   "execution_count": 65,
   "id": "877356a3",
   "metadata": {},
   "outputs": [
    {
     "name": "stdout",
     "output_type": "stream",
     "text": [
      "[5, 6]\n"
     ]
    }
   ],
   "source": [
    "# common elements\n",
    "\n",
    "a = [1,2,3,45,5,6,76,78]\n",
    "b = [4,5,6,7,8,89]\n",
    "\n",
    "common = []\n",
    "\n",
    "c = 0\n",
    "while c<len(a):\n",
    "    d  = 0\n",
    "    while d<len(b):\n",
    "        if a[c] == b[d]:\n",
    "            common.append(a[c])\n",
    "        d+=1\n",
    "    c+=1\n",
    "    \n",
    "print(common)"
   ]
  },
  {
   "cell_type": "code",
   "execution_count": 67,
   "id": "92b4bcc5",
   "metadata": {},
   "outputs": [
    {
     "name": "stdout",
     "output_type": "stream",
     "text": [
      "[3, 5, 6]\n"
     ]
    }
   ],
   "source": [
    "a = [1,2,3,45,5,6,76,78]\n",
    "b = [4,5,3,6,7,8,89]\n",
    "c = [4,5,3,6,7,8,90,0]\n",
    "\n",
    "common = []\n",
    "\n",
    "\n",
    "\n",
    "counter1 = 0\n",
    "while counter1<len(a):\n",
    "    \n",
    "    counter2 = 0\n",
    "    while counter2<len(b):\n",
    "        \n",
    "        counter3 = 0\n",
    "        while counter3<len(c):\n",
    "            \n",
    "            if a[counter1] == b[counter2] == c[counter3]:\n",
    "                \n",
    "                common.append(a[counter1])\n",
    "            \n",
    "            counter3+=1\n",
    "        \n",
    "        counter2+=1\n",
    "    \n",
    "    counter1+=1\n",
    "    \n",
    "print(common)"
   ]
  },
  {
   "cell_type": "code",
   "execution_count": null,
   "id": "8b9187b4",
   "metadata": {},
   "outputs": [],
   "source": []
  }
 ],
 "metadata": {
  "kernelspec": {
   "display_name": "Python 3 (ipykernel)",
   "language": "python",
   "name": "python3"
  },
  "language_info": {
   "codemirror_mode": {
    "name": "ipython",
    "version": 3
   },
   "file_extension": ".py",
   "mimetype": "text/x-python",
   "name": "python",
   "nbconvert_exporter": "python",
   "pygments_lexer": "ipython3",
   "version": "3.11.3"
  }
 },
 "nbformat": 4,
 "nbformat_minor": 5
}
