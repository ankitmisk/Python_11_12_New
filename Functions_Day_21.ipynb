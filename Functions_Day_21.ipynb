{
 "cells": [
  {
   "cell_type": "code",
   "execution_count": 1,
   "id": "9e5e4dbd",
   "metadata": {},
   "outputs": [],
   "source": [
    "# basic: conditional programming\n",
    "# intermediate:- Functional programming\n",
    "# Advance:- OOPS Programming"
   ]
  },
  {
   "cell_type": "markdown",
   "id": "acfa730a",
   "metadata": {},
   "source": [
    "# Functions"
   ]
  },
  {
   "cell_type": "code",
   "execution_count": 3,
   "id": "a8a3816e",
   "metadata": {},
   "outputs": [
    {
     "name": "stdout",
     "output_type": "stream",
     "text": [
      "Enter your name: karan\n",
      "Hello karan, How are you??\n"
     ]
    }
   ],
   "source": [
    "name = input('Enter your name: ')\n",
    "\n",
    "print(f'Hello {name}, How are you??')"
   ]
  },
  {
   "cell_type": "code",
   "execution_count": null,
   "id": "f2bf5ab2",
   "metadata": {},
   "outputs": [],
   "source": []
  },
  {
   "cell_type": "code",
   "execution_count": 6,
   "id": "da925c18",
   "metadata": {},
   "outputs": [],
   "source": [
    "def greet():\n",
    "    name = input('Enter your name: ')\n",
    "    print(f'Hello {name}, How are you??')    "
   ]
  },
  {
   "cell_type": "code",
   "execution_count": 7,
   "id": "d47dae37",
   "metadata": {},
   "outputs": [
    {
     "name": "stdout",
     "output_type": "stream",
     "text": [
      "Enter your name: karan\n",
      "Hello karan, How are you??\n"
     ]
    }
   ],
   "source": [
    "name = input('Enter your name: ')\n",
    "\n",
    "print(f'Hello {name}, How are you??')"
   ]
  },
  {
   "cell_type": "code",
   "execution_count": 9,
   "id": "cf884887",
   "metadata": {},
   "outputs": [
    {
     "name": "stdout",
     "output_type": "stream",
     "text": [
      "Enter your name: ajay\n",
      "Hello ajay, How are you??\n"
     ]
    }
   ],
   "source": [
    "greet()"
   ]
  },
  {
   "cell_type": "code",
   "execution_count": 10,
   "id": "1a5485b1",
   "metadata": {},
   "outputs": [
    {
     "name": "stdout",
     "output_type": "stream",
     "text": [
      "Enter your name: mohan\n",
      "Hello mohan, How are you??\n"
     ]
    }
   ],
   "source": [
    "greet()"
   ]
  },
  {
   "cell_type": "code",
   "execution_count": null,
   "id": "bad23ca1",
   "metadata": {},
   "outputs": [],
   "source": []
  },
  {
   "cell_type": "code",
   "execution_count": null,
   "id": "54ffc2e0",
   "metadata": {},
   "outputs": [],
   "source": []
  },
  {
   "cell_type": "code",
   "execution_count": null,
   "id": "dc5bec42",
   "metadata": {},
   "outputs": [],
   "source": []
  },
  {
   "cell_type": "code",
   "execution_count": null,
   "id": "178b2dd4",
   "metadata": {},
   "outputs": [],
   "source": []
  },
  {
   "cell_type": "code",
   "execution_count": null,
   "id": "e85ff200",
   "metadata": {},
   "outputs": [],
   "source": []
  },
  {
   "cell_type": "code",
   "execution_count": null,
   "id": "0606398e",
   "metadata": {},
   "outputs": [],
   "source": []
  },
  {
   "cell_type": "code",
   "execution_count": null,
   "id": "baf16229",
   "metadata": {},
   "outputs": [],
   "source": []
  },
  {
   "cell_type": "code",
   "execution_count": null,
   "id": "9761efb4",
   "metadata": {},
   "outputs": [],
   "source": []
  },
  {
   "cell_type": "code",
   "execution_count": null,
   "id": "b01645da",
   "metadata": {},
   "outputs": [],
   "source": []
  },
  {
   "cell_type": "code",
   "execution_count": null,
   "id": "7b9d00fb",
   "metadata": {},
   "outputs": [],
   "source": []
  },
  {
   "cell_type": "code",
   "execution_count": null,
   "id": "5a05d439",
   "metadata": {},
   "outputs": [],
   "source": []
  },
  {
   "cell_type": "code",
   "execution_count": null,
   "id": "484bf96b",
   "metadata": {},
   "outputs": [],
   "source": []
  },
  {
   "cell_type": "code",
   "execution_count": null,
   "id": "b4d3297f",
   "metadata": {},
   "outputs": [],
   "source": []
  },
  {
   "cell_type": "code",
   "execution_count": null,
   "id": "0c115cf6",
   "metadata": {},
   "outputs": [],
   "source": []
  },
  {
   "cell_type": "code",
   "execution_count": 11,
   "id": "b721e013",
   "metadata": {},
   "outputs": [
    {
     "name": "stdout",
     "output_type": "stream",
     "text": [
      "Enter your name: naman\n",
      "Hello naman, How are you??\n"
     ]
    }
   ],
   "source": [
    "greet()"
   ]
  },
  {
   "cell_type": "code",
   "execution_count": 12,
   "id": "cf38bf5e",
   "metadata": {},
   "outputs": [],
   "source": [
    "#Topic to be cover"
   ]
  },
  {
   "cell_type": "code",
   "execution_count": 44,
   "id": "8ebab503",
   "metadata": {},
   "outputs": [],
   "source": [
    "# user defined func\n",
    "# inbuilt func\n",
    "# how to take input inside func\n",
    "# func with parameter\n",
    "# func without parameter\n",
    "# func with arguments\n",
    "# func without arguments\n",
    "# Func with positional agruments\n",
    "# func with default parameter\n",
    "# parameter with datatypes deceleration\n",
    "# func with *args\n",
    "# func with **kwargs\n",
    "# func with docstring\n",
    "# return vs print\n",
    "# nested func\n",
    "# scope in python\n",
    "# some important functions created by user\n",
    "# func with list comphrension\n",
    "# lambda func\n",
    "# recursive func"
   ]
  },
  {
   "cell_type": "code",
   "execution_count": 14,
   "id": "0ecda267",
   "metadata": {},
   "outputs": [],
   "source": [
    "# user defined func\n",
    "# inbuilt func"
   ]
  },
  {
   "cell_type": "code",
   "execution_count": 15,
   "id": "a72f9a60",
   "metadata": {},
   "outputs": [],
   "source": [
    "# inbuilt func:- python provide"
   ]
  },
  {
   "cell_type": "code",
   "execution_count": 16,
   "id": "67c1e242",
   "metadata": {},
   "outputs": [],
   "source": [
    "# sum()\n",
    "# min()\n",
    "# max()\n",
    "# len()\n",
    "# sorted()\n",
    "# eval()\n",
    "# reversed()\n",
    "# etc"
   ]
  },
  {
   "cell_type": "code",
   "execution_count": 17,
   "id": "cc0db0aa",
   "metadata": {},
   "outputs": [],
   "source": [
    "# user defined functions:- created bu user"
   ]
  },
  {
   "cell_type": "code",
   "execution_count": 18,
   "id": "7f8bd194",
   "metadata": {},
   "outputs": [
    {
     "name": "stdout",
     "output_type": "stream",
     "text": [
      "Enter your name: mr kumar\n",
      "Hello mr kumar, How are you??\n"
     ]
    }
   ],
   "source": [
    "greet()"
   ]
  },
  {
   "cell_type": "code",
   "execution_count": 19,
   "id": "5c70d03f",
   "metadata": {},
   "outputs": [],
   "source": [
    "# how to take input inside func"
   ]
  },
  {
   "cell_type": "code",
   "execution_count": 21,
   "id": "3bbd2c8e",
   "metadata": {},
   "outputs": [],
   "source": [
    "def add():\n",
    "    a = int(input('Enter number one: '))\n",
    "    b = int(input('Enter number two: '))\n",
    "    \n",
    "    print('Add is: ',a+b)"
   ]
  },
  {
   "cell_type": "code",
   "execution_count": 22,
   "id": "af8a52c0",
   "metadata": {},
   "outputs": [
    {
     "name": "stdout",
     "output_type": "stream",
     "text": [
      "Enter number one: 23456\n",
      "Enter number two: 10\n",
      "Add is:  23466\n"
     ]
    }
   ],
   "source": [
    "add()"
   ]
  },
  {
   "cell_type": "code",
   "execution_count": 23,
   "id": "756df1e4",
   "metadata": {},
   "outputs": [],
   "source": [
    "def multiply():\n",
    "    a = int(input('Enter number one: '))\n",
    "    b = int(input('Enter number two: '))\n",
    "    c = int(input('Enter number three: '))\n",
    "    d = int(input('Enter number four: '))\n",
    "    \n",
    "    print(a*b*c*d)"
   ]
  },
  {
   "cell_type": "code",
   "execution_count": 24,
   "id": "82dbc759",
   "metadata": {},
   "outputs": [
    {
     "name": "stdout",
     "output_type": "stream",
     "text": [
      "Enter number one: 1\n",
      "Enter number two: 2\n",
      "Enter number three: 3\n",
      "Enter number four: 6\n",
      "36\n"
     ]
    }
   ],
   "source": [
    "multiply()"
   ]
  },
  {
   "cell_type": "code",
   "execution_count": 27,
   "id": "478e037a",
   "metadata": {},
   "outputs": [],
   "source": [
    "def say_hello():\n",
    "    name = input('Enter your name: ')\n",
    "    \n",
    "    print(f'Hello Mr {name}, nice to meet you!!')\n",
    "    "
   ]
  },
  {
   "cell_type": "code",
   "execution_count": 28,
   "id": "2d8762a0",
   "metadata": {},
   "outputs": [
    {
     "name": "stdout",
     "output_type": "stream",
     "text": [
      "Enter your name: karan\n",
      "Hello Mr karan, nice to meet you!!\n"
     ]
    }
   ],
   "source": [
    "say_hello()"
   ]
  },
  {
   "cell_type": "code",
   "execution_count": 29,
   "id": "80bbf246",
   "metadata": {},
   "outputs": [],
   "source": [
    "# func with parameter\n",
    "# func without parameter\n",
    "# func with arguments\n",
    "# func without arguments"
   ]
  },
  {
   "cell_type": "code",
   "execution_count": 30,
   "id": "0c9850ee",
   "metadata": {},
   "outputs": [],
   "source": [
    "def say_hello_to(name):\n",
    "    print(f'Hello Mr {name}, how are you, nice to meet you!!')"
   ]
  },
  {
   "cell_type": "code",
   "execution_count": 35,
   "id": "54550e31",
   "metadata": {},
   "outputs": [
    {
     "name": "stdout",
     "output_type": "stream",
     "text": [
      "Hello Mr lucky, how are you, nice to meet you!!\n"
     ]
    }
   ],
   "source": [
    "say_hello_to('lucky')"
   ]
  },
  {
   "cell_type": "code",
   "execution_count": 36,
   "id": "2f6cb258",
   "metadata": {},
   "outputs": [
    {
     "name": "stdout",
     "output_type": "stream",
     "text": [
      "Hello Mr Ravi, how are you, nice to meet you!!\n"
     ]
    }
   ],
   "source": [
    "say_hello_to('Ravi')"
   ]
  },
  {
   "cell_type": "code",
   "execution_count": 40,
   "id": "87ea33d1",
   "metadata": {},
   "outputs": [],
   "source": [
    "def greet_with_intro(name,age,address,salary,company_name):\n",
    "    '''This function is created by Gaurav, and it takes\n",
    "    name,age,address,salary and company name as an arguments\n",
    "    ex: greet_with_intro(\"Aditya Kumar\",23,\"Noida\",56789,'Ola')\n",
    "    Thanks\n",
    "    '''\n",
    "    print(f'Hello Mr {name}, how are you, nice to meet you!!')\n",
    "    print(f'You are {age} years old')\n",
    "    print(f'Your Address is {address}')\n",
    "    print(f'Your current company is {company_name}')\n",
    "    print(f'Your inhand salary is {salary}')"
   ]
  },
  {
   "cell_type": "code",
   "execution_count": 45,
   "id": "dc12acdb",
   "metadata": {},
   "outputs": [
    {
     "name": "stdout",
     "output_type": "stream",
     "text": [
      "Hello Mr karan, how are you, nice to meet you!!\n",
      "You are 12 years old\n",
      "Your Address is Delhi\n",
      "Your current company is Uber\n",
      "Your inhand salary is 98987\n"
     ]
    }
   ],
   "source": [
    "greet_with_intro('karan',12,'Delhi',98987,'Uber')"
   ]
  },
  {
   "cell_type": "code",
   "execution_count": 46,
   "id": "3b14a334",
   "metadata": {},
   "outputs": [
    {
     "name": "stdout",
     "output_type": "stream",
     "text": [
      "Hello Mr 12, how are you, nice to meet you!!\n",
      "You are 989876 years old\n",
      "Your Address is Uber\n",
      "Your current company is Noida\n",
      "Your inhand salary is Ajay\n"
     ]
    }
   ],
   "source": [
    "# Func with positional agruments\n",
    "\n",
    "greet_with_intro(12,989876,'Uber','Ajay','Noida')"
   ]
  },
  {
   "cell_type": "code",
   "execution_count": 47,
   "id": "d06c13f0",
   "metadata": {},
   "outputs": [
    {
     "name": "stdout",
     "output_type": "stream",
     "text": [
      "Hello Mr Ajay, how are you, nice to meet you!!\n",
      "You are 12 years old\n",
      "Your Address is Noida\n",
      "Your current company is Uber\n",
      "Your inhand salary is 989876\n"
     ]
    }
   ],
   "source": [
    "# Func with positional agruments\n",
    "\n",
    "greet_with_intro(age=12,salary=989876,company_name='Uber',name='Ajay',address='Noida')"
   ]
  },
  {
   "cell_type": "code",
   "execution_count": 48,
   "id": "a6d8817a",
   "metadata": {},
   "outputs": [],
   "source": [
    "# func with default parameter"
   ]
  },
  {
   "cell_type": "code",
   "execution_count": 49,
   "id": "a1d10733",
   "metadata": {},
   "outputs": [
    {
     "ename": "TypeError",
     "evalue": "greet_with_intro() missing 1 required positional argument: 'address'",
     "output_type": "error",
     "traceback": [
      "\u001b[1;31m---------------------------------------------------------------------------\u001b[0m",
      "\u001b[1;31mTypeError\u001b[0m                                 Traceback (most recent call last)",
      "Cell \u001b[1;32mIn[49], line 1\u001b[0m\n\u001b[1;32m----> 1\u001b[0m greet_with_intro(age\u001b[38;5;241m=\u001b[39m\u001b[38;5;241m12\u001b[39m,salary\u001b[38;5;241m=\u001b[39m\u001b[38;5;241m989876\u001b[39m,company_name\u001b[38;5;241m=\u001b[39m\u001b[38;5;124m'\u001b[39m\u001b[38;5;124mUber\u001b[39m\u001b[38;5;124m'\u001b[39m,name\u001b[38;5;241m=\u001b[39m\u001b[38;5;124m'\u001b[39m\u001b[38;5;124mAjay\u001b[39m\u001b[38;5;124m'\u001b[39m)\n",
      "\u001b[1;31mTypeError\u001b[0m: greet_with_intro() missing 1 required positional argument: 'address'"
     ]
    }
   ],
   "source": [
    "greet_with_intro(age=12,salary=989876,company_name='Uber',name='Ajay')"
   ]
  },
  {
   "cell_type": "code",
   "execution_count": 57,
   "id": "bd132ccc",
   "metadata": {},
   "outputs": [],
   "source": [
    "def default_greet_with_intro(name = 'Techvidya' ,\n",
    "                             age = 0,\n",
    "                             address = None,\n",
    "                             salary = None,\n",
    "                             company_name = None):\n",
    "    \n",
    "    '''This function is created by Gaurav, and it takes\n",
    "    name,age,address,salary and company name as an arguments\n",
    "    ex: greet_with_intro(\"Aditya Kumar\",23,\"Noida\",56789,'Ola')\n",
    "    Thanks\n",
    "    '''\n",
    "    print(f'Hello Mr {name}, how are you, nice to meet you!!')\n",
    "    print(f'You are {age} years old')\n",
    "    print(f'Your Address is {address}')\n",
    "    print(f'Your current company is {company_name}')\n",
    "    print(f'Your inhand salary is {salary}')"
   ]
  },
  {
   "cell_type": "code",
   "execution_count": 61,
   "id": "e70a8765",
   "metadata": {},
   "outputs": [
    {
     "name": "stdout",
     "output_type": "stream",
     "text": [
      "Hello Mr Karan, how are you, nice to meet you!!\n",
      "You are 45 years old\n",
      "Your Address is Kanpur\n",
      "Your current company is None\n",
      "Your inhand salary is 98642\n"
     ]
    }
   ],
   "source": [
    "default_greet_with_intro(age = 45,name='Karan',address='Kanpur',salary=98642)"
   ]
  },
  {
   "cell_type": "code",
   "execution_count": 62,
   "id": "eb96f685",
   "metadata": {},
   "outputs": [],
   "source": [
    "def check_intro(name = None,\n",
    "                 age = None,\n",
    "                 address = None,\n",
    "                 salary = None,\n",
    "                 company_name = None):\n",
    "    \n",
    "    '''This function is created by Gaurav, and it takes\n",
    "    name,age,address,salary and company name as an arguments\n",
    "    ex: greet_with_intro(\"Aditya Kumar\",23,\"Noida\",56789,'Ola')\n",
    "    Thanks\n",
    "    '''\n",
    "    \n",
    "    if name == age == address == salary == company_name == None:\n",
    "        print('Pass atleast some arguments')\n",
    "        \n",
    "    else:\n",
    "        print(f'Hello Mr {name}, how are you, nice to meet you!!')\n",
    "        print(f'You are {age} years old')\n",
    "        print(f'Your Address is {address}')\n",
    "        print(f'Your current company is {company_name}')\n",
    "        print(f'Your inhand salary is {salary}')"
   ]
  },
  {
   "cell_type": "code",
   "execution_count": 64,
   "id": "c7500752",
   "metadata": {},
   "outputs": [
    {
     "name": "stdout",
     "output_type": "stream",
     "text": [
      "Hello Mr krana, how are you, nice to meet you!!\n",
      "You are None years old\n",
      "Your Address is None\n",
      "Your current company is None\n",
      "Your inhand salary is None\n"
     ]
    }
   ],
   "source": [
    "check_intro(name = 'krana')"
   ]
  },
  {
   "cell_type": "code",
   "execution_count": 65,
   "id": "729f17a9",
   "metadata": {},
   "outputs": [
    {
     "name": "stdout",
     "output_type": "stream",
     "text": [
      "Hello Mr 1234, how are you, nice to meet you!!\n",
      "You are None years old\n",
      "Your Address is None\n",
      "Your current company is None\n",
      "Your inhand salary is None\n"
     ]
    }
   ],
   "source": [
    "check_intro(name=1234)"
   ]
  },
  {
   "cell_type": "code",
   "execution_count": 66,
   "id": "9909dd65",
   "metadata": {},
   "outputs": [],
   "source": [
    "# parameter with datatypes deceleration"
   ]
  },
  {
   "cell_type": "code",
   "execution_count": 68,
   "id": "832aa325",
   "metadata": {},
   "outputs": [],
   "source": [
    "def check_intro(name:str = None,\n",
    "                age:int|float = None,\n",
    "                address:str = None,\n",
    "                salary:int|float = None,\n",
    "                company_name:str = None):\n",
    "    \n",
    "    '''This function is created by Gaurav, and it takes\n",
    "    name,age,address,salary and company name as an arguments\n",
    "    ex: greet_with_intro(\"Aditya Kumar\",23,\"Noida\",56789,'Ola')\n",
    "    Thanks\n",
    "    '''\n",
    "    \n",
    "    if name == age == address == salary == company_name == None:\n",
    "        print('Pass atleast some arguments')\n",
    "        \n",
    "    else:\n",
    "        print(f'Hello Mr {name}, how are you, nice to meet you!!')\n",
    "        print(f'You are {age} years old')\n",
    "        print(f'Your Address is {address}')\n",
    "        print(f'Your current company is {company_name}')\n",
    "        print(f'Your inhand salary is {salary}')"
   ]
  },
  {
   "cell_type": "code",
   "execution_count": 71,
   "id": "e3a15ec2",
   "metadata": {},
   "outputs": [
    {
     "name": "stdout",
     "output_type": "stream",
     "text": [
      "Hello Mr Joker, how are you, nice to meet you!!\n",
      "You are 12 years old\n",
      "Your Address is Noida\n",
      "Your current company is ola\n",
      "Your inhand salary is 87654\n"
     ]
    }
   ],
   "source": [
    "check_intro('Joker',12,'Noida',87654,'ola')"
   ]
  },
  {
   "cell_type": "code",
   "execution_count": 76,
   "id": "19b858fb",
   "metadata": {},
   "outputs": [],
   "source": [
    "def check_intro(name:'str' = None,\n",
    "                age:'int|float' = None,\n",
    "                address:'str' = None,\n",
    "                salary:'int|float' = None,\n",
    "                company_name:'str' = None) -> 'Message':\n",
    "    \n",
    "    '''This function is created by Gaurav, and it takes\n",
    "    name,age,address,salary and company name as an arguments\n",
    "    ex: greet_with_intro(\"Aditya Kumar\",23,\"Noida\",56789,'Ola')\n",
    "    Thanks\n",
    "    '''\n",
    "    \n",
    "    if name == age == address == salary == company_name == None:\n",
    "        print('Pass atleast some arguments')\n",
    "        \n",
    "    else:\n",
    "        print(f'Hello Mr {name}, how are you, nice to meet you!!')\n",
    "        print(f'You are {age} years old')\n",
    "        print(f'Your Address is {address}')\n",
    "        print(f'Your current company is {company_name}')\n",
    "        print(f'Your inhand salary is {salary}')"
   ]
  },
  {
   "cell_type": "code",
   "execution_count": 77,
   "id": "4ac0500f",
   "metadata": {},
   "outputs": [
    {
     "name": "stdout",
     "output_type": "stream",
     "text": [
      "Hello Mr Ajay, how are you, nice to meet you!!\n",
      "You are None years old\n",
      "Your Address is None\n",
      "Your current company is None\n",
      "Your inhand salary is None\n"
     ]
    }
   ],
   "source": [
    "check_intro('Ajay')"
   ]
  },
  {
   "cell_type": "code",
   "execution_count": 80,
   "id": "e0fe2f04",
   "metadata": {},
   "outputs": [],
   "source": [
    "def check_intro(name:'str' = None,\n",
    "                age:'int|float' = None,\n",
    "                address:'str' = None,\n",
    "                salary:'int|float' = None,\n",
    "                company_name:'str' = None) -> None:\n",
    "    \n",
    "    '''This function is created by Gaurav, and it takes\n",
    "    name,age,address,salary and company name as an arguments\n",
    "    ex: greet_with_intro(\"Aditya Kumar\",23,\"Noida\",56789,'Ola')\n",
    "    Thanks\n",
    "    '''\n",
    "    \n",
    "    if name == age == address == salary == company_name == None:\n",
    "        print('Pass atleast some arguments')\n",
    "        \n",
    "    else:\n",
    "        print(f'Hello Mr {name}, how are you, nice to meet you!!')\n",
    "        print(f'You are {age} years old')\n",
    "        print(f'Your Address is {address}')\n",
    "        print(f'Your current company is {company_name}')\n",
    "        print(f'Your inhand salary is {salary}')"
   ]
  },
  {
   "cell_type": "code",
   "execution_count": 81,
   "id": "e522881d",
   "metadata": {},
   "outputs": [
    {
     "name": "stdout",
     "output_type": "stream",
     "text": [
      "Pass atleast some arguments\n"
     ]
    }
   ],
   "source": [
    "check_intro()"
   ]
  },
  {
   "cell_type": "code",
   "execution_count": null,
   "id": "94595c6f",
   "metadata": {},
   "outputs": [],
   "source": []
  }
 ],
 "metadata": {
  "kernelspec": {
   "display_name": "Python 3 (ipykernel)",
   "language": "python",
   "name": "python3"
  },
  "language_info": {
   "codemirror_mode": {
    "name": "ipython",
    "version": 3
   },
   "file_extension": ".py",
   "mimetype": "text/x-python",
   "name": "python",
   "nbconvert_exporter": "python",
   "pygments_lexer": "ipython3",
   "version": "3.11.3"
  }
 },
 "nbformat": 4,
 "nbformat_minor": 5
}
