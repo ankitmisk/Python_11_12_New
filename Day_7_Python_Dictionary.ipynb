{
 "cells": [
  {
   "cell_type": "code",
   "execution_count": 1,
   "id": "bb3837da",
   "metadata": {},
   "outputs": [
    {
     "name": "stdout",
     "output_type": "stream",
     "text": [
      "{'Name': 'Mohan'}\n"
     ]
    }
   ],
   "source": [
    "a = {'Name':'Mohan'}\n",
    "\n",
    "print(a)"
   ]
  },
  {
   "cell_type": "code",
   "execution_count": 2,
   "id": "b460e6b5",
   "metadata": {},
   "outputs": [
    {
     "name": "stdout",
     "output_type": "stream",
     "text": [
      "<class 'dict'>\n"
     ]
    }
   ],
   "source": [
    "print(type(a))"
   ]
  },
  {
   "cell_type": "code",
   "execution_count": 3,
   "id": "777bc3d5",
   "metadata": {},
   "outputs": [],
   "source": [
    "# # mapping data type\n",
    "# {'Key':'value'}\n",
    "# {'datatypes':'data types'}\n",
    "# {'object':'object'}"
   ]
  },
  {
   "cell_type": "code",
   "execution_count": 4,
   "id": "0e209f5e",
   "metadata": {},
   "outputs": [],
   "source": [
    "# key:tuple,int,float,complex,str,True,None,frozenset\n",
    "\n",
    "# not allowed at key: list,set,dict"
   ]
  },
  {
   "cell_type": "code",
   "execution_count": 5,
   "id": "af8d1286",
   "metadata": {},
   "outputs": [],
   "source": [
    "# value:- all"
   ]
  },
  {
   "cell_type": "code",
   "execution_count": 6,
   "id": "974bcf60",
   "metadata": {},
   "outputs": [
    {
     "name": "stdout",
     "output_type": "stream",
     "text": [
      "{'Name': 'Ajay', 'age': 23}\n"
     ]
    }
   ],
   "source": [
    "# str\n",
    "\n",
    "a = {'Name':'Ajay',\n",
    "    'age':23}\n",
    "\n",
    "print(a)"
   ]
  },
  {
   "cell_type": "code",
   "execution_count": 7,
   "id": "8376667d",
   "metadata": {},
   "outputs": [
    {
     "name": "stdout",
     "output_type": "stream",
     "text": [
      "{1: 'Ajay', 3: 23}\n"
     ]
    }
   ],
   "source": [
    "# int\n",
    "\n",
    "a = {1:'Ajay',\n",
    "    3:23}\n",
    "\n",
    "print(a)"
   ]
  },
  {
   "cell_type": "code",
   "execution_count": 8,
   "id": "38da68a0",
   "metadata": {},
   "outputs": [
    {
     "name": "stdout",
     "output_type": "stream",
     "text": [
      "{23.6: 'Ajay', 56.7: 23}\n"
     ]
    }
   ],
   "source": [
    "# float\n",
    "\n",
    "a = {23.6:'Ajay',\n",
    "    56.7:23}\n",
    "\n",
    "print(a)"
   ]
  },
  {
   "cell_type": "code",
   "execution_count": 9,
   "id": "e8286a39",
   "metadata": {},
   "outputs": [
    {
     "name": "stdout",
     "output_type": "stream",
     "text": [
      "{(34-6j): 'Ajay', (45-7j): 23}\n"
     ]
    }
   ],
   "source": [
    "# complex\n",
    "\n",
    "a = {34-6j:'Ajay',\n",
    "    45-7j:23}\n",
    "\n",
    "print(a)"
   ]
  },
  {
   "cell_type": "code",
   "execution_count": 10,
   "id": "0878a989",
   "metadata": {},
   "outputs": [
    {
     "name": "stdout",
     "output_type": "stream",
     "text": [
      "{(1, 2, 3): 'Ajay', (1, 45, 6, 6): 23}\n"
     ]
    }
   ],
   "source": [
    "# tuple\n",
    "\n",
    "a = {(1,2,3):'Ajay',\n",
    "     (1,45,6,6):23}\n",
    "\n",
    "print(a)"
   ]
  },
  {
   "cell_type": "code",
   "execution_count": 11,
   "id": "90a55819",
   "metadata": {},
   "outputs": [
    {
     "name": "stdout",
     "output_type": "stream",
     "text": [
      "{None: 'Ajay'}\n"
     ]
    }
   ],
   "source": [
    "# None\n",
    "\n",
    "a = {None:'Ajay'}\n",
    "\n",
    "print(a)"
   ]
  },
  {
   "cell_type": "code",
   "execution_count": 13,
   "id": "e665b539",
   "metadata": {},
   "outputs": [
    {
     "name": "stdout",
     "output_type": "stream",
     "text": [
      "{True: 'Ajay', False: 23}\n"
     ]
    }
   ],
   "source": [
    "# True\n",
    "\n",
    "\n",
    "a = {True:'Ajay',\n",
    "    False:23}\n",
    "\n",
    "print(a)"
   ]
  },
  {
   "cell_type": "code",
   "execution_count": 22,
   "id": "6ef5a711",
   "metadata": {},
   "outputs": [
    {
     "name": "stdout",
     "output_type": "stream",
     "text": [
      "{frozenset({24, 1, 36}): [2, 12345, 346]}\n"
     ]
    }
   ],
   "source": [
    "a = {frozenset((1,24,36)):[2,12345,346]}\n",
    "\n",
    "print(a)"
   ]
  },
  {
   "cell_type": "code",
   "execution_count": 14,
   "id": "6e079b22",
   "metadata": {},
   "outputs": [],
   "source": [
    "# not allowed at key: list,set,dict"
   ]
  },
  {
   "cell_type": "code",
   "execution_count": 15,
   "id": "341a87be",
   "metadata": {},
   "outputs": [
    {
     "ename": "TypeError",
     "evalue": "unhashable type: 'list'",
     "output_type": "error",
     "traceback": [
      "\u001b[1;31m---------------------------------------------------------------------------\u001b[0m",
      "\u001b[1;31mTypeError\u001b[0m                                 Traceback (most recent call last)",
      "Cell \u001b[1;32mIn[15], line 1\u001b[0m\n\u001b[1;32m----> 1\u001b[0m a \u001b[38;5;241m=\u001b[39m {[\u001b[38;5;241m1\u001b[39m,\u001b[38;5;241m231\u001b[39m,\u001b[38;5;241m432\u001b[39m,\u001b[38;5;241m5\u001b[39m]:\u001b[38;5;28;01mTrue\u001b[39;00m}\n\u001b[0;32m      2\u001b[0m \u001b[38;5;28mprint\u001b[39m(a)\n",
      "\u001b[1;31mTypeError\u001b[0m: unhashable type: 'list'"
     ]
    }
   ],
   "source": [
    "a = {[1,231,432,5]:True}\n",
    "print(a)"
   ]
  },
  {
   "cell_type": "code",
   "execution_count": 16,
   "id": "e8f86fd0",
   "metadata": {},
   "outputs": [
    {
     "ename": "TypeError",
     "evalue": "unhashable type: 'set'",
     "output_type": "error",
     "traceback": [
      "\u001b[1;31m---------------------------------------------------------------------------\u001b[0m",
      "\u001b[1;31mTypeError\u001b[0m                                 Traceback (most recent call last)",
      "Cell \u001b[1;32mIn[16], line 1\u001b[0m\n\u001b[1;32m----> 1\u001b[0m a \u001b[38;5;241m=\u001b[39m {{\u001b[38;5;241m1\u001b[39m,\u001b[38;5;241m231\u001b[39m,\u001b[38;5;241m432\u001b[39m,\u001b[38;5;241m5\u001b[39m}:\u001b[38;5;28;01mTrue\u001b[39;00m}\n\u001b[0;32m      2\u001b[0m \u001b[38;5;28mprint\u001b[39m(a)\n",
      "\u001b[1;31mTypeError\u001b[0m: unhashable type: 'set'"
     ]
    }
   ],
   "source": [
    "a = {{1,231,432,5}:True}\n",
    "print(a)"
   ]
  },
  {
   "cell_type": "code",
   "execution_count": 18,
   "id": "5c3dd5b0",
   "metadata": {},
   "outputs": [
    {
     "ename": "TypeError",
     "evalue": "unhashable type: 'dict'",
     "output_type": "error",
     "traceback": [
      "\u001b[1;31m---------------------------------------------------------------------------\u001b[0m",
      "\u001b[1;31mTypeError\u001b[0m                                 Traceback (most recent call last)",
      "Cell \u001b[1;32mIn[18], line 1\u001b[0m\n\u001b[1;32m----> 1\u001b[0m a \u001b[38;5;241m=\u001b[39m {{\u001b[38;5;241m1\u001b[39m:\u001b[38;5;28;01mTrue\u001b[39;00m}:\u001b[38;5;28;01mTrue\u001b[39;00m}\n\u001b[0;32m      2\u001b[0m \u001b[38;5;28mprint\u001b[39m(a)\n",
      "\u001b[1;31mTypeError\u001b[0m: unhashable type: 'dict'"
     ]
    }
   ],
   "source": [
    "a = {{1:True}:True}\n",
    "print(a)"
   ]
  },
  {
   "cell_type": "code",
   "execution_count": 19,
   "id": "d9de7585",
   "metadata": {},
   "outputs": [],
   "source": [
    "# value any data type\n",
    "\n",
    "a = {1:True,\n",
    "    2:None,\n",
    "    3:{1,2432,5},\n",
    "    4:[1,24,36,7],\n",
    "    5:(1,24,346),\n",
    "    6:{'Name':'Mohan'},\n",
    "    7:'Ajay',\n",
    "    8:23,\n",
    "    9:45.7,\n",
    "    10:34-8j,\n",
    "    11:frozenset((12,32,35))}"
   ]
  },
  {
   "cell_type": "code",
   "execution_count": 20,
   "id": "ccdac011",
   "metadata": {},
   "outputs": [
    {
     "name": "stdout",
     "output_type": "stream",
     "text": [
      "{1: True, 2: None, 3: {2432, 1, 5}, 4: [1, 24, 36, 7], 5: (1, 24, 346), 6: {'Name': 'Mohan'}, 7: 'Ajay', 8: 23, 9: 45.7, 10: (34-8j), 11: frozenset({32, 35, 12})}\n"
     ]
    }
   ],
   "source": [
    "print(a)"
   ]
  },
  {
   "cell_type": "code",
   "execution_count": 23,
   "id": "ff80c8f9",
   "metadata": {},
   "outputs": [
    {
     "data": {
      "text/plain": [
       "{1: False}"
      ]
     },
     "execution_count": 23,
     "metadata": {},
     "output_type": "execute_result"
    }
   ],
   "source": [
    "s = {1:2 in [12,43,5]}\n",
    "s"
   ]
  },
  {
   "cell_type": "code",
   "execution_count": 24,
   "id": "03df7e87",
   "metadata": {},
   "outputs": [],
   "source": [
    "# dictionary\n",
    "# key as a table column\n",
    "\n",
    "# pandas "
   ]
  },
  {
   "cell_type": "code",
   "execution_count": 25,
   "id": "0af6b2ed",
   "metadata": {},
   "outputs": [
    {
     "data": {
      "text/plain": [
       "{'Names': ['Ajay', 'Karan', 'Nitin'],\n",
       " 'Salary': [12, 43, 5],\n",
       " 'Address': ['Noida', 'Noida', 'Noida']}"
      ]
     },
     "execution_count": 25,
     "metadata": {},
     "output_type": "execute_result"
    }
   ],
   "source": [
    "a = {'Names':['Ajay','Karan','Nitin'],\n",
    "    'Salary':[12,43,5],\n",
    "    'Address':['Noida']*3}\n",
    "\n",
    "a"
   ]
  },
  {
   "cell_type": "code",
   "execution_count": 26,
   "id": "232d67be",
   "metadata": {},
   "outputs": [],
   "source": [
    "import pandas as pd"
   ]
  },
  {
   "cell_type": "code",
   "execution_count": 27,
   "id": "73f1c38b",
   "metadata": {},
   "outputs": [
    {
     "data": {
      "text/html": [
       "<div>\n",
       "<style scoped>\n",
       "    .dataframe tbody tr th:only-of-type {\n",
       "        vertical-align: middle;\n",
       "    }\n",
       "\n",
       "    .dataframe tbody tr th {\n",
       "        vertical-align: top;\n",
       "    }\n",
       "\n",
       "    .dataframe thead th {\n",
       "        text-align: right;\n",
       "    }\n",
       "</style>\n",
       "<table border=\"1\" class=\"dataframe\">\n",
       "  <thead>\n",
       "    <tr style=\"text-align: right;\">\n",
       "      <th></th>\n",
       "      <th>Names</th>\n",
       "      <th>Salary</th>\n",
       "      <th>Address</th>\n",
       "    </tr>\n",
       "  </thead>\n",
       "  <tbody>\n",
       "    <tr>\n",
       "      <th>0</th>\n",
       "      <td>Ajay</td>\n",
       "      <td>12</td>\n",
       "      <td>Noida</td>\n",
       "    </tr>\n",
       "    <tr>\n",
       "      <th>1</th>\n",
       "      <td>Karan</td>\n",
       "      <td>43</td>\n",
       "      <td>Noida</td>\n",
       "    </tr>\n",
       "    <tr>\n",
       "      <th>2</th>\n",
       "      <td>Nitin</td>\n",
       "      <td>5</td>\n",
       "      <td>Noida</td>\n",
       "    </tr>\n",
       "  </tbody>\n",
       "</table>\n",
       "</div>"
      ],
      "text/plain": [
       "   Names  Salary Address\n",
       "0   Ajay      12   Noida\n",
       "1  Karan      43   Noida\n",
       "2  Nitin       5   Noida"
      ]
     },
     "execution_count": 27,
     "metadata": {},
     "output_type": "execute_result"
    }
   ],
   "source": [
    "pd.DataFrame(a)"
   ]
  },
  {
   "cell_type": "code",
   "execution_count": 28,
   "id": "874ec67f",
   "metadata": {},
   "outputs": [
    {
     "name": "stdout",
     "output_type": "stream",
     "text": [
      "{}\n",
      "0\n",
      "<class 'dict'>\n"
     ]
    }
   ],
   "source": [
    "# empty dict\n",
    "\n",
    "a = {}\n",
    "\n",
    "print(a)\n",
    "\n",
    "print(len(a))\n",
    "print(type(a))"
   ]
  },
  {
   "cell_type": "code",
   "execution_count": 29,
   "id": "4b8e5ad0",
   "metadata": {},
   "outputs": [
    {
     "name": "stdout",
     "output_type": "stream",
     "text": [
      "{}\n",
      "0\n",
      "<class 'dict'>\n"
     ]
    }
   ],
   "source": [
    "# empty dict\n",
    "\n",
    "a = dict()\n",
    "\n",
    "print(a)\n",
    "\n",
    "print(len(a))\n",
    "print(type(a))"
   ]
  },
  {
   "cell_type": "code",
   "execution_count": 31,
   "id": "b0e75dca",
   "metadata": {},
   "outputs": [],
   "source": [
    "# dict itself can be change\n",
    "# dict key must not be duplicate, if it is, it will override the values\n",
    "# it does not support direct 0,1,2,... indexing\n",
    "# if we have to call value, we have to use key as an index\n",
    "# we can store any data type at value position, infact code also\n",
    "# lower case key and upper case key both are different\n",
    "# we can store dict inside dict(nested dict)\n",
    "# we can create deep copy and shallow copy of dict\n",
    "# we can change values with the help of key\n",
    "# does not support direct indexing and slicing"
   ]
  },
  {
   "cell_type": "code",
   "execution_count": 32,
   "id": "b23e2a79",
   "metadata": {},
   "outputs": [
    {
     "name": "stdout",
     "output_type": "stream",
     "text": [
      "12\n"
     ]
    }
   ],
   "source": [
    "a = 23\n",
    "a = 12\n",
    "\n",
    "print(a)"
   ]
  },
  {
   "cell_type": "code",
   "execution_count": 34,
   "id": "a9b99a6e",
   "metadata": {},
   "outputs": [
    {
     "name": "stdout",
     "output_type": "stream",
     "text": [
      "{'Name': 'Ajay', 'age': 34}\n"
     ]
    }
   ],
   "source": [
    "a = {'Name':'Mohan','age':23,'Name':'Ajay','age':34}\n",
    "\n",
    "print(a)"
   ]
  },
  {
   "cell_type": "code",
   "execution_count": 35,
   "id": "ac4dc7dc",
   "metadata": {},
   "outputs": [
    {
     "ename": "KeyError",
     "evalue": "0",
     "output_type": "error",
     "traceback": [
      "\u001b[1;31m---------------------------------------------------------------------------\u001b[0m",
      "\u001b[1;31mKeyError\u001b[0m                                  Traceback (most recent call last)",
      "Cell \u001b[1;32mIn[35], line 1\u001b[0m\n\u001b[1;32m----> 1\u001b[0m a[\u001b[38;5;241m0\u001b[39m]\n",
      "\u001b[1;31mKeyError\u001b[0m: 0"
     ]
    }
   ],
   "source": [
    "a[0]"
   ]
  },
  {
   "cell_type": "code",
   "execution_count": 36,
   "id": "0f188808",
   "metadata": {},
   "outputs": [
    {
     "data": {
      "text/plain": [
       "{'Name': 'Ajay', 'age': 34}"
      ]
     },
     "execution_count": 36,
     "metadata": {},
     "output_type": "execute_result"
    }
   ],
   "source": [
    "a"
   ]
  },
  {
   "cell_type": "code",
   "execution_count": 37,
   "id": "6c064f3f",
   "metadata": {},
   "outputs": [
    {
     "data": {
      "text/plain": [
       "'Ajay'"
      ]
     },
     "execution_count": 37,
     "metadata": {},
     "output_type": "execute_result"
    }
   ],
   "source": [
    "a['Name']"
   ]
  },
  {
   "cell_type": "code",
   "execution_count": 38,
   "id": "69f1b736",
   "metadata": {},
   "outputs": [
    {
     "data": {
      "text/plain": [
       "34"
      ]
     },
     "execution_count": 38,
     "metadata": {},
     "output_type": "execute_result"
    }
   ],
   "source": [
    "a['age']"
   ]
  },
  {
   "cell_type": "code",
   "execution_count": 40,
   "id": "4a96ebae",
   "metadata": {},
   "outputs": [],
   "source": [
    "a['Name'] = 'Ajay Devgan'"
   ]
  },
  {
   "cell_type": "code",
   "execution_count": 41,
   "id": "bc36d821",
   "metadata": {},
   "outputs": [
    {
     "name": "stdout",
     "output_type": "stream",
     "text": [
      "{'Name': 'Ajay Devgan', 'age': 34}\n"
     ]
    }
   ],
   "source": [
    "print(a)"
   ]
  },
  {
   "cell_type": "code",
   "execution_count": 42,
   "id": "6eda6241",
   "metadata": {},
   "outputs": [],
   "source": [
    "a['age'] = 34"
   ]
  },
  {
   "cell_type": "code",
   "execution_count": 43,
   "id": "29df5877",
   "metadata": {},
   "outputs": [
    {
     "data": {
      "text/plain": [
       "{'Name': 'Ajay Devgan', 'age': 34}"
      ]
     },
     "execution_count": 43,
     "metadata": {},
     "output_type": "execute_result"
    }
   ],
   "source": [
    "a"
   ]
  },
  {
   "cell_type": "code",
   "execution_count": 45,
   "id": "edf839b5",
   "metadata": {},
   "outputs": [],
   "source": [
    "a['Age'] = 23"
   ]
  },
  {
   "cell_type": "code",
   "execution_count": 46,
   "id": "b4c5eecf",
   "metadata": {},
   "outputs": [
    {
     "name": "stdout",
     "output_type": "stream",
     "text": [
      "{'Name': 'Ajay Devgan', 'age': 34, 'Age': 23}\n"
     ]
    }
   ],
   "source": [
    "print(a)"
   ]
  },
  {
   "cell_type": "code",
   "execution_count": 47,
   "id": "7a74596f",
   "metadata": {},
   "outputs": [],
   "source": [
    "a['Address'] = 'Noida'"
   ]
  },
  {
   "cell_type": "code",
   "execution_count": 48,
   "id": "218c3b2f",
   "metadata": {},
   "outputs": [
    {
     "name": "stdout",
     "output_type": "stream",
     "text": [
      "{'Name': 'Ajay Devgan', 'age': 34, 'Age': 23, 'Address': 'Noida'}\n"
     ]
    }
   ],
   "source": [
    "print(a)"
   ]
  },
  {
   "cell_type": "code",
   "execution_count": 49,
   "id": "655e8dc7",
   "metadata": {},
   "outputs": [],
   "source": [
    "a = {0:'Mohan',1:'Ajay',2:'Komal',3:True}"
   ]
  },
  {
   "cell_type": "code",
   "execution_count": 50,
   "id": "ac04562e",
   "metadata": {},
   "outputs": [
    {
     "data": {
      "text/plain": [
       "{0: 'Mohan', 1: 'Ajay', 2: 'Komal', 3: True}"
      ]
     },
     "execution_count": 50,
     "metadata": {},
     "output_type": "execute_result"
    }
   ],
   "source": [
    "a"
   ]
  },
  {
   "cell_type": "code",
   "execution_count": 51,
   "id": "ea3e5e2c",
   "metadata": {},
   "outputs": [
    {
     "data": {
      "text/plain": [
       "'Mohan'"
      ]
     },
     "execution_count": 51,
     "metadata": {},
     "output_type": "execute_result"
    }
   ],
   "source": [
    "a[0]"
   ]
  },
  {
   "cell_type": "code",
   "execution_count": 52,
   "id": "f7396262",
   "metadata": {},
   "outputs": [
    {
     "data": {
      "text/plain": [
       "True"
      ]
     },
     "execution_count": 52,
     "metadata": {},
     "output_type": "execute_result"
    }
   ],
   "source": [
    "a[3]"
   ]
  },
  {
   "cell_type": "code",
   "execution_count": 54,
   "id": "2051bac0",
   "metadata": {},
   "outputs": [],
   "source": [
    "a[5] = 'Akshay'"
   ]
  },
  {
   "cell_type": "code",
   "execution_count": 55,
   "id": "65f674fc",
   "metadata": {},
   "outputs": [
    {
     "name": "stdout",
     "output_type": "stream",
     "text": [
      "{0: 'Mohan', 1: 'Ajay', 2: 'Komal', 3: True, 5: 'Akshay'}\n"
     ]
    }
   ],
   "source": [
    "print(a)"
   ]
  },
  {
   "cell_type": "code",
   "execution_count": 56,
   "id": "3258af52",
   "metadata": {},
   "outputs": [
    {
     "data": {
      "text/plain": [
       "{1: {'Bank1': [1, 24, 325], 'Bank2': [23, 534, 6]}}"
      ]
     },
     "execution_count": 56,
     "metadata": {},
     "output_type": "execute_result"
    }
   ],
   "source": [
    "# nested dictionary\n",
    "\n",
    "\n",
    "a = {1:{'Bank1':[1,24,325],\n",
    "       'Bank2':[23,534,6]}}\n",
    "\n",
    "a"
   ]
  },
  {
   "cell_type": "code",
   "execution_count": 60,
   "id": "1786441e",
   "metadata": {},
   "outputs": [],
   "source": [
    "a[1]['Bank1'][1] = 234567890"
   ]
  },
  {
   "cell_type": "code",
   "execution_count": 61,
   "id": "2dc61b71",
   "metadata": {},
   "outputs": [
    {
     "data": {
      "text/plain": [
       "{1: {'Bank1': [1, 234567890, 325], 'Bank2': [23, 534, 6]}}"
      ]
     },
     "execution_count": 61,
     "metadata": {},
     "output_type": "execute_result"
    }
   ],
   "source": [
    "a"
   ]
  },
  {
   "cell_type": "code",
   "execution_count": 65,
   "id": "ba7335f7",
   "metadata": {},
   "outputs": [],
   "source": [
    "a[1]['Bank2'][1] = 2356"
   ]
  },
  {
   "cell_type": "code",
   "execution_count": 66,
   "id": "fff6d741",
   "metadata": {},
   "outputs": [
    {
     "data": {
      "text/plain": [
       "{1: {'Bank1': [1, 234567890, 325], 'Bank2': [23, 2356, 6]}}"
      ]
     },
     "execution_count": 66,
     "metadata": {},
     "output_type": "execute_result"
    }
   ],
   "source": [
    "a"
   ]
  },
  {
   "cell_type": "code",
   "execution_count": 68,
   "id": "7e877e7f",
   "metadata": {},
   "outputs": [],
   "source": [
    "a = {True:[[{'Name':'Mohan','Age':23,\"Locker\":{'Bank1':2398}}]]}"
   ]
  },
  {
   "cell_type": "code",
   "execution_count": 69,
   "id": "f5872bf8",
   "metadata": {},
   "outputs": [
    {
     "data": {
      "text/plain": [
       "{True: [[{'Name': 'Mohan', 'Age': 23, 'Locker': {'Bank1': 2398}}]]}"
      ]
     },
     "execution_count": 69,
     "metadata": {},
     "output_type": "execute_result"
    }
   ],
   "source": [
    "a"
   ]
  },
  {
   "cell_type": "code",
   "execution_count": 75,
   "id": "ab169c35",
   "metadata": {},
   "outputs": [],
   "source": [
    "a[True][0][0]['Locker']['Bank1'] = 1"
   ]
  },
  {
   "cell_type": "code",
   "execution_count": 76,
   "id": "35db4071",
   "metadata": {},
   "outputs": [
    {
     "name": "stdout",
     "output_type": "stream",
     "text": [
      "{True: [[{'Name': 'Mohan', 'Age': 23, 'Locker': {'Bank1': 1}}]]}\n"
     ]
    }
   ],
   "source": [
    "print(a)"
   ]
  },
  {
   "cell_type": "code",
   "execution_count": 77,
   "id": "896299e5",
   "metadata": {},
   "outputs": [],
   "source": [
    "a = {(1,2,3):{(1,2,3):[1,2,3,[{'Name':['Ajay','Mohan']}]]}}"
   ]
  },
  {
   "cell_type": "code",
   "execution_count": 78,
   "id": "3a10ac29",
   "metadata": {},
   "outputs": [
    {
     "data": {
      "text/plain": [
       "{(1, 2, 3): {(1, 2, 3): [1, 2, 3, [{'Name': ['Ajay', 'Mohan']}]]}}"
      ]
     },
     "execution_count": 78,
     "metadata": {},
     "output_type": "execute_result"
    }
   ],
   "source": [
    "a"
   ]
  },
  {
   "cell_type": "code",
   "execution_count": 85,
   "id": "d3222eff",
   "metadata": {},
   "outputs": [],
   "source": [
    "a[(1,2,3)][(1,2,3)][-1][0]['Name'][-1] = 'Mohan Khanna'"
   ]
  },
  {
   "cell_type": "code",
   "execution_count": 86,
   "id": "8b17b258",
   "metadata": {},
   "outputs": [
    {
     "name": "stdout",
     "output_type": "stream",
     "text": [
      "{(1, 2, 3): {(1, 2, 3): [1, 2, 3, [{'Name': ['Ajay', 'Mohan Khanna']}]]}}\n"
     ]
    }
   ],
   "source": [
    "print(a)"
   ]
  },
  {
   "cell_type": "code",
   "execution_count": 88,
   "id": "e5541c1f",
   "metadata": {},
   "outputs": [],
   "source": [
    "abc = 'Test'\n",
    "\n",
    "bcd = 'Fail'\n",
    "\n",
    "\n",
    "a = {abc:bcd}"
   ]
  },
  {
   "cell_type": "code",
   "execution_count": 89,
   "id": "e717082b",
   "metadata": {},
   "outputs": [
    {
     "name": "stdout",
     "output_type": "stream",
     "text": [
      "{'Test': 'Fail'}\n"
     ]
    }
   ],
   "source": [
    "print(a)"
   ]
  },
  {
   "cell_type": "code",
   "execution_count": 90,
   "id": "95a8c702",
   "metadata": {},
   "outputs": [
    {
     "ename": "TypeError",
     "evalue": "unsupported operand type(s) for +: 'dict' and 'dict'",
     "output_type": "error",
     "traceback": [
      "\u001b[1;31m---------------------------------------------------------------------------\u001b[0m",
      "\u001b[1;31mTypeError\u001b[0m                                 Traceback (most recent call last)",
      "Cell \u001b[1;32mIn[90], line 7\u001b[0m\n\u001b[0;32m      4\u001b[0m a \u001b[38;5;241m=\u001b[39m {\u001b[38;5;241m1\u001b[39m:\u001b[38;5;28;01mTrue\u001b[39;00m}\n\u001b[0;32m      5\u001b[0m b \u001b[38;5;241m=\u001b[39m {\u001b[38;5;241m2\u001b[39m:\u001b[38;5;28;01mFalse\u001b[39;00m}\n\u001b[1;32m----> 7\u001b[0m \u001b[38;5;28mprint\u001b[39m(a\u001b[38;5;241m+\u001b[39mb)\n",
      "\u001b[1;31mTypeError\u001b[0m: unsupported operand type(s) for +: 'dict' and 'dict'"
     ]
    }
   ],
   "source": [
    "# basic op\n",
    "\n",
    "\n",
    "a = {1:True}\n",
    "b = {2:False}\n",
    "\n",
    "print(a+b)"
   ]
  },
  {
   "cell_type": "code",
   "execution_count": 91,
   "id": "79ba42e5",
   "metadata": {},
   "outputs": [
    {
     "ename": "TypeError",
     "evalue": "unsupported operand type(s) for -: 'dict' and 'dict'",
     "output_type": "error",
     "traceback": [
      "\u001b[1;31m---------------------------------------------------------------------------\u001b[0m",
      "\u001b[1;31mTypeError\u001b[0m                                 Traceback (most recent call last)",
      "Cell \u001b[1;32mIn[91], line 4\u001b[0m\n\u001b[0;32m      1\u001b[0m a \u001b[38;5;241m=\u001b[39m {\u001b[38;5;241m1\u001b[39m:\u001b[38;5;28;01mTrue\u001b[39;00m}\n\u001b[0;32m      2\u001b[0m b \u001b[38;5;241m=\u001b[39m {\u001b[38;5;241m2\u001b[39m:\u001b[38;5;28;01mFalse\u001b[39;00m}\n\u001b[1;32m----> 4\u001b[0m \u001b[38;5;28mprint\u001b[39m(a\u001b[38;5;241m-\u001b[39mb)\n",
      "\u001b[1;31mTypeError\u001b[0m: unsupported operand type(s) for -: 'dict' and 'dict'"
     ]
    }
   ],
   "source": [
    "a = {1:True}\n",
    "b = {2:False}\n",
    "\n",
    "print(a-b)"
   ]
  },
  {
   "cell_type": "code",
   "execution_count": 92,
   "id": "35f8f79e",
   "metadata": {},
   "outputs": [
    {
     "ename": "TypeError",
     "evalue": "unsupported operand type(s) for *: 'dict' and 'int'",
     "output_type": "error",
     "traceback": [
      "\u001b[1;31m---------------------------------------------------------------------------\u001b[0m",
      "\u001b[1;31mTypeError\u001b[0m                                 Traceback (most recent call last)",
      "Cell \u001b[1;32mIn[92], line 4\u001b[0m\n\u001b[0;32m      1\u001b[0m a \u001b[38;5;241m=\u001b[39m {\u001b[38;5;241m1\u001b[39m:\u001b[38;5;28;01mTrue\u001b[39;00m}\n\u001b[0;32m      2\u001b[0m b \u001b[38;5;241m=\u001b[39m {\u001b[38;5;241m2\u001b[39m:\u001b[38;5;28;01mFalse\u001b[39;00m}\n\u001b[1;32m----> 4\u001b[0m \u001b[38;5;28mprint\u001b[39m(a\u001b[38;5;241m*\u001b[39m\u001b[38;5;241m2\u001b[39m)\n",
      "\u001b[1;31mTypeError\u001b[0m: unsupported operand type(s) for *: 'dict' and 'int'"
     ]
    }
   ],
   "source": [
    "a = {1:True}\n",
    "b = {2:False}\n",
    "\n",
    "print(a*2)"
   ]
  },
  {
   "cell_type": "code",
   "execution_count": 93,
   "id": "97aeb17a",
   "metadata": {},
   "outputs": [
    {
     "data": {
      "text/plain": [
       "{'Name': 'Akshay', 'Age': 23, 'Address': 'Noida'}"
      ]
     },
     "execution_count": 93,
     "metadata": {},
     "output_type": "execute_result"
    }
   ],
   "source": [
    "a = {'Name':'Akshay',\n",
    "    'Age':23,\n",
    "    'Address':'Noida'}\n",
    "a"
   ]
  },
  {
   "cell_type": "code",
   "execution_count": 94,
   "id": "584f32ad",
   "metadata": {},
   "outputs": [
    {
     "data": {
      "text/plain": [
       "3"
      ]
     },
     "execution_count": 94,
     "metadata": {},
     "output_type": "execute_result"
    }
   ],
   "source": [
    "len(a)"
   ]
  },
  {
   "cell_type": "code",
   "execution_count": 95,
   "id": "98e75f48",
   "metadata": {},
   "outputs": [
    {
     "data": {
      "text/plain": [
       "['Name', 'Age', 'Address']"
      ]
     },
     "execution_count": 95,
     "metadata": {},
     "output_type": "execute_result"
    }
   ],
   "source": [
    "list(a)"
   ]
  },
  {
   "cell_type": "code",
   "execution_count": 103,
   "id": "5eb5d728",
   "metadata": {},
   "outputs": [
    {
     "data": {
      "text/plain": [
       "{1: True, 2: False, 'Name': None}"
      ]
     },
     "execution_count": 103,
     "metadata": {},
     "output_type": "execute_result"
    }
   ],
   "source": [
    "# type casting\n",
    "\n",
    "data = [(1,True),(2,False),('Name',None)]\n",
    "\n",
    "dict(data)"
   ]
  },
  {
   "cell_type": "code",
   "execution_count": 98,
   "id": "c56dce35",
   "metadata": {},
   "outputs": [
    {
     "data": {
      "text/plain": [
       "list"
      ]
     },
     "execution_count": 98,
     "metadata": {},
     "output_type": "execute_result"
    }
   ],
   "source": [
    "type(data)"
   ]
  },
  {
   "cell_type": "code",
   "execution_count": 104,
   "id": "5dde1860",
   "metadata": {},
   "outputs": [
    {
     "data": {
      "text/plain": [
       "{1: True, 2: False, 'Name': None}"
      ]
     },
     "execution_count": 104,
     "metadata": {},
     "output_type": "execute_result"
    }
   ],
   "source": [
    "dict(data)"
   ]
  },
  {
   "cell_type": "code",
   "execution_count": 105,
   "id": "1140a978",
   "metadata": {},
   "outputs": [
    {
     "data": {
      "text/plain": [
       "{1: True, 2: False, 'Name': None}"
      ]
     },
     "execution_count": 105,
     "metadata": {},
     "output_type": "execute_result"
    }
   ],
   "source": [
    "data = [[1,True],[2,False],['Name',None]]\n",
    "\n",
    "dict(data)"
   ]
  },
  {
   "cell_type": "code",
   "execution_count": 106,
   "id": "ce7243f9",
   "metadata": {},
   "outputs": [
    {
     "data": {
      "text/plain": [
       "{1: True, 2: False, 'Name': None}"
      ]
     },
     "execution_count": 106,
     "metadata": {},
     "output_type": "execute_result"
    }
   ],
   "source": [
    "data = ((1,True),(2,False),('Name',None))\n",
    "\n",
    "dict(data)"
   ]
  },
  {
   "cell_type": "code",
   "execution_count": 110,
   "id": "410a89e0",
   "metadata": {},
   "outputs": [
    {
     "data": {
      "text/plain": [
       "{1: 'True', (1, 2, 3): 'Mohan', 'Name': None}"
      ]
     },
     "execution_count": 110,
     "metadata": {},
     "output_type": "execute_result"
    }
   ],
   "source": [
    "data = ({1,'True'},{(1,2,3),'Mohan'},{'Name',None})\n",
    "\n",
    "dict(data)"
   ]
  },
  {
   "cell_type": "code",
   "execution_count": 108,
   "id": "1cdceb67",
   "metadata": {},
   "outputs": [
    {
     "data": {
      "text/plain": [
       "{1}"
      ]
     },
     "execution_count": 108,
     "metadata": {},
     "output_type": "execute_result"
    }
   ],
   "source": [
    "{1,True}"
   ]
  },
  {
   "cell_type": "code",
   "execution_count": 111,
   "id": "b7a05144",
   "metadata": {},
   "outputs": [
    {
     "ename": "TypeError",
     "evalue": "unhashable type: 'list'",
     "output_type": "error",
     "traceback": [
      "\u001b[1;31m---------------------------------------------------------------------------\u001b[0m",
      "\u001b[1;31mTypeError\u001b[0m                                 Traceback (most recent call last)",
      "Cell \u001b[1;32mIn[111], line 1\u001b[0m\n\u001b[1;32m----> 1\u001b[0m data \u001b[38;5;241m=\u001b[39m ({\u001b[38;5;241m1\u001b[39m,\u001b[38;5;124m'\u001b[39m\u001b[38;5;124mTrue\u001b[39m\u001b[38;5;124m'\u001b[39m},{(\u001b[38;5;241m1\u001b[39m,\u001b[38;5;241m2\u001b[39m,\u001b[38;5;241m3\u001b[39m),[\u001b[38;5;241m1\u001b[39m,\u001b[38;5;241m2\u001b[39m,\u001b[38;5;241m4\u001b[39m]},{\u001b[38;5;124m'\u001b[39m\u001b[38;5;124mName\u001b[39m\u001b[38;5;124m'\u001b[39m,\u001b[38;5;28;01mNone\u001b[39;00m})\n\u001b[0;32m      3\u001b[0m \u001b[38;5;28mdict\u001b[39m(data)\n",
      "\u001b[1;31mTypeError\u001b[0m: unhashable type: 'list'"
     ]
    }
   ],
   "source": [
    "data = ({1,'True'},{(1,2,3),[1,2,4]},{'Name',None})\n",
    "\n",
    "dict(data)"
   ]
  },
  {
   "cell_type": "code",
   "execution_count": null,
   "id": "5da370fc",
   "metadata": {},
   "outputs": [],
   "source": []
  }
 ],
 "metadata": {
  "kernelspec": {
   "display_name": "Python 3 (ipykernel)",
   "language": "python",
   "name": "python3"
  },
  "language_info": {
   "codemirror_mode": {
    "name": "ipython",
    "version": 3
   },
   "file_extension": ".py",
   "mimetype": "text/x-python",
   "name": "python",
   "nbconvert_exporter": "python",
   "pygments_lexer": "ipython3",
   "version": "3.11.3"
  }
 },
 "nbformat": 4,
 "nbformat_minor": 5
}
