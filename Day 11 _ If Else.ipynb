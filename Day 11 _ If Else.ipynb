{
 "cells": [
  {
   "cell_type": "code",
   "execution_count": 2,
   "id": "b5952ab0",
   "metadata": {},
   "outputs": [
    {
     "name": "stdout",
     "output_type": "stream",
     "text": [
      "You can't Vote!!\n"
     ]
    }
   ],
   "source": [
    "# conditional Programming\n",
    "\n",
    "age = 7\n",
    "\n",
    "if age>=18:\n",
    "    print('You can vote!!')\n",
    "else:\n",
    "    print('You can\\'t Vote!!')"
   ]
  },
  {
   "cell_type": "code",
   "execution_count": 3,
   "id": "d3034180",
   "metadata": {},
   "outputs": [],
   "source": [
    "# if elif else\n"
   ]
  },
  {
   "cell_type": "code",
   "execution_count": 5,
   "id": "19960de0",
   "metadata": {},
   "outputs": [],
   "source": [
    "# if (condition/conditions):->bool:\n",
    "#         if code block\n",
    "#         This will execute\n",
    "# else no coditions:\n",
    "#     else code block\n",
    "#     This will only execute when if's fail"
   ]
  },
  {
   "cell_type": "code",
   "execution_count": 4,
   "id": "74ba06dd",
   "metadata": {},
   "outputs": [
    {
     "data": {
      "text/plain": [
       "False"
      ]
     },
     "execution_count": 4,
     "metadata": {},
     "output_type": "execute_result"
    }
   ],
   "source": [
    "age>=18"
   ]
  },
  {
   "cell_type": "code",
   "execution_count": 7,
   "id": "ce571942",
   "metadata": {},
   "outputs": [
    {
     "name": "stdout",
     "output_type": "stream",
     "text": [
      "Show your ID card: yes\n",
      "Welcome!!\n"
     ]
    }
   ],
   "source": [
    "security = input('Show your ID card: ')\n",
    "\n",
    "if security == 'yes':\n",
    "    print('Welcome!!')\n",
    "    \n",
    "else:\n",
    "    print('You are not allowed!!')"
   ]
  },
  {
   "cell_type": "code",
   "execution_count": 12,
   "id": "a77b67dc",
   "metadata": {},
   "outputs": [
    {
     "name": "stdout",
     "output_type": "stream",
     "text": [
      "Please signup!!\n",
      "Enter your name: karan\n",
      "Create your userid: karan@techvidya\n",
      "Create your password: karan@123\n",
      "You have successfully created your account!!\n",
      "Enter yes to login!!: yes\n",
      "Enter your user id: karan@techvidya\n",
      "Enter your password: Karan@123\n",
      "Incorrect userid or password!!\n"
     ]
    }
   ],
   "source": [
    "# website login\n",
    "\n",
    "print('Please signup!!')\n",
    "\n",
    "name = input('Enter your name: ')\n",
    "\n",
    "userid = input('Create your userid: ')\n",
    "\n",
    "password = input('Create your password: ')\n",
    "\n",
    "print('You have successfully created your account!!')\n",
    "\n",
    "ans = input('Enter yes to login!!: ')\n",
    "\n",
    "if ans == 'yes':\n",
    "    \n",
    "    uid = input('Enter your user id: ')\n",
    "    pwd = input('Enter your password: ')\n",
    "    \n",
    "    if (uid == userid) and (pwd == password):\n",
    "        \n",
    "        print('Welcome',name)\n",
    "        \n",
    "    else:\n",
    "        print('Incorrect userid or password!!')\n",
    "    \n",
    "    \n",
    "else:\n",
    "    print('Thanks for the signup!!')"
   ]
  },
  {
   "cell_type": "code",
   "execution_count": null,
   "id": "13964826",
   "metadata": {},
   "outputs": [],
   "source": []
  },
  {
   "cell_type": "code",
   "execution_count": 13,
   "id": "d7957b51",
   "metadata": {},
   "outputs": [],
   "source": [
    "# if elif else"
   ]
  },
  {
   "cell_type": "code",
   "execution_count": 14,
   "id": "319668ea",
   "metadata": {},
   "outputs": [],
   "source": [
    "# smallest amongst three numbers"
   ]
  },
  {
   "cell_type": "code",
   "execution_count": 18,
   "id": "8e9936b9",
   "metadata": {},
   "outputs": [
    {
     "name": "stdout",
     "output_type": "stream",
     "text": [
      "c is smallest\n"
     ]
    }
   ],
   "source": [
    "a = 2\n",
    "b = 1\n",
    "c = 0\n",
    "\n",
    "if (a<b) and (a<c):\n",
    "    print('a is smallest')\n",
    "\n",
    "elif (b<a) and (b<c):\n",
    "    print('b is smallest')\n",
    "\n",
    "else:\n",
    "    print('c is smallest')"
   ]
  },
  {
   "cell_type": "code",
   "execution_count": null,
   "id": "e63fd336",
   "metadata": {},
   "outputs": [],
   "source": []
  },
  {
   "cell_type": "code",
   "execution_count": 24,
   "id": "6dc8d266",
   "metadata": {},
   "outputs": [
    {
     "name": "stdout",
     "output_type": "stream",
     "text": [
      "Enter maths marks: 89\n",
      "Enter english marks: 87\n",
      "Enter hindi marks: 99\n",
      "Enter science marks: 90\n",
      "Enter sst marks: 99\n",
      "You have scored A+ 92.8 %\n"
     ]
    }
   ],
   "source": [
    "# Grading system\n",
    "\n",
    "maths = float(input('Enter maths marks: '))\n",
    "english = float(input('Enter english marks: '))\n",
    "hindi = float(input('Enter hindi marks: '))\n",
    "science = float(input('Enter science marks: '))\n",
    "sst = float(input('Enter sst marks: '))\n",
    "\n",
    "\n",
    "marks_ob = maths+english+hindi+science+sst\n",
    "\n",
    "total_marks = 500\n",
    "\n",
    "percentage = round((marks_ob/total_marks)*100,2)\n",
    "\n",
    "\n",
    "if percentage>=90:\n",
    "    print('You have scored A+',percentage,'%')\n",
    "    \n",
    "elif 80<=percentage<90:\n",
    "    print('You have scored A',percentage,'%')\n",
    "    \n",
    "elif 70<=percentage<80:\n",
    "    print('You have scored B+',percentage,'%')\n",
    "    \n",
    "elif 60<=percentage<70:\n",
    "    print('You have scored B',percentage,'%')\n",
    "    \n",
    "elif 50<=percentage<60:\n",
    "    print('You have scored C',percentage,'%')\n",
    "       \n",
    "elif 40<=percentage<50:\n",
    "    print('You have scored D',percentage,'%')\n",
    "    \n",
    "    \n",
    "elif 33<=percentage<40:\n",
    "    print('You have scored E',percentage,'%')\n",
    "    \n",
    "else:\n",
    "    print('You are Fail',percentage,'%')\n"
   ]
  },
  {
   "cell_type": "code",
   "execution_count": null,
   "id": "76c46e56",
   "metadata": {},
   "outputs": [],
   "source": []
  },
  {
   "cell_type": "code",
   "execution_count": 25,
   "id": "3d5be90c",
   "metadata": {},
   "outputs": [],
   "source": [
    "# # Task Trip Planner \n",
    "\n",
    "# budget = \n",
    "# distance = "
   ]
  },
  {
   "cell_type": "code",
   "execution_count": 26,
   "id": "f27a678c",
   "metadata": {},
   "outputs": [],
   "source": [
    "# check palindrome"
   ]
  },
  {
   "cell_type": "code",
   "execution_count": 30,
   "id": "24744edc",
   "metadata": {},
   "outputs": [
    {
     "name": "stdout",
     "output_type": "stream",
     "text": [
      "Enter your name: nitin\n",
      "It is a palindrome!!\n"
     ]
    }
   ],
   "source": [
    "name = input('Enter your name: ').lower()\n",
    "\n",
    "if name == name[::-1]:\n",
    "    print('It is a palindrome!!')\n",
    "else:\n",
    "    print('It is not a palindrome!!')"
   ]
  },
  {
   "cell_type": "code",
   "execution_count": null,
   "id": "05d3ea04",
   "metadata": {},
   "outputs": [],
   "source": []
  }
 ],
 "metadata": {
  "kernelspec": {
   "display_name": "Python 3 (ipykernel)",
   "language": "python",
   "name": "python3"
  },
  "language_info": {
   "codemirror_mode": {
    "name": "ipython",
    "version": 3
   },
   "file_extension": ".py",
   "mimetype": "text/x-python",
   "name": "python",
   "nbconvert_exporter": "python",
   "pygments_lexer": "ipython3",
   "version": "3.11.3"
  }
 },
 "nbformat": 4,
 "nbformat_minor": 5
}
