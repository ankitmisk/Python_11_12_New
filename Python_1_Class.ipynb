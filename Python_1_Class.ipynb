{
 "cells": [
  {
   "cell_type": "markdown",
   "id": "97711a58",
   "metadata": {},
   "source": [
    "# Day 1"
   ]
  },
  {
   "cell_type": "markdown",
   "id": "b8ded508",
   "metadata": {},
   "source": [
    "# Topic\n",
    "## Topic\n",
    "### Topic\n",
    "#### Topic\n",
    "##### Topic\n",
    "###### Topic"
   ]
  },
  {
   "cell_type": "markdown",
   "id": "d048d6c4",
   "metadata": {},
   "source": [
    "# Key Features of Python\n",
    "- Easy to Learn. Python is a high-level programming language that is simple to learn. ...\n",
    "- Easy to Use. ...\n",
    "- Easy to Read. ...\n",
    "- Easy to Code. ...\n",
    "- Dynamically Typed Language. ...\n",
    "- Free and Open Source. ...\n",
    "- Object-Oriented Programming Language. ...\n",
    "- GUI Programming Support."
   ]
  },
  {
   "attachments": {
    "python-features.png": {
     "image/png": "[encoded data removed]"
    }
   },
   "cell_type": "markdown",
   "id": "246cfb6f",
   "metadata": {},
   "source": [
    "![python-features.png](attachment:python-features.png)"
   ]
  },
  {
   "cell_type": "code",
   "execution_count": null,
   "id": "c12938b8",
   "metadata": {},
   "outputs": [],
   "source": []
  },
  {
   "cell_type": "code",
   "execution_count": null,
   "id": "a54bf05c",
   "metadata": {},
   "outputs": [],
   "source": []
  },
  {
   "cell_type": "code",
   "execution_count": 5,
   "id": "7059f507",
   "metadata": {},
   "outputs": [
    {
     "name": "stdout",
     "output_type": "stream",
     "text": [
      "5\n",
      "<class 'int'>\n"
     ]
    }
   ],
   "source": [
    "# Int data type\n",
    "a = 5\n",
    "\n",
    "print(a)\n",
    "\n",
    "print(type(a))"
   ]
  },
  {
   "cell_type": "code",
   "execution_count": 6,
   "id": "b98bc14a",
   "metadata": {},
   "outputs": [
    {
     "name": "stdout",
     "output_type": "stream",
     "text": [
      "45.6\n",
      "<class 'float'>\n"
     ]
    }
   ],
   "source": [
    "s = 45.6\n",
    "print(s)\n",
    "print(type(s))"
   ]
  },
  {
   "cell_type": "code",
   "execution_count": 7,
   "id": "fe79e84c",
   "metadata": {},
   "outputs": [],
   "source": [
    "# DRY:- don not repeat yourself"
   ]
  },
  {
   "cell_type": "code",
   "execution_count": 9,
   "id": "83236aa2",
   "metadata": {},
   "outputs": [
    {
     "name": "stdout",
     "output_type": "stream",
     "text": [
      "45.6 <class 'float'> 2738346947504\n"
     ]
    }
   ],
   "source": [
    "s = 45.6\n",
    "print(s,type(s),id(s))"
   ]
  },
  {
   "cell_type": "code",
   "execution_count": 10,
   "id": "c9a92e9a",
   "metadata": {},
   "outputs": [
    {
     "name": "stdout",
     "output_type": "stream",
     "text": [
      "(23+7j) <class 'complex'> 2738347999728\n"
     ]
    }
   ],
   "source": [
    "d = 23+7j\n",
    "\n",
    "print(d,type(d),id(d))"
   ]
  },
  {
   "cell_type": "code",
   "execution_count": 12,
   "id": "d39a0454",
   "metadata": {},
   "outputs": [
    {
     "data": {
      "text/plain": [
       "(int, float, complex)"
      ]
     },
     "execution_count": 12,
     "metadata": {},
     "output_type": "execute_result"
    }
   ],
   "source": [
    "# numerical data type:- \n",
    "int,float,complex"
   ]
  },
  {
   "cell_type": "code",
   "execution_count": 14,
   "id": "ee6a16db",
   "metadata": {},
   "outputs": [
    {
     "ename": "NameError",
     "evalue": "name 'karan' is not defined",
     "output_type": "error",
     "traceback": [
      "\u001b[1;31m---------------------------------------------------------------------------\u001b[0m",
      "\u001b[1;31mNameError\u001b[0m                                 Traceback (most recent call last)",
      "Cell \u001b[1;32mIn[14], line 1\u001b[0m\n\u001b[1;32m----> 1\u001b[0m name \u001b[38;5;241m=\u001b[39m karan\n\u001b[0;32m      2\u001b[0m \u001b[38;5;28mprint\u001b[39m(name)\n",
      "\u001b[1;31mNameError\u001b[0m: name 'karan' is not defined"
     ]
    }
   ],
   "source": [
    "name = karan\n",
    "print(name)"
   ]
  },
  {
   "cell_type": "code",
   "execution_count": 15,
   "id": "646803d2",
   "metadata": {},
   "outputs": [
    {
     "name": "stdout",
     "output_type": "stream",
     "text": [
      "karan\n"
     ]
    }
   ],
   "source": [
    "name = 'karan'\n",
    "print(name)"
   ]
  },
  {
   "cell_type": "code",
   "execution_count": 17,
   "id": "71cb9dd6",
   "metadata": {},
   "outputs": [
    {
     "name": "stdout",
     "output_type": "stream",
     "text": [
      "Mohan <class 'str'> 2738361095216\n"
     ]
    }
   ],
   "source": [
    "name = \"Mohan\"\n",
    "print(name,type(name),id(name))"
   ]
  },
  {
   "cell_type": "code",
   "execution_count": 19,
   "id": "14ca7d12",
   "metadata": {},
   "outputs": [
    {
     "name": "stdout",
     "output_type": "stream",
     "text": [
      "34 <class 'int'>\n"
     ]
    }
   ],
   "source": [
    "a = 34\n",
    "\n",
    "print(a,type(a))"
   ]
  },
  {
   "cell_type": "code",
   "execution_count": 20,
   "id": "4bc7ada1",
   "metadata": {},
   "outputs": [],
   "source": [
    "# string :- str datatype"
   ]
  },
  {
   "cell_type": "code",
   "execution_count": 22,
   "id": "819034fa",
   "metadata": {},
   "outputs": [
    {
     "name": "stdout",
     "output_type": "stream",
     "text": [
      "('mohan', 'arun', 'akshay', 'anil', 'mohit') <class 'tuple'>\n"
     ]
    }
   ],
   "source": [
    "# tuple\n",
    "names = 'mohan','arun','akshay','anil','mohit'\n",
    "\n",
    "print(names,type(names))"
   ]
  },
  {
   "cell_type": "code",
   "execution_count": 24,
   "id": "f0086fda",
   "metadata": {},
   "outputs": [
    {
     "name": "stdout",
     "output_type": "stream",
     "text": [
      "('mohan', 'arun', 'akshay', 34, 56.7, (34-7j)) <class 'tuple'>\n"
     ]
    }
   ],
   "source": [
    "# tuple\n",
    "names = ('mohan','arun','akshay',34,56.7,34-7j)\n",
    "\n",
    "print(names,type(names))"
   ]
  },
  {
   "cell_type": "code",
   "execution_count": 25,
   "id": "541edcce",
   "metadata": {},
   "outputs": [
    {
     "name": "stdout",
     "output_type": "stream",
     "text": [
      "['mohan', 'ravi', 'ajay malhotra', 23, 90.7] <class 'list'>\n"
     ]
    }
   ],
   "source": [
    "# list\n",
    "nameslist = ['mohan','ravi','ajay malhotra',23,90.7]\n",
    "\n",
    "print(nameslist,type(nameslist))"
   ]
  },
  {
   "cell_type": "code",
   "execution_count": 27,
   "id": "6c38a390",
   "metadata": {},
   "outputs": [
    {
     "name": "stdout",
     "output_type": "stream",
     "text": [
      "{'Name': 'Akshay Kumar', 'salary': 67890, 'Address': 'Noida'}\n"
     ]
    }
   ],
   "source": [
    "# Mapping data type:- dict\n",
    "# (key:value)\n",
    "\n",
    "a = {'Name':'Akshay Kumar',\n",
    "    'salary':67890,\n",
    "    'Address':'Noida'}\n",
    "\n",
    "print(a)"
   ]
  },
  {
   "cell_type": "code",
   "execution_count": 28,
   "id": "0ea398c2",
   "metadata": {},
   "outputs": [
    {
     "name": "stdout",
     "output_type": "stream",
     "text": [
      "<class 'dict'>\n"
     ]
    }
   ],
   "source": [
    "print(type(a))"
   ]
  },
  {
   "cell_type": "code",
   "execution_count": 32,
   "id": "38cd858f",
   "metadata": {},
   "outputs": [
    {
     "name": "stdout",
     "output_type": "stream",
     "text": [
      "{1, 2, 3, 4, 5, 6, 7, 'Mohan', 'mohan'} <class 'set'>\n"
     ]
    }
   ],
   "source": [
    "# set\n",
    "a = {1,1,1,1,2,2,2,'Mohan','Mohan',2,3,'mohan',3,3,3,4,4,4,4,5,5,5,5,6,6,6,6,6,7,7,7}\n",
    "\n",
    "print(a,type(a))"
   ]
  },
  {
   "cell_type": "code",
   "execution_count": 33,
   "id": "9373fc2d",
   "metadata": {},
   "outputs": [
    {
     "name": "stdout",
     "output_type": "stream",
     "text": [
      "None <class 'NoneType'>\n"
     ]
    }
   ],
   "source": [
    "# \n",
    "d = None\n",
    "print(d,type(d))"
   ]
  },
  {
   "cell_type": "code",
   "execution_count": 34,
   "id": "a0b6dc04",
   "metadata": {},
   "outputs": [
    {
     "name": "stdout",
     "output_type": "stream",
     "text": [
      "True <class 'bool'>\n"
     ]
    }
   ],
   "source": [
    "# bool datatype\n",
    "\n",
    "s = True\n",
    "print(s,type(s))"
   ]
  },
  {
   "cell_type": "code",
   "execution_count": 35,
   "id": "fd288f1b",
   "metadata": {},
   "outputs": [],
   "source": [
    "# Python Data types\n",
    "# int\n",
    "# float\n",
    "# complex\n",
    "# str\n",
    "# tuple\n",
    "# list\n",
    "# dict\n",
    "# set\n",
    "# bool\n",
    "# None"
   ]
  },
  {
   "attachments": {
    "image1.png": {
     "image/png": "[encoded data removed]"
    }
   },
   "cell_type": "markdown",
   "id": "6131ce08",
   "metadata": {},
   "source": [
    "![image1.png](attachment:image1.png)"
   ]
  },
  {
   "cell_type": "code",
   "execution_count": 36,
   "id": "56ff3842",
   "metadata": {},
   "outputs": [],
   "source": [
    "# variables"
   ]
  },
  {
   "cell_type": "code",
   "execution_count": 37,
   "id": "3b7ac192",
   "metadata": {},
   "outputs": [],
   "source": [
    "# # Road map\n",
    "# 1>> DataTypes(1)\n",
    "# 2>> Variables & rules(1)\n",
    "# 3>> Operators(1)\n",
    "# 4>> Type Casting(1)\n",
    "# 5>> str(1-2)\n",
    "# 6>> list & tuple(1-2)\n",
    "# 7>> dict(1)\n",
    "# 8>> set(1)\n",
    "# 9>> if else(2)\n",
    "# 10>> loop(for/while)(3)\n",
    "# 11>> loop Exercise(1)\n",
    "# 12>> function(2)\n",
    "# 13>> Modules & libraries(1)\n",
    "# 14>> Error Handle(exception Handling)(1)\n",
    "# 15>> File handling(1)\n",
    "# 16>> Threading(1)\n",
    "# 17>> OOPS(3)\n",
    "# 18>> Mysql(3)\n",
    "# 19>> webscrapping & Projects(3)"
   ]
  },
  {
   "cell_type": "code",
   "execution_count": null,
   "id": "50d2ffbd",
   "metadata": {},
   "outputs": [],
   "source": []
  }
 ],
 "metadata": {
  "kernelspec": {
   "display_name": "Python 3 (ipykernel)",
   "language": "python",
   "name": "python3"
  },
  "language_info": {
   "codemirror_mode": {
    "name": "ipython",
    "version": 3
   },
   "file_extension": ".py",
   "mimetype": "text/x-python",
   "name": "python",
   "nbconvert_exporter": "python",
   "pygments_lexer": "ipython3",
   "version": "3.11.3"
  }
 },
 "nbformat": 4,
 "nbformat_minor": 5
}
